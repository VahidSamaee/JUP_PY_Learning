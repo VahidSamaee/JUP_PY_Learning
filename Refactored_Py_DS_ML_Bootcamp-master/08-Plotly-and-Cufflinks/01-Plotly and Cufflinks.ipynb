{
 "cells": [
  {
   "cell_type": "markdown",
   "metadata": {},
   "source": [
    "___\n",
    "\n",
    "<a href='http://www.pieriandata.com'> <img src='../Pierian_Data_Logo.png' /></a>\n",
    "___\n",
    "# Plotly and Cufflinks"
   ]
  },
  {
   "cell_type": "markdown",
   "metadata": {},
   "source": [
    "Plotly is a library that allows you to create interactive plots that you can use in dashboards or websites (you can save them as html files or static images).\n",
    "\n",
    "## Installation\n",
    "\n",
    "In order for this all to work, you'll need to install plotly and cufflinks to call plots directly off of a pandas dataframe. These libraries are not currently available through **conda** but are available through **pip**. Install the libraries at your command line/terminal using:\n",
    "\n",
    "    pip install plotly  (old version)\n",
    "    pip install chart-studio  (new version)\n",
    "    pip install cufflinks\n",
    "\n",
    "** NOTE: Make sure you only have one installation of Python on your computer when you do this, otherwise the installation may not work. **\n",
    "\n",
    "## Imports and Set-up"
   ]
  },
  {
   "cell_type": "code",
   "execution_count": 1,
   "metadata": {},
   "outputs": [
    {
     "name": "stdout",
     "output_type": "stream",
     "text": [
      "hello\n"
     ]
    }
   ],
   "source": [
    "print ('hello')"
   ]
  },
  {
   "cell_type": "code",
   "execution_count": 4,
   "metadata": {},
   "outputs": [],
   "source": [
    "import pandas as pd\n",
    "import numpy as np\n",
    "%matplotlib inline"
   ]
  },
  {
   "cell_type": "code",
   "execution_count": 5,
   "metadata": {},
   "outputs": [
    {
     "name": "stdout",
     "output_type": "stream",
     "text": [
      "4.9.0\n"
     ]
    }
   ],
   "source": [
    "from plotly import __version__\n",
    "from plotly.offline import download_plotlyjs, init_notebook_mode, plot, iplot\n",
    "\n",
    "print(__version__) # requires version >= 1.9.0"
   ]
  },
  {
   "cell_type": "code",
   "execution_count": 6,
   "metadata": {},
   "outputs": [],
   "source": [
    "import cufflinks as cf"
   ]
  },
  {
   "cell_type": "code",
   "execution_count": 7,
   "metadata": {},
   "outputs": [
    {
     "data": {
      "text/html": [
       "        <script type=\"text/javascript\">\n",
       "        window.PlotlyConfig = {MathJaxConfig: 'local'};\n",
       "        if (window.MathJax) {MathJax.Hub.Config({SVG: {font: \"STIX-Web\"}});}\n",
       "        if (typeof require !== 'undefined') {\n",
       "        require.undef(\"plotly\");\n",
       "        requirejs.config({\n",
       "            paths: {\n",
       "                'plotly': ['https://cdn.plot.ly/plotly-latest.min']\n",
       "            }\n",
       "        });\n",
       "        require(['plotly'], function(Plotly) {\n",
       "            window._Plotly = Plotly;\n",
       "        });\n",
       "        }\n",
       "        </script>\n",
       "        "
      ]
     },
     "metadata": {},
     "output_type": "display_data"
    }
   ],
   "source": [
    "# For Notebooks\n",
    "init_notebook_mode(connected=True)"
   ]
  },
  {
   "cell_type": "code",
   "execution_count": 8,
   "metadata": {},
   "outputs": [
    {
     "data": {
      "text/html": [
       "        <script type=\"text/javascript\">\n",
       "        window.PlotlyConfig = {MathJaxConfig: 'local'};\n",
       "        if (window.MathJax) {MathJax.Hub.Config({SVG: {font: \"STIX-Web\"}});}\n",
       "        if (typeof require !== 'undefined') {\n",
       "        require.undef(\"plotly\");\n",
       "        requirejs.config({\n",
       "            paths: {\n",
       "                'plotly': ['https://cdn.plot.ly/plotly-latest.min']\n",
       "            }\n",
       "        });\n",
       "        require(['plotly'], function(Plotly) {\n",
       "            window._Plotly = Plotly;\n",
       "        });\n",
       "        }\n",
       "        </script>\n",
       "        "
      ]
     },
     "metadata": {},
     "output_type": "display_data"
    }
   ],
   "source": [
    "# For offline use\n",
    "cf.go_offline()"
   ]
  },
  {
   "cell_type": "markdown",
   "metadata": {},
   "source": [
    "### Fake Data"
   ]
  },
  {
   "cell_type": "code",
   "execution_count": 9,
   "metadata": {},
   "outputs": [],
   "source": [
    "df = pd.DataFrame(np.random.randn(100,4),columns='A B C D'.split())"
   ]
  },
  {
   "cell_type": "code",
   "execution_count": 10,
   "metadata": {},
   "outputs": [
    {
     "data": {
      "text/html": [
       "<div>\n",
       "<style scoped>\n",
       "    .dataframe tbody tr th:only-of-type {\n",
       "        vertical-align: middle;\n",
       "    }\n",
       "\n",
       "    .dataframe tbody tr th {\n",
       "        vertical-align: top;\n",
       "    }\n",
       "\n",
       "    .dataframe thead th {\n",
       "        text-align: right;\n",
       "    }\n",
       "</style>\n",
       "<table border=\"1\" class=\"dataframe\">\n",
       "  <thead>\n",
       "    <tr style=\"text-align: right;\">\n",
       "      <th></th>\n",
       "      <th>A</th>\n",
       "      <th>B</th>\n",
       "      <th>C</th>\n",
       "      <th>D</th>\n",
       "    </tr>\n",
       "  </thead>\n",
       "  <tbody>\n",
       "    <tr>\n",
       "      <th>0</th>\n",
       "      <td>0.336625</td>\n",
       "      <td>0.043697</td>\n",
       "      <td>0.042554</td>\n",
       "      <td>-0.638103</td>\n",
       "    </tr>\n",
       "    <tr>\n",
       "      <th>1</th>\n",
       "      <td>-0.815296</td>\n",
       "      <td>-1.581437</td>\n",
       "      <td>0.046176</td>\n",
       "      <td>-0.451657</td>\n",
       "    </tr>\n",
       "    <tr>\n",
       "      <th>2</th>\n",
       "      <td>-2.057094</td>\n",
       "      <td>-1.111570</td>\n",
       "      <td>1.494553</td>\n",
       "      <td>0.507821</td>\n",
       "    </tr>\n",
       "    <tr>\n",
       "      <th>3</th>\n",
       "      <td>-1.954134</td>\n",
       "      <td>-0.569837</td>\n",
       "      <td>2.049951</td>\n",
       "      <td>0.473819</td>\n",
       "    </tr>\n",
       "    <tr>\n",
       "      <th>4</th>\n",
       "      <td>0.635047</td>\n",
       "      <td>-0.021754</td>\n",
       "      <td>0.359667</td>\n",
       "      <td>-0.429379</td>\n",
       "    </tr>\n",
       "  </tbody>\n",
       "</table>\n",
       "</div>"
      ],
      "text/plain": [
       "          A         B         C         D\n",
       "0  0.336625  0.043697  0.042554 -0.638103\n",
       "1 -0.815296 -1.581437  0.046176 -0.451657\n",
       "2 -2.057094 -1.111570  1.494553  0.507821\n",
       "3 -1.954134 -0.569837  2.049951  0.473819\n",
       "4  0.635047 -0.021754  0.359667 -0.429379"
      ]
     },
     "execution_count": 10,
     "metadata": {},
     "output_type": "execute_result"
    }
   ],
   "source": [
    "df.head()"
   ]
  },
  {
   "cell_type": "code",
   "execution_count": 11,
   "metadata": {},
   "outputs": [],
   "source": [
    "df2 = pd.DataFrame({'Category':['A','B','C'],'Values':[32,43,50]})"
   ]
  },
  {
   "cell_type": "code",
   "execution_count": 12,
   "metadata": {},
   "outputs": [
    {
     "data": {
      "text/html": [
       "<div>\n",
       "<style scoped>\n",
       "    .dataframe tbody tr th:only-of-type {\n",
       "        vertical-align: middle;\n",
       "    }\n",
       "\n",
       "    .dataframe tbody tr th {\n",
       "        vertical-align: top;\n",
       "    }\n",
       "\n",
       "    .dataframe thead th {\n",
       "        text-align: right;\n",
       "    }\n",
       "</style>\n",
       "<table border=\"1\" class=\"dataframe\">\n",
       "  <thead>\n",
       "    <tr style=\"text-align: right;\">\n",
       "      <th></th>\n",
       "      <th>Category</th>\n",
       "      <th>Values</th>\n",
       "    </tr>\n",
       "  </thead>\n",
       "  <tbody>\n",
       "    <tr>\n",
       "      <th>0</th>\n",
       "      <td>A</td>\n",
       "      <td>32</td>\n",
       "    </tr>\n",
       "    <tr>\n",
       "      <th>1</th>\n",
       "      <td>B</td>\n",
       "      <td>43</td>\n",
       "    </tr>\n",
       "    <tr>\n",
       "      <th>2</th>\n",
       "      <td>C</td>\n",
       "      <td>50</td>\n",
       "    </tr>\n",
       "  </tbody>\n",
       "</table>\n",
       "</div>"
      ],
      "text/plain": [
       "  Category  Values\n",
       "0        A      32\n",
       "1        B      43\n",
       "2        C      50"
      ]
     },
     "execution_count": 12,
     "metadata": {},
     "output_type": "execute_result"
    }
   ],
   "source": [
    "df2.head()"
   ]
  },
  {
   "cell_type": "markdown",
   "metadata": {},
   "source": [
    "## Using Cufflinks and iplot()\n",
    "\n",
    "* scatter\n",
    "* bar\n",
    "* box\n",
    "* spread\n",
    "* ratio\n",
    "* heatmap\n",
    "* surface\n",
    "* histogram\n",
    "* bubble"
   ]
  },
  {
   "cell_type": "markdown",
   "metadata": {},
   "source": [
    "## Scatter"
   ]
  },
  {
   "cell_type": "code",
   "execution_count": 13,
   "metadata": {},
   "outputs": [
    {
     "data": {
      "application/vnd.plotly.v1+json": {
       "config": {
        "linkText": "Export to plot.ly",
        "plotlyServerURL": "https://plot.ly",
        "showLink": true
       },
       "data": [
        {
         "line": {
          "color": "rgba(255, 153, 51, 1.0)",
          "dash": "solid",
          "shape": "linear",
          "width": 1.3
         },
         "marker": {
          "size": 10,
          "symbol": "circle"
         },
         "mode": "markers",
         "name": "B",
         "text": "",
         "type": "scatter",
         "x": [
          0.3366253685910652,
          -0.8152962615269359,
          -2.057094167945235,
          -1.9541343699683842,
          0.6350471693898226,
          1.3393854246577892,
          -0.1664414930804797,
          0.895126799501226,
          0.3292560346097866,
          -1.5232703639541971,
          0.9186446530754513,
          -0.10771866432911681,
          -0.24430106447414054,
          -0.20619549803399442,
          -0.07496398303253174,
          -1.1351977435845633,
          -0.34138973113653054,
          -0.6892752596721525,
          -1.5434768318213519,
          -0.374012762351043,
          0.331761227479903,
          0.3694659922847097,
          0.15913472597883468,
          -0.9720134165835317,
          -0.2171894606425676,
          0.6258869651944907,
          -1.2141991773722172,
          -0.6888312027759299,
          -1.196606260086114,
          1.9171614028912838,
          -0.8197494317490756,
          0.8442744914994555,
          -0.5354476373949394,
          -0.13940235912023516,
          -0.3440487361566797,
          0.5847650737857164,
          -0.20452714135063474,
          -0.4734153008931332,
          0.1525789505851457,
          0.15943923195430232,
          -1.5712599479287583,
          0.7302450600457806,
          -0.5281471269177707,
          0.7841689237674179,
          1.6847993459208428,
          1.0781584592306386,
          -0.6148700589748657,
          0.1356051706983451,
          -0.7880479114057856,
          0.47949379874479436,
          -0.02441032028762437,
          -0.07437076244591963,
          0.9467680138425014,
          -0.014671024676162296,
          1.782056184224774,
          1.7164705123188548,
          0.15299462841133046,
          0.5526879640231437,
          -0.7347081734316098,
          0.25652438606881317,
          -0.7714194110548964,
          -0.9549644235619681,
          -0.49660877894194355,
          0.3252467140305092,
          -0.31637216864672113,
          0.34308269591780455,
          0.5282051548907043,
          -1.1319743118881591,
          -0.2893859807681463,
          -0.6601340495579393,
          -1.0138335460436667,
          -1.6563261279034838,
          0.7256724241953929,
          -0.11334824786137546,
          -0.8002763540209177,
          0.7867076095020186,
          0.4384288714386092,
          -0.3947589854358734,
          0.9062235669638437,
          0.8196800251334179,
          -1.2539062476924414,
          -0.20130480834260286,
          -0.12443864472378685,
          0.04688882347637687,
          1.5337275539272255,
          1.982488741300852,
          -1.1953722916405798,
          0.6410983225048137,
          0.805785032541812,
          0.3932603773541811,
          -0.6453067879032107,
          1.4760578266825994,
          -0.3594032836309028,
          0.9480512342548622,
          -0.18928712523705382,
          -0.8481750065845147,
          0.4932182939235028,
          0.7869080942142737,
          -1.2665836193117346,
          -0.1648699611042843
         ],
         "y": [
          0.043697341410055664,
          -1.581436693250505,
          -1.1115696532210644,
          -0.5698372836913742,
          -0.02175389139025899,
          0.20260576800273525,
          0.791740809273046,
          1.3392918747893074,
          1.7094803759461192,
          -2.1379210460183957,
          -0.07225248650834998,
          -0.9680086419210548,
          -0.7083553580314013,
          0.973036553547053,
          0.6590668117012048,
          1.7945342742941552,
          -0.37518385884804895,
          2.107867503689684,
          0.742223919259543,
          -0.9161352194947348,
          -0.625680464700169,
          0.6149028780151503,
          0.20293727221135938,
          -0.06756211935173426,
          0.5599385792540977,
          -0.018063441547951798,
          1.0904145182977474,
          0.1634388508574048,
          -0.4931740987536183,
          -0.6676426208786932,
          -0.11668102711351185,
          0.43121144208387313,
          -0.1257312590901729,
          0.46198432695848557,
          -0.6439750877139889,
          1.3245655646623755,
          -0.980281342799237,
          -0.47560336976440476,
          0.5015220699951991,
          0.6051219350616727,
          2.048607451883618,
          1.261448986561181,
          -0.6979944782298741,
          -0.6143734098828072,
          -1.7754911385000327,
          -2.5384857323716385,
          1.6392145910633855,
          -1.4820642874699732,
          0.5844190880860396,
          -0.9436681757156312,
          -0.6503532338456608,
          1.9604123865081746,
          -1.2156684870760122,
          1.7823659197142776,
          -1.2201866924836282,
          -0.8602765774469655,
          0.4429230638355957,
          -1.2834305270149287,
          -0.25170583685474396,
          0.6830253659792884,
          -1.435437310811144,
          -0.6010432945513375,
          -0.759550451675055,
          0.5494279717404709,
          -2.601816346142572,
          -1.4347716877088044,
          -1.5063832342771595,
          1.030878804194865,
          -0.05143590109769036,
          -0.16272027060819982,
          0.08748232879602544,
          0.6301069551469266,
          -1.3863205154859544,
          -1.638235833577776,
          -0.7425171354610364,
          0.5881594362154489,
          -0.9543717077207359,
          -0.3174249771099468,
          0.7827350703006383,
          0.45058167180313485,
          0.6632662170891702,
          1.561964675359686,
          0.15404556879730338,
          0.08133174112869458,
          0.23151390026575197,
          0.5024442630469539,
          1.2852188126317763,
          1.8971364510299469,
          -0.7424065437024872,
          0.25959933392610635,
          -0.2612537670966083,
          -0.17573342825713237,
          0.6960917629912512,
          -0.2709490068825894,
          -0.22219577815518834,
          -0.6442948098061319,
          -0.9700610554833162,
          -0.2098202139951793,
          -0.8736514829147257,
          0.46721323100953
         ]
        }
       ],
       "layout": {
        "legend": {
         "bgcolor": "#F5F6F9",
         "font": {
          "color": "#4D5663"
         }
        },
        "paper_bgcolor": "#F5F6F9",
        "plot_bgcolor": "#F5F6F9",
        "template": {
         "data": {
          "bar": [
           {
            "error_x": {
             "color": "#2a3f5f"
            },
            "error_y": {
             "color": "#2a3f5f"
            },
            "marker": {
             "line": {
              "color": "#E5ECF6",
              "width": 0.5
             }
            },
            "type": "bar"
           }
          ],
          "barpolar": [
           {
            "marker": {
             "line": {
              "color": "#E5ECF6",
              "width": 0.5
             }
            },
            "type": "barpolar"
           }
          ],
          "carpet": [
           {
            "aaxis": {
             "endlinecolor": "#2a3f5f",
             "gridcolor": "white",
             "linecolor": "white",
             "minorgridcolor": "white",
             "startlinecolor": "#2a3f5f"
            },
            "baxis": {
             "endlinecolor": "#2a3f5f",
             "gridcolor": "white",
             "linecolor": "white",
             "minorgridcolor": "white",
             "startlinecolor": "#2a3f5f"
            },
            "type": "carpet"
           }
          ],
          "choropleth": [
           {
            "colorbar": {
             "outlinewidth": 0,
             "ticks": ""
            },
            "type": "choropleth"
           }
          ],
          "contour": [
           {
            "colorbar": {
             "outlinewidth": 0,
             "ticks": ""
            },
            "colorscale": [
             [
              0,
              "#0d0887"
             ],
             [
              0.1111111111111111,
              "#46039f"
             ],
             [
              0.2222222222222222,
              "#7201a8"
             ],
             [
              0.3333333333333333,
              "#9c179e"
             ],
             [
              0.4444444444444444,
              "#bd3786"
             ],
             [
              0.5555555555555556,
              "#d8576b"
             ],
             [
              0.6666666666666666,
              "#ed7953"
             ],
             [
              0.7777777777777778,
              "#fb9f3a"
             ],
             [
              0.8888888888888888,
              "#fdca26"
             ],
             [
              1,
              "#f0f921"
             ]
            ],
            "type": "contour"
           }
          ],
          "contourcarpet": [
           {
            "colorbar": {
             "outlinewidth": 0,
             "ticks": ""
            },
            "type": "contourcarpet"
           }
          ],
          "heatmap": [
           {
            "colorbar": {
             "outlinewidth": 0,
             "ticks": ""
            },
            "colorscale": [
             [
              0,
              "#0d0887"
             ],
             [
              0.1111111111111111,
              "#46039f"
             ],
             [
              0.2222222222222222,
              "#7201a8"
             ],
             [
              0.3333333333333333,
              "#9c179e"
             ],
             [
              0.4444444444444444,
              "#bd3786"
             ],
             [
              0.5555555555555556,
              "#d8576b"
             ],
             [
              0.6666666666666666,
              "#ed7953"
             ],
             [
              0.7777777777777778,
              "#fb9f3a"
             ],
             [
              0.8888888888888888,
              "#fdca26"
             ],
             [
              1,
              "#f0f921"
             ]
            ],
            "type": "heatmap"
           }
          ],
          "heatmapgl": [
           {
            "colorbar": {
             "outlinewidth": 0,
             "ticks": ""
            },
            "colorscale": [
             [
              0,
              "#0d0887"
             ],
             [
              0.1111111111111111,
              "#46039f"
             ],
             [
              0.2222222222222222,
              "#7201a8"
             ],
             [
              0.3333333333333333,
              "#9c179e"
             ],
             [
              0.4444444444444444,
              "#bd3786"
             ],
             [
              0.5555555555555556,
              "#d8576b"
             ],
             [
              0.6666666666666666,
              "#ed7953"
             ],
             [
              0.7777777777777778,
              "#fb9f3a"
             ],
             [
              0.8888888888888888,
              "#fdca26"
             ],
             [
              1,
              "#f0f921"
             ]
            ],
            "type": "heatmapgl"
           }
          ],
          "histogram": [
           {
            "marker": {
             "colorbar": {
              "outlinewidth": 0,
              "ticks": ""
             }
            },
            "type": "histogram"
           }
          ],
          "histogram2d": [
           {
            "colorbar": {
             "outlinewidth": 0,
             "ticks": ""
            },
            "colorscale": [
             [
              0,
              "#0d0887"
             ],
             [
              0.1111111111111111,
              "#46039f"
             ],
             [
              0.2222222222222222,
              "#7201a8"
             ],
             [
              0.3333333333333333,
              "#9c179e"
             ],
             [
              0.4444444444444444,
              "#bd3786"
             ],
             [
              0.5555555555555556,
              "#d8576b"
             ],
             [
              0.6666666666666666,
              "#ed7953"
             ],
             [
              0.7777777777777778,
              "#fb9f3a"
             ],
             [
              0.8888888888888888,
              "#fdca26"
             ],
             [
              1,
              "#f0f921"
             ]
            ],
            "type": "histogram2d"
           }
          ],
          "histogram2dcontour": [
           {
            "colorbar": {
             "outlinewidth": 0,
             "ticks": ""
            },
            "colorscale": [
             [
              0,
              "#0d0887"
             ],
             [
              0.1111111111111111,
              "#46039f"
             ],
             [
              0.2222222222222222,
              "#7201a8"
             ],
             [
              0.3333333333333333,
              "#9c179e"
             ],
             [
              0.4444444444444444,
              "#bd3786"
             ],
             [
              0.5555555555555556,
              "#d8576b"
             ],
             [
              0.6666666666666666,
              "#ed7953"
             ],
             [
              0.7777777777777778,
              "#fb9f3a"
             ],
             [
              0.8888888888888888,
              "#fdca26"
             ],
             [
              1,
              "#f0f921"
             ]
            ],
            "type": "histogram2dcontour"
           }
          ],
          "mesh3d": [
           {
            "colorbar": {
             "outlinewidth": 0,
             "ticks": ""
            },
            "type": "mesh3d"
           }
          ],
          "parcoords": [
           {
            "line": {
             "colorbar": {
              "outlinewidth": 0,
              "ticks": ""
             }
            },
            "type": "parcoords"
           }
          ],
          "pie": [
           {
            "automargin": true,
            "type": "pie"
           }
          ],
          "scatter": [
           {
            "marker": {
             "colorbar": {
              "outlinewidth": 0,
              "ticks": ""
             }
            },
            "type": "scatter"
           }
          ],
          "scatter3d": [
           {
            "line": {
             "colorbar": {
              "outlinewidth": 0,
              "ticks": ""
             }
            },
            "marker": {
             "colorbar": {
              "outlinewidth": 0,
              "ticks": ""
             }
            },
            "type": "scatter3d"
           }
          ],
          "scattercarpet": [
           {
            "marker": {
             "colorbar": {
              "outlinewidth": 0,
              "ticks": ""
             }
            },
            "type": "scattercarpet"
           }
          ],
          "scattergeo": [
           {
            "marker": {
             "colorbar": {
              "outlinewidth": 0,
              "ticks": ""
             }
            },
            "type": "scattergeo"
           }
          ],
          "scattergl": [
           {
            "marker": {
             "colorbar": {
              "outlinewidth": 0,
              "ticks": ""
             }
            },
            "type": "scattergl"
           }
          ],
          "scattermapbox": [
           {
            "marker": {
             "colorbar": {
              "outlinewidth": 0,
              "ticks": ""
             }
            },
            "type": "scattermapbox"
           }
          ],
          "scatterpolar": [
           {
            "marker": {
             "colorbar": {
              "outlinewidth": 0,
              "ticks": ""
             }
            },
            "type": "scatterpolar"
           }
          ],
          "scatterpolargl": [
           {
            "marker": {
             "colorbar": {
              "outlinewidth": 0,
              "ticks": ""
             }
            },
            "type": "scatterpolargl"
           }
          ],
          "scatterternary": [
           {
            "marker": {
             "colorbar": {
              "outlinewidth": 0,
              "ticks": ""
             }
            },
            "type": "scatterternary"
           }
          ],
          "surface": [
           {
            "colorbar": {
             "outlinewidth": 0,
             "ticks": ""
            },
            "colorscale": [
             [
              0,
              "#0d0887"
             ],
             [
              0.1111111111111111,
              "#46039f"
             ],
             [
              0.2222222222222222,
              "#7201a8"
             ],
             [
              0.3333333333333333,
              "#9c179e"
             ],
             [
              0.4444444444444444,
              "#bd3786"
             ],
             [
              0.5555555555555556,
              "#d8576b"
             ],
             [
              0.6666666666666666,
              "#ed7953"
             ],
             [
              0.7777777777777778,
              "#fb9f3a"
             ],
             [
              0.8888888888888888,
              "#fdca26"
             ],
             [
              1,
              "#f0f921"
             ]
            ],
            "type": "surface"
           }
          ],
          "table": [
           {
            "cells": {
             "fill": {
              "color": "#EBF0F8"
             },
             "line": {
              "color": "white"
             }
            },
            "header": {
             "fill": {
              "color": "#C8D4E3"
             },
             "line": {
              "color": "white"
             }
            },
            "type": "table"
           }
          ]
         },
         "layout": {
          "annotationdefaults": {
           "arrowcolor": "#2a3f5f",
           "arrowhead": 0,
           "arrowwidth": 1
          },
          "coloraxis": {
           "colorbar": {
            "outlinewidth": 0,
            "ticks": ""
           }
          },
          "colorscale": {
           "diverging": [
            [
             0,
             "#8e0152"
            ],
            [
             0.1,
             "#c51b7d"
            ],
            [
             0.2,
             "#de77ae"
            ],
            [
             0.3,
             "#f1b6da"
            ],
            [
             0.4,
             "#fde0ef"
            ],
            [
             0.5,
             "#f7f7f7"
            ],
            [
             0.6,
             "#e6f5d0"
            ],
            [
             0.7,
             "#b8e186"
            ],
            [
             0.8,
             "#7fbc41"
            ],
            [
             0.9,
             "#4d9221"
            ],
            [
             1,
             "#276419"
            ]
           ],
           "sequential": [
            [
             0,
             "#0d0887"
            ],
            [
             0.1111111111111111,
             "#46039f"
            ],
            [
             0.2222222222222222,
             "#7201a8"
            ],
            [
             0.3333333333333333,
             "#9c179e"
            ],
            [
             0.4444444444444444,
             "#bd3786"
            ],
            [
             0.5555555555555556,
             "#d8576b"
            ],
            [
             0.6666666666666666,
             "#ed7953"
            ],
            [
             0.7777777777777778,
             "#fb9f3a"
            ],
            [
             0.8888888888888888,
             "#fdca26"
            ],
            [
             1,
             "#f0f921"
            ]
           ],
           "sequentialminus": [
            [
             0,
             "#0d0887"
            ],
            [
             0.1111111111111111,
             "#46039f"
            ],
            [
             0.2222222222222222,
             "#7201a8"
            ],
            [
             0.3333333333333333,
             "#9c179e"
            ],
            [
             0.4444444444444444,
             "#bd3786"
            ],
            [
             0.5555555555555556,
             "#d8576b"
            ],
            [
             0.6666666666666666,
             "#ed7953"
            ],
            [
             0.7777777777777778,
             "#fb9f3a"
            ],
            [
             0.8888888888888888,
             "#fdca26"
            ],
            [
             1,
             "#f0f921"
            ]
           ]
          },
          "colorway": [
           "#636efa",
           "#EF553B",
           "#00cc96",
           "#ab63fa",
           "#FFA15A",
           "#19d3f3",
           "#FF6692",
           "#B6E880",
           "#FF97FF",
           "#FECB52"
          ],
          "font": {
           "color": "#2a3f5f"
          },
          "geo": {
           "bgcolor": "white",
           "lakecolor": "white",
           "landcolor": "#E5ECF6",
           "showlakes": true,
           "showland": true,
           "subunitcolor": "white"
          },
          "hoverlabel": {
           "align": "left"
          },
          "hovermode": "closest",
          "mapbox": {
           "style": "light"
          },
          "paper_bgcolor": "white",
          "plot_bgcolor": "#E5ECF6",
          "polar": {
           "angularaxis": {
            "gridcolor": "white",
            "linecolor": "white",
            "ticks": ""
           },
           "bgcolor": "#E5ECF6",
           "radialaxis": {
            "gridcolor": "white",
            "linecolor": "white",
            "ticks": ""
           }
          },
          "scene": {
           "xaxis": {
            "backgroundcolor": "#E5ECF6",
            "gridcolor": "white",
            "gridwidth": 2,
            "linecolor": "white",
            "showbackground": true,
            "ticks": "",
            "zerolinecolor": "white"
           },
           "yaxis": {
            "backgroundcolor": "#E5ECF6",
            "gridcolor": "white",
            "gridwidth": 2,
            "linecolor": "white",
            "showbackground": true,
            "ticks": "",
            "zerolinecolor": "white"
           },
           "zaxis": {
            "backgroundcolor": "#E5ECF6",
            "gridcolor": "white",
            "gridwidth": 2,
            "linecolor": "white",
            "showbackground": true,
            "ticks": "",
            "zerolinecolor": "white"
           }
          },
          "shapedefaults": {
           "line": {
            "color": "#2a3f5f"
           }
          },
          "ternary": {
           "aaxis": {
            "gridcolor": "white",
            "linecolor": "white",
            "ticks": ""
           },
           "baxis": {
            "gridcolor": "white",
            "linecolor": "white",
            "ticks": ""
           },
           "bgcolor": "#E5ECF6",
           "caxis": {
            "gridcolor": "white",
            "linecolor": "white",
            "ticks": ""
           }
          },
          "title": {
           "x": 0.05
          },
          "xaxis": {
           "automargin": true,
           "gridcolor": "white",
           "linecolor": "white",
           "ticks": "",
           "title": {
            "standoff": 15
           },
           "zerolinecolor": "white",
           "zerolinewidth": 2
          },
          "yaxis": {
           "automargin": true,
           "gridcolor": "white",
           "linecolor": "white",
           "ticks": "",
           "title": {
            "standoff": 15
           },
           "zerolinecolor": "white",
           "zerolinewidth": 2
          }
         }
        },
        "title": {
         "font": {
          "color": "#4D5663"
         }
        },
        "xaxis": {
         "gridcolor": "#E1E5ED",
         "showgrid": true,
         "tickfont": {
          "color": "#4D5663"
         },
         "title": {
          "font": {
           "color": "#4D5663"
          },
          "text": ""
         },
         "zerolinecolor": "#E1E5ED"
        },
        "yaxis": {
         "gridcolor": "#E1E5ED",
         "showgrid": true,
         "tickfont": {
          "color": "#4D5663"
         },
         "title": {
          "font": {
           "color": "#4D5663"
          },
          "text": ""
         },
         "zerolinecolor": "#E1E5ED"
        }
       }
      },
      "text/html": [
       "<div>\n",
       "        \n",
       "        \n",
       "            <div id=\"9019c1f6-9852-4992-b98f-39bf4982a70c\" class=\"plotly-graph-div\" style=\"height:525px; width:100%;\"></div>\n",
       "            <script type=\"text/javascript\">\n",
       "                require([\"plotly\"], function(Plotly) {\n",
       "                    window.PLOTLYENV=window.PLOTLYENV || {};\n",
       "                    window.PLOTLYENV.BASE_URL='https://plot.ly';\n",
       "                    \n",
       "                if (document.getElementById(\"9019c1f6-9852-4992-b98f-39bf4982a70c\")) {\n",
       "                    Plotly.newPlot(\n",
       "                        '9019c1f6-9852-4992-b98f-39bf4982a70c',\n",
       "                        [{\"line\": {\"color\": \"rgba(255, 153, 51, 1.0)\", \"dash\": \"solid\", \"shape\": \"linear\", \"width\": 1.3}, \"marker\": {\"size\": 10, \"symbol\": \"circle\"}, \"mode\": \"markers\", \"name\": \"B\", \"text\": \"\", \"type\": \"scatter\", \"x\": [0.3366253685910652, -0.8152962615269359, -2.057094167945235, -1.9541343699683842, 0.6350471693898226, 1.3393854246577892, -0.1664414930804797, 0.895126799501226, 0.3292560346097866, -1.5232703639541971, 0.9186446530754513, -0.10771866432911681, -0.24430106447414054, -0.20619549803399442, -0.07496398303253174, -1.1351977435845633, -0.34138973113653054, -0.6892752596721525, -1.5434768318213519, -0.374012762351043, 0.331761227479903, 0.3694659922847097, 0.15913472597883468, -0.9720134165835317, -0.2171894606425676, 0.6258869651944907, -1.2141991773722172, -0.6888312027759299, -1.196606260086114, 1.9171614028912838, -0.8197494317490756, 0.8442744914994555, -0.5354476373949394, -0.13940235912023516, -0.3440487361566797, 0.5847650737857164, -0.20452714135063474, -0.4734153008931332, 0.1525789505851457, 0.15943923195430232, -1.5712599479287583, 0.7302450600457806, -0.5281471269177707, 0.7841689237674179, 1.6847993459208428, 1.0781584592306386, -0.6148700589748657, 0.1356051706983451, -0.7880479114057856, 0.47949379874479436, -0.02441032028762437, -0.07437076244591963, 0.9467680138425014, -0.014671024676162296, 1.782056184224774, 1.7164705123188548, 0.15299462841133046, 0.5526879640231437, -0.7347081734316098, 0.25652438606881317, -0.7714194110548964, -0.9549644235619681, -0.49660877894194355, 0.3252467140305092, -0.31637216864672113, 0.34308269591780455, 0.5282051548907043, -1.1319743118881591, -0.2893859807681463, -0.6601340495579393, -1.0138335460436667, -1.6563261279034838, 0.7256724241953929, -0.11334824786137546, -0.8002763540209177, 0.7867076095020186, 0.4384288714386092, -0.3947589854358734, 0.9062235669638437, 0.8196800251334179, -1.2539062476924414, -0.20130480834260286, -0.12443864472378685, 0.04688882347637687, 1.5337275539272255, 1.982488741300852, -1.1953722916405798, 0.6410983225048137, 0.805785032541812, 0.3932603773541811, -0.6453067879032107, 1.4760578266825994, -0.3594032836309028, 0.9480512342548622, -0.18928712523705382, -0.8481750065845147, 0.4932182939235028, 0.7869080942142737, -1.2665836193117346, -0.1648699611042843], \"y\": [0.043697341410055664, -1.581436693250505, -1.1115696532210644, -0.5698372836913742, -0.02175389139025899, 0.20260576800273525, 0.791740809273046, 1.3392918747893074, 1.7094803759461192, -2.1379210460183957, -0.07225248650834998, -0.9680086419210548, -0.7083553580314013, 0.973036553547053, 0.6590668117012048, 1.7945342742941552, -0.37518385884804895, 2.107867503689684, 0.742223919259543, -0.9161352194947348, -0.625680464700169, 0.6149028780151503, 0.20293727221135938, -0.06756211935173426, 0.5599385792540977, -0.018063441547951798, 1.0904145182977474, 0.1634388508574048, -0.4931740987536183, -0.6676426208786932, -0.11668102711351185, 0.43121144208387313, -0.1257312590901729, 0.46198432695848557, -0.6439750877139889, 1.3245655646623755, -0.980281342799237, -0.47560336976440476, 0.5015220699951991, 0.6051219350616727, 2.048607451883618, 1.261448986561181, -0.6979944782298741, -0.6143734098828072, -1.7754911385000327, -2.5384857323716385, 1.6392145910633855, -1.4820642874699732, 0.5844190880860396, -0.9436681757156312, -0.6503532338456608, 1.9604123865081746, -1.2156684870760122, 1.7823659197142776, -1.2201866924836282, -0.8602765774469655, 0.4429230638355957, -1.2834305270149287, -0.25170583685474396, 0.6830253659792884, -1.435437310811144, -0.6010432945513375, -0.759550451675055, 0.5494279717404709, -2.601816346142572, -1.4347716877088044, -1.5063832342771595, 1.030878804194865, -0.05143590109769036, -0.16272027060819982, 0.08748232879602544, 0.6301069551469266, -1.3863205154859544, -1.638235833577776, -0.7425171354610364, 0.5881594362154489, -0.9543717077207359, -0.3174249771099468, 0.7827350703006383, 0.45058167180313485, 0.6632662170891702, 1.561964675359686, 0.15404556879730338, 0.08133174112869458, 0.23151390026575197, 0.5024442630469539, 1.2852188126317763, 1.8971364510299469, -0.7424065437024872, 0.25959933392610635, -0.2612537670966083, -0.17573342825713237, 0.6960917629912512, -0.2709490068825894, -0.22219577815518834, -0.6442948098061319, -0.9700610554833162, -0.2098202139951793, -0.8736514829147257, 0.46721323100953]}],\n",
       "                        {\"legend\": {\"bgcolor\": \"#F5F6F9\", \"font\": {\"color\": \"#4D5663\"}}, \"paper_bgcolor\": \"#F5F6F9\", \"plot_bgcolor\": \"#F5F6F9\", \"template\": {\"data\": {\"bar\": [{\"error_x\": {\"color\": \"#2a3f5f\"}, \"error_y\": {\"color\": \"#2a3f5f\"}, \"marker\": {\"line\": {\"color\": \"#E5ECF6\", \"width\": 0.5}}, \"type\": \"bar\"}], \"barpolar\": [{\"marker\": {\"line\": {\"color\": \"#E5ECF6\", \"width\": 0.5}}, \"type\": \"barpolar\"}], \"carpet\": [{\"aaxis\": {\"endlinecolor\": \"#2a3f5f\", \"gridcolor\": \"white\", \"linecolor\": \"white\", \"minorgridcolor\": \"white\", \"startlinecolor\": \"#2a3f5f\"}, \"baxis\": {\"endlinecolor\": \"#2a3f5f\", \"gridcolor\": \"white\", \"linecolor\": \"white\", \"minorgridcolor\": \"white\", \"startlinecolor\": \"#2a3f5f\"}, \"type\": \"carpet\"}], \"choropleth\": [{\"colorbar\": {\"outlinewidth\": 0, \"ticks\": \"\"}, \"type\": \"choropleth\"}], \"contour\": [{\"colorbar\": {\"outlinewidth\": 0, \"ticks\": \"\"}, \"colorscale\": [[0.0, \"#0d0887\"], [0.1111111111111111, \"#46039f\"], [0.2222222222222222, \"#7201a8\"], [0.3333333333333333, \"#9c179e\"], [0.4444444444444444, \"#bd3786\"], [0.5555555555555556, \"#d8576b\"], [0.6666666666666666, \"#ed7953\"], [0.7777777777777778, \"#fb9f3a\"], [0.8888888888888888, \"#fdca26\"], [1.0, \"#f0f921\"]], \"type\": \"contour\"}], \"contourcarpet\": [{\"colorbar\": {\"outlinewidth\": 0, \"ticks\": \"\"}, \"type\": \"contourcarpet\"}], \"heatmap\": [{\"colorbar\": {\"outlinewidth\": 0, \"ticks\": \"\"}, \"colorscale\": [[0.0, \"#0d0887\"], [0.1111111111111111, \"#46039f\"], [0.2222222222222222, \"#7201a8\"], [0.3333333333333333, \"#9c179e\"], [0.4444444444444444, \"#bd3786\"], [0.5555555555555556, \"#d8576b\"], [0.6666666666666666, \"#ed7953\"], [0.7777777777777778, \"#fb9f3a\"], [0.8888888888888888, \"#fdca26\"], [1.0, \"#f0f921\"]], \"type\": \"heatmap\"}], \"heatmapgl\": [{\"colorbar\": {\"outlinewidth\": 0, \"ticks\": \"\"}, \"colorscale\": [[0.0, \"#0d0887\"], [0.1111111111111111, \"#46039f\"], [0.2222222222222222, \"#7201a8\"], [0.3333333333333333, \"#9c179e\"], [0.4444444444444444, \"#bd3786\"], [0.5555555555555556, \"#d8576b\"], [0.6666666666666666, \"#ed7953\"], [0.7777777777777778, \"#fb9f3a\"], [0.8888888888888888, \"#fdca26\"], [1.0, \"#f0f921\"]], \"type\": \"heatmapgl\"}], \"histogram\": [{\"marker\": {\"colorbar\": {\"outlinewidth\": 0, \"ticks\": \"\"}}, \"type\": \"histogram\"}], \"histogram2d\": [{\"colorbar\": {\"outlinewidth\": 0, \"ticks\": \"\"}, \"colorscale\": [[0.0, \"#0d0887\"], [0.1111111111111111, \"#46039f\"], [0.2222222222222222, \"#7201a8\"], [0.3333333333333333, \"#9c179e\"], [0.4444444444444444, \"#bd3786\"], [0.5555555555555556, \"#d8576b\"], [0.6666666666666666, \"#ed7953\"], [0.7777777777777778, \"#fb9f3a\"], [0.8888888888888888, \"#fdca26\"], [1.0, \"#f0f921\"]], \"type\": \"histogram2d\"}], \"histogram2dcontour\": [{\"colorbar\": {\"outlinewidth\": 0, \"ticks\": \"\"}, \"colorscale\": [[0.0, \"#0d0887\"], [0.1111111111111111, \"#46039f\"], [0.2222222222222222, \"#7201a8\"], [0.3333333333333333, \"#9c179e\"], [0.4444444444444444, \"#bd3786\"], [0.5555555555555556, \"#d8576b\"], [0.6666666666666666, \"#ed7953\"], [0.7777777777777778, \"#fb9f3a\"], [0.8888888888888888, \"#fdca26\"], [1.0, \"#f0f921\"]], \"type\": \"histogram2dcontour\"}], \"mesh3d\": [{\"colorbar\": {\"outlinewidth\": 0, \"ticks\": \"\"}, \"type\": \"mesh3d\"}], \"parcoords\": [{\"line\": {\"colorbar\": {\"outlinewidth\": 0, \"ticks\": \"\"}}, \"type\": \"parcoords\"}], \"pie\": [{\"automargin\": true, \"type\": \"pie\"}], \"scatter\": [{\"marker\": {\"colorbar\": {\"outlinewidth\": 0, \"ticks\": \"\"}}, \"type\": \"scatter\"}], \"scatter3d\": [{\"line\": {\"colorbar\": {\"outlinewidth\": 0, \"ticks\": \"\"}}, \"marker\": {\"colorbar\": {\"outlinewidth\": 0, \"ticks\": \"\"}}, \"type\": \"scatter3d\"}], \"scattercarpet\": [{\"marker\": {\"colorbar\": {\"outlinewidth\": 0, \"ticks\": \"\"}}, \"type\": \"scattercarpet\"}], \"scattergeo\": [{\"marker\": {\"colorbar\": {\"outlinewidth\": 0, \"ticks\": \"\"}}, \"type\": \"scattergeo\"}], \"scattergl\": [{\"marker\": {\"colorbar\": {\"outlinewidth\": 0, \"ticks\": \"\"}}, \"type\": \"scattergl\"}], \"scattermapbox\": [{\"marker\": {\"colorbar\": {\"outlinewidth\": 0, \"ticks\": \"\"}}, \"type\": \"scattermapbox\"}], \"scatterpolar\": [{\"marker\": {\"colorbar\": {\"outlinewidth\": 0, \"ticks\": \"\"}}, \"type\": \"scatterpolar\"}], \"scatterpolargl\": [{\"marker\": {\"colorbar\": {\"outlinewidth\": 0, \"ticks\": \"\"}}, \"type\": \"scatterpolargl\"}], \"scatterternary\": [{\"marker\": {\"colorbar\": {\"outlinewidth\": 0, \"ticks\": \"\"}}, \"type\": \"scatterternary\"}], \"surface\": [{\"colorbar\": {\"outlinewidth\": 0, \"ticks\": \"\"}, \"colorscale\": [[0.0, \"#0d0887\"], [0.1111111111111111, \"#46039f\"], [0.2222222222222222, \"#7201a8\"], [0.3333333333333333, \"#9c179e\"], [0.4444444444444444, \"#bd3786\"], [0.5555555555555556, \"#d8576b\"], [0.6666666666666666, \"#ed7953\"], [0.7777777777777778, \"#fb9f3a\"], [0.8888888888888888, \"#fdca26\"], [1.0, \"#f0f921\"]], \"type\": \"surface\"}], \"table\": [{\"cells\": {\"fill\": {\"color\": \"#EBF0F8\"}, \"line\": {\"color\": \"white\"}}, \"header\": {\"fill\": {\"color\": \"#C8D4E3\"}, \"line\": {\"color\": \"white\"}}, \"type\": \"table\"}]}, \"layout\": {\"annotationdefaults\": {\"arrowcolor\": \"#2a3f5f\", \"arrowhead\": 0, \"arrowwidth\": 1}, \"coloraxis\": {\"colorbar\": {\"outlinewidth\": 0, \"ticks\": \"\"}}, \"colorscale\": {\"diverging\": [[0, \"#8e0152\"], [0.1, \"#c51b7d\"], [0.2, \"#de77ae\"], [0.3, \"#f1b6da\"], [0.4, \"#fde0ef\"], [0.5, \"#f7f7f7\"], [0.6, \"#e6f5d0\"], [0.7, \"#b8e186\"], [0.8, \"#7fbc41\"], [0.9, \"#4d9221\"], [1, \"#276419\"]], \"sequential\": [[0.0, \"#0d0887\"], [0.1111111111111111, \"#46039f\"], [0.2222222222222222, \"#7201a8\"], [0.3333333333333333, \"#9c179e\"], [0.4444444444444444, \"#bd3786\"], [0.5555555555555556, \"#d8576b\"], [0.6666666666666666, \"#ed7953\"], [0.7777777777777778, \"#fb9f3a\"], [0.8888888888888888, \"#fdca26\"], [1.0, \"#f0f921\"]], \"sequentialminus\": [[0.0, \"#0d0887\"], [0.1111111111111111, \"#46039f\"], [0.2222222222222222, \"#7201a8\"], [0.3333333333333333, \"#9c179e\"], [0.4444444444444444, \"#bd3786\"], [0.5555555555555556, \"#d8576b\"], [0.6666666666666666, \"#ed7953\"], [0.7777777777777778, \"#fb9f3a\"], [0.8888888888888888, \"#fdca26\"], [1.0, \"#f0f921\"]]}, \"colorway\": [\"#636efa\", \"#EF553B\", \"#00cc96\", \"#ab63fa\", \"#FFA15A\", \"#19d3f3\", \"#FF6692\", \"#B6E880\", \"#FF97FF\", \"#FECB52\"], \"font\": {\"color\": \"#2a3f5f\"}, \"geo\": {\"bgcolor\": \"white\", \"lakecolor\": \"white\", \"landcolor\": \"#E5ECF6\", \"showlakes\": true, \"showland\": true, \"subunitcolor\": \"white\"}, \"hoverlabel\": {\"align\": \"left\"}, \"hovermode\": \"closest\", \"mapbox\": {\"style\": \"light\"}, \"paper_bgcolor\": \"white\", \"plot_bgcolor\": \"#E5ECF6\", \"polar\": {\"angularaxis\": {\"gridcolor\": \"white\", \"linecolor\": \"white\", \"ticks\": \"\"}, \"bgcolor\": \"#E5ECF6\", \"radialaxis\": {\"gridcolor\": \"white\", \"linecolor\": \"white\", \"ticks\": \"\"}}, \"scene\": {\"xaxis\": {\"backgroundcolor\": \"#E5ECF6\", \"gridcolor\": \"white\", \"gridwidth\": 2, \"linecolor\": \"white\", \"showbackground\": true, \"ticks\": \"\", \"zerolinecolor\": \"white\"}, \"yaxis\": {\"backgroundcolor\": \"#E5ECF6\", \"gridcolor\": \"white\", \"gridwidth\": 2, \"linecolor\": \"white\", \"showbackground\": true, \"ticks\": \"\", \"zerolinecolor\": \"white\"}, \"zaxis\": {\"backgroundcolor\": \"#E5ECF6\", \"gridcolor\": \"white\", \"gridwidth\": 2, \"linecolor\": \"white\", \"showbackground\": true, \"ticks\": \"\", \"zerolinecolor\": \"white\"}}, \"shapedefaults\": {\"line\": {\"color\": \"#2a3f5f\"}}, \"ternary\": {\"aaxis\": {\"gridcolor\": \"white\", \"linecolor\": \"white\", \"ticks\": \"\"}, \"baxis\": {\"gridcolor\": \"white\", \"linecolor\": \"white\", \"ticks\": \"\"}, \"bgcolor\": \"#E5ECF6\", \"caxis\": {\"gridcolor\": \"white\", \"linecolor\": \"white\", \"ticks\": \"\"}}, \"title\": {\"x\": 0.05}, \"xaxis\": {\"automargin\": true, \"gridcolor\": \"white\", \"linecolor\": \"white\", \"ticks\": \"\", \"title\": {\"standoff\": 15}, \"zerolinecolor\": \"white\", \"zerolinewidth\": 2}, \"yaxis\": {\"automargin\": true, \"gridcolor\": \"white\", \"linecolor\": \"white\", \"ticks\": \"\", \"title\": {\"standoff\": 15}, \"zerolinecolor\": \"white\", \"zerolinewidth\": 2}}}, \"title\": {\"font\": {\"color\": \"#4D5663\"}}, \"xaxis\": {\"gridcolor\": \"#E1E5ED\", \"showgrid\": true, \"tickfont\": {\"color\": \"#4D5663\"}, \"title\": {\"font\": {\"color\": \"#4D5663\"}, \"text\": \"\"}, \"zerolinecolor\": \"#E1E5ED\"}, \"yaxis\": {\"gridcolor\": \"#E1E5ED\", \"showgrid\": true, \"tickfont\": {\"color\": \"#4D5663\"}, \"title\": {\"font\": {\"color\": \"#4D5663\"}, \"text\": \"\"}, \"zerolinecolor\": \"#E1E5ED\"}},\n",
       "                        {\"showLink\": true, \"linkText\": \"Export to plot.ly\", \"plotlyServerURL\": \"https://plot.ly\", \"responsive\": true}\n",
       "                    ).then(function(){\n",
       "                            \n",
       "var gd = document.getElementById('9019c1f6-9852-4992-b98f-39bf4982a70c');\n",
       "var x = new MutationObserver(function (mutations, observer) {{\n",
       "        var display = window.getComputedStyle(gd).display;\n",
       "        if (!display || display === 'none') {{\n",
       "            console.log([gd, 'removed!']);\n",
       "            Plotly.purge(gd);\n",
       "            observer.disconnect();\n",
       "        }}\n",
       "}});\n",
       "\n",
       "// Listen for the removal of the full notebook cells\n",
       "var notebookContainer = gd.closest('#notebook-container');\n",
       "if (notebookContainer) {{\n",
       "    x.observe(notebookContainer, {childList: true});\n",
       "}}\n",
       "\n",
       "// Listen for the clearing of the current output cell\n",
       "var outputEl = gd.closest('.output');\n",
       "if (outputEl) {{\n",
       "    x.observe(outputEl, {childList: true});\n",
       "}}\n",
       "\n",
       "                        })\n",
       "                };\n",
       "                });\n",
       "            </script>\n",
       "        </div>"
      ]
     },
     "metadata": {},
     "output_type": "display_data"
    }
   ],
   "source": [
    "df.iplot(kind='scatter',x='A',y='B',mode='markers',size=10)"
   ]
  },
  {
   "cell_type": "markdown",
   "metadata": {},
   "source": [
    "## Bar Plots"
   ]
  },
  {
   "cell_type": "code",
   "execution_count": 14,
   "metadata": {},
   "outputs": [
    {
     "data": {
      "application/vnd.plotly.v1+json": {
       "config": {
        "linkText": "Export to plot.ly",
        "plotlyServerURL": "https://plot.ly",
        "showLink": true
       },
       "data": [
        {
         "marker": {
          "color": "rgba(255, 153, 51, 0.6)",
          "line": {
           "color": "rgba(255, 153, 51, 1.0)",
           "width": 1
          }
         },
         "name": "Values",
         "orientation": "v",
         "text": "",
         "type": "bar",
         "x": [
          "A",
          "B",
          "C"
         ],
         "y": [
          32,
          43,
          50
         ]
        }
       ],
       "layout": {
        "legend": {
         "bgcolor": "#F5F6F9",
         "font": {
          "color": "#4D5663"
         }
        },
        "paper_bgcolor": "#F5F6F9",
        "plot_bgcolor": "#F5F6F9",
        "template": {
         "data": {
          "bar": [
           {
            "error_x": {
             "color": "#2a3f5f"
            },
            "error_y": {
             "color": "#2a3f5f"
            },
            "marker": {
             "line": {
              "color": "#E5ECF6",
              "width": 0.5
             }
            },
            "type": "bar"
           }
          ],
          "barpolar": [
           {
            "marker": {
             "line": {
              "color": "#E5ECF6",
              "width": 0.5
             }
            },
            "type": "barpolar"
           }
          ],
          "carpet": [
           {
            "aaxis": {
             "endlinecolor": "#2a3f5f",
             "gridcolor": "white",
             "linecolor": "white",
             "minorgridcolor": "white",
             "startlinecolor": "#2a3f5f"
            },
            "baxis": {
             "endlinecolor": "#2a3f5f",
             "gridcolor": "white",
             "linecolor": "white",
             "minorgridcolor": "white",
             "startlinecolor": "#2a3f5f"
            },
            "type": "carpet"
           }
          ],
          "choropleth": [
           {
            "colorbar": {
             "outlinewidth": 0,
             "ticks": ""
            },
            "type": "choropleth"
           }
          ],
          "contour": [
           {
            "colorbar": {
             "outlinewidth": 0,
             "ticks": ""
            },
            "colorscale": [
             [
              0,
              "#0d0887"
             ],
             [
              0.1111111111111111,
              "#46039f"
             ],
             [
              0.2222222222222222,
              "#7201a8"
             ],
             [
              0.3333333333333333,
              "#9c179e"
             ],
             [
              0.4444444444444444,
              "#bd3786"
             ],
             [
              0.5555555555555556,
              "#d8576b"
             ],
             [
              0.6666666666666666,
              "#ed7953"
             ],
             [
              0.7777777777777778,
              "#fb9f3a"
             ],
             [
              0.8888888888888888,
              "#fdca26"
             ],
             [
              1,
              "#f0f921"
             ]
            ],
            "type": "contour"
           }
          ],
          "contourcarpet": [
           {
            "colorbar": {
             "outlinewidth": 0,
             "ticks": ""
            },
            "type": "contourcarpet"
           }
          ],
          "heatmap": [
           {
            "colorbar": {
             "outlinewidth": 0,
             "ticks": ""
            },
            "colorscale": [
             [
              0,
              "#0d0887"
             ],
             [
              0.1111111111111111,
              "#46039f"
             ],
             [
              0.2222222222222222,
              "#7201a8"
             ],
             [
              0.3333333333333333,
              "#9c179e"
             ],
             [
              0.4444444444444444,
              "#bd3786"
             ],
             [
              0.5555555555555556,
              "#d8576b"
             ],
             [
              0.6666666666666666,
              "#ed7953"
             ],
             [
              0.7777777777777778,
              "#fb9f3a"
             ],
             [
              0.8888888888888888,
              "#fdca26"
             ],
             [
              1,
              "#f0f921"
             ]
            ],
            "type": "heatmap"
           }
          ],
          "heatmapgl": [
           {
            "colorbar": {
             "outlinewidth": 0,
             "ticks": ""
            },
            "colorscale": [
             [
              0,
              "#0d0887"
             ],
             [
              0.1111111111111111,
              "#46039f"
             ],
             [
              0.2222222222222222,
              "#7201a8"
             ],
             [
              0.3333333333333333,
              "#9c179e"
             ],
             [
              0.4444444444444444,
              "#bd3786"
             ],
             [
              0.5555555555555556,
              "#d8576b"
             ],
             [
              0.6666666666666666,
              "#ed7953"
             ],
             [
              0.7777777777777778,
              "#fb9f3a"
             ],
             [
              0.8888888888888888,
              "#fdca26"
             ],
             [
              1,
              "#f0f921"
             ]
            ],
            "type": "heatmapgl"
           }
          ],
          "histogram": [
           {
            "marker": {
             "colorbar": {
              "outlinewidth": 0,
              "ticks": ""
             }
            },
            "type": "histogram"
           }
          ],
          "histogram2d": [
           {
            "colorbar": {
             "outlinewidth": 0,
             "ticks": ""
            },
            "colorscale": [
             [
              0,
              "#0d0887"
             ],
             [
              0.1111111111111111,
              "#46039f"
             ],
             [
              0.2222222222222222,
              "#7201a8"
             ],
             [
              0.3333333333333333,
              "#9c179e"
             ],
             [
              0.4444444444444444,
              "#bd3786"
             ],
             [
              0.5555555555555556,
              "#d8576b"
             ],
             [
              0.6666666666666666,
              "#ed7953"
             ],
             [
              0.7777777777777778,
              "#fb9f3a"
             ],
             [
              0.8888888888888888,
              "#fdca26"
             ],
             [
              1,
              "#f0f921"
             ]
            ],
            "type": "histogram2d"
           }
          ],
          "histogram2dcontour": [
           {
            "colorbar": {
             "outlinewidth": 0,
             "ticks": ""
            },
            "colorscale": [
             [
              0,
              "#0d0887"
             ],
             [
              0.1111111111111111,
              "#46039f"
             ],
             [
              0.2222222222222222,
              "#7201a8"
             ],
             [
              0.3333333333333333,
              "#9c179e"
             ],
             [
              0.4444444444444444,
              "#bd3786"
             ],
             [
              0.5555555555555556,
              "#d8576b"
             ],
             [
              0.6666666666666666,
              "#ed7953"
             ],
             [
              0.7777777777777778,
              "#fb9f3a"
             ],
             [
              0.8888888888888888,
              "#fdca26"
             ],
             [
              1,
              "#f0f921"
             ]
            ],
            "type": "histogram2dcontour"
           }
          ],
          "mesh3d": [
           {
            "colorbar": {
             "outlinewidth": 0,
             "ticks": ""
            },
            "type": "mesh3d"
           }
          ],
          "parcoords": [
           {
            "line": {
             "colorbar": {
              "outlinewidth": 0,
              "ticks": ""
             }
            },
            "type": "parcoords"
           }
          ],
          "pie": [
           {
            "automargin": true,
            "type": "pie"
           }
          ],
          "scatter": [
           {
            "marker": {
             "colorbar": {
              "outlinewidth": 0,
              "ticks": ""
             }
            },
            "type": "scatter"
           }
          ],
          "scatter3d": [
           {
            "line": {
             "colorbar": {
              "outlinewidth": 0,
              "ticks": ""
             }
            },
            "marker": {
             "colorbar": {
              "outlinewidth": 0,
              "ticks": ""
             }
            },
            "type": "scatter3d"
           }
          ],
          "scattercarpet": [
           {
            "marker": {
             "colorbar": {
              "outlinewidth": 0,
              "ticks": ""
             }
            },
            "type": "scattercarpet"
           }
          ],
          "scattergeo": [
           {
            "marker": {
             "colorbar": {
              "outlinewidth": 0,
              "ticks": ""
             }
            },
            "type": "scattergeo"
           }
          ],
          "scattergl": [
           {
            "marker": {
             "colorbar": {
              "outlinewidth": 0,
              "ticks": ""
             }
            },
            "type": "scattergl"
           }
          ],
          "scattermapbox": [
           {
            "marker": {
             "colorbar": {
              "outlinewidth": 0,
              "ticks": ""
             }
            },
            "type": "scattermapbox"
           }
          ],
          "scatterpolar": [
           {
            "marker": {
             "colorbar": {
              "outlinewidth": 0,
              "ticks": ""
             }
            },
            "type": "scatterpolar"
           }
          ],
          "scatterpolargl": [
           {
            "marker": {
             "colorbar": {
              "outlinewidth": 0,
              "ticks": ""
             }
            },
            "type": "scatterpolargl"
           }
          ],
          "scatterternary": [
           {
            "marker": {
             "colorbar": {
              "outlinewidth": 0,
              "ticks": ""
             }
            },
            "type": "scatterternary"
           }
          ],
          "surface": [
           {
            "colorbar": {
             "outlinewidth": 0,
             "ticks": ""
            },
            "colorscale": [
             [
              0,
              "#0d0887"
             ],
             [
              0.1111111111111111,
              "#46039f"
             ],
             [
              0.2222222222222222,
              "#7201a8"
             ],
             [
              0.3333333333333333,
              "#9c179e"
             ],
             [
              0.4444444444444444,
              "#bd3786"
             ],
             [
              0.5555555555555556,
              "#d8576b"
             ],
             [
              0.6666666666666666,
              "#ed7953"
             ],
             [
              0.7777777777777778,
              "#fb9f3a"
             ],
             [
              0.8888888888888888,
              "#fdca26"
             ],
             [
              1,
              "#f0f921"
             ]
            ],
            "type": "surface"
           }
          ],
          "table": [
           {
            "cells": {
             "fill": {
              "color": "#EBF0F8"
             },
             "line": {
              "color": "white"
             }
            },
            "header": {
             "fill": {
              "color": "#C8D4E3"
             },
             "line": {
              "color": "white"
             }
            },
            "type": "table"
           }
          ]
         },
         "layout": {
          "annotationdefaults": {
           "arrowcolor": "#2a3f5f",
           "arrowhead": 0,
           "arrowwidth": 1
          },
          "coloraxis": {
           "colorbar": {
            "outlinewidth": 0,
            "ticks": ""
           }
          },
          "colorscale": {
           "diverging": [
            [
             0,
             "#8e0152"
            ],
            [
             0.1,
             "#c51b7d"
            ],
            [
             0.2,
             "#de77ae"
            ],
            [
             0.3,
             "#f1b6da"
            ],
            [
             0.4,
             "#fde0ef"
            ],
            [
             0.5,
             "#f7f7f7"
            ],
            [
             0.6,
             "#e6f5d0"
            ],
            [
             0.7,
             "#b8e186"
            ],
            [
             0.8,
             "#7fbc41"
            ],
            [
             0.9,
             "#4d9221"
            ],
            [
             1,
             "#276419"
            ]
           ],
           "sequential": [
            [
             0,
             "#0d0887"
            ],
            [
             0.1111111111111111,
             "#46039f"
            ],
            [
             0.2222222222222222,
             "#7201a8"
            ],
            [
             0.3333333333333333,
             "#9c179e"
            ],
            [
             0.4444444444444444,
             "#bd3786"
            ],
            [
             0.5555555555555556,
             "#d8576b"
            ],
            [
             0.6666666666666666,
             "#ed7953"
            ],
            [
             0.7777777777777778,
             "#fb9f3a"
            ],
            [
             0.8888888888888888,
             "#fdca26"
            ],
            [
             1,
             "#f0f921"
            ]
           ],
           "sequentialminus": [
            [
             0,
             "#0d0887"
            ],
            [
             0.1111111111111111,
             "#46039f"
            ],
            [
             0.2222222222222222,
             "#7201a8"
            ],
            [
             0.3333333333333333,
             "#9c179e"
            ],
            [
             0.4444444444444444,
             "#bd3786"
            ],
            [
             0.5555555555555556,
             "#d8576b"
            ],
            [
             0.6666666666666666,
             "#ed7953"
            ],
            [
             0.7777777777777778,
             "#fb9f3a"
            ],
            [
             0.8888888888888888,
             "#fdca26"
            ],
            [
             1,
             "#f0f921"
            ]
           ]
          },
          "colorway": [
           "#636efa",
           "#EF553B",
           "#00cc96",
           "#ab63fa",
           "#FFA15A",
           "#19d3f3",
           "#FF6692",
           "#B6E880",
           "#FF97FF",
           "#FECB52"
          ],
          "font": {
           "color": "#2a3f5f"
          },
          "geo": {
           "bgcolor": "white",
           "lakecolor": "white",
           "landcolor": "#E5ECF6",
           "showlakes": true,
           "showland": true,
           "subunitcolor": "white"
          },
          "hoverlabel": {
           "align": "left"
          },
          "hovermode": "closest",
          "mapbox": {
           "style": "light"
          },
          "paper_bgcolor": "white",
          "plot_bgcolor": "#E5ECF6",
          "polar": {
           "angularaxis": {
            "gridcolor": "white",
            "linecolor": "white",
            "ticks": ""
           },
           "bgcolor": "#E5ECF6",
           "radialaxis": {
            "gridcolor": "white",
            "linecolor": "white",
            "ticks": ""
           }
          },
          "scene": {
           "xaxis": {
            "backgroundcolor": "#E5ECF6",
            "gridcolor": "white",
            "gridwidth": 2,
            "linecolor": "white",
            "showbackground": true,
            "ticks": "",
            "zerolinecolor": "white"
           },
           "yaxis": {
            "backgroundcolor": "#E5ECF6",
            "gridcolor": "white",
            "gridwidth": 2,
            "linecolor": "white",
            "showbackground": true,
            "ticks": "",
            "zerolinecolor": "white"
           },
           "zaxis": {
            "backgroundcolor": "#E5ECF6",
            "gridcolor": "white",
            "gridwidth": 2,
            "linecolor": "white",
            "showbackground": true,
            "ticks": "",
            "zerolinecolor": "white"
           }
          },
          "shapedefaults": {
           "line": {
            "color": "#2a3f5f"
           }
          },
          "ternary": {
           "aaxis": {
            "gridcolor": "white",
            "linecolor": "white",
            "ticks": ""
           },
           "baxis": {
            "gridcolor": "white",
            "linecolor": "white",
            "ticks": ""
           },
           "bgcolor": "#E5ECF6",
           "caxis": {
            "gridcolor": "white",
            "linecolor": "white",
            "ticks": ""
           }
          },
          "title": {
           "x": 0.05
          },
          "xaxis": {
           "automargin": true,
           "gridcolor": "white",
           "linecolor": "white",
           "ticks": "",
           "title": {
            "standoff": 15
           },
           "zerolinecolor": "white",
           "zerolinewidth": 2
          },
          "yaxis": {
           "automargin": true,
           "gridcolor": "white",
           "linecolor": "white",
           "ticks": "",
           "title": {
            "standoff": 15
           },
           "zerolinecolor": "white",
           "zerolinewidth": 2
          }
         }
        },
        "title": {
         "font": {
          "color": "#4D5663"
         }
        },
        "xaxis": {
         "gridcolor": "#E1E5ED",
         "showgrid": true,
         "tickfont": {
          "color": "#4D5663"
         },
         "title": {
          "font": {
           "color": "#4D5663"
          },
          "text": ""
         },
         "zerolinecolor": "#E1E5ED"
        },
        "yaxis": {
         "gridcolor": "#E1E5ED",
         "showgrid": true,
         "tickfont": {
          "color": "#4D5663"
         },
         "title": {
          "font": {
           "color": "#4D5663"
          },
          "text": ""
         },
         "zerolinecolor": "#E1E5ED"
        }
       }
      },
      "text/html": [
       "<div>\n",
       "        \n",
       "        \n",
       "            <div id=\"539d4adf-9d9e-4d3f-ac6d-132978e12b8f\" class=\"plotly-graph-div\" style=\"height:525px; width:100%;\"></div>\n",
       "            <script type=\"text/javascript\">\n",
       "                require([\"plotly\"], function(Plotly) {\n",
       "                    window.PLOTLYENV=window.PLOTLYENV || {};\n",
       "                    window.PLOTLYENV.BASE_URL='https://plot.ly';\n",
       "                    \n",
       "                if (document.getElementById(\"539d4adf-9d9e-4d3f-ac6d-132978e12b8f\")) {\n",
       "                    Plotly.newPlot(\n",
       "                        '539d4adf-9d9e-4d3f-ac6d-132978e12b8f',\n",
       "                        [{\"marker\": {\"color\": \"rgba(255, 153, 51, 0.6)\", \"line\": {\"color\": \"rgba(255, 153, 51, 1.0)\", \"width\": 1}}, \"name\": \"Values\", \"orientation\": \"v\", \"text\": \"\", \"type\": \"bar\", \"x\": [\"A\", \"B\", \"C\"], \"y\": [32, 43, 50]}],\n",
       "                        {\"legend\": {\"bgcolor\": \"#F5F6F9\", \"font\": {\"color\": \"#4D5663\"}}, \"paper_bgcolor\": \"#F5F6F9\", \"plot_bgcolor\": \"#F5F6F9\", \"template\": {\"data\": {\"bar\": [{\"error_x\": {\"color\": \"#2a3f5f\"}, \"error_y\": {\"color\": \"#2a3f5f\"}, \"marker\": {\"line\": {\"color\": \"#E5ECF6\", \"width\": 0.5}}, \"type\": \"bar\"}], \"barpolar\": [{\"marker\": {\"line\": {\"color\": \"#E5ECF6\", \"width\": 0.5}}, \"type\": \"barpolar\"}], \"carpet\": [{\"aaxis\": {\"endlinecolor\": \"#2a3f5f\", \"gridcolor\": \"white\", \"linecolor\": \"white\", \"minorgridcolor\": \"white\", \"startlinecolor\": \"#2a3f5f\"}, \"baxis\": {\"endlinecolor\": \"#2a3f5f\", \"gridcolor\": \"white\", \"linecolor\": \"white\", \"minorgridcolor\": \"white\", \"startlinecolor\": \"#2a3f5f\"}, \"type\": \"carpet\"}], \"choropleth\": [{\"colorbar\": {\"outlinewidth\": 0, \"ticks\": \"\"}, \"type\": \"choropleth\"}], \"contour\": [{\"colorbar\": {\"outlinewidth\": 0, \"ticks\": \"\"}, \"colorscale\": [[0.0, \"#0d0887\"], [0.1111111111111111, \"#46039f\"], [0.2222222222222222, \"#7201a8\"], [0.3333333333333333, \"#9c179e\"], [0.4444444444444444, \"#bd3786\"], [0.5555555555555556, \"#d8576b\"], [0.6666666666666666, \"#ed7953\"], [0.7777777777777778, \"#fb9f3a\"], [0.8888888888888888, \"#fdca26\"], [1.0, \"#f0f921\"]], \"type\": \"contour\"}], \"contourcarpet\": [{\"colorbar\": {\"outlinewidth\": 0, \"ticks\": \"\"}, \"type\": \"contourcarpet\"}], \"heatmap\": [{\"colorbar\": {\"outlinewidth\": 0, \"ticks\": \"\"}, \"colorscale\": [[0.0, \"#0d0887\"], [0.1111111111111111, \"#46039f\"], [0.2222222222222222, \"#7201a8\"], [0.3333333333333333, \"#9c179e\"], [0.4444444444444444, \"#bd3786\"], [0.5555555555555556, \"#d8576b\"], [0.6666666666666666, \"#ed7953\"], [0.7777777777777778, \"#fb9f3a\"], [0.8888888888888888, \"#fdca26\"], [1.0, \"#f0f921\"]], \"type\": \"heatmap\"}], \"heatmapgl\": [{\"colorbar\": {\"outlinewidth\": 0, \"ticks\": \"\"}, \"colorscale\": [[0.0, \"#0d0887\"], [0.1111111111111111, \"#46039f\"], [0.2222222222222222, \"#7201a8\"], [0.3333333333333333, \"#9c179e\"], [0.4444444444444444, \"#bd3786\"], [0.5555555555555556, \"#d8576b\"], [0.6666666666666666, \"#ed7953\"], [0.7777777777777778, \"#fb9f3a\"], [0.8888888888888888, \"#fdca26\"], [1.0, \"#f0f921\"]], \"type\": \"heatmapgl\"}], \"histogram\": [{\"marker\": {\"colorbar\": {\"outlinewidth\": 0, \"ticks\": \"\"}}, \"type\": \"histogram\"}], \"histogram2d\": [{\"colorbar\": {\"outlinewidth\": 0, \"ticks\": \"\"}, \"colorscale\": [[0.0, \"#0d0887\"], [0.1111111111111111, \"#46039f\"], [0.2222222222222222, \"#7201a8\"], [0.3333333333333333, \"#9c179e\"], [0.4444444444444444, \"#bd3786\"], [0.5555555555555556, \"#d8576b\"], [0.6666666666666666, \"#ed7953\"], [0.7777777777777778, \"#fb9f3a\"], [0.8888888888888888, \"#fdca26\"], [1.0, \"#f0f921\"]], \"type\": \"histogram2d\"}], \"histogram2dcontour\": [{\"colorbar\": {\"outlinewidth\": 0, \"ticks\": \"\"}, \"colorscale\": [[0.0, \"#0d0887\"], [0.1111111111111111, \"#46039f\"], [0.2222222222222222, \"#7201a8\"], [0.3333333333333333, \"#9c179e\"], [0.4444444444444444, \"#bd3786\"], [0.5555555555555556, \"#d8576b\"], [0.6666666666666666, \"#ed7953\"], [0.7777777777777778, \"#fb9f3a\"], [0.8888888888888888, \"#fdca26\"], [1.0, \"#f0f921\"]], \"type\": \"histogram2dcontour\"}], \"mesh3d\": [{\"colorbar\": {\"outlinewidth\": 0, \"ticks\": \"\"}, \"type\": \"mesh3d\"}], \"parcoords\": [{\"line\": {\"colorbar\": {\"outlinewidth\": 0, \"ticks\": \"\"}}, \"type\": \"parcoords\"}], \"pie\": [{\"automargin\": true, \"type\": \"pie\"}], \"scatter\": [{\"marker\": {\"colorbar\": {\"outlinewidth\": 0, \"ticks\": \"\"}}, \"type\": \"scatter\"}], \"scatter3d\": [{\"line\": {\"colorbar\": {\"outlinewidth\": 0, \"ticks\": \"\"}}, \"marker\": {\"colorbar\": {\"outlinewidth\": 0, \"ticks\": \"\"}}, \"type\": \"scatter3d\"}], \"scattercarpet\": [{\"marker\": {\"colorbar\": {\"outlinewidth\": 0, \"ticks\": \"\"}}, \"type\": \"scattercarpet\"}], \"scattergeo\": [{\"marker\": {\"colorbar\": {\"outlinewidth\": 0, \"ticks\": \"\"}}, \"type\": \"scattergeo\"}], \"scattergl\": [{\"marker\": {\"colorbar\": {\"outlinewidth\": 0, \"ticks\": \"\"}}, \"type\": \"scattergl\"}], \"scattermapbox\": [{\"marker\": {\"colorbar\": {\"outlinewidth\": 0, \"ticks\": \"\"}}, \"type\": \"scattermapbox\"}], \"scatterpolar\": [{\"marker\": {\"colorbar\": {\"outlinewidth\": 0, \"ticks\": \"\"}}, \"type\": \"scatterpolar\"}], \"scatterpolargl\": [{\"marker\": {\"colorbar\": {\"outlinewidth\": 0, \"ticks\": \"\"}}, \"type\": \"scatterpolargl\"}], \"scatterternary\": [{\"marker\": {\"colorbar\": {\"outlinewidth\": 0, \"ticks\": \"\"}}, \"type\": \"scatterternary\"}], \"surface\": [{\"colorbar\": {\"outlinewidth\": 0, \"ticks\": \"\"}, \"colorscale\": [[0.0, \"#0d0887\"], [0.1111111111111111, \"#46039f\"], [0.2222222222222222, \"#7201a8\"], [0.3333333333333333, \"#9c179e\"], [0.4444444444444444, \"#bd3786\"], [0.5555555555555556, \"#d8576b\"], [0.6666666666666666, \"#ed7953\"], [0.7777777777777778, \"#fb9f3a\"], [0.8888888888888888, \"#fdca26\"], [1.0, \"#f0f921\"]], \"type\": \"surface\"}], \"table\": [{\"cells\": {\"fill\": {\"color\": \"#EBF0F8\"}, \"line\": {\"color\": \"white\"}}, \"header\": {\"fill\": {\"color\": \"#C8D4E3\"}, \"line\": {\"color\": \"white\"}}, \"type\": \"table\"}]}, \"layout\": {\"annotationdefaults\": {\"arrowcolor\": \"#2a3f5f\", \"arrowhead\": 0, \"arrowwidth\": 1}, \"coloraxis\": {\"colorbar\": {\"outlinewidth\": 0, \"ticks\": \"\"}}, \"colorscale\": {\"diverging\": [[0, \"#8e0152\"], [0.1, \"#c51b7d\"], [0.2, \"#de77ae\"], [0.3, \"#f1b6da\"], [0.4, \"#fde0ef\"], [0.5, \"#f7f7f7\"], [0.6, \"#e6f5d0\"], [0.7, \"#b8e186\"], [0.8, \"#7fbc41\"], [0.9, \"#4d9221\"], [1, \"#276419\"]], \"sequential\": [[0.0, \"#0d0887\"], [0.1111111111111111, \"#46039f\"], [0.2222222222222222, \"#7201a8\"], [0.3333333333333333, \"#9c179e\"], [0.4444444444444444, \"#bd3786\"], [0.5555555555555556, \"#d8576b\"], [0.6666666666666666, \"#ed7953\"], [0.7777777777777778, \"#fb9f3a\"], [0.8888888888888888, \"#fdca26\"], [1.0, \"#f0f921\"]], \"sequentialminus\": [[0.0, \"#0d0887\"], [0.1111111111111111, \"#46039f\"], [0.2222222222222222, \"#7201a8\"], [0.3333333333333333, \"#9c179e\"], [0.4444444444444444, \"#bd3786\"], [0.5555555555555556, \"#d8576b\"], [0.6666666666666666, \"#ed7953\"], [0.7777777777777778, \"#fb9f3a\"], [0.8888888888888888, \"#fdca26\"], [1.0, \"#f0f921\"]]}, \"colorway\": [\"#636efa\", \"#EF553B\", \"#00cc96\", \"#ab63fa\", \"#FFA15A\", \"#19d3f3\", \"#FF6692\", \"#B6E880\", \"#FF97FF\", \"#FECB52\"], \"font\": {\"color\": \"#2a3f5f\"}, \"geo\": {\"bgcolor\": \"white\", \"lakecolor\": \"white\", \"landcolor\": \"#E5ECF6\", \"showlakes\": true, \"showland\": true, \"subunitcolor\": \"white\"}, \"hoverlabel\": {\"align\": \"left\"}, \"hovermode\": \"closest\", \"mapbox\": {\"style\": \"light\"}, \"paper_bgcolor\": \"white\", \"plot_bgcolor\": \"#E5ECF6\", \"polar\": {\"angularaxis\": {\"gridcolor\": \"white\", \"linecolor\": \"white\", \"ticks\": \"\"}, \"bgcolor\": \"#E5ECF6\", \"radialaxis\": {\"gridcolor\": \"white\", \"linecolor\": \"white\", \"ticks\": \"\"}}, \"scene\": {\"xaxis\": {\"backgroundcolor\": \"#E5ECF6\", \"gridcolor\": \"white\", \"gridwidth\": 2, \"linecolor\": \"white\", \"showbackground\": true, \"ticks\": \"\", \"zerolinecolor\": \"white\"}, \"yaxis\": {\"backgroundcolor\": \"#E5ECF6\", \"gridcolor\": \"white\", \"gridwidth\": 2, \"linecolor\": \"white\", \"showbackground\": true, \"ticks\": \"\", \"zerolinecolor\": \"white\"}, \"zaxis\": {\"backgroundcolor\": \"#E5ECF6\", \"gridcolor\": \"white\", \"gridwidth\": 2, \"linecolor\": \"white\", \"showbackground\": true, \"ticks\": \"\", \"zerolinecolor\": \"white\"}}, \"shapedefaults\": {\"line\": {\"color\": \"#2a3f5f\"}}, \"ternary\": {\"aaxis\": {\"gridcolor\": \"white\", \"linecolor\": \"white\", \"ticks\": \"\"}, \"baxis\": {\"gridcolor\": \"white\", \"linecolor\": \"white\", \"ticks\": \"\"}, \"bgcolor\": \"#E5ECF6\", \"caxis\": {\"gridcolor\": \"white\", \"linecolor\": \"white\", \"ticks\": \"\"}}, \"title\": {\"x\": 0.05}, \"xaxis\": {\"automargin\": true, \"gridcolor\": \"white\", \"linecolor\": \"white\", \"ticks\": \"\", \"title\": {\"standoff\": 15}, \"zerolinecolor\": \"white\", \"zerolinewidth\": 2}, \"yaxis\": {\"automargin\": true, \"gridcolor\": \"white\", \"linecolor\": \"white\", \"ticks\": \"\", \"title\": {\"standoff\": 15}, \"zerolinecolor\": \"white\", \"zerolinewidth\": 2}}}, \"title\": {\"font\": {\"color\": \"#4D5663\"}}, \"xaxis\": {\"gridcolor\": \"#E1E5ED\", \"showgrid\": true, \"tickfont\": {\"color\": \"#4D5663\"}, \"title\": {\"font\": {\"color\": \"#4D5663\"}, \"text\": \"\"}, \"zerolinecolor\": \"#E1E5ED\"}, \"yaxis\": {\"gridcolor\": \"#E1E5ED\", \"showgrid\": true, \"tickfont\": {\"color\": \"#4D5663\"}, \"title\": {\"font\": {\"color\": \"#4D5663\"}, \"text\": \"\"}, \"zerolinecolor\": \"#E1E5ED\"}},\n",
       "                        {\"showLink\": true, \"linkText\": \"Export to plot.ly\", \"plotlyServerURL\": \"https://plot.ly\", \"responsive\": true}\n",
       "                    ).then(function(){\n",
       "                            \n",
       "var gd = document.getElementById('539d4adf-9d9e-4d3f-ac6d-132978e12b8f');\n",
       "var x = new MutationObserver(function (mutations, observer) {{\n",
       "        var display = window.getComputedStyle(gd).display;\n",
       "        if (!display || display === 'none') {{\n",
       "            console.log([gd, 'removed!']);\n",
       "            Plotly.purge(gd);\n",
       "            observer.disconnect();\n",
       "        }}\n",
       "}});\n",
       "\n",
       "// Listen for the removal of the full notebook cells\n",
       "var notebookContainer = gd.closest('#notebook-container');\n",
       "if (notebookContainer) {{\n",
       "    x.observe(notebookContainer, {childList: true});\n",
       "}}\n",
       "\n",
       "// Listen for the clearing of the current output cell\n",
       "var outputEl = gd.closest('.output');\n",
       "if (outputEl) {{\n",
       "    x.observe(outputEl, {childList: true});\n",
       "}}\n",
       "\n",
       "                        })\n",
       "                };\n",
       "                });\n",
       "            </script>\n",
       "        </div>"
      ]
     },
     "metadata": {},
     "output_type": "display_data"
    }
   ],
   "source": [
    "df2.iplot(kind='bar',x='Category',y='Values')"
   ]
  },
  {
   "cell_type": "code",
   "execution_count": 15,
   "metadata": {},
   "outputs": [
    {
     "data": {
      "application/vnd.plotly.v1+json": {
       "config": {
        "linkText": "Export to plot.ly",
        "plotlyServerURL": "https://plot.ly",
        "showLink": true
       },
       "data": [
        {
         "marker": {
          "color": "rgba(255, 153, 51, 0.6)",
          "line": {
           "color": "rgba(255, 153, 51, 1.0)",
           "width": 1
          }
         },
         "name": "None",
         "orientation": "v",
         "text": "",
         "type": "bar",
         "x": [
          "A",
          "B",
          "C",
          "D"
         ],
         "y": [
          100,
          100,
          100,
          100
         ]
        }
       ],
       "layout": {
        "legend": {
         "bgcolor": "#F5F6F9",
         "font": {
          "color": "#4D5663"
         }
        },
        "paper_bgcolor": "#F5F6F9",
        "plot_bgcolor": "#F5F6F9",
        "template": {
         "data": {
          "bar": [
           {
            "error_x": {
             "color": "#2a3f5f"
            },
            "error_y": {
             "color": "#2a3f5f"
            },
            "marker": {
             "line": {
              "color": "#E5ECF6",
              "width": 0.5
             }
            },
            "type": "bar"
           }
          ],
          "barpolar": [
           {
            "marker": {
             "line": {
              "color": "#E5ECF6",
              "width": 0.5
             }
            },
            "type": "barpolar"
           }
          ],
          "carpet": [
           {
            "aaxis": {
             "endlinecolor": "#2a3f5f",
             "gridcolor": "white",
             "linecolor": "white",
             "minorgridcolor": "white",
             "startlinecolor": "#2a3f5f"
            },
            "baxis": {
             "endlinecolor": "#2a3f5f",
             "gridcolor": "white",
             "linecolor": "white",
             "minorgridcolor": "white",
             "startlinecolor": "#2a3f5f"
            },
            "type": "carpet"
           }
          ],
          "choropleth": [
           {
            "colorbar": {
             "outlinewidth": 0,
             "ticks": ""
            },
            "type": "choropleth"
           }
          ],
          "contour": [
           {
            "colorbar": {
             "outlinewidth": 0,
             "ticks": ""
            },
            "colorscale": [
             [
              0,
              "#0d0887"
             ],
             [
              0.1111111111111111,
              "#46039f"
             ],
             [
              0.2222222222222222,
              "#7201a8"
             ],
             [
              0.3333333333333333,
              "#9c179e"
             ],
             [
              0.4444444444444444,
              "#bd3786"
             ],
             [
              0.5555555555555556,
              "#d8576b"
             ],
             [
              0.6666666666666666,
              "#ed7953"
             ],
             [
              0.7777777777777778,
              "#fb9f3a"
             ],
             [
              0.8888888888888888,
              "#fdca26"
             ],
             [
              1,
              "#f0f921"
             ]
            ],
            "type": "contour"
           }
          ],
          "contourcarpet": [
           {
            "colorbar": {
             "outlinewidth": 0,
             "ticks": ""
            },
            "type": "contourcarpet"
           }
          ],
          "heatmap": [
           {
            "colorbar": {
             "outlinewidth": 0,
             "ticks": ""
            },
            "colorscale": [
             [
              0,
              "#0d0887"
             ],
             [
              0.1111111111111111,
              "#46039f"
             ],
             [
              0.2222222222222222,
              "#7201a8"
             ],
             [
              0.3333333333333333,
              "#9c179e"
             ],
             [
              0.4444444444444444,
              "#bd3786"
             ],
             [
              0.5555555555555556,
              "#d8576b"
             ],
             [
              0.6666666666666666,
              "#ed7953"
             ],
             [
              0.7777777777777778,
              "#fb9f3a"
             ],
             [
              0.8888888888888888,
              "#fdca26"
             ],
             [
              1,
              "#f0f921"
             ]
            ],
            "type": "heatmap"
           }
          ],
          "heatmapgl": [
           {
            "colorbar": {
             "outlinewidth": 0,
             "ticks": ""
            },
            "colorscale": [
             [
              0,
              "#0d0887"
             ],
             [
              0.1111111111111111,
              "#46039f"
             ],
             [
              0.2222222222222222,
              "#7201a8"
             ],
             [
              0.3333333333333333,
              "#9c179e"
             ],
             [
              0.4444444444444444,
              "#bd3786"
             ],
             [
              0.5555555555555556,
              "#d8576b"
             ],
             [
              0.6666666666666666,
              "#ed7953"
             ],
             [
              0.7777777777777778,
              "#fb9f3a"
             ],
             [
              0.8888888888888888,
              "#fdca26"
             ],
             [
              1,
              "#f0f921"
             ]
            ],
            "type": "heatmapgl"
           }
          ],
          "histogram": [
           {
            "marker": {
             "colorbar": {
              "outlinewidth": 0,
              "ticks": ""
             }
            },
            "type": "histogram"
           }
          ],
          "histogram2d": [
           {
            "colorbar": {
             "outlinewidth": 0,
             "ticks": ""
            },
            "colorscale": [
             [
              0,
              "#0d0887"
             ],
             [
              0.1111111111111111,
              "#46039f"
             ],
             [
              0.2222222222222222,
              "#7201a8"
             ],
             [
              0.3333333333333333,
              "#9c179e"
             ],
             [
              0.4444444444444444,
              "#bd3786"
             ],
             [
              0.5555555555555556,
              "#d8576b"
             ],
             [
              0.6666666666666666,
              "#ed7953"
             ],
             [
              0.7777777777777778,
              "#fb9f3a"
             ],
             [
              0.8888888888888888,
              "#fdca26"
             ],
             [
              1,
              "#f0f921"
             ]
            ],
            "type": "histogram2d"
           }
          ],
          "histogram2dcontour": [
           {
            "colorbar": {
             "outlinewidth": 0,
             "ticks": ""
            },
            "colorscale": [
             [
              0,
              "#0d0887"
             ],
             [
              0.1111111111111111,
              "#46039f"
             ],
             [
              0.2222222222222222,
              "#7201a8"
             ],
             [
              0.3333333333333333,
              "#9c179e"
             ],
             [
              0.4444444444444444,
              "#bd3786"
             ],
             [
              0.5555555555555556,
              "#d8576b"
             ],
             [
              0.6666666666666666,
              "#ed7953"
             ],
             [
              0.7777777777777778,
              "#fb9f3a"
             ],
             [
              0.8888888888888888,
              "#fdca26"
             ],
             [
              1,
              "#f0f921"
             ]
            ],
            "type": "histogram2dcontour"
           }
          ],
          "mesh3d": [
           {
            "colorbar": {
             "outlinewidth": 0,
             "ticks": ""
            },
            "type": "mesh3d"
           }
          ],
          "parcoords": [
           {
            "line": {
             "colorbar": {
              "outlinewidth": 0,
              "ticks": ""
             }
            },
            "type": "parcoords"
           }
          ],
          "pie": [
           {
            "automargin": true,
            "type": "pie"
           }
          ],
          "scatter": [
           {
            "marker": {
             "colorbar": {
              "outlinewidth": 0,
              "ticks": ""
             }
            },
            "type": "scatter"
           }
          ],
          "scatter3d": [
           {
            "line": {
             "colorbar": {
              "outlinewidth": 0,
              "ticks": ""
             }
            },
            "marker": {
             "colorbar": {
              "outlinewidth": 0,
              "ticks": ""
             }
            },
            "type": "scatter3d"
           }
          ],
          "scattercarpet": [
           {
            "marker": {
             "colorbar": {
              "outlinewidth": 0,
              "ticks": ""
             }
            },
            "type": "scattercarpet"
           }
          ],
          "scattergeo": [
           {
            "marker": {
             "colorbar": {
              "outlinewidth": 0,
              "ticks": ""
             }
            },
            "type": "scattergeo"
           }
          ],
          "scattergl": [
           {
            "marker": {
             "colorbar": {
              "outlinewidth": 0,
              "ticks": ""
             }
            },
            "type": "scattergl"
           }
          ],
          "scattermapbox": [
           {
            "marker": {
             "colorbar": {
              "outlinewidth": 0,
              "ticks": ""
             }
            },
            "type": "scattermapbox"
           }
          ],
          "scatterpolar": [
           {
            "marker": {
             "colorbar": {
              "outlinewidth": 0,
              "ticks": ""
             }
            },
            "type": "scatterpolar"
           }
          ],
          "scatterpolargl": [
           {
            "marker": {
             "colorbar": {
              "outlinewidth": 0,
              "ticks": ""
             }
            },
            "type": "scatterpolargl"
           }
          ],
          "scatterternary": [
           {
            "marker": {
             "colorbar": {
              "outlinewidth": 0,
              "ticks": ""
             }
            },
            "type": "scatterternary"
           }
          ],
          "surface": [
           {
            "colorbar": {
             "outlinewidth": 0,
             "ticks": ""
            },
            "colorscale": [
             [
              0,
              "#0d0887"
             ],
             [
              0.1111111111111111,
              "#46039f"
             ],
             [
              0.2222222222222222,
              "#7201a8"
             ],
             [
              0.3333333333333333,
              "#9c179e"
             ],
             [
              0.4444444444444444,
              "#bd3786"
             ],
             [
              0.5555555555555556,
              "#d8576b"
             ],
             [
              0.6666666666666666,
              "#ed7953"
             ],
             [
              0.7777777777777778,
              "#fb9f3a"
             ],
             [
              0.8888888888888888,
              "#fdca26"
             ],
             [
              1,
              "#f0f921"
             ]
            ],
            "type": "surface"
           }
          ],
          "table": [
           {
            "cells": {
             "fill": {
              "color": "#EBF0F8"
             },
             "line": {
              "color": "white"
             }
            },
            "header": {
             "fill": {
              "color": "#C8D4E3"
             },
             "line": {
              "color": "white"
             }
            },
            "type": "table"
           }
          ]
         },
         "layout": {
          "annotationdefaults": {
           "arrowcolor": "#2a3f5f",
           "arrowhead": 0,
           "arrowwidth": 1
          },
          "coloraxis": {
           "colorbar": {
            "outlinewidth": 0,
            "ticks": ""
           }
          },
          "colorscale": {
           "diverging": [
            [
             0,
             "#8e0152"
            ],
            [
             0.1,
             "#c51b7d"
            ],
            [
             0.2,
             "#de77ae"
            ],
            [
             0.3,
             "#f1b6da"
            ],
            [
             0.4,
             "#fde0ef"
            ],
            [
             0.5,
             "#f7f7f7"
            ],
            [
             0.6,
             "#e6f5d0"
            ],
            [
             0.7,
             "#b8e186"
            ],
            [
             0.8,
             "#7fbc41"
            ],
            [
             0.9,
             "#4d9221"
            ],
            [
             1,
             "#276419"
            ]
           ],
           "sequential": [
            [
             0,
             "#0d0887"
            ],
            [
             0.1111111111111111,
             "#46039f"
            ],
            [
             0.2222222222222222,
             "#7201a8"
            ],
            [
             0.3333333333333333,
             "#9c179e"
            ],
            [
             0.4444444444444444,
             "#bd3786"
            ],
            [
             0.5555555555555556,
             "#d8576b"
            ],
            [
             0.6666666666666666,
             "#ed7953"
            ],
            [
             0.7777777777777778,
             "#fb9f3a"
            ],
            [
             0.8888888888888888,
             "#fdca26"
            ],
            [
             1,
             "#f0f921"
            ]
           ],
           "sequentialminus": [
            [
             0,
             "#0d0887"
            ],
            [
             0.1111111111111111,
             "#46039f"
            ],
            [
             0.2222222222222222,
             "#7201a8"
            ],
            [
             0.3333333333333333,
             "#9c179e"
            ],
            [
             0.4444444444444444,
             "#bd3786"
            ],
            [
             0.5555555555555556,
             "#d8576b"
            ],
            [
             0.6666666666666666,
             "#ed7953"
            ],
            [
             0.7777777777777778,
             "#fb9f3a"
            ],
            [
             0.8888888888888888,
             "#fdca26"
            ],
            [
             1,
             "#f0f921"
            ]
           ]
          },
          "colorway": [
           "#636efa",
           "#EF553B",
           "#00cc96",
           "#ab63fa",
           "#FFA15A",
           "#19d3f3",
           "#FF6692",
           "#B6E880",
           "#FF97FF",
           "#FECB52"
          ],
          "font": {
           "color": "#2a3f5f"
          },
          "geo": {
           "bgcolor": "white",
           "lakecolor": "white",
           "landcolor": "#E5ECF6",
           "showlakes": true,
           "showland": true,
           "subunitcolor": "white"
          },
          "hoverlabel": {
           "align": "left"
          },
          "hovermode": "closest",
          "mapbox": {
           "style": "light"
          },
          "paper_bgcolor": "white",
          "plot_bgcolor": "#E5ECF6",
          "polar": {
           "angularaxis": {
            "gridcolor": "white",
            "linecolor": "white",
            "ticks": ""
           },
           "bgcolor": "#E5ECF6",
           "radialaxis": {
            "gridcolor": "white",
            "linecolor": "white",
            "ticks": ""
           }
          },
          "scene": {
           "xaxis": {
            "backgroundcolor": "#E5ECF6",
            "gridcolor": "white",
            "gridwidth": 2,
            "linecolor": "white",
            "showbackground": true,
            "ticks": "",
            "zerolinecolor": "white"
           },
           "yaxis": {
            "backgroundcolor": "#E5ECF6",
            "gridcolor": "white",
            "gridwidth": 2,
            "linecolor": "white",
            "showbackground": true,
            "ticks": "",
            "zerolinecolor": "white"
           },
           "zaxis": {
            "backgroundcolor": "#E5ECF6",
            "gridcolor": "white",
            "gridwidth": 2,
            "linecolor": "white",
            "showbackground": true,
            "ticks": "",
            "zerolinecolor": "white"
           }
          },
          "shapedefaults": {
           "line": {
            "color": "#2a3f5f"
           }
          },
          "ternary": {
           "aaxis": {
            "gridcolor": "white",
            "linecolor": "white",
            "ticks": ""
           },
           "baxis": {
            "gridcolor": "white",
            "linecolor": "white",
            "ticks": ""
           },
           "bgcolor": "#E5ECF6",
           "caxis": {
            "gridcolor": "white",
            "linecolor": "white",
            "ticks": ""
           }
          },
          "title": {
           "x": 0.05
          },
          "xaxis": {
           "automargin": true,
           "gridcolor": "white",
           "linecolor": "white",
           "ticks": "",
           "title": {
            "standoff": 15
           },
           "zerolinecolor": "white",
           "zerolinewidth": 2
          },
          "yaxis": {
           "automargin": true,
           "gridcolor": "white",
           "linecolor": "white",
           "ticks": "",
           "title": {
            "standoff": 15
           },
           "zerolinecolor": "white",
           "zerolinewidth": 2
          }
         }
        },
        "title": {
         "font": {
          "color": "#4D5663"
         }
        },
        "xaxis": {
         "gridcolor": "#E1E5ED",
         "showgrid": true,
         "tickfont": {
          "color": "#4D5663"
         },
         "title": {
          "font": {
           "color": "#4D5663"
          },
          "text": ""
         },
         "zerolinecolor": "#E1E5ED"
        },
        "yaxis": {
         "gridcolor": "#E1E5ED",
         "showgrid": true,
         "tickfont": {
          "color": "#4D5663"
         },
         "title": {
          "font": {
           "color": "#4D5663"
          },
          "text": ""
         },
         "zerolinecolor": "#E1E5ED"
        }
       }
      },
      "text/html": [
       "<div>\n",
       "        \n",
       "        \n",
       "            <div id=\"29247c1f-4245-482c-909c-5ba02dbf7b1b\" class=\"plotly-graph-div\" style=\"height:525px; width:100%;\"></div>\n",
       "            <script type=\"text/javascript\">\n",
       "                require([\"plotly\"], function(Plotly) {\n",
       "                    window.PLOTLYENV=window.PLOTLYENV || {};\n",
       "                    window.PLOTLYENV.BASE_URL='https://plot.ly';\n",
       "                    \n",
       "                if (document.getElementById(\"29247c1f-4245-482c-909c-5ba02dbf7b1b\")) {\n",
       "                    Plotly.newPlot(\n",
       "                        '29247c1f-4245-482c-909c-5ba02dbf7b1b',\n",
       "                        [{\"marker\": {\"color\": \"rgba(255, 153, 51, 0.6)\", \"line\": {\"color\": \"rgba(255, 153, 51, 1.0)\", \"width\": 1}}, \"name\": \"None\", \"orientation\": \"v\", \"text\": \"\", \"type\": \"bar\", \"x\": [\"A\", \"B\", \"C\", \"D\"], \"y\": [100, 100, 100, 100]}],\n",
       "                        {\"legend\": {\"bgcolor\": \"#F5F6F9\", \"font\": {\"color\": \"#4D5663\"}}, \"paper_bgcolor\": \"#F5F6F9\", \"plot_bgcolor\": \"#F5F6F9\", \"template\": {\"data\": {\"bar\": [{\"error_x\": {\"color\": \"#2a3f5f\"}, \"error_y\": {\"color\": \"#2a3f5f\"}, \"marker\": {\"line\": {\"color\": \"#E5ECF6\", \"width\": 0.5}}, \"type\": \"bar\"}], \"barpolar\": [{\"marker\": {\"line\": {\"color\": \"#E5ECF6\", \"width\": 0.5}}, \"type\": \"barpolar\"}], \"carpet\": [{\"aaxis\": {\"endlinecolor\": \"#2a3f5f\", \"gridcolor\": \"white\", \"linecolor\": \"white\", \"minorgridcolor\": \"white\", \"startlinecolor\": \"#2a3f5f\"}, \"baxis\": {\"endlinecolor\": \"#2a3f5f\", \"gridcolor\": \"white\", \"linecolor\": \"white\", \"minorgridcolor\": \"white\", \"startlinecolor\": \"#2a3f5f\"}, \"type\": \"carpet\"}], \"choropleth\": [{\"colorbar\": {\"outlinewidth\": 0, \"ticks\": \"\"}, \"type\": \"choropleth\"}], \"contour\": [{\"colorbar\": {\"outlinewidth\": 0, \"ticks\": \"\"}, \"colorscale\": [[0.0, \"#0d0887\"], [0.1111111111111111, \"#46039f\"], [0.2222222222222222, \"#7201a8\"], [0.3333333333333333, \"#9c179e\"], [0.4444444444444444, \"#bd3786\"], [0.5555555555555556, \"#d8576b\"], [0.6666666666666666, \"#ed7953\"], [0.7777777777777778, \"#fb9f3a\"], [0.8888888888888888, \"#fdca26\"], [1.0, \"#f0f921\"]], \"type\": \"contour\"}], \"contourcarpet\": [{\"colorbar\": {\"outlinewidth\": 0, \"ticks\": \"\"}, \"type\": \"contourcarpet\"}], \"heatmap\": [{\"colorbar\": {\"outlinewidth\": 0, \"ticks\": \"\"}, \"colorscale\": [[0.0, \"#0d0887\"], [0.1111111111111111, \"#46039f\"], [0.2222222222222222, \"#7201a8\"], [0.3333333333333333, \"#9c179e\"], [0.4444444444444444, \"#bd3786\"], [0.5555555555555556, \"#d8576b\"], [0.6666666666666666, \"#ed7953\"], [0.7777777777777778, \"#fb9f3a\"], [0.8888888888888888, \"#fdca26\"], [1.0, \"#f0f921\"]], \"type\": \"heatmap\"}], \"heatmapgl\": [{\"colorbar\": {\"outlinewidth\": 0, \"ticks\": \"\"}, \"colorscale\": [[0.0, \"#0d0887\"], [0.1111111111111111, \"#46039f\"], [0.2222222222222222, \"#7201a8\"], [0.3333333333333333, \"#9c179e\"], [0.4444444444444444, \"#bd3786\"], [0.5555555555555556, \"#d8576b\"], [0.6666666666666666, \"#ed7953\"], [0.7777777777777778, \"#fb9f3a\"], [0.8888888888888888, \"#fdca26\"], [1.0, \"#f0f921\"]], \"type\": \"heatmapgl\"}], \"histogram\": [{\"marker\": {\"colorbar\": {\"outlinewidth\": 0, \"ticks\": \"\"}}, \"type\": \"histogram\"}], \"histogram2d\": [{\"colorbar\": {\"outlinewidth\": 0, \"ticks\": \"\"}, \"colorscale\": [[0.0, \"#0d0887\"], [0.1111111111111111, \"#46039f\"], [0.2222222222222222, \"#7201a8\"], [0.3333333333333333, \"#9c179e\"], [0.4444444444444444, \"#bd3786\"], [0.5555555555555556, \"#d8576b\"], [0.6666666666666666, \"#ed7953\"], [0.7777777777777778, \"#fb9f3a\"], [0.8888888888888888, \"#fdca26\"], [1.0, \"#f0f921\"]], \"type\": \"histogram2d\"}], \"histogram2dcontour\": [{\"colorbar\": {\"outlinewidth\": 0, \"ticks\": \"\"}, \"colorscale\": [[0.0, \"#0d0887\"], [0.1111111111111111, \"#46039f\"], [0.2222222222222222, \"#7201a8\"], [0.3333333333333333, \"#9c179e\"], [0.4444444444444444, \"#bd3786\"], [0.5555555555555556, \"#d8576b\"], [0.6666666666666666, \"#ed7953\"], [0.7777777777777778, \"#fb9f3a\"], [0.8888888888888888, \"#fdca26\"], [1.0, \"#f0f921\"]], \"type\": \"histogram2dcontour\"}], \"mesh3d\": [{\"colorbar\": {\"outlinewidth\": 0, \"ticks\": \"\"}, \"type\": \"mesh3d\"}], \"parcoords\": [{\"line\": {\"colorbar\": {\"outlinewidth\": 0, \"ticks\": \"\"}}, \"type\": \"parcoords\"}], \"pie\": [{\"automargin\": true, \"type\": \"pie\"}], \"scatter\": [{\"marker\": {\"colorbar\": {\"outlinewidth\": 0, \"ticks\": \"\"}}, \"type\": \"scatter\"}], \"scatter3d\": [{\"line\": {\"colorbar\": {\"outlinewidth\": 0, \"ticks\": \"\"}}, \"marker\": {\"colorbar\": {\"outlinewidth\": 0, \"ticks\": \"\"}}, \"type\": \"scatter3d\"}], \"scattercarpet\": [{\"marker\": {\"colorbar\": {\"outlinewidth\": 0, \"ticks\": \"\"}}, \"type\": \"scattercarpet\"}], \"scattergeo\": [{\"marker\": {\"colorbar\": {\"outlinewidth\": 0, \"ticks\": \"\"}}, \"type\": \"scattergeo\"}], \"scattergl\": [{\"marker\": {\"colorbar\": {\"outlinewidth\": 0, \"ticks\": \"\"}}, \"type\": \"scattergl\"}], \"scattermapbox\": [{\"marker\": {\"colorbar\": {\"outlinewidth\": 0, \"ticks\": \"\"}}, \"type\": \"scattermapbox\"}], \"scatterpolar\": [{\"marker\": {\"colorbar\": {\"outlinewidth\": 0, \"ticks\": \"\"}}, \"type\": \"scatterpolar\"}], \"scatterpolargl\": [{\"marker\": {\"colorbar\": {\"outlinewidth\": 0, \"ticks\": \"\"}}, \"type\": \"scatterpolargl\"}], \"scatterternary\": [{\"marker\": {\"colorbar\": {\"outlinewidth\": 0, \"ticks\": \"\"}}, \"type\": \"scatterternary\"}], \"surface\": [{\"colorbar\": {\"outlinewidth\": 0, \"ticks\": \"\"}, \"colorscale\": [[0.0, \"#0d0887\"], [0.1111111111111111, \"#46039f\"], [0.2222222222222222, \"#7201a8\"], [0.3333333333333333, \"#9c179e\"], [0.4444444444444444, \"#bd3786\"], [0.5555555555555556, \"#d8576b\"], [0.6666666666666666, \"#ed7953\"], [0.7777777777777778, \"#fb9f3a\"], [0.8888888888888888, \"#fdca26\"], [1.0, \"#f0f921\"]], \"type\": \"surface\"}], \"table\": [{\"cells\": {\"fill\": {\"color\": \"#EBF0F8\"}, \"line\": {\"color\": \"white\"}}, \"header\": {\"fill\": {\"color\": \"#C8D4E3\"}, \"line\": {\"color\": \"white\"}}, \"type\": \"table\"}]}, \"layout\": {\"annotationdefaults\": {\"arrowcolor\": \"#2a3f5f\", \"arrowhead\": 0, \"arrowwidth\": 1}, \"coloraxis\": {\"colorbar\": {\"outlinewidth\": 0, \"ticks\": \"\"}}, \"colorscale\": {\"diverging\": [[0, \"#8e0152\"], [0.1, \"#c51b7d\"], [0.2, \"#de77ae\"], [0.3, \"#f1b6da\"], [0.4, \"#fde0ef\"], [0.5, \"#f7f7f7\"], [0.6, \"#e6f5d0\"], [0.7, \"#b8e186\"], [0.8, \"#7fbc41\"], [0.9, \"#4d9221\"], [1, \"#276419\"]], \"sequential\": [[0.0, \"#0d0887\"], [0.1111111111111111, \"#46039f\"], [0.2222222222222222, \"#7201a8\"], [0.3333333333333333, \"#9c179e\"], [0.4444444444444444, \"#bd3786\"], [0.5555555555555556, \"#d8576b\"], [0.6666666666666666, \"#ed7953\"], [0.7777777777777778, \"#fb9f3a\"], [0.8888888888888888, \"#fdca26\"], [1.0, \"#f0f921\"]], \"sequentialminus\": [[0.0, \"#0d0887\"], [0.1111111111111111, \"#46039f\"], [0.2222222222222222, \"#7201a8\"], [0.3333333333333333, \"#9c179e\"], [0.4444444444444444, \"#bd3786\"], [0.5555555555555556, \"#d8576b\"], [0.6666666666666666, \"#ed7953\"], [0.7777777777777778, \"#fb9f3a\"], [0.8888888888888888, \"#fdca26\"], [1.0, \"#f0f921\"]]}, \"colorway\": [\"#636efa\", \"#EF553B\", \"#00cc96\", \"#ab63fa\", \"#FFA15A\", \"#19d3f3\", \"#FF6692\", \"#B6E880\", \"#FF97FF\", \"#FECB52\"], \"font\": {\"color\": \"#2a3f5f\"}, \"geo\": {\"bgcolor\": \"white\", \"lakecolor\": \"white\", \"landcolor\": \"#E5ECF6\", \"showlakes\": true, \"showland\": true, \"subunitcolor\": \"white\"}, \"hoverlabel\": {\"align\": \"left\"}, \"hovermode\": \"closest\", \"mapbox\": {\"style\": \"light\"}, \"paper_bgcolor\": \"white\", \"plot_bgcolor\": \"#E5ECF6\", \"polar\": {\"angularaxis\": {\"gridcolor\": \"white\", \"linecolor\": \"white\", \"ticks\": \"\"}, \"bgcolor\": \"#E5ECF6\", \"radialaxis\": {\"gridcolor\": \"white\", \"linecolor\": \"white\", \"ticks\": \"\"}}, \"scene\": {\"xaxis\": {\"backgroundcolor\": \"#E5ECF6\", \"gridcolor\": \"white\", \"gridwidth\": 2, \"linecolor\": \"white\", \"showbackground\": true, \"ticks\": \"\", \"zerolinecolor\": \"white\"}, \"yaxis\": {\"backgroundcolor\": \"#E5ECF6\", \"gridcolor\": \"white\", \"gridwidth\": 2, \"linecolor\": \"white\", \"showbackground\": true, \"ticks\": \"\", \"zerolinecolor\": \"white\"}, \"zaxis\": {\"backgroundcolor\": \"#E5ECF6\", \"gridcolor\": \"white\", \"gridwidth\": 2, \"linecolor\": \"white\", \"showbackground\": true, \"ticks\": \"\", \"zerolinecolor\": \"white\"}}, \"shapedefaults\": {\"line\": {\"color\": \"#2a3f5f\"}}, \"ternary\": {\"aaxis\": {\"gridcolor\": \"white\", \"linecolor\": \"white\", \"ticks\": \"\"}, \"baxis\": {\"gridcolor\": \"white\", \"linecolor\": \"white\", \"ticks\": \"\"}, \"bgcolor\": \"#E5ECF6\", \"caxis\": {\"gridcolor\": \"white\", \"linecolor\": \"white\", \"ticks\": \"\"}}, \"title\": {\"x\": 0.05}, \"xaxis\": {\"automargin\": true, \"gridcolor\": \"white\", \"linecolor\": \"white\", \"ticks\": \"\", \"title\": {\"standoff\": 15}, \"zerolinecolor\": \"white\", \"zerolinewidth\": 2}, \"yaxis\": {\"automargin\": true, \"gridcolor\": \"white\", \"linecolor\": \"white\", \"ticks\": \"\", \"title\": {\"standoff\": 15}, \"zerolinecolor\": \"white\", \"zerolinewidth\": 2}}}, \"title\": {\"font\": {\"color\": \"#4D5663\"}}, \"xaxis\": {\"gridcolor\": \"#E1E5ED\", \"showgrid\": true, \"tickfont\": {\"color\": \"#4D5663\"}, \"title\": {\"font\": {\"color\": \"#4D5663\"}, \"text\": \"\"}, \"zerolinecolor\": \"#E1E5ED\"}, \"yaxis\": {\"gridcolor\": \"#E1E5ED\", \"showgrid\": true, \"tickfont\": {\"color\": \"#4D5663\"}, \"title\": {\"font\": {\"color\": \"#4D5663\"}, \"text\": \"\"}, \"zerolinecolor\": \"#E1E5ED\"}},\n",
       "                        {\"showLink\": true, \"linkText\": \"Export to plot.ly\", \"plotlyServerURL\": \"https://plot.ly\", \"responsive\": true}\n",
       "                    ).then(function(){\n",
       "                            \n",
       "var gd = document.getElementById('29247c1f-4245-482c-909c-5ba02dbf7b1b');\n",
       "var x = new MutationObserver(function (mutations, observer) {{\n",
       "        var display = window.getComputedStyle(gd).display;\n",
       "        if (!display || display === 'none') {{\n",
       "            console.log([gd, 'removed!']);\n",
       "            Plotly.purge(gd);\n",
       "            observer.disconnect();\n",
       "        }}\n",
       "}});\n",
       "\n",
       "// Listen for the removal of the full notebook cells\n",
       "var notebookContainer = gd.closest('#notebook-container');\n",
       "if (notebookContainer) {{\n",
       "    x.observe(notebookContainer, {childList: true});\n",
       "}}\n",
       "\n",
       "// Listen for the clearing of the current output cell\n",
       "var outputEl = gd.closest('.output');\n",
       "if (outputEl) {{\n",
       "    x.observe(outputEl, {childList: true});\n",
       "}}\n",
       "\n",
       "                        })\n",
       "                };\n",
       "                });\n",
       "            </script>\n",
       "        </div>"
      ]
     },
     "metadata": {},
     "output_type": "display_data"
    }
   ],
   "source": [
    "df.count().iplot(kind='bar')"
   ]
  },
  {
   "cell_type": "markdown",
   "metadata": {},
   "source": [
    "## Boxplots"
   ]
  },
  {
   "cell_type": "code",
   "execution_count": 16,
   "metadata": {},
   "outputs": [
    {
     "data": {
      "application/vnd.plotly.v1+json": {
       "config": {
        "linkText": "Export to plot.ly",
        "plotlyServerURL": "https://plot.ly",
        "showLink": true
       },
       "data": [
        {
         "boxpoints": false,
         "line": {
          "width": 1.3
         },
         "marker": {
          "color": "rgba(255, 153, 51, 1.0)"
         },
         "name": "A",
         "orientation": "v",
         "type": "box",
         "y": [
          0.3366253685910652,
          -0.8152962615269359,
          -2.057094167945235,
          -1.9541343699683842,
          0.6350471693898226,
          1.3393854246577892,
          -0.1664414930804797,
          0.895126799501226,
          0.3292560346097866,
          -1.5232703639541971,
          0.9186446530754513,
          -0.10771866432911681,
          -0.24430106447414054,
          -0.20619549803399442,
          -0.07496398303253174,
          -1.1351977435845633,
          -0.34138973113653054,
          -0.6892752596721525,
          -1.5434768318213519,
          -0.374012762351043,
          0.331761227479903,
          0.3694659922847097,
          0.15913472597883468,
          -0.9720134165835317,
          -0.2171894606425676,
          0.6258869651944907,
          -1.2141991773722172,
          -0.6888312027759299,
          -1.196606260086114,
          1.9171614028912838,
          -0.8197494317490756,
          0.8442744914994555,
          -0.5354476373949394,
          -0.13940235912023516,
          -0.3440487361566797,
          0.5847650737857164,
          -0.20452714135063474,
          -0.4734153008931332,
          0.1525789505851457,
          0.15943923195430232,
          -1.5712599479287583,
          0.7302450600457806,
          -0.5281471269177707,
          0.7841689237674179,
          1.6847993459208428,
          1.0781584592306386,
          -0.6148700589748657,
          0.1356051706983451,
          -0.7880479114057856,
          0.47949379874479436,
          -0.02441032028762437,
          -0.07437076244591963,
          0.9467680138425014,
          -0.014671024676162296,
          1.782056184224774,
          1.7164705123188548,
          0.15299462841133046,
          0.5526879640231437,
          -0.7347081734316098,
          0.25652438606881317,
          -0.7714194110548964,
          -0.9549644235619681,
          -0.49660877894194355,
          0.3252467140305092,
          -0.31637216864672113,
          0.34308269591780455,
          0.5282051548907043,
          -1.1319743118881591,
          -0.2893859807681463,
          -0.6601340495579393,
          -1.0138335460436667,
          -1.6563261279034838,
          0.7256724241953929,
          -0.11334824786137546,
          -0.8002763540209177,
          0.7867076095020186,
          0.4384288714386092,
          -0.3947589854358734,
          0.9062235669638437,
          0.8196800251334179,
          -1.2539062476924414,
          -0.20130480834260286,
          -0.12443864472378685,
          0.04688882347637687,
          1.5337275539272255,
          1.982488741300852,
          -1.1953722916405798,
          0.6410983225048137,
          0.805785032541812,
          0.3932603773541811,
          -0.6453067879032107,
          1.4760578266825994,
          -0.3594032836309028,
          0.9480512342548622,
          -0.18928712523705382,
          -0.8481750065845147,
          0.4932182939235028,
          0.7869080942142737,
          -1.2665836193117346,
          -0.1648699611042843
         ]
        },
        {
         "boxpoints": false,
         "line": {
          "width": 1.3
         },
         "marker": {
          "color": "rgba(55, 128, 191, 1.0)"
         },
         "name": "B",
         "orientation": "v",
         "type": "box",
         "y": [
          0.043697341410055664,
          -1.581436693250505,
          -1.1115696532210644,
          -0.5698372836913742,
          -0.02175389139025899,
          0.20260576800273525,
          0.791740809273046,
          1.3392918747893074,
          1.7094803759461192,
          -2.1379210460183957,
          -0.07225248650834998,
          -0.9680086419210548,
          -0.7083553580314013,
          0.973036553547053,
          0.6590668117012048,
          1.7945342742941552,
          -0.37518385884804895,
          2.107867503689684,
          0.742223919259543,
          -0.9161352194947348,
          -0.625680464700169,
          0.6149028780151503,
          0.20293727221135938,
          -0.06756211935173426,
          0.5599385792540977,
          -0.018063441547951798,
          1.0904145182977474,
          0.1634388508574048,
          -0.4931740987536183,
          -0.6676426208786932,
          -0.11668102711351185,
          0.43121144208387313,
          -0.1257312590901729,
          0.46198432695848557,
          -0.6439750877139889,
          1.3245655646623755,
          -0.980281342799237,
          -0.47560336976440476,
          0.5015220699951991,
          0.6051219350616727,
          2.048607451883618,
          1.261448986561181,
          -0.6979944782298741,
          -0.6143734098828072,
          -1.7754911385000327,
          -2.5384857323716385,
          1.6392145910633855,
          -1.4820642874699732,
          0.5844190880860396,
          -0.9436681757156312,
          -0.6503532338456608,
          1.9604123865081746,
          -1.2156684870760122,
          1.7823659197142776,
          -1.2201866924836282,
          -0.8602765774469655,
          0.4429230638355957,
          -1.2834305270149287,
          -0.25170583685474396,
          0.6830253659792884,
          -1.435437310811144,
          -0.6010432945513375,
          -0.759550451675055,
          0.5494279717404709,
          -2.601816346142572,
          -1.4347716877088044,
          -1.5063832342771595,
          1.030878804194865,
          -0.05143590109769036,
          -0.16272027060819982,
          0.08748232879602544,
          0.6301069551469266,
          -1.3863205154859544,
          -1.638235833577776,
          -0.7425171354610364,
          0.5881594362154489,
          -0.9543717077207359,
          -0.3174249771099468,
          0.7827350703006383,
          0.45058167180313485,
          0.6632662170891702,
          1.561964675359686,
          0.15404556879730338,
          0.08133174112869458,
          0.23151390026575197,
          0.5024442630469539,
          1.2852188126317763,
          1.8971364510299469,
          -0.7424065437024872,
          0.25959933392610635,
          -0.2612537670966083,
          -0.17573342825713237,
          0.6960917629912512,
          -0.2709490068825894,
          -0.22219577815518834,
          -0.6442948098061319,
          -0.9700610554833162,
          -0.2098202139951793,
          -0.8736514829147257,
          0.46721323100953
         ]
        },
        {
         "boxpoints": false,
         "line": {
          "width": 1.3
         },
         "marker": {
          "color": "rgba(50, 171, 96, 1.0)"
         },
         "name": "C",
         "orientation": "v",
         "type": "box",
         "y": [
          0.04255381567537707,
          0.046175923091871234,
          1.4945526874734125,
          2.0499505428395746,
          0.35966706199617965,
          -0.0949271207524387,
          0.6715251925041402,
          0.6505611657188639,
          -0.333791417315038,
          0.6802181420716225,
          -0.1871999136371795,
          0.2697796011413888,
          -3.248413972061903,
          0.9463869332128763,
          0.4428394796224026,
          0.9700189283405273,
          -0.690686931614203,
          0.7024769150134029,
          0.4164675466761889,
          -1.3013787977107742,
          -0.4383056029475472,
          -0.04120214401387803,
          0.006749146217790606,
          -1.3130658543473204,
          -0.784226920233521,
          -0.5850973808915845,
          0.5964125586372435,
          0.07325798840521612,
          0.7099964372805259,
          -0.3399487988844456,
          1.1496742564620555,
          1.6041272692387103,
          -1.601718155678675,
          -1.2413029379413267,
          0.1497112736217552,
          1.0853822331144833,
          0.8383176374572543,
          -0.8640249954026039,
          0.5215788938261666,
          -0.7681135353649741,
          -0.7225439926636898,
          0.21198722295013459,
          1.2983818234618332,
          -1.209332311380756,
          -1.0830682811521244,
          0.5795800665901155,
          0.010675912765416082,
          1.153142052228595,
          -0.7844022321525719,
          -0.6615128381366681,
          -1.498884001979212,
          -1.520167780297197,
          -1.4735451999570175,
          -1.0842158068538486,
          -0.986167046762502,
          -1.2754228210260172,
          -0.10746292903972071,
          -1.065675576219357,
          -0.6185221279367109,
          0.08272834582303598,
          -0.7075774211322811,
          0.26278843922419387,
          0.9276966171843064,
          -0.7442440418530465,
          -0.054698231086657535,
          -1.8054104778947602,
          -0.2995097686537457,
          0.30350328394916304,
          -0.9708332249757549,
          0.11067603405991755,
          -0.876759636086438,
          1.3187269643477046,
          -1.7300516743601386,
          -0.7101342872651458,
          -0.13836495264228366,
          1.1619196815883095,
          -1.032567904922605,
          -0.5062474182999148,
          0.6143148176969475,
          -1.202896468711915,
          -2.41232766945248,
          -0.7388021103883274,
          0.3380031501494933,
          -0.287687012437793,
          2.312571964503006,
          0.26062843201780966,
          0.4893737656897665,
          -0.5670704810079203,
          0.09294294448609702,
          -2.745539243741952,
          -0.365154492063901,
          -0.43082513293274993,
          0.924853093376854,
          0.0592808007496384,
          0.7822802790361943,
          -2.0210347926832934,
          -0.4350931190868809,
          0.9033125340616334,
          -0.28063414814338855,
          -1.9096697038970083
         ]
        },
        {
         "boxpoints": false,
         "line": {
          "width": 1.3
         },
         "marker": {
          "color": "rgba(128, 0, 128, 1.0)"
         },
         "name": "D",
         "orientation": "v",
         "type": "box",
         "y": [
          -0.638103274970272,
          -0.4516573544754162,
          0.5078205297139559,
          0.4738191424325633,
          -0.42937902895524394,
          -0.7220933525095943,
          1.2769289696614359,
          -0.8056130983796184,
          0.26795308834055565,
          0.7946503656255284,
          1.7508516378797359,
          -1.7808971763545731,
          1.10089601850168,
          0.9863501646697367,
          0.26369484785855074,
          -0.4420793544967146,
          2.3928736846920877,
          -1.2873048580671396,
          1.7650516257789794,
          -0.5124464260123467,
          1.015744317758713,
          -1.1973771315402644,
          0.40564749635003033,
          0.12353401623427175,
          3.4892219766978765,
          0.7400356604684535,
          1.5737948395296713,
          1.2155227497209096,
          -0.7578777685518293,
          0.21838270714850308,
          0.2906017401905688,
          -0.09274318392091023,
          -0.08501365107773047,
          -1.9169242415553993,
          0.6354044556758225,
          -0.9085822695369786,
          -0.8099317241044525,
          1.1006357530970599,
          -1.5023856122214094,
          -0.22154845805343645,
          -1.3408905430243676,
          -0.6999698546878313,
          0.6462981556258707,
          -2.004558345319722,
          1.4165772372655763,
          -1.703319528829284,
          0.008928166879526484,
          -1.342371253815068,
          1.5922173966646591,
          -0.7222781192097324,
          -1.388599809920899,
          -0.04048973483372441,
          0.26498547150741,
          -1.0862955174970992,
          1.794238525111512,
          -0.10798386115262665,
          0.5965408575811325,
          -0.8897361713533402,
          0.07830855366464426,
          -0.44740813006892227,
          0.4347288461875099,
          0.5038059212723521,
          0.5793219642977636,
          0.17524437803870738,
          0.7209257879842977,
          0.053698688851731964,
          -0.48737598538986593,
          1.2987634408369853,
          1.6451312081981426,
          0.39923952372038357,
          -1.7777297943408932,
          -0.6906817131199058,
          0.2526344979303035,
          -1.4043339844543148,
          0.7727439685302119,
          1.36004424424199,
          -0.7878049258801506,
          -1.2352340376726214,
          0.8593006388571304,
          0.6551972093723268,
          -0.8944068398109183,
          0.38982543354751537,
          -0.20833527014003578,
          0.7755650713361901,
          -0.8313071909579461,
          -0.2692403325632571,
          1.6295625223072496,
          0.42604675267042164,
          0.9135562114108622,
          1.9738901055730302,
          1.6080025335225183,
          0.18039384816335158,
          0.1369333208126082,
          0.5535303225602813,
          0.19182761336966878,
          -0.6284149427013865,
          1.6000310506883364,
          0.6638289795262313,
          1.067503794244087,
          1.125376634490109
         ]
        }
       ],
       "layout": {
        "legend": {
         "bgcolor": "#F5F6F9",
         "font": {
          "color": "#4D5663"
         }
        },
        "paper_bgcolor": "#F5F6F9",
        "plot_bgcolor": "#F5F6F9",
        "template": {
         "data": {
          "bar": [
           {
            "error_x": {
             "color": "#2a3f5f"
            },
            "error_y": {
             "color": "#2a3f5f"
            },
            "marker": {
             "line": {
              "color": "#E5ECF6",
              "width": 0.5
             }
            },
            "type": "bar"
           }
          ],
          "barpolar": [
           {
            "marker": {
             "line": {
              "color": "#E5ECF6",
              "width": 0.5
             }
            },
            "type": "barpolar"
           }
          ],
          "carpet": [
           {
            "aaxis": {
             "endlinecolor": "#2a3f5f",
             "gridcolor": "white",
             "linecolor": "white",
             "minorgridcolor": "white",
             "startlinecolor": "#2a3f5f"
            },
            "baxis": {
             "endlinecolor": "#2a3f5f",
             "gridcolor": "white",
             "linecolor": "white",
             "minorgridcolor": "white",
             "startlinecolor": "#2a3f5f"
            },
            "type": "carpet"
           }
          ],
          "choropleth": [
           {
            "colorbar": {
             "outlinewidth": 0,
             "ticks": ""
            },
            "type": "choropleth"
           }
          ],
          "contour": [
           {
            "colorbar": {
             "outlinewidth": 0,
             "ticks": ""
            },
            "colorscale": [
             [
              0,
              "#0d0887"
             ],
             [
              0.1111111111111111,
              "#46039f"
             ],
             [
              0.2222222222222222,
              "#7201a8"
             ],
             [
              0.3333333333333333,
              "#9c179e"
             ],
             [
              0.4444444444444444,
              "#bd3786"
             ],
             [
              0.5555555555555556,
              "#d8576b"
             ],
             [
              0.6666666666666666,
              "#ed7953"
             ],
             [
              0.7777777777777778,
              "#fb9f3a"
             ],
             [
              0.8888888888888888,
              "#fdca26"
             ],
             [
              1,
              "#f0f921"
             ]
            ],
            "type": "contour"
           }
          ],
          "contourcarpet": [
           {
            "colorbar": {
             "outlinewidth": 0,
             "ticks": ""
            },
            "type": "contourcarpet"
           }
          ],
          "heatmap": [
           {
            "colorbar": {
             "outlinewidth": 0,
             "ticks": ""
            },
            "colorscale": [
             [
              0,
              "#0d0887"
             ],
             [
              0.1111111111111111,
              "#46039f"
             ],
             [
              0.2222222222222222,
              "#7201a8"
             ],
             [
              0.3333333333333333,
              "#9c179e"
             ],
             [
              0.4444444444444444,
              "#bd3786"
             ],
             [
              0.5555555555555556,
              "#d8576b"
             ],
             [
              0.6666666666666666,
              "#ed7953"
             ],
             [
              0.7777777777777778,
              "#fb9f3a"
             ],
             [
              0.8888888888888888,
              "#fdca26"
             ],
             [
              1,
              "#f0f921"
             ]
            ],
            "type": "heatmap"
           }
          ],
          "heatmapgl": [
           {
            "colorbar": {
             "outlinewidth": 0,
             "ticks": ""
            },
            "colorscale": [
             [
              0,
              "#0d0887"
             ],
             [
              0.1111111111111111,
              "#46039f"
             ],
             [
              0.2222222222222222,
              "#7201a8"
             ],
             [
              0.3333333333333333,
              "#9c179e"
             ],
             [
              0.4444444444444444,
              "#bd3786"
             ],
             [
              0.5555555555555556,
              "#d8576b"
             ],
             [
              0.6666666666666666,
              "#ed7953"
             ],
             [
              0.7777777777777778,
              "#fb9f3a"
             ],
             [
              0.8888888888888888,
              "#fdca26"
             ],
             [
              1,
              "#f0f921"
             ]
            ],
            "type": "heatmapgl"
           }
          ],
          "histogram": [
           {
            "marker": {
             "colorbar": {
              "outlinewidth": 0,
              "ticks": ""
             }
            },
            "type": "histogram"
           }
          ],
          "histogram2d": [
           {
            "colorbar": {
             "outlinewidth": 0,
             "ticks": ""
            },
            "colorscale": [
             [
              0,
              "#0d0887"
             ],
             [
              0.1111111111111111,
              "#46039f"
             ],
             [
              0.2222222222222222,
              "#7201a8"
             ],
             [
              0.3333333333333333,
              "#9c179e"
             ],
             [
              0.4444444444444444,
              "#bd3786"
             ],
             [
              0.5555555555555556,
              "#d8576b"
             ],
             [
              0.6666666666666666,
              "#ed7953"
             ],
             [
              0.7777777777777778,
              "#fb9f3a"
             ],
             [
              0.8888888888888888,
              "#fdca26"
             ],
             [
              1,
              "#f0f921"
             ]
            ],
            "type": "histogram2d"
           }
          ],
          "histogram2dcontour": [
           {
            "colorbar": {
             "outlinewidth": 0,
             "ticks": ""
            },
            "colorscale": [
             [
              0,
              "#0d0887"
             ],
             [
              0.1111111111111111,
              "#46039f"
             ],
             [
              0.2222222222222222,
              "#7201a8"
             ],
             [
              0.3333333333333333,
              "#9c179e"
             ],
             [
              0.4444444444444444,
              "#bd3786"
             ],
             [
              0.5555555555555556,
              "#d8576b"
             ],
             [
              0.6666666666666666,
              "#ed7953"
             ],
             [
              0.7777777777777778,
              "#fb9f3a"
             ],
             [
              0.8888888888888888,
              "#fdca26"
             ],
             [
              1,
              "#f0f921"
             ]
            ],
            "type": "histogram2dcontour"
           }
          ],
          "mesh3d": [
           {
            "colorbar": {
             "outlinewidth": 0,
             "ticks": ""
            },
            "type": "mesh3d"
           }
          ],
          "parcoords": [
           {
            "line": {
             "colorbar": {
              "outlinewidth": 0,
              "ticks": ""
             }
            },
            "type": "parcoords"
           }
          ],
          "pie": [
           {
            "automargin": true,
            "type": "pie"
           }
          ],
          "scatter": [
           {
            "marker": {
             "colorbar": {
              "outlinewidth": 0,
              "ticks": ""
             }
            },
            "type": "scatter"
           }
          ],
          "scatter3d": [
           {
            "line": {
             "colorbar": {
              "outlinewidth": 0,
              "ticks": ""
             }
            },
            "marker": {
             "colorbar": {
              "outlinewidth": 0,
              "ticks": ""
             }
            },
            "type": "scatter3d"
           }
          ],
          "scattercarpet": [
           {
            "marker": {
             "colorbar": {
              "outlinewidth": 0,
              "ticks": ""
             }
            },
            "type": "scattercarpet"
           }
          ],
          "scattergeo": [
           {
            "marker": {
             "colorbar": {
              "outlinewidth": 0,
              "ticks": ""
             }
            },
            "type": "scattergeo"
           }
          ],
          "scattergl": [
           {
            "marker": {
             "colorbar": {
              "outlinewidth": 0,
              "ticks": ""
             }
            },
            "type": "scattergl"
           }
          ],
          "scattermapbox": [
           {
            "marker": {
             "colorbar": {
              "outlinewidth": 0,
              "ticks": ""
             }
            },
            "type": "scattermapbox"
           }
          ],
          "scatterpolar": [
           {
            "marker": {
             "colorbar": {
              "outlinewidth": 0,
              "ticks": ""
             }
            },
            "type": "scatterpolar"
           }
          ],
          "scatterpolargl": [
           {
            "marker": {
             "colorbar": {
              "outlinewidth": 0,
              "ticks": ""
             }
            },
            "type": "scatterpolargl"
           }
          ],
          "scatterternary": [
           {
            "marker": {
             "colorbar": {
              "outlinewidth": 0,
              "ticks": ""
             }
            },
            "type": "scatterternary"
           }
          ],
          "surface": [
           {
            "colorbar": {
             "outlinewidth": 0,
             "ticks": ""
            },
            "colorscale": [
             [
              0,
              "#0d0887"
             ],
             [
              0.1111111111111111,
              "#46039f"
             ],
             [
              0.2222222222222222,
              "#7201a8"
             ],
             [
              0.3333333333333333,
              "#9c179e"
             ],
             [
              0.4444444444444444,
              "#bd3786"
             ],
             [
              0.5555555555555556,
              "#d8576b"
             ],
             [
              0.6666666666666666,
              "#ed7953"
             ],
             [
              0.7777777777777778,
              "#fb9f3a"
             ],
             [
              0.8888888888888888,
              "#fdca26"
             ],
             [
              1,
              "#f0f921"
             ]
            ],
            "type": "surface"
           }
          ],
          "table": [
           {
            "cells": {
             "fill": {
              "color": "#EBF0F8"
             },
             "line": {
              "color": "white"
             }
            },
            "header": {
             "fill": {
              "color": "#C8D4E3"
             },
             "line": {
              "color": "white"
             }
            },
            "type": "table"
           }
          ]
         },
         "layout": {
          "annotationdefaults": {
           "arrowcolor": "#2a3f5f",
           "arrowhead": 0,
           "arrowwidth": 1
          },
          "coloraxis": {
           "colorbar": {
            "outlinewidth": 0,
            "ticks": ""
           }
          },
          "colorscale": {
           "diverging": [
            [
             0,
             "#8e0152"
            ],
            [
             0.1,
             "#c51b7d"
            ],
            [
             0.2,
             "#de77ae"
            ],
            [
             0.3,
             "#f1b6da"
            ],
            [
             0.4,
             "#fde0ef"
            ],
            [
             0.5,
             "#f7f7f7"
            ],
            [
             0.6,
             "#e6f5d0"
            ],
            [
             0.7,
             "#b8e186"
            ],
            [
             0.8,
             "#7fbc41"
            ],
            [
             0.9,
             "#4d9221"
            ],
            [
             1,
             "#276419"
            ]
           ],
           "sequential": [
            [
             0,
             "#0d0887"
            ],
            [
             0.1111111111111111,
             "#46039f"
            ],
            [
             0.2222222222222222,
             "#7201a8"
            ],
            [
             0.3333333333333333,
             "#9c179e"
            ],
            [
             0.4444444444444444,
             "#bd3786"
            ],
            [
             0.5555555555555556,
             "#d8576b"
            ],
            [
             0.6666666666666666,
             "#ed7953"
            ],
            [
             0.7777777777777778,
             "#fb9f3a"
            ],
            [
             0.8888888888888888,
             "#fdca26"
            ],
            [
             1,
             "#f0f921"
            ]
           ],
           "sequentialminus": [
            [
             0,
             "#0d0887"
            ],
            [
             0.1111111111111111,
             "#46039f"
            ],
            [
             0.2222222222222222,
             "#7201a8"
            ],
            [
             0.3333333333333333,
             "#9c179e"
            ],
            [
             0.4444444444444444,
             "#bd3786"
            ],
            [
             0.5555555555555556,
             "#d8576b"
            ],
            [
             0.6666666666666666,
             "#ed7953"
            ],
            [
             0.7777777777777778,
             "#fb9f3a"
            ],
            [
             0.8888888888888888,
             "#fdca26"
            ],
            [
             1,
             "#f0f921"
            ]
           ]
          },
          "colorway": [
           "#636efa",
           "#EF553B",
           "#00cc96",
           "#ab63fa",
           "#FFA15A",
           "#19d3f3",
           "#FF6692",
           "#B6E880",
           "#FF97FF",
           "#FECB52"
          ],
          "font": {
           "color": "#2a3f5f"
          },
          "geo": {
           "bgcolor": "white",
           "lakecolor": "white",
           "landcolor": "#E5ECF6",
           "showlakes": true,
           "showland": true,
           "subunitcolor": "white"
          },
          "hoverlabel": {
           "align": "left"
          },
          "hovermode": "closest",
          "mapbox": {
           "style": "light"
          },
          "paper_bgcolor": "white",
          "plot_bgcolor": "#E5ECF6",
          "polar": {
           "angularaxis": {
            "gridcolor": "white",
            "linecolor": "white",
            "ticks": ""
           },
           "bgcolor": "#E5ECF6",
           "radialaxis": {
            "gridcolor": "white",
            "linecolor": "white",
            "ticks": ""
           }
          },
          "scene": {
           "xaxis": {
            "backgroundcolor": "#E5ECF6",
            "gridcolor": "white",
            "gridwidth": 2,
            "linecolor": "white",
            "showbackground": true,
            "ticks": "",
            "zerolinecolor": "white"
           },
           "yaxis": {
            "backgroundcolor": "#E5ECF6",
            "gridcolor": "white",
            "gridwidth": 2,
            "linecolor": "white",
            "showbackground": true,
            "ticks": "",
            "zerolinecolor": "white"
           },
           "zaxis": {
            "backgroundcolor": "#E5ECF6",
            "gridcolor": "white",
            "gridwidth": 2,
            "linecolor": "white",
            "showbackground": true,
            "ticks": "",
            "zerolinecolor": "white"
           }
          },
          "shapedefaults": {
           "line": {
            "color": "#2a3f5f"
           }
          },
          "ternary": {
           "aaxis": {
            "gridcolor": "white",
            "linecolor": "white",
            "ticks": ""
           },
           "baxis": {
            "gridcolor": "white",
            "linecolor": "white",
            "ticks": ""
           },
           "bgcolor": "#E5ECF6",
           "caxis": {
            "gridcolor": "white",
            "linecolor": "white",
            "ticks": ""
           }
          },
          "title": {
           "x": 0.05
          },
          "xaxis": {
           "automargin": true,
           "gridcolor": "white",
           "linecolor": "white",
           "ticks": "",
           "title": {
            "standoff": 15
           },
           "zerolinecolor": "white",
           "zerolinewidth": 2
          },
          "yaxis": {
           "automargin": true,
           "gridcolor": "white",
           "linecolor": "white",
           "ticks": "",
           "title": {
            "standoff": 15
           },
           "zerolinecolor": "white",
           "zerolinewidth": 2
          }
         }
        },
        "title": {
         "font": {
          "color": "#4D5663"
         }
        },
        "xaxis": {
         "gridcolor": "#E1E5ED",
         "showgrid": true,
         "tickfont": {
          "color": "#4D5663"
         },
         "title": {
          "font": {
           "color": "#4D5663"
          },
          "text": ""
         },
         "zerolinecolor": "#E1E5ED"
        },
        "yaxis": {
         "gridcolor": "#E1E5ED",
         "showgrid": true,
         "tickfont": {
          "color": "#4D5663"
         },
         "title": {
          "font": {
           "color": "#4D5663"
          },
          "text": ""
         },
         "zerolinecolor": "#E1E5ED"
        }
       }
      },
      "text/html": [
       "<div>\n",
       "        \n",
       "        \n",
       "            <div id=\"d3796ed6-8967-40a3-9a8c-42b125263b6d\" class=\"plotly-graph-div\" style=\"height:525px; width:100%;\"></div>\n",
       "            <script type=\"text/javascript\">\n",
       "                require([\"plotly\"], function(Plotly) {\n",
       "                    window.PLOTLYENV=window.PLOTLYENV || {};\n",
       "                    window.PLOTLYENV.BASE_URL='https://plot.ly';\n",
       "                    \n",
       "                if (document.getElementById(\"d3796ed6-8967-40a3-9a8c-42b125263b6d\")) {\n",
       "                    Plotly.newPlot(\n",
       "                        'd3796ed6-8967-40a3-9a8c-42b125263b6d',\n",
       "                        [{\"boxpoints\": false, \"line\": {\"width\": 1.3}, \"marker\": {\"color\": \"rgba(255, 153, 51, 1.0)\"}, \"name\": \"A\", \"orientation\": \"v\", \"type\": \"box\", \"y\": [0.3366253685910652, -0.8152962615269359, -2.057094167945235, -1.9541343699683842, 0.6350471693898226, 1.3393854246577892, -0.1664414930804797, 0.895126799501226, 0.3292560346097866, -1.5232703639541971, 0.9186446530754513, -0.10771866432911681, -0.24430106447414054, -0.20619549803399442, -0.07496398303253174, -1.1351977435845633, -0.34138973113653054, -0.6892752596721525, -1.5434768318213519, -0.374012762351043, 0.331761227479903, 0.3694659922847097, 0.15913472597883468, -0.9720134165835317, -0.2171894606425676, 0.6258869651944907, -1.2141991773722172, -0.6888312027759299, -1.196606260086114, 1.9171614028912838, -0.8197494317490756, 0.8442744914994555, -0.5354476373949394, -0.13940235912023516, -0.3440487361566797, 0.5847650737857164, -0.20452714135063474, -0.4734153008931332, 0.1525789505851457, 0.15943923195430232, -1.5712599479287583, 0.7302450600457806, -0.5281471269177707, 0.7841689237674179, 1.6847993459208428, 1.0781584592306386, -0.6148700589748657, 0.1356051706983451, -0.7880479114057856, 0.47949379874479436, -0.02441032028762437, -0.07437076244591963, 0.9467680138425014, -0.014671024676162296, 1.782056184224774, 1.7164705123188548, 0.15299462841133046, 0.5526879640231437, -0.7347081734316098, 0.25652438606881317, -0.7714194110548964, -0.9549644235619681, -0.49660877894194355, 0.3252467140305092, -0.31637216864672113, 0.34308269591780455, 0.5282051548907043, -1.1319743118881591, -0.2893859807681463, -0.6601340495579393, -1.0138335460436667, -1.6563261279034838, 0.7256724241953929, -0.11334824786137546, -0.8002763540209177, 0.7867076095020186, 0.4384288714386092, -0.3947589854358734, 0.9062235669638437, 0.8196800251334179, -1.2539062476924414, -0.20130480834260286, -0.12443864472378685, 0.04688882347637687, 1.5337275539272255, 1.982488741300852, -1.1953722916405798, 0.6410983225048137, 0.805785032541812, 0.3932603773541811, -0.6453067879032107, 1.4760578266825994, -0.3594032836309028, 0.9480512342548622, -0.18928712523705382, -0.8481750065845147, 0.4932182939235028, 0.7869080942142737, -1.2665836193117346, -0.1648699611042843]}, {\"boxpoints\": false, \"line\": {\"width\": 1.3}, \"marker\": {\"color\": \"rgba(55, 128, 191, 1.0)\"}, \"name\": \"B\", \"orientation\": \"v\", \"type\": \"box\", \"y\": [0.043697341410055664, -1.581436693250505, -1.1115696532210644, -0.5698372836913742, -0.02175389139025899, 0.20260576800273525, 0.791740809273046, 1.3392918747893074, 1.7094803759461192, -2.1379210460183957, -0.07225248650834998, -0.9680086419210548, -0.7083553580314013, 0.973036553547053, 0.6590668117012048, 1.7945342742941552, -0.37518385884804895, 2.107867503689684, 0.742223919259543, -0.9161352194947348, -0.625680464700169, 0.6149028780151503, 0.20293727221135938, -0.06756211935173426, 0.5599385792540977, -0.018063441547951798, 1.0904145182977474, 0.1634388508574048, -0.4931740987536183, -0.6676426208786932, -0.11668102711351185, 0.43121144208387313, -0.1257312590901729, 0.46198432695848557, -0.6439750877139889, 1.3245655646623755, -0.980281342799237, -0.47560336976440476, 0.5015220699951991, 0.6051219350616727, 2.048607451883618, 1.261448986561181, -0.6979944782298741, -0.6143734098828072, -1.7754911385000327, -2.5384857323716385, 1.6392145910633855, -1.4820642874699732, 0.5844190880860396, -0.9436681757156312, -0.6503532338456608, 1.9604123865081746, -1.2156684870760122, 1.7823659197142776, -1.2201866924836282, -0.8602765774469655, 0.4429230638355957, -1.2834305270149287, -0.25170583685474396, 0.6830253659792884, -1.435437310811144, -0.6010432945513375, -0.759550451675055, 0.5494279717404709, -2.601816346142572, -1.4347716877088044, -1.5063832342771595, 1.030878804194865, -0.05143590109769036, -0.16272027060819982, 0.08748232879602544, 0.6301069551469266, -1.3863205154859544, -1.638235833577776, -0.7425171354610364, 0.5881594362154489, -0.9543717077207359, -0.3174249771099468, 0.7827350703006383, 0.45058167180313485, 0.6632662170891702, 1.561964675359686, 0.15404556879730338, 0.08133174112869458, 0.23151390026575197, 0.5024442630469539, 1.2852188126317763, 1.8971364510299469, -0.7424065437024872, 0.25959933392610635, -0.2612537670966083, -0.17573342825713237, 0.6960917629912512, -0.2709490068825894, -0.22219577815518834, -0.6442948098061319, -0.9700610554833162, -0.2098202139951793, -0.8736514829147257, 0.46721323100953]}, {\"boxpoints\": false, \"line\": {\"width\": 1.3}, \"marker\": {\"color\": \"rgba(50, 171, 96, 1.0)\"}, \"name\": \"C\", \"orientation\": \"v\", \"type\": \"box\", \"y\": [0.04255381567537707, 0.046175923091871234, 1.4945526874734125, 2.0499505428395746, 0.35966706199617965, -0.0949271207524387, 0.6715251925041402, 0.6505611657188639, -0.333791417315038, 0.6802181420716225, -0.1871999136371795, 0.2697796011413888, -3.248413972061903, 0.9463869332128763, 0.4428394796224026, 0.9700189283405273, -0.690686931614203, 0.7024769150134029, 0.4164675466761889, -1.3013787977107742, -0.4383056029475472, -0.04120214401387803, 0.006749146217790606, -1.3130658543473204, -0.784226920233521, -0.5850973808915845, 0.5964125586372435, 0.07325798840521612, 0.7099964372805259, -0.3399487988844456, 1.1496742564620555, 1.6041272692387103, -1.601718155678675, -1.2413029379413267, 0.1497112736217552, 1.0853822331144833, 0.8383176374572543, -0.8640249954026039, 0.5215788938261666, -0.7681135353649741, -0.7225439926636898, 0.21198722295013459, 1.2983818234618332, -1.209332311380756, -1.0830682811521244, 0.5795800665901155, 0.010675912765416082, 1.153142052228595, -0.7844022321525719, -0.6615128381366681, -1.498884001979212, -1.520167780297197, -1.4735451999570175, -1.0842158068538486, -0.986167046762502, -1.2754228210260172, -0.10746292903972071, -1.065675576219357, -0.6185221279367109, 0.08272834582303598, -0.7075774211322811, 0.26278843922419387, 0.9276966171843064, -0.7442440418530465, -0.054698231086657535, -1.8054104778947602, -0.2995097686537457, 0.30350328394916304, -0.9708332249757549, 0.11067603405991755, -0.876759636086438, 1.3187269643477046, -1.7300516743601386, -0.7101342872651458, -0.13836495264228366, 1.1619196815883095, -1.032567904922605, -0.5062474182999148, 0.6143148176969475, -1.202896468711915, -2.41232766945248, -0.7388021103883274, 0.3380031501494933, -0.287687012437793, 2.312571964503006, 0.26062843201780966, 0.4893737656897665, -0.5670704810079203, 0.09294294448609702, -2.745539243741952, -0.365154492063901, -0.43082513293274993, 0.924853093376854, 0.0592808007496384, 0.7822802790361943, -2.0210347926832934, -0.4350931190868809, 0.9033125340616334, -0.28063414814338855, -1.9096697038970083]}, {\"boxpoints\": false, \"line\": {\"width\": 1.3}, \"marker\": {\"color\": \"rgba(128, 0, 128, 1.0)\"}, \"name\": \"D\", \"orientation\": \"v\", \"type\": \"box\", \"y\": [-0.638103274970272, -0.4516573544754162, 0.5078205297139559, 0.4738191424325633, -0.42937902895524394, -0.7220933525095943, 1.2769289696614359, -0.8056130983796184, 0.26795308834055565, 0.7946503656255284, 1.7508516378797359, -1.7808971763545731, 1.10089601850168, 0.9863501646697367, 0.26369484785855074, -0.4420793544967146, 2.3928736846920877, -1.2873048580671396, 1.7650516257789794, -0.5124464260123467, 1.015744317758713, -1.1973771315402644, 0.40564749635003033, 0.12353401623427175, 3.4892219766978765, 0.7400356604684535, 1.5737948395296713, 1.2155227497209096, -0.7578777685518293, 0.21838270714850308, 0.2906017401905688, -0.09274318392091023, -0.08501365107773047, -1.9169242415553993, 0.6354044556758225, -0.9085822695369786, -0.8099317241044525, 1.1006357530970599, -1.5023856122214094, -0.22154845805343645, -1.3408905430243676, -0.6999698546878313, 0.6462981556258707, -2.004558345319722, 1.4165772372655763, -1.703319528829284, 0.008928166879526484, -1.342371253815068, 1.5922173966646591, -0.7222781192097324, -1.388599809920899, -0.04048973483372441, 0.26498547150741, -1.0862955174970992, 1.794238525111512, -0.10798386115262665, 0.5965408575811325, -0.8897361713533402, 0.07830855366464426, -0.44740813006892227, 0.4347288461875099, 0.5038059212723521, 0.5793219642977636, 0.17524437803870738, 0.7209257879842977, 0.053698688851731964, -0.48737598538986593, 1.2987634408369853, 1.6451312081981426, 0.39923952372038357, -1.7777297943408932, -0.6906817131199058, 0.2526344979303035, -1.4043339844543148, 0.7727439685302119, 1.36004424424199, -0.7878049258801506, -1.2352340376726214, 0.8593006388571304, 0.6551972093723268, -0.8944068398109183, 0.38982543354751537, -0.20833527014003578, 0.7755650713361901, -0.8313071909579461, -0.2692403325632571, 1.6295625223072496, 0.42604675267042164, 0.9135562114108622, 1.9738901055730302, 1.6080025335225183, 0.18039384816335158, 0.1369333208126082, 0.5535303225602813, 0.19182761336966878, -0.6284149427013865, 1.6000310506883364, 0.6638289795262313, 1.067503794244087, 1.125376634490109]}],\n",
       "                        {\"legend\": {\"bgcolor\": \"#F5F6F9\", \"font\": {\"color\": \"#4D5663\"}}, \"paper_bgcolor\": \"#F5F6F9\", \"plot_bgcolor\": \"#F5F6F9\", \"template\": {\"data\": {\"bar\": [{\"error_x\": {\"color\": \"#2a3f5f\"}, \"error_y\": {\"color\": \"#2a3f5f\"}, \"marker\": {\"line\": {\"color\": \"#E5ECF6\", \"width\": 0.5}}, \"type\": \"bar\"}], \"barpolar\": [{\"marker\": {\"line\": {\"color\": \"#E5ECF6\", \"width\": 0.5}}, \"type\": \"barpolar\"}], \"carpet\": [{\"aaxis\": {\"endlinecolor\": \"#2a3f5f\", \"gridcolor\": \"white\", \"linecolor\": \"white\", \"minorgridcolor\": \"white\", \"startlinecolor\": \"#2a3f5f\"}, \"baxis\": {\"endlinecolor\": \"#2a3f5f\", \"gridcolor\": \"white\", \"linecolor\": \"white\", \"minorgridcolor\": \"white\", \"startlinecolor\": \"#2a3f5f\"}, \"type\": \"carpet\"}], \"choropleth\": [{\"colorbar\": {\"outlinewidth\": 0, \"ticks\": \"\"}, \"type\": \"choropleth\"}], \"contour\": [{\"colorbar\": {\"outlinewidth\": 0, \"ticks\": \"\"}, \"colorscale\": [[0.0, \"#0d0887\"], [0.1111111111111111, \"#46039f\"], [0.2222222222222222, \"#7201a8\"], [0.3333333333333333, \"#9c179e\"], [0.4444444444444444, \"#bd3786\"], [0.5555555555555556, \"#d8576b\"], [0.6666666666666666, \"#ed7953\"], [0.7777777777777778, \"#fb9f3a\"], [0.8888888888888888, \"#fdca26\"], [1.0, \"#f0f921\"]], \"type\": \"contour\"}], \"contourcarpet\": [{\"colorbar\": {\"outlinewidth\": 0, \"ticks\": \"\"}, \"type\": \"contourcarpet\"}], \"heatmap\": [{\"colorbar\": {\"outlinewidth\": 0, \"ticks\": \"\"}, \"colorscale\": [[0.0, \"#0d0887\"], [0.1111111111111111, \"#46039f\"], [0.2222222222222222, \"#7201a8\"], [0.3333333333333333, \"#9c179e\"], [0.4444444444444444, \"#bd3786\"], [0.5555555555555556, \"#d8576b\"], [0.6666666666666666, \"#ed7953\"], [0.7777777777777778, \"#fb9f3a\"], [0.8888888888888888, \"#fdca26\"], [1.0, \"#f0f921\"]], \"type\": \"heatmap\"}], \"heatmapgl\": [{\"colorbar\": {\"outlinewidth\": 0, \"ticks\": \"\"}, \"colorscale\": [[0.0, \"#0d0887\"], [0.1111111111111111, \"#46039f\"], [0.2222222222222222, \"#7201a8\"], [0.3333333333333333, \"#9c179e\"], [0.4444444444444444, \"#bd3786\"], [0.5555555555555556, \"#d8576b\"], [0.6666666666666666, \"#ed7953\"], [0.7777777777777778, \"#fb9f3a\"], [0.8888888888888888, \"#fdca26\"], [1.0, \"#f0f921\"]], \"type\": \"heatmapgl\"}], \"histogram\": [{\"marker\": {\"colorbar\": {\"outlinewidth\": 0, \"ticks\": \"\"}}, \"type\": \"histogram\"}], \"histogram2d\": [{\"colorbar\": {\"outlinewidth\": 0, \"ticks\": \"\"}, \"colorscale\": [[0.0, \"#0d0887\"], [0.1111111111111111, \"#46039f\"], [0.2222222222222222, \"#7201a8\"], [0.3333333333333333, \"#9c179e\"], [0.4444444444444444, \"#bd3786\"], [0.5555555555555556, \"#d8576b\"], [0.6666666666666666, \"#ed7953\"], [0.7777777777777778, \"#fb9f3a\"], [0.8888888888888888, \"#fdca26\"], [1.0, \"#f0f921\"]], \"type\": \"histogram2d\"}], \"histogram2dcontour\": [{\"colorbar\": {\"outlinewidth\": 0, \"ticks\": \"\"}, \"colorscale\": [[0.0, \"#0d0887\"], [0.1111111111111111, \"#46039f\"], [0.2222222222222222, \"#7201a8\"], [0.3333333333333333, \"#9c179e\"], [0.4444444444444444, \"#bd3786\"], [0.5555555555555556, \"#d8576b\"], [0.6666666666666666, \"#ed7953\"], [0.7777777777777778, \"#fb9f3a\"], [0.8888888888888888, \"#fdca26\"], [1.0, \"#f0f921\"]], \"type\": \"histogram2dcontour\"}], \"mesh3d\": [{\"colorbar\": {\"outlinewidth\": 0, \"ticks\": \"\"}, \"type\": \"mesh3d\"}], \"parcoords\": [{\"line\": {\"colorbar\": {\"outlinewidth\": 0, \"ticks\": \"\"}}, \"type\": \"parcoords\"}], \"pie\": [{\"automargin\": true, \"type\": \"pie\"}], \"scatter\": [{\"marker\": {\"colorbar\": {\"outlinewidth\": 0, \"ticks\": \"\"}}, \"type\": \"scatter\"}], \"scatter3d\": [{\"line\": {\"colorbar\": {\"outlinewidth\": 0, \"ticks\": \"\"}}, \"marker\": {\"colorbar\": {\"outlinewidth\": 0, \"ticks\": \"\"}}, \"type\": \"scatter3d\"}], \"scattercarpet\": [{\"marker\": {\"colorbar\": {\"outlinewidth\": 0, \"ticks\": \"\"}}, \"type\": \"scattercarpet\"}], \"scattergeo\": [{\"marker\": {\"colorbar\": {\"outlinewidth\": 0, \"ticks\": \"\"}}, \"type\": \"scattergeo\"}], \"scattergl\": [{\"marker\": {\"colorbar\": {\"outlinewidth\": 0, \"ticks\": \"\"}}, \"type\": \"scattergl\"}], \"scattermapbox\": [{\"marker\": {\"colorbar\": {\"outlinewidth\": 0, \"ticks\": \"\"}}, \"type\": \"scattermapbox\"}], \"scatterpolar\": [{\"marker\": {\"colorbar\": {\"outlinewidth\": 0, \"ticks\": \"\"}}, \"type\": \"scatterpolar\"}], \"scatterpolargl\": [{\"marker\": {\"colorbar\": {\"outlinewidth\": 0, \"ticks\": \"\"}}, \"type\": \"scatterpolargl\"}], \"scatterternary\": [{\"marker\": {\"colorbar\": {\"outlinewidth\": 0, \"ticks\": \"\"}}, \"type\": \"scatterternary\"}], \"surface\": [{\"colorbar\": {\"outlinewidth\": 0, \"ticks\": \"\"}, \"colorscale\": [[0.0, \"#0d0887\"], [0.1111111111111111, \"#46039f\"], [0.2222222222222222, \"#7201a8\"], [0.3333333333333333, \"#9c179e\"], [0.4444444444444444, \"#bd3786\"], [0.5555555555555556, \"#d8576b\"], [0.6666666666666666, \"#ed7953\"], [0.7777777777777778, \"#fb9f3a\"], [0.8888888888888888, \"#fdca26\"], [1.0, \"#f0f921\"]], \"type\": \"surface\"}], \"table\": [{\"cells\": {\"fill\": {\"color\": \"#EBF0F8\"}, \"line\": {\"color\": \"white\"}}, \"header\": {\"fill\": {\"color\": \"#C8D4E3\"}, \"line\": {\"color\": \"white\"}}, \"type\": \"table\"}]}, \"layout\": {\"annotationdefaults\": {\"arrowcolor\": \"#2a3f5f\", \"arrowhead\": 0, \"arrowwidth\": 1}, \"coloraxis\": {\"colorbar\": {\"outlinewidth\": 0, \"ticks\": \"\"}}, \"colorscale\": {\"diverging\": [[0, \"#8e0152\"], [0.1, \"#c51b7d\"], [0.2, \"#de77ae\"], [0.3, \"#f1b6da\"], [0.4, \"#fde0ef\"], [0.5, \"#f7f7f7\"], [0.6, \"#e6f5d0\"], [0.7, \"#b8e186\"], [0.8, \"#7fbc41\"], [0.9, \"#4d9221\"], [1, \"#276419\"]], \"sequential\": [[0.0, \"#0d0887\"], [0.1111111111111111, \"#46039f\"], [0.2222222222222222, \"#7201a8\"], [0.3333333333333333, \"#9c179e\"], [0.4444444444444444, \"#bd3786\"], [0.5555555555555556, \"#d8576b\"], [0.6666666666666666, \"#ed7953\"], [0.7777777777777778, \"#fb9f3a\"], [0.8888888888888888, \"#fdca26\"], [1.0, \"#f0f921\"]], \"sequentialminus\": [[0.0, \"#0d0887\"], [0.1111111111111111, \"#46039f\"], [0.2222222222222222, \"#7201a8\"], [0.3333333333333333, \"#9c179e\"], [0.4444444444444444, \"#bd3786\"], [0.5555555555555556, \"#d8576b\"], [0.6666666666666666, \"#ed7953\"], [0.7777777777777778, \"#fb9f3a\"], [0.8888888888888888, \"#fdca26\"], [1.0, \"#f0f921\"]]}, \"colorway\": [\"#636efa\", \"#EF553B\", \"#00cc96\", \"#ab63fa\", \"#FFA15A\", \"#19d3f3\", \"#FF6692\", \"#B6E880\", \"#FF97FF\", \"#FECB52\"], \"font\": {\"color\": \"#2a3f5f\"}, \"geo\": {\"bgcolor\": \"white\", \"lakecolor\": \"white\", \"landcolor\": \"#E5ECF6\", \"showlakes\": true, \"showland\": true, \"subunitcolor\": \"white\"}, \"hoverlabel\": {\"align\": \"left\"}, \"hovermode\": \"closest\", \"mapbox\": {\"style\": \"light\"}, \"paper_bgcolor\": \"white\", \"plot_bgcolor\": \"#E5ECF6\", \"polar\": {\"angularaxis\": {\"gridcolor\": \"white\", \"linecolor\": \"white\", \"ticks\": \"\"}, \"bgcolor\": \"#E5ECF6\", \"radialaxis\": {\"gridcolor\": \"white\", \"linecolor\": \"white\", \"ticks\": \"\"}}, \"scene\": {\"xaxis\": {\"backgroundcolor\": \"#E5ECF6\", \"gridcolor\": \"white\", \"gridwidth\": 2, \"linecolor\": \"white\", \"showbackground\": true, \"ticks\": \"\", \"zerolinecolor\": \"white\"}, \"yaxis\": {\"backgroundcolor\": \"#E5ECF6\", \"gridcolor\": \"white\", \"gridwidth\": 2, \"linecolor\": \"white\", \"showbackground\": true, \"ticks\": \"\", \"zerolinecolor\": \"white\"}, \"zaxis\": {\"backgroundcolor\": \"#E5ECF6\", \"gridcolor\": \"white\", \"gridwidth\": 2, \"linecolor\": \"white\", \"showbackground\": true, \"ticks\": \"\", \"zerolinecolor\": \"white\"}}, \"shapedefaults\": {\"line\": {\"color\": \"#2a3f5f\"}}, \"ternary\": {\"aaxis\": {\"gridcolor\": \"white\", \"linecolor\": \"white\", \"ticks\": \"\"}, \"baxis\": {\"gridcolor\": \"white\", \"linecolor\": \"white\", \"ticks\": \"\"}, \"bgcolor\": \"#E5ECF6\", \"caxis\": {\"gridcolor\": \"white\", \"linecolor\": \"white\", \"ticks\": \"\"}}, \"title\": {\"x\": 0.05}, \"xaxis\": {\"automargin\": true, \"gridcolor\": \"white\", \"linecolor\": \"white\", \"ticks\": \"\", \"title\": {\"standoff\": 15}, \"zerolinecolor\": \"white\", \"zerolinewidth\": 2}, \"yaxis\": {\"automargin\": true, \"gridcolor\": \"white\", \"linecolor\": \"white\", \"ticks\": \"\", \"title\": {\"standoff\": 15}, \"zerolinecolor\": \"white\", \"zerolinewidth\": 2}}}, \"title\": {\"font\": {\"color\": \"#4D5663\"}}, \"xaxis\": {\"gridcolor\": \"#E1E5ED\", \"showgrid\": true, \"tickfont\": {\"color\": \"#4D5663\"}, \"title\": {\"font\": {\"color\": \"#4D5663\"}, \"text\": \"\"}, \"zerolinecolor\": \"#E1E5ED\"}, \"yaxis\": {\"gridcolor\": \"#E1E5ED\", \"showgrid\": true, \"tickfont\": {\"color\": \"#4D5663\"}, \"title\": {\"font\": {\"color\": \"#4D5663\"}, \"text\": \"\"}, \"zerolinecolor\": \"#E1E5ED\"}},\n",
       "                        {\"showLink\": true, \"linkText\": \"Export to plot.ly\", \"plotlyServerURL\": \"https://plot.ly\", \"responsive\": true}\n",
       "                    ).then(function(){\n",
       "                            \n",
       "var gd = document.getElementById('d3796ed6-8967-40a3-9a8c-42b125263b6d');\n",
       "var x = new MutationObserver(function (mutations, observer) {{\n",
       "        var display = window.getComputedStyle(gd).display;\n",
       "        if (!display || display === 'none') {{\n",
       "            console.log([gd, 'removed!']);\n",
       "            Plotly.purge(gd);\n",
       "            observer.disconnect();\n",
       "        }}\n",
       "}});\n",
       "\n",
       "// Listen for the removal of the full notebook cells\n",
       "var notebookContainer = gd.closest('#notebook-container');\n",
       "if (notebookContainer) {{\n",
       "    x.observe(notebookContainer, {childList: true});\n",
       "}}\n",
       "\n",
       "// Listen for the clearing of the current output cell\n",
       "var outputEl = gd.closest('.output');\n",
       "if (outputEl) {{\n",
       "    x.observe(outputEl, {childList: true});\n",
       "}}\n",
       "\n",
       "                        })\n",
       "                };\n",
       "                });\n",
       "            </script>\n",
       "        </div>"
      ]
     },
     "metadata": {},
     "output_type": "display_data"
    }
   ],
   "source": [
    "df.iplot(kind='box')"
   ]
  },
  {
   "cell_type": "markdown",
   "metadata": {},
   "source": [
    "## 3d Surface"
   ]
  },
  {
   "cell_type": "code",
   "execution_count": 17,
   "metadata": {
    "scrolled": true
   },
   "outputs": [
    {
     "data": {
      "application/vnd.plotly.v1+json": {
       "config": {
        "linkText": "Export to plot.ly",
        "plotlyServerURL": "https://plot.ly",
        "showLink": true
       },
       "data": [
        {
         "colorscale": [
          [
           0,
           "rgb(165,0,38)"
          ],
          [
           0.1,
           "rgb(215,48,39)"
          ],
          [
           0.2,
           "rgb(244,109,67)"
          ],
          [
           0.3,
           "rgb(253,174,97)"
          ],
          [
           0.4,
           "rgb(254,224,144)"
          ],
          [
           0.5,
           "rgb(255,255,191)"
          ],
          [
           0.6,
           "rgb(224,243,248)"
          ],
          [
           0.7,
           "rgb(171,217,233)"
          ],
          [
           0.8,
           "rgb(116,173,209)"
          ],
          [
           0.9,
           "rgb(69,117,180)"
          ],
          [
           1,
           "rgb(49,54,149)"
          ]
         ],
         "type": "surface",
         "x": [
          0,
          1,
          2,
          3,
          4
         ],
         "y": [
          "x",
          "y",
          "z"
         ],
         "z": [
          [
           1,
           2,
           3,
           4,
           5
          ],
          [
           10,
           20,
           30,
           20,
           10
          ],
          [
           5,
           4,
           3,
           2,
           1
          ]
         ]
        }
       ],
       "layout": {
        "legend": {
         "bgcolor": "#F5F6F9",
         "font": {
          "color": "#4D5663"
         }
        },
        "paper_bgcolor": "#F5F6F9",
        "plot_bgcolor": "#F5F6F9",
        "template": {
         "data": {
          "bar": [
           {
            "error_x": {
             "color": "#2a3f5f"
            },
            "error_y": {
             "color": "#2a3f5f"
            },
            "marker": {
             "line": {
              "color": "#E5ECF6",
              "width": 0.5
             }
            },
            "type": "bar"
           }
          ],
          "barpolar": [
           {
            "marker": {
             "line": {
              "color": "#E5ECF6",
              "width": 0.5
             }
            },
            "type": "barpolar"
           }
          ],
          "carpet": [
           {
            "aaxis": {
             "endlinecolor": "#2a3f5f",
             "gridcolor": "white",
             "linecolor": "white",
             "minorgridcolor": "white",
             "startlinecolor": "#2a3f5f"
            },
            "baxis": {
             "endlinecolor": "#2a3f5f",
             "gridcolor": "white",
             "linecolor": "white",
             "minorgridcolor": "white",
             "startlinecolor": "#2a3f5f"
            },
            "type": "carpet"
           }
          ],
          "choropleth": [
           {
            "colorbar": {
             "outlinewidth": 0,
             "ticks": ""
            },
            "type": "choropleth"
           }
          ],
          "contour": [
           {
            "colorbar": {
             "outlinewidth": 0,
             "ticks": ""
            },
            "colorscale": [
             [
              0,
              "#0d0887"
             ],
             [
              0.1111111111111111,
              "#46039f"
             ],
             [
              0.2222222222222222,
              "#7201a8"
             ],
             [
              0.3333333333333333,
              "#9c179e"
             ],
             [
              0.4444444444444444,
              "#bd3786"
             ],
             [
              0.5555555555555556,
              "#d8576b"
             ],
             [
              0.6666666666666666,
              "#ed7953"
             ],
             [
              0.7777777777777778,
              "#fb9f3a"
             ],
             [
              0.8888888888888888,
              "#fdca26"
             ],
             [
              1,
              "#f0f921"
             ]
            ],
            "type": "contour"
           }
          ],
          "contourcarpet": [
           {
            "colorbar": {
             "outlinewidth": 0,
             "ticks": ""
            },
            "type": "contourcarpet"
           }
          ],
          "heatmap": [
           {
            "colorbar": {
             "outlinewidth": 0,
             "ticks": ""
            },
            "colorscale": [
             [
              0,
              "#0d0887"
             ],
             [
              0.1111111111111111,
              "#46039f"
             ],
             [
              0.2222222222222222,
              "#7201a8"
             ],
             [
              0.3333333333333333,
              "#9c179e"
             ],
             [
              0.4444444444444444,
              "#bd3786"
             ],
             [
              0.5555555555555556,
              "#d8576b"
             ],
             [
              0.6666666666666666,
              "#ed7953"
             ],
             [
              0.7777777777777778,
              "#fb9f3a"
             ],
             [
              0.8888888888888888,
              "#fdca26"
             ],
             [
              1,
              "#f0f921"
             ]
            ],
            "type": "heatmap"
           }
          ],
          "heatmapgl": [
           {
            "colorbar": {
             "outlinewidth": 0,
             "ticks": ""
            },
            "colorscale": [
             [
              0,
              "#0d0887"
             ],
             [
              0.1111111111111111,
              "#46039f"
             ],
             [
              0.2222222222222222,
              "#7201a8"
             ],
             [
              0.3333333333333333,
              "#9c179e"
             ],
             [
              0.4444444444444444,
              "#bd3786"
             ],
             [
              0.5555555555555556,
              "#d8576b"
             ],
             [
              0.6666666666666666,
              "#ed7953"
             ],
             [
              0.7777777777777778,
              "#fb9f3a"
             ],
             [
              0.8888888888888888,
              "#fdca26"
             ],
             [
              1,
              "#f0f921"
             ]
            ],
            "type": "heatmapgl"
           }
          ],
          "histogram": [
           {
            "marker": {
             "colorbar": {
              "outlinewidth": 0,
              "ticks": ""
             }
            },
            "type": "histogram"
           }
          ],
          "histogram2d": [
           {
            "colorbar": {
             "outlinewidth": 0,
             "ticks": ""
            },
            "colorscale": [
             [
              0,
              "#0d0887"
             ],
             [
              0.1111111111111111,
              "#46039f"
             ],
             [
              0.2222222222222222,
              "#7201a8"
             ],
             [
              0.3333333333333333,
              "#9c179e"
             ],
             [
              0.4444444444444444,
              "#bd3786"
             ],
             [
              0.5555555555555556,
              "#d8576b"
             ],
             [
              0.6666666666666666,
              "#ed7953"
             ],
             [
              0.7777777777777778,
              "#fb9f3a"
             ],
             [
              0.8888888888888888,
              "#fdca26"
             ],
             [
              1,
              "#f0f921"
             ]
            ],
            "type": "histogram2d"
           }
          ],
          "histogram2dcontour": [
           {
            "colorbar": {
             "outlinewidth": 0,
             "ticks": ""
            },
            "colorscale": [
             [
              0,
              "#0d0887"
             ],
             [
              0.1111111111111111,
              "#46039f"
             ],
             [
              0.2222222222222222,
              "#7201a8"
             ],
             [
              0.3333333333333333,
              "#9c179e"
             ],
             [
              0.4444444444444444,
              "#bd3786"
             ],
             [
              0.5555555555555556,
              "#d8576b"
             ],
             [
              0.6666666666666666,
              "#ed7953"
             ],
             [
              0.7777777777777778,
              "#fb9f3a"
             ],
             [
              0.8888888888888888,
              "#fdca26"
             ],
             [
              1,
              "#f0f921"
             ]
            ],
            "type": "histogram2dcontour"
           }
          ],
          "mesh3d": [
           {
            "colorbar": {
             "outlinewidth": 0,
             "ticks": ""
            },
            "type": "mesh3d"
           }
          ],
          "parcoords": [
           {
            "line": {
             "colorbar": {
              "outlinewidth": 0,
              "ticks": ""
             }
            },
            "type": "parcoords"
           }
          ],
          "pie": [
           {
            "automargin": true,
            "type": "pie"
           }
          ],
          "scatter": [
           {
            "marker": {
             "colorbar": {
              "outlinewidth": 0,
              "ticks": ""
             }
            },
            "type": "scatter"
           }
          ],
          "scatter3d": [
           {
            "line": {
             "colorbar": {
              "outlinewidth": 0,
              "ticks": ""
             }
            },
            "marker": {
             "colorbar": {
              "outlinewidth": 0,
              "ticks": ""
             }
            },
            "type": "scatter3d"
           }
          ],
          "scattercarpet": [
           {
            "marker": {
             "colorbar": {
              "outlinewidth": 0,
              "ticks": ""
             }
            },
            "type": "scattercarpet"
           }
          ],
          "scattergeo": [
           {
            "marker": {
             "colorbar": {
              "outlinewidth": 0,
              "ticks": ""
             }
            },
            "type": "scattergeo"
           }
          ],
          "scattergl": [
           {
            "marker": {
             "colorbar": {
              "outlinewidth": 0,
              "ticks": ""
             }
            },
            "type": "scattergl"
           }
          ],
          "scattermapbox": [
           {
            "marker": {
             "colorbar": {
              "outlinewidth": 0,
              "ticks": ""
             }
            },
            "type": "scattermapbox"
           }
          ],
          "scatterpolar": [
           {
            "marker": {
             "colorbar": {
              "outlinewidth": 0,
              "ticks": ""
             }
            },
            "type": "scatterpolar"
           }
          ],
          "scatterpolargl": [
           {
            "marker": {
             "colorbar": {
              "outlinewidth": 0,
              "ticks": ""
             }
            },
            "type": "scatterpolargl"
           }
          ],
          "scatterternary": [
           {
            "marker": {
             "colorbar": {
              "outlinewidth": 0,
              "ticks": ""
             }
            },
            "type": "scatterternary"
           }
          ],
          "surface": [
           {
            "colorbar": {
             "outlinewidth": 0,
             "ticks": ""
            },
            "colorscale": [
             [
              0,
              "#0d0887"
             ],
             [
              0.1111111111111111,
              "#46039f"
             ],
             [
              0.2222222222222222,
              "#7201a8"
             ],
             [
              0.3333333333333333,
              "#9c179e"
             ],
             [
              0.4444444444444444,
              "#bd3786"
             ],
             [
              0.5555555555555556,
              "#d8576b"
             ],
             [
              0.6666666666666666,
              "#ed7953"
             ],
             [
              0.7777777777777778,
              "#fb9f3a"
             ],
             [
              0.8888888888888888,
              "#fdca26"
             ],
             [
              1,
              "#f0f921"
             ]
            ],
            "type": "surface"
           }
          ],
          "table": [
           {
            "cells": {
             "fill": {
              "color": "#EBF0F8"
             },
             "line": {
              "color": "white"
             }
            },
            "header": {
             "fill": {
              "color": "#C8D4E3"
             },
             "line": {
              "color": "white"
             }
            },
            "type": "table"
           }
          ]
         },
         "layout": {
          "annotationdefaults": {
           "arrowcolor": "#2a3f5f",
           "arrowhead": 0,
           "arrowwidth": 1
          },
          "coloraxis": {
           "colorbar": {
            "outlinewidth": 0,
            "ticks": ""
           }
          },
          "colorscale": {
           "diverging": [
            [
             0,
             "#8e0152"
            ],
            [
             0.1,
             "#c51b7d"
            ],
            [
             0.2,
             "#de77ae"
            ],
            [
             0.3,
             "#f1b6da"
            ],
            [
             0.4,
             "#fde0ef"
            ],
            [
             0.5,
             "#f7f7f7"
            ],
            [
             0.6,
             "#e6f5d0"
            ],
            [
             0.7,
             "#b8e186"
            ],
            [
             0.8,
             "#7fbc41"
            ],
            [
             0.9,
             "#4d9221"
            ],
            [
             1,
             "#276419"
            ]
           ],
           "sequential": [
            [
             0,
             "#0d0887"
            ],
            [
             0.1111111111111111,
             "#46039f"
            ],
            [
             0.2222222222222222,
             "#7201a8"
            ],
            [
             0.3333333333333333,
             "#9c179e"
            ],
            [
             0.4444444444444444,
             "#bd3786"
            ],
            [
             0.5555555555555556,
             "#d8576b"
            ],
            [
             0.6666666666666666,
             "#ed7953"
            ],
            [
             0.7777777777777778,
             "#fb9f3a"
            ],
            [
             0.8888888888888888,
             "#fdca26"
            ],
            [
             1,
             "#f0f921"
            ]
           ],
           "sequentialminus": [
            [
             0,
             "#0d0887"
            ],
            [
             0.1111111111111111,
             "#46039f"
            ],
            [
             0.2222222222222222,
             "#7201a8"
            ],
            [
             0.3333333333333333,
             "#9c179e"
            ],
            [
             0.4444444444444444,
             "#bd3786"
            ],
            [
             0.5555555555555556,
             "#d8576b"
            ],
            [
             0.6666666666666666,
             "#ed7953"
            ],
            [
             0.7777777777777778,
             "#fb9f3a"
            ],
            [
             0.8888888888888888,
             "#fdca26"
            ],
            [
             1,
             "#f0f921"
            ]
           ]
          },
          "colorway": [
           "#636efa",
           "#EF553B",
           "#00cc96",
           "#ab63fa",
           "#FFA15A",
           "#19d3f3",
           "#FF6692",
           "#B6E880",
           "#FF97FF",
           "#FECB52"
          ],
          "font": {
           "color": "#2a3f5f"
          },
          "geo": {
           "bgcolor": "white",
           "lakecolor": "white",
           "landcolor": "#E5ECF6",
           "showlakes": true,
           "showland": true,
           "subunitcolor": "white"
          },
          "hoverlabel": {
           "align": "left"
          },
          "hovermode": "closest",
          "mapbox": {
           "style": "light"
          },
          "paper_bgcolor": "white",
          "plot_bgcolor": "#E5ECF6",
          "polar": {
           "angularaxis": {
            "gridcolor": "white",
            "linecolor": "white",
            "ticks": ""
           },
           "bgcolor": "#E5ECF6",
           "radialaxis": {
            "gridcolor": "white",
            "linecolor": "white",
            "ticks": ""
           }
          },
          "scene": {
           "xaxis": {
            "backgroundcolor": "#E5ECF6",
            "gridcolor": "white",
            "gridwidth": 2,
            "linecolor": "white",
            "showbackground": true,
            "ticks": "",
            "zerolinecolor": "white"
           },
           "yaxis": {
            "backgroundcolor": "#E5ECF6",
            "gridcolor": "white",
            "gridwidth": 2,
            "linecolor": "white",
            "showbackground": true,
            "ticks": "",
            "zerolinecolor": "white"
           },
           "zaxis": {
            "backgroundcolor": "#E5ECF6",
            "gridcolor": "white",
            "gridwidth": 2,
            "linecolor": "white",
            "showbackground": true,
            "ticks": "",
            "zerolinecolor": "white"
           }
          },
          "shapedefaults": {
           "line": {
            "color": "#2a3f5f"
           }
          },
          "ternary": {
           "aaxis": {
            "gridcolor": "white",
            "linecolor": "white",
            "ticks": ""
           },
           "baxis": {
            "gridcolor": "white",
            "linecolor": "white",
            "ticks": ""
           },
           "bgcolor": "#E5ECF6",
           "caxis": {
            "gridcolor": "white",
            "linecolor": "white",
            "ticks": ""
           }
          },
          "title": {
           "x": 0.05
          },
          "xaxis": {
           "automargin": true,
           "gridcolor": "white",
           "linecolor": "white",
           "ticks": "",
           "title": {
            "standoff": 15
           },
           "zerolinecolor": "white",
           "zerolinewidth": 2
          },
          "yaxis": {
           "automargin": true,
           "gridcolor": "white",
           "linecolor": "white",
           "ticks": "",
           "title": {
            "standoff": 15
           },
           "zerolinecolor": "white",
           "zerolinewidth": 2
          }
         }
        },
        "title": {
         "font": {
          "color": "#4D5663"
         }
        },
        "xaxis": {
         "gridcolor": "#E1E5ED",
         "showgrid": true,
         "tickfont": {
          "color": "#4D5663"
         },
         "title": {
          "font": {
           "color": "#4D5663"
          },
          "text": ""
         },
         "zerolinecolor": "#E1E5ED"
        },
        "yaxis": {
         "gridcolor": "#E1E5ED",
         "showgrid": true,
         "tickfont": {
          "color": "#4D5663"
         },
         "title": {
          "font": {
           "color": "#4D5663"
          },
          "text": ""
         },
         "zerolinecolor": "#E1E5ED"
        }
       }
      },
      "text/html": [
       "<div>\n",
       "        \n",
       "        \n",
       "            <div id=\"d55f7748-686e-4e8d-9b11-c6059c9486c6\" class=\"plotly-graph-div\" style=\"height:525px; width:100%;\"></div>\n",
       "            <script type=\"text/javascript\">\n",
       "                require([\"plotly\"], function(Plotly) {\n",
       "                    window.PLOTLYENV=window.PLOTLYENV || {};\n",
       "                    window.PLOTLYENV.BASE_URL='https://plot.ly';\n",
       "                    \n",
       "                if (document.getElementById(\"d55f7748-686e-4e8d-9b11-c6059c9486c6\")) {\n",
       "                    Plotly.newPlot(\n",
       "                        'd55f7748-686e-4e8d-9b11-c6059c9486c6',\n",
       "                        [{\"colorscale\": [[0.0, \"rgb(165,0,38)\"], [0.1, \"rgb(215,48,39)\"], [0.2, \"rgb(244,109,67)\"], [0.3, \"rgb(253,174,97)\"], [0.4, \"rgb(254,224,144)\"], [0.5, \"rgb(255,255,191)\"], [0.6, \"rgb(224,243,248)\"], [0.7, \"rgb(171,217,233)\"], [0.8, \"rgb(116,173,209)\"], [0.9, \"rgb(69,117,180)\"], [1.0, \"rgb(49,54,149)\"]], \"type\": \"surface\", \"x\": [0, 1, 2, 3, 4], \"y\": [\"x\", \"y\", \"z\"], \"z\": [[1, 2, 3, 4, 5], [10, 20, 30, 20, 10], [5, 4, 3, 2, 1]]}],\n",
       "                        {\"legend\": {\"bgcolor\": \"#F5F6F9\", \"font\": {\"color\": \"#4D5663\"}}, \"paper_bgcolor\": \"#F5F6F9\", \"plot_bgcolor\": \"#F5F6F9\", \"template\": {\"data\": {\"bar\": [{\"error_x\": {\"color\": \"#2a3f5f\"}, \"error_y\": {\"color\": \"#2a3f5f\"}, \"marker\": {\"line\": {\"color\": \"#E5ECF6\", \"width\": 0.5}}, \"type\": \"bar\"}], \"barpolar\": [{\"marker\": {\"line\": {\"color\": \"#E5ECF6\", \"width\": 0.5}}, \"type\": \"barpolar\"}], \"carpet\": [{\"aaxis\": {\"endlinecolor\": \"#2a3f5f\", \"gridcolor\": \"white\", \"linecolor\": \"white\", \"minorgridcolor\": \"white\", \"startlinecolor\": \"#2a3f5f\"}, \"baxis\": {\"endlinecolor\": \"#2a3f5f\", \"gridcolor\": \"white\", \"linecolor\": \"white\", \"minorgridcolor\": \"white\", \"startlinecolor\": \"#2a3f5f\"}, \"type\": \"carpet\"}], \"choropleth\": [{\"colorbar\": {\"outlinewidth\": 0, \"ticks\": \"\"}, \"type\": \"choropleth\"}], \"contour\": [{\"colorbar\": {\"outlinewidth\": 0, \"ticks\": \"\"}, \"colorscale\": [[0.0, \"#0d0887\"], [0.1111111111111111, \"#46039f\"], [0.2222222222222222, \"#7201a8\"], [0.3333333333333333, \"#9c179e\"], [0.4444444444444444, \"#bd3786\"], [0.5555555555555556, \"#d8576b\"], [0.6666666666666666, \"#ed7953\"], [0.7777777777777778, \"#fb9f3a\"], [0.8888888888888888, \"#fdca26\"], [1.0, \"#f0f921\"]], \"type\": \"contour\"}], \"contourcarpet\": [{\"colorbar\": {\"outlinewidth\": 0, \"ticks\": \"\"}, \"type\": \"contourcarpet\"}], \"heatmap\": [{\"colorbar\": {\"outlinewidth\": 0, \"ticks\": \"\"}, \"colorscale\": [[0.0, \"#0d0887\"], [0.1111111111111111, \"#46039f\"], [0.2222222222222222, \"#7201a8\"], [0.3333333333333333, \"#9c179e\"], [0.4444444444444444, \"#bd3786\"], [0.5555555555555556, \"#d8576b\"], [0.6666666666666666, \"#ed7953\"], [0.7777777777777778, \"#fb9f3a\"], [0.8888888888888888, \"#fdca26\"], [1.0, \"#f0f921\"]], \"type\": \"heatmap\"}], \"heatmapgl\": [{\"colorbar\": {\"outlinewidth\": 0, \"ticks\": \"\"}, \"colorscale\": [[0.0, \"#0d0887\"], [0.1111111111111111, \"#46039f\"], [0.2222222222222222, \"#7201a8\"], [0.3333333333333333, \"#9c179e\"], [0.4444444444444444, \"#bd3786\"], [0.5555555555555556, \"#d8576b\"], [0.6666666666666666, \"#ed7953\"], [0.7777777777777778, \"#fb9f3a\"], [0.8888888888888888, \"#fdca26\"], [1.0, \"#f0f921\"]], \"type\": \"heatmapgl\"}], \"histogram\": [{\"marker\": {\"colorbar\": {\"outlinewidth\": 0, \"ticks\": \"\"}}, \"type\": \"histogram\"}], \"histogram2d\": [{\"colorbar\": {\"outlinewidth\": 0, \"ticks\": \"\"}, \"colorscale\": [[0.0, \"#0d0887\"], [0.1111111111111111, \"#46039f\"], [0.2222222222222222, \"#7201a8\"], [0.3333333333333333, \"#9c179e\"], [0.4444444444444444, \"#bd3786\"], [0.5555555555555556, \"#d8576b\"], [0.6666666666666666, \"#ed7953\"], [0.7777777777777778, \"#fb9f3a\"], [0.8888888888888888, \"#fdca26\"], [1.0, \"#f0f921\"]], \"type\": \"histogram2d\"}], \"histogram2dcontour\": [{\"colorbar\": {\"outlinewidth\": 0, \"ticks\": \"\"}, \"colorscale\": [[0.0, \"#0d0887\"], [0.1111111111111111, \"#46039f\"], [0.2222222222222222, \"#7201a8\"], [0.3333333333333333, \"#9c179e\"], [0.4444444444444444, \"#bd3786\"], [0.5555555555555556, \"#d8576b\"], [0.6666666666666666, \"#ed7953\"], [0.7777777777777778, \"#fb9f3a\"], [0.8888888888888888, \"#fdca26\"], [1.0, \"#f0f921\"]], \"type\": \"histogram2dcontour\"}], \"mesh3d\": [{\"colorbar\": {\"outlinewidth\": 0, \"ticks\": \"\"}, \"type\": \"mesh3d\"}], \"parcoords\": [{\"line\": {\"colorbar\": {\"outlinewidth\": 0, \"ticks\": \"\"}}, \"type\": \"parcoords\"}], \"pie\": [{\"automargin\": true, \"type\": \"pie\"}], \"scatter\": [{\"marker\": {\"colorbar\": {\"outlinewidth\": 0, \"ticks\": \"\"}}, \"type\": \"scatter\"}], \"scatter3d\": [{\"line\": {\"colorbar\": {\"outlinewidth\": 0, \"ticks\": \"\"}}, \"marker\": {\"colorbar\": {\"outlinewidth\": 0, \"ticks\": \"\"}}, \"type\": \"scatter3d\"}], \"scattercarpet\": [{\"marker\": {\"colorbar\": {\"outlinewidth\": 0, \"ticks\": \"\"}}, \"type\": \"scattercarpet\"}], \"scattergeo\": [{\"marker\": {\"colorbar\": {\"outlinewidth\": 0, \"ticks\": \"\"}}, \"type\": \"scattergeo\"}], \"scattergl\": [{\"marker\": {\"colorbar\": {\"outlinewidth\": 0, \"ticks\": \"\"}}, \"type\": \"scattergl\"}], \"scattermapbox\": [{\"marker\": {\"colorbar\": {\"outlinewidth\": 0, \"ticks\": \"\"}}, \"type\": \"scattermapbox\"}], \"scatterpolar\": [{\"marker\": {\"colorbar\": {\"outlinewidth\": 0, \"ticks\": \"\"}}, \"type\": \"scatterpolar\"}], \"scatterpolargl\": [{\"marker\": {\"colorbar\": {\"outlinewidth\": 0, \"ticks\": \"\"}}, \"type\": \"scatterpolargl\"}], \"scatterternary\": [{\"marker\": {\"colorbar\": {\"outlinewidth\": 0, \"ticks\": \"\"}}, \"type\": \"scatterternary\"}], \"surface\": [{\"colorbar\": {\"outlinewidth\": 0, \"ticks\": \"\"}, \"colorscale\": [[0.0, \"#0d0887\"], [0.1111111111111111, \"#46039f\"], [0.2222222222222222, \"#7201a8\"], [0.3333333333333333, \"#9c179e\"], [0.4444444444444444, \"#bd3786\"], [0.5555555555555556, \"#d8576b\"], [0.6666666666666666, \"#ed7953\"], [0.7777777777777778, \"#fb9f3a\"], [0.8888888888888888, \"#fdca26\"], [1.0, \"#f0f921\"]], \"type\": \"surface\"}], \"table\": [{\"cells\": {\"fill\": {\"color\": \"#EBF0F8\"}, \"line\": {\"color\": \"white\"}}, \"header\": {\"fill\": {\"color\": \"#C8D4E3\"}, \"line\": {\"color\": \"white\"}}, \"type\": \"table\"}]}, \"layout\": {\"annotationdefaults\": {\"arrowcolor\": \"#2a3f5f\", \"arrowhead\": 0, \"arrowwidth\": 1}, \"coloraxis\": {\"colorbar\": {\"outlinewidth\": 0, \"ticks\": \"\"}}, \"colorscale\": {\"diverging\": [[0, \"#8e0152\"], [0.1, \"#c51b7d\"], [0.2, \"#de77ae\"], [0.3, \"#f1b6da\"], [0.4, \"#fde0ef\"], [0.5, \"#f7f7f7\"], [0.6, \"#e6f5d0\"], [0.7, \"#b8e186\"], [0.8, \"#7fbc41\"], [0.9, \"#4d9221\"], [1, \"#276419\"]], \"sequential\": [[0.0, \"#0d0887\"], [0.1111111111111111, \"#46039f\"], [0.2222222222222222, \"#7201a8\"], [0.3333333333333333, \"#9c179e\"], [0.4444444444444444, \"#bd3786\"], [0.5555555555555556, \"#d8576b\"], [0.6666666666666666, \"#ed7953\"], [0.7777777777777778, \"#fb9f3a\"], [0.8888888888888888, \"#fdca26\"], [1.0, \"#f0f921\"]], \"sequentialminus\": [[0.0, \"#0d0887\"], [0.1111111111111111, \"#46039f\"], [0.2222222222222222, \"#7201a8\"], [0.3333333333333333, \"#9c179e\"], [0.4444444444444444, \"#bd3786\"], [0.5555555555555556, \"#d8576b\"], [0.6666666666666666, \"#ed7953\"], [0.7777777777777778, \"#fb9f3a\"], [0.8888888888888888, \"#fdca26\"], [1.0, \"#f0f921\"]]}, \"colorway\": [\"#636efa\", \"#EF553B\", \"#00cc96\", \"#ab63fa\", \"#FFA15A\", \"#19d3f3\", \"#FF6692\", \"#B6E880\", \"#FF97FF\", \"#FECB52\"], \"font\": {\"color\": \"#2a3f5f\"}, \"geo\": {\"bgcolor\": \"white\", \"lakecolor\": \"white\", \"landcolor\": \"#E5ECF6\", \"showlakes\": true, \"showland\": true, \"subunitcolor\": \"white\"}, \"hoverlabel\": {\"align\": \"left\"}, \"hovermode\": \"closest\", \"mapbox\": {\"style\": \"light\"}, \"paper_bgcolor\": \"white\", \"plot_bgcolor\": \"#E5ECF6\", \"polar\": {\"angularaxis\": {\"gridcolor\": \"white\", \"linecolor\": \"white\", \"ticks\": \"\"}, \"bgcolor\": \"#E5ECF6\", \"radialaxis\": {\"gridcolor\": \"white\", \"linecolor\": \"white\", \"ticks\": \"\"}}, \"scene\": {\"xaxis\": {\"backgroundcolor\": \"#E5ECF6\", \"gridcolor\": \"white\", \"gridwidth\": 2, \"linecolor\": \"white\", \"showbackground\": true, \"ticks\": \"\", \"zerolinecolor\": \"white\"}, \"yaxis\": {\"backgroundcolor\": \"#E5ECF6\", \"gridcolor\": \"white\", \"gridwidth\": 2, \"linecolor\": \"white\", \"showbackground\": true, \"ticks\": \"\", \"zerolinecolor\": \"white\"}, \"zaxis\": {\"backgroundcolor\": \"#E5ECF6\", \"gridcolor\": \"white\", \"gridwidth\": 2, \"linecolor\": \"white\", \"showbackground\": true, \"ticks\": \"\", \"zerolinecolor\": \"white\"}}, \"shapedefaults\": {\"line\": {\"color\": \"#2a3f5f\"}}, \"ternary\": {\"aaxis\": {\"gridcolor\": \"white\", \"linecolor\": \"white\", \"ticks\": \"\"}, \"baxis\": {\"gridcolor\": \"white\", \"linecolor\": \"white\", \"ticks\": \"\"}, \"bgcolor\": \"#E5ECF6\", \"caxis\": {\"gridcolor\": \"white\", \"linecolor\": \"white\", \"ticks\": \"\"}}, \"title\": {\"x\": 0.05}, \"xaxis\": {\"automargin\": true, \"gridcolor\": \"white\", \"linecolor\": \"white\", \"ticks\": \"\", \"title\": {\"standoff\": 15}, \"zerolinecolor\": \"white\", \"zerolinewidth\": 2}, \"yaxis\": {\"automargin\": true, \"gridcolor\": \"white\", \"linecolor\": \"white\", \"ticks\": \"\", \"title\": {\"standoff\": 15}, \"zerolinecolor\": \"white\", \"zerolinewidth\": 2}}}, \"title\": {\"font\": {\"color\": \"#4D5663\"}}, \"xaxis\": {\"gridcolor\": \"#E1E5ED\", \"showgrid\": true, \"tickfont\": {\"color\": \"#4D5663\"}, \"title\": {\"font\": {\"color\": \"#4D5663\"}, \"text\": \"\"}, \"zerolinecolor\": \"#E1E5ED\"}, \"yaxis\": {\"gridcolor\": \"#E1E5ED\", \"showgrid\": true, \"tickfont\": {\"color\": \"#4D5663\"}, \"title\": {\"font\": {\"color\": \"#4D5663\"}, \"text\": \"\"}, \"zerolinecolor\": \"#E1E5ED\"}},\n",
       "                        {\"showLink\": true, \"linkText\": \"Export to plot.ly\", \"plotlyServerURL\": \"https://plot.ly\", \"responsive\": true}\n",
       "                    ).then(function(){\n",
       "                            \n",
       "var gd = document.getElementById('d55f7748-686e-4e8d-9b11-c6059c9486c6');\n",
       "var x = new MutationObserver(function (mutations, observer) {{\n",
       "        var display = window.getComputedStyle(gd).display;\n",
       "        if (!display || display === 'none') {{\n",
       "            console.log([gd, 'removed!']);\n",
       "            Plotly.purge(gd);\n",
       "            observer.disconnect();\n",
       "        }}\n",
       "}});\n",
       "\n",
       "// Listen for the removal of the full notebook cells\n",
       "var notebookContainer = gd.closest('#notebook-container');\n",
       "if (notebookContainer) {{\n",
       "    x.observe(notebookContainer, {childList: true});\n",
       "}}\n",
       "\n",
       "// Listen for the clearing of the current output cell\n",
       "var outputEl = gd.closest('.output');\n",
       "if (outputEl) {{\n",
       "    x.observe(outputEl, {childList: true});\n",
       "}}\n",
       "\n",
       "                        })\n",
       "                };\n",
       "                });\n",
       "            </script>\n",
       "        </div>"
      ]
     },
     "metadata": {},
     "output_type": "display_data"
    }
   ],
   "source": [
    "df3 = pd.DataFrame({'x':[1,2,3,4,5],'y':[10,20,30,20,10],'z':[5,4,3,2,1]})\n",
    "df3.iplot(kind='surface',colorscale='rdylbu')"
   ]
  },
  {
   "cell_type": "markdown",
   "metadata": {},
   "source": [
    "## Spread"
   ]
  },
  {
   "cell_type": "code",
   "execution_count": 18,
   "metadata": {},
   "outputs": [
    {
     "name": "stderr",
     "output_type": "stream",
     "text": [
      "C:\\Users\\samaee\\anaconda3\\lib\\site-packages\\cufflinks\\plotlytools.py:849: FutureWarning:\n",
      "\n",
      "The pandas.np module is deprecated and will be removed from pandas in a future version. Import numpy directly instead\n",
      "\n",
      "C:\\Users\\samaee\\anaconda3\\lib\\site-packages\\cufflinks\\plotlytools.py:850: FutureWarning:\n",
      "\n",
      "The pandas.np module is deprecated and will be removed from pandas in a future version. Import numpy directly instead\n",
      "\n"
     ]
    },
    {
     "data": {
      "application/vnd.plotly.v1+json": {
       "config": {
        "linkText": "Export to plot.ly",
        "plotlyServerURL": "https://plot.ly",
        "showLink": true
       },
       "data": [
        {
         "line": {
          "color": "rgba(255, 153, 51, 1.0)",
          "dash": "solid",
          "shape": "linear",
          "width": 1.3
         },
         "mode": "lines",
         "name": "A",
         "text": "",
         "type": "scatter",
         "x": [
          0,
          1,
          2,
          3,
          4,
          5,
          6,
          7,
          8,
          9,
          10,
          11,
          12,
          13,
          14,
          15,
          16,
          17,
          18,
          19,
          20,
          21,
          22,
          23,
          24,
          25,
          26,
          27,
          28,
          29,
          30,
          31,
          32,
          33,
          34,
          35,
          36,
          37,
          38,
          39,
          40,
          41,
          42,
          43,
          44,
          45,
          46,
          47,
          48,
          49,
          50,
          51,
          52,
          53,
          54,
          55,
          56,
          57,
          58,
          59,
          60,
          61,
          62,
          63,
          64,
          65,
          66,
          67,
          68,
          69,
          70,
          71,
          72,
          73,
          74,
          75,
          76,
          77,
          78,
          79,
          80,
          81,
          82,
          83,
          84,
          85,
          86,
          87,
          88,
          89,
          90,
          91,
          92,
          93,
          94,
          95,
          96,
          97,
          98,
          99
         ],
         "y": [
          0.3366253685910652,
          -0.8152962615269359,
          -2.057094167945235,
          -1.9541343699683842,
          0.6350471693898226,
          1.3393854246577892,
          -0.1664414930804797,
          0.895126799501226,
          0.3292560346097866,
          -1.5232703639541971,
          0.9186446530754513,
          -0.10771866432911681,
          -0.24430106447414054,
          -0.20619549803399442,
          -0.07496398303253174,
          -1.1351977435845633,
          -0.34138973113653054,
          -0.6892752596721525,
          -1.5434768318213519,
          -0.374012762351043,
          0.331761227479903,
          0.3694659922847097,
          0.15913472597883468,
          -0.9720134165835317,
          -0.2171894606425676,
          0.6258869651944907,
          -1.2141991773722172,
          -0.6888312027759299,
          -1.196606260086114,
          1.9171614028912838,
          -0.8197494317490756,
          0.8442744914994555,
          -0.5354476373949394,
          -0.13940235912023516,
          -0.3440487361566797,
          0.5847650737857164,
          -0.20452714135063474,
          -0.4734153008931332,
          0.1525789505851457,
          0.15943923195430232,
          -1.5712599479287583,
          0.7302450600457806,
          -0.5281471269177707,
          0.7841689237674179,
          1.6847993459208428,
          1.0781584592306386,
          -0.6148700589748657,
          0.1356051706983451,
          -0.7880479114057856,
          0.47949379874479436,
          -0.02441032028762437,
          -0.07437076244591963,
          0.9467680138425014,
          -0.014671024676162296,
          1.782056184224774,
          1.7164705123188548,
          0.15299462841133046,
          0.5526879640231437,
          -0.7347081734316098,
          0.25652438606881317,
          -0.7714194110548964,
          -0.9549644235619681,
          -0.49660877894194355,
          0.3252467140305092,
          -0.31637216864672113,
          0.34308269591780455,
          0.5282051548907043,
          -1.1319743118881591,
          -0.2893859807681463,
          -0.6601340495579393,
          -1.0138335460436667,
          -1.6563261279034838,
          0.7256724241953929,
          -0.11334824786137546,
          -0.8002763540209177,
          0.7867076095020186,
          0.4384288714386092,
          -0.3947589854358734,
          0.9062235669638437,
          0.8196800251334179,
          -1.2539062476924414,
          -0.20130480834260286,
          -0.12443864472378685,
          0.04688882347637687,
          1.5337275539272255,
          1.982488741300852,
          -1.1953722916405798,
          0.6410983225048137,
          0.805785032541812,
          0.3932603773541811,
          -0.6453067879032107,
          1.4760578266825994,
          -0.3594032836309028,
          0.9480512342548622,
          -0.18928712523705382,
          -0.8481750065845147,
          0.4932182939235028,
          0.7869080942142737,
          -1.2665836193117346,
          -0.1648699611042843
         ]
        },
        {
         "line": {
          "color": "rgba(55, 128, 191, 1.0)",
          "dash": "solid",
          "shape": "linear",
          "width": 1.3
         },
         "mode": "lines",
         "name": "B",
         "text": "",
         "type": "scatter",
         "x": [
          0,
          1,
          2,
          3,
          4,
          5,
          6,
          7,
          8,
          9,
          10,
          11,
          12,
          13,
          14,
          15,
          16,
          17,
          18,
          19,
          20,
          21,
          22,
          23,
          24,
          25,
          26,
          27,
          28,
          29,
          30,
          31,
          32,
          33,
          34,
          35,
          36,
          37,
          38,
          39,
          40,
          41,
          42,
          43,
          44,
          45,
          46,
          47,
          48,
          49,
          50,
          51,
          52,
          53,
          54,
          55,
          56,
          57,
          58,
          59,
          60,
          61,
          62,
          63,
          64,
          65,
          66,
          67,
          68,
          69,
          70,
          71,
          72,
          73,
          74,
          75,
          76,
          77,
          78,
          79,
          80,
          81,
          82,
          83,
          84,
          85,
          86,
          87,
          88,
          89,
          90,
          91,
          92,
          93,
          94,
          95,
          96,
          97,
          98,
          99
         ],
         "y": [
          0.043697341410055664,
          -1.581436693250505,
          -1.1115696532210644,
          -0.5698372836913742,
          -0.02175389139025899,
          0.20260576800273525,
          0.791740809273046,
          1.3392918747893074,
          1.7094803759461192,
          -2.1379210460183957,
          -0.07225248650834998,
          -0.9680086419210548,
          -0.7083553580314013,
          0.973036553547053,
          0.6590668117012048,
          1.7945342742941552,
          -0.37518385884804895,
          2.107867503689684,
          0.742223919259543,
          -0.9161352194947348,
          -0.625680464700169,
          0.6149028780151503,
          0.20293727221135938,
          -0.06756211935173426,
          0.5599385792540977,
          -0.018063441547951798,
          1.0904145182977474,
          0.1634388508574048,
          -0.4931740987536183,
          -0.6676426208786932,
          -0.11668102711351185,
          0.43121144208387313,
          -0.1257312590901729,
          0.46198432695848557,
          -0.6439750877139889,
          1.3245655646623755,
          -0.980281342799237,
          -0.47560336976440476,
          0.5015220699951991,
          0.6051219350616727,
          2.048607451883618,
          1.261448986561181,
          -0.6979944782298741,
          -0.6143734098828072,
          -1.7754911385000327,
          -2.5384857323716385,
          1.6392145910633855,
          -1.4820642874699732,
          0.5844190880860396,
          -0.9436681757156312,
          -0.6503532338456608,
          1.9604123865081746,
          -1.2156684870760122,
          1.7823659197142776,
          -1.2201866924836282,
          -0.8602765774469655,
          0.4429230638355957,
          -1.2834305270149287,
          -0.25170583685474396,
          0.6830253659792884,
          -1.435437310811144,
          -0.6010432945513375,
          -0.759550451675055,
          0.5494279717404709,
          -2.601816346142572,
          -1.4347716877088044,
          -1.5063832342771595,
          1.030878804194865,
          -0.05143590109769036,
          -0.16272027060819982,
          0.08748232879602544,
          0.6301069551469266,
          -1.3863205154859544,
          -1.638235833577776,
          -0.7425171354610364,
          0.5881594362154489,
          -0.9543717077207359,
          -0.3174249771099468,
          0.7827350703006383,
          0.45058167180313485,
          0.6632662170891702,
          1.561964675359686,
          0.15404556879730338,
          0.08133174112869458,
          0.23151390026575197,
          0.5024442630469539,
          1.2852188126317763,
          1.8971364510299469,
          -0.7424065437024872,
          0.25959933392610635,
          -0.2612537670966083,
          -0.17573342825713237,
          0.6960917629912512,
          -0.2709490068825894,
          -0.22219577815518834,
          -0.6442948098061319,
          -0.9700610554833162,
          -0.2098202139951793,
          -0.8736514829147257,
          0.46721323100953
         ]
        },
        {
         "connectgaps": false,
         "fill": "tozeroy",
         "line": {
          "color": "green",
          "dash": "solid",
          "shape": "linear",
          "width": 0.5
         },
         "mode": "lines",
         "name": "Spread",
         "showlegend": false,
         "type": "scatter",
         "x": [
          0,
          1,
          2,
          3,
          4,
          5,
          6,
          7,
          8,
          9,
          10,
          11,
          12,
          13,
          14,
          15,
          16,
          17,
          18,
          19,
          20,
          21,
          22,
          23,
          24,
          25,
          26,
          27,
          28,
          29,
          30,
          31,
          32,
          33,
          34,
          35,
          36,
          37,
          38,
          39,
          40,
          41,
          42,
          43,
          44,
          45,
          46,
          47,
          48,
          49,
          50,
          51,
          52,
          53,
          54,
          55,
          56,
          57,
          58,
          59,
          60,
          61,
          62,
          63,
          64,
          65,
          66,
          67,
          68,
          69,
          70,
          71,
          72,
          73,
          74,
          75,
          76,
          77,
          78,
          79,
          80,
          81,
          82,
          83,
          84,
          85,
          86,
          87,
          88,
          89,
          90,
          91,
          92,
          93,
          94,
          95,
          96,
          97,
          98,
          99
         ],
         "xaxis": "x2",
         "y": [
          0.2929280271810095,
          0.7661404317235692,
          "",
          "",
          0.6568010607800816,
          1.1367796566550539,
          "",
          "",
          "",
          0.6146506820641986,
          0.9908971395838013,
          0.860289977591938,
          0.4640542935572607,
          "",
          "",
          "",
          0.03379412771151841,
          "",
          "",
          0.5421224571436918,
          0.957441692180072,
          "",
          "",
          "",
          "",
          0.6439504067424425,
          "",
          "",
          "",
          2.584804023769977,
          "",
          0.4130630494155824,
          "",
          "",
          0.29992635155730923,
          "",
          0.7757542014486022,
          0.0021880688712715424,
          "",
          "",
          "",
          "",
          0.1698473513121035,
          1.3985423336502252,
          3.4602904844208755,
          3.616644191602277,
          "",
          1.6176694581683182,
          "",
          1.4231619744604256,
          0.6259429135580364,
          "",
          2.1624365009185134,
          "",
          3.002242876708402,
          2.5767470897658202,
          "",
          1.8361184910380723,
          "",
          "",
          0.6640178997562476,
          "",
          0.2629416727331114,
          "",
          2.285444177495851,
          1.777854383626609,
          2.0345883891678636,
          "",
          "",
          "",
          "",
          "",
          2.1119929396813473,
          1.5248875857164006,
          "",
          0.1985481732865697,
          1.3928005791593452,
          "",
          0.12348849666320538,
          0.369098353330283,
          "",
          "",
          "",
          "",
          1.3022136536614735,
          1.4800444782538982,
          "",
          "",
          1.548191576244299,
          0.13366104342807478,
          "",
          1.6517912549397318,
          "",
          1.2190002411374516,
          0.03290865291813452,
          "",
          1.463279349406819,
          0.9967283082094529,
          "",
          ""
         ],
         "yaxis": "y2"
        },
        {
         "connectgaps": false,
         "fill": "tozeroy",
         "line": {
          "color": "red",
          "dash": "solid",
          "shape": "linear",
          "width": 0.5
         },
         "mode": "lines",
         "name": "Spread",
         "showlegend": false,
         "type": "scatter",
         "x": [
          0,
          1,
          2,
          3,
          4,
          5,
          6,
          7,
          8,
          9,
          10,
          11,
          12,
          13,
          14,
          15,
          16,
          17,
          18,
          19,
          20,
          21,
          22,
          23,
          24,
          25,
          26,
          27,
          28,
          29,
          30,
          31,
          32,
          33,
          34,
          35,
          36,
          37,
          38,
          39,
          40,
          41,
          42,
          43,
          44,
          45,
          46,
          47,
          48,
          49,
          50,
          51,
          52,
          53,
          54,
          55,
          56,
          57,
          58,
          59,
          60,
          61,
          62,
          63,
          64,
          65,
          66,
          67,
          68,
          69,
          70,
          71,
          72,
          73,
          74,
          75,
          76,
          77,
          78,
          79,
          80,
          81,
          82,
          83,
          84,
          85,
          86,
          87,
          88,
          89,
          90,
          91,
          92,
          93,
          94,
          95,
          96,
          97,
          98,
          99
         ],
         "xaxis": "x2",
         "y": [
          "",
          "",
          -0.9455245147241704,
          -1.38429708627701,
          "",
          "",
          -0.9581823023535257,
          -0.44416507528808147,
          -1.3802243413363326,
          "",
          "",
          "",
          "",
          -1.1792320515810475,
          -0.7340307947337366,
          -2.9297320178787185,
          "",
          -2.7971427633618364,
          -2.2857007510808947,
          "",
          "",
          -0.2454368857304406,
          -0.04380254623252469,
          -0.9044512972317974,
          -0.7771280398966653,
          "",
          -2.3046136956699645,
          -0.8522700536333347,
          -0.7034321613324958,
          "",
          -0.7030684046355637,
          "",
          -0.4097163783047665,
          -0.6013866860787207,
          "",
          -0.7398004908766591,
          "",
          "",
          -0.3489431194100534,
          -0.44568270310737035,
          -3.6198673998123763,
          -0.5312039265154005,
          "",
          "",
          "",
          "",
          -2.2540846500382514,
          "",
          -1.372466999491825,
          "",
          "",
          -2.0347831489540944,
          "",
          -1.79703694439044,
          "",
          "",
          -0.2899284354242653,
          "",
          -0.4830023365768658,
          -0.42650097991047525,
          "",
          -0.35392112901063055,
          "",
          -0.22418125770996167,
          "",
          "",
          "",
          -2.162853116083024,
          -0.23795007967045595,
          -0.4974137789497395,
          -1.101315874839692,
          -2.2864330830504103,
          "",
          "",
          -0.05775921855988131,
          "",
          "",
          -0.07733400832592657,
          "",
          "",
          -1.9171724647816117,
          -1.7632694837022889,
          -0.2784842135210902,
          -0.03444291765231771,
          "",
          "",
          -2.480591104272356,
          -1.2560381285251332,
          "",
          "",
          -0.3840530208066024,
          "",
          -1.055495046622154,
          "",
          "",
          -0.20388019677838287,
          "",
          "",
          -0.39293213639700886,
          -0.6320831921138144
         ],
         "yaxis": "y2"
        }
       ],
       "layout": {
        "hovermode": "x",
        "legend": {
         "bgcolor": "#F5F6F9",
         "font": {
          "color": "#4D5663"
         }
        },
        "paper_bgcolor": "#F5F6F9",
        "plot_bgcolor": "#F5F6F9",
        "template": {
         "data": {
          "bar": [
           {
            "error_x": {
             "color": "#2a3f5f"
            },
            "error_y": {
             "color": "#2a3f5f"
            },
            "marker": {
             "line": {
              "color": "#E5ECF6",
              "width": 0.5
             }
            },
            "type": "bar"
           }
          ],
          "barpolar": [
           {
            "marker": {
             "line": {
              "color": "#E5ECF6",
              "width": 0.5
             }
            },
            "type": "barpolar"
           }
          ],
          "carpet": [
           {
            "aaxis": {
             "endlinecolor": "#2a3f5f",
             "gridcolor": "white",
             "linecolor": "white",
             "minorgridcolor": "white",
             "startlinecolor": "#2a3f5f"
            },
            "baxis": {
             "endlinecolor": "#2a3f5f",
             "gridcolor": "white",
             "linecolor": "white",
             "minorgridcolor": "white",
             "startlinecolor": "#2a3f5f"
            },
            "type": "carpet"
           }
          ],
          "choropleth": [
           {
            "colorbar": {
             "outlinewidth": 0,
             "ticks": ""
            },
            "type": "choropleth"
           }
          ],
          "contour": [
           {
            "colorbar": {
             "outlinewidth": 0,
             "ticks": ""
            },
            "colorscale": [
             [
              0,
              "#0d0887"
             ],
             [
              0.1111111111111111,
              "#46039f"
             ],
             [
              0.2222222222222222,
              "#7201a8"
             ],
             [
              0.3333333333333333,
              "#9c179e"
             ],
             [
              0.4444444444444444,
              "#bd3786"
             ],
             [
              0.5555555555555556,
              "#d8576b"
             ],
             [
              0.6666666666666666,
              "#ed7953"
             ],
             [
              0.7777777777777778,
              "#fb9f3a"
             ],
             [
              0.8888888888888888,
              "#fdca26"
             ],
             [
              1,
              "#f0f921"
             ]
            ],
            "type": "contour"
           }
          ],
          "contourcarpet": [
           {
            "colorbar": {
             "outlinewidth": 0,
             "ticks": ""
            },
            "type": "contourcarpet"
           }
          ],
          "heatmap": [
           {
            "colorbar": {
             "outlinewidth": 0,
             "ticks": ""
            },
            "colorscale": [
             [
              0,
              "#0d0887"
             ],
             [
              0.1111111111111111,
              "#46039f"
             ],
             [
              0.2222222222222222,
              "#7201a8"
             ],
             [
              0.3333333333333333,
              "#9c179e"
             ],
             [
              0.4444444444444444,
              "#bd3786"
             ],
             [
              0.5555555555555556,
              "#d8576b"
             ],
             [
              0.6666666666666666,
              "#ed7953"
             ],
             [
              0.7777777777777778,
              "#fb9f3a"
             ],
             [
              0.8888888888888888,
              "#fdca26"
             ],
             [
              1,
              "#f0f921"
             ]
            ],
            "type": "heatmap"
           }
          ],
          "heatmapgl": [
           {
            "colorbar": {
             "outlinewidth": 0,
             "ticks": ""
            },
            "colorscale": [
             [
              0,
              "#0d0887"
             ],
             [
              0.1111111111111111,
              "#46039f"
             ],
             [
              0.2222222222222222,
              "#7201a8"
             ],
             [
              0.3333333333333333,
              "#9c179e"
             ],
             [
              0.4444444444444444,
              "#bd3786"
             ],
             [
              0.5555555555555556,
              "#d8576b"
             ],
             [
              0.6666666666666666,
              "#ed7953"
             ],
             [
              0.7777777777777778,
              "#fb9f3a"
             ],
             [
              0.8888888888888888,
              "#fdca26"
             ],
             [
              1,
              "#f0f921"
             ]
            ],
            "type": "heatmapgl"
           }
          ],
          "histogram": [
           {
            "marker": {
             "colorbar": {
              "outlinewidth": 0,
              "ticks": ""
             }
            },
            "type": "histogram"
           }
          ],
          "histogram2d": [
           {
            "colorbar": {
             "outlinewidth": 0,
             "ticks": ""
            },
            "colorscale": [
             [
              0,
              "#0d0887"
             ],
             [
              0.1111111111111111,
              "#46039f"
             ],
             [
              0.2222222222222222,
              "#7201a8"
             ],
             [
              0.3333333333333333,
              "#9c179e"
             ],
             [
              0.4444444444444444,
              "#bd3786"
             ],
             [
              0.5555555555555556,
              "#d8576b"
             ],
             [
              0.6666666666666666,
              "#ed7953"
             ],
             [
              0.7777777777777778,
              "#fb9f3a"
             ],
             [
              0.8888888888888888,
              "#fdca26"
             ],
             [
              1,
              "#f0f921"
             ]
            ],
            "type": "histogram2d"
           }
          ],
          "histogram2dcontour": [
           {
            "colorbar": {
             "outlinewidth": 0,
             "ticks": ""
            },
            "colorscale": [
             [
              0,
              "#0d0887"
             ],
             [
              0.1111111111111111,
              "#46039f"
             ],
             [
              0.2222222222222222,
              "#7201a8"
             ],
             [
              0.3333333333333333,
              "#9c179e"
             ],
             [
              0.4444444444444444,
              "#bd3786"
             ],
             [
              0.5555555555555556,
              "#d8576b"
             ],
             [
              0.6666666666666666,
              "#ed7953"
             ],
             [
              0.7777777777777778,
              "#fb9f3a"
             ],
             [
              0.8888888888888888,
              "#fdca26"
             ],
             [
              1,
              "#f0f921"
             ]
            ],
            "type": "histogram2dcontour"
           }
          ],
          "mesh3d": [
           {
            "colorbar": {
             "outlinewidth": 0,
             "ticks": ""
            },
            "type": "mesh3d"
           }
          ],
          "parcoords": [
           {
            "line": {
             "colorbar": {
              "outlinewidth": 0,
              "ticks": ""
             }
            },
            "type": "parcoords"
           }
          ],
          "pie": [
           {
            "automargin": true,
            "type": "pie"
           }
          ],
          "scatter": [
           {
            "marker": {
             "colorbar": {
              "outlinewidth": 0,
              "ticks": ""
             }
            },
            "type": "scatter"
           }
          ],
          "scatter3d": [
           {
            "line": {
             "colorbar": {
              "outlinewidth": 0,
              "ticks": ""
             }
            },
            "marker": {
             "colorbar": {
              "outlinewidth": 0,
              "ticks": ""
             }
            },
            "type": "scatter3d"
           }
          ],
          "scattercarpet": [
           {
            "marker": {
             "colorbar": {
              "outlinewidth": 0,
              "ticks": ""
             }
            },
            "type": "scattercarpet"
           }
          ],
          "scattergeo": [
           {
            "marker": {
             "colorbar": {
              "outlinewidth": 0,
              "ticks": ""
             }
            },
            "type": "scattergeo"
           }
          ],
          "scattergl": [
           {
            "marker": {
             "colorbar": {
              "outlinewidth": 0,
              "ticks": ""
             }
            },
            "type": "scattergl"
           }
          ],
          "scattermapbox": [
           {
            "marker": {
             "colorbar": {
              "outlinewidth": 0,
              "ticks": ""
             }
            },
            "type": "scattermapbox"
           }
          ],
          "scatterpolar": [
           {
            "marker": {
             "colorbar": {
              "outlinewidth": 0,
              "ticks": ""
             }
            },
            "type": "scatterpolar"
           }
          ],
          "scatterpolargl": [
           {
            "marker": {
             "colorbar": {
              "outlinewidth": 0,
              "ticks": ""
             }
            },
            "type": "scatterpolargl"
           }
          ],
          "scatterternary": [
           {
            "marker": {
             "colorbar": {
              "outlinewidth": 0,
              "ticks": ""
             }
            },
            "type": "scatterternary"
           }
          ],
          "surface": [
           {
            "colorbar": {
             "outlinewidth": 0,
             "ticks": ""
            },
            "colorscale": [
             [
              0,
              "#0d0887"
             ],
             [
              0.1111111111111111,
              "#46039f"
             ],
             [
              0.2222222222222222,
              "#7201a8"
             ],
             [
              0.3333333333333333,
              "#9c179e"
             ],
             [
              0.4444444444444444,
              "#bd3786"
             ],
             [
              0.5555555555555556,
              "#d8576b"
             ],
             [
              0.6666666666666666,
              "#ed7953"
             ],
             [
              0.7777777777777778,
              "#fb9f3a"
             ],
             [
              0.8888888888888888,
              "#fdca26"
             ],
             [
              1,
              "#f0f921"
             ]
            ],
            "type": "surface"
           }
          ],
          "table": [
           {
            "cells": {
             "fill": {
              "color": "#EBF0F8"
             },
             "line": {
              "color": "white"
             }
            },
            "header": {
             "fill": {
              "color": "#C8D4E3"
             },
             "line": {
              "color": "white"
             }
            },
            "type": "table"
           }
          ]
         },
         "layout": {
          "annotationdefaults": {
           "arrowcolor": "#2a3f5f",
           "arrowhead": 0,
           "arrowwidth": 1
          },
          "coloraxis": {
           "colorbar": {
            "outlinewidth": 0,
            "ticks": ""
           }
          },
          "colorscale": {
           "diverging": [
            [
             0,
             "#8e0152"
            ],
            [
             0.1,
             "#c51b7d"
            ],
            [
             0.2,
             "#de77ae"
            ],
            [
             0.3,
             "#f1b6da"
            ],
            [
             0.4,
             "#fde0ef"
            ],
            [
             0.5,
             "#f7f7f7"
            ],
            [
             0.6,
             "#e6f5d0"
            ],
            [
             0.7,
             "#b8e186"
            ],
            [
             0.8,
             "#7fbc41"
            ],
            [
             0.9,
             "#4d9221"
            ],
            [
             1,
             "#276419"
            ]
           ],
           "sequential": [
            [
             0,
             "#0d0887"
            ],
            [
             0.1111111111111111,
             "#46039f"
            ],
            [
             0.2222222222222222,
             "#7201a8"
            ],
            [
             0.3333333333333333,
             "#9c179e"
            ],
            [
             0.4444444444444444,
             "#bd3786"
            ],
            [
             0.5555555555555556,
             "#d8576b"
            ],
            [
             0.6666666666666666,
             "#ed7953"
            ],
            [
             0.7777777777777778,
             "#fb9f3a"
            ],
            [
             0.8888888888888888,
             "#fdca26"
            ],
            [
             1,
             "#f0f921"
            ]
           ],
           "sequentialminus": [
            [
             0,
             "#0d0887"
            ],
            [
             0.1111111111111111,
             "#46039f"
            ],
            [
             0.2222222222222222,
             "#7201a8"
            ],
            [
             0.3333333333333333,
             "#9c179e"
            ],
            [
             0.4444444444444444,
             "#bd3786"
            ],
            [
             0.5555555555555556,
             "#d8576b"
            ],
            [
             0.6666666666666666,
             "#ed7953"
            ],
            [
             0.7777777777777778,
             "#fb9f3a"
            ],
            [
             0.8888888888888888,
             "#fdca26"
            ],
            [
             1,
             "#f0f921"
            ]
           ]
          },
          "colorway": [
           "#636efa",
           "#EF553B",
           "#00cc96",
           "#ab63fa",
           "#FFA15A",
           "#19d3f3",
           "#FF6692",
           "#B6E880",
           "#FF97FF",
           "#FECB52"
          ],
          "font": {
           "color": "#2a3f5f"
          },
          "geo": {
           "bgcolor": "white",
           "lakecolor": "white",
           "landcolor": "#E5ECF6",
           "showlakes": true,
           "showland": true,
           "subunitcolor": "white"
          },
          "hoverlabel": {
           "align": "left"
          },
          "hovermode": "closest",
          "mapbox": {
           "style": "light"
          },
          "paper_bgcolor": "white",
          "plot_bgcolor": "#E5ECF6",
          "polar": {
           "angularaxis": {
            "gridcolor": "white",
            "linecolor": "white",
            "ticks": ""
           },
           "bgcolor": "#E5ECF6",
           "radialaxis": {
            "gridcolor": "white",
            "linecolor": "white",
            "ticks": ""
           }
          },
          "scene": {
           "xaxis": {
            "backgroundcolor": "#E5ECF6",
            "gridcolor": "white",
            "gridwidth": 2,
            "linecolor": "white",
            "showbackground": true,
            "ticks": "",
            "zerolinecolor": "white"
           },
           "yaxis": {
            "backgroundcolor": "#E5ECF6",
            "gridcolor": "white",
            "gridwidth": 2,
            "linecolor": "white",
            "showbackground": true,
            "ticks": "",
            "zerolinecolor": "white"
           },
           "zaxis": {
            "backgroundcolor": "#E5ECF6",
            "gridcolor": "white",
            "gridwidth": 2,
            "linecolor": "white",
            "showbackground": true,
            "ticks": "",
            "zerolinecolor": "white"
           }
          },
          "shapedefaults": {
           "line": {
            "color": "#2a3f5f"
           }
          },
          "ternary": {
           "aaxis": {
            "gridcolor": "white",
            "linecolor": "white",
            "ticks": ""
           },
           "baxis": {
            "gridcolor": "white",
            "linecolor": "white",
            "ticks": ""
           },
           "bgcolor": "#E5ECF6",
           "caxis": {
            "gridcolor": "white",
            "linecolor": "white",
            "ticks": ""
           }
          },
          "title": {
           "x": 0.05
          },
          "xaxis": {
           "automargin": true,
           "gridcolor": "white",
           "linecolor": "white",
           "ticks": "",
           "title": {
            "standoff": 15
           },
           "zerolinecolor": "white",
           "zerolinewidth": 2
          },
          "yaxis": {
           "automargin": true,
           "gridcolor": "white",
           "linecolor": "white",
           "ticks": "",
           "title": {
            "standoff": 15
           },
           "zerolinecolor": "white",
           "zerolinewidth": 2
          }
         }
        },
        "title": {
         "font": {
          "color": "#4D5663"
         }
        },
        "xaxis": {
         "gridcolor": "#E1E5ED",
         "showgrid": true,
         "tickfont": {
          "color": "#4D5663"
         },
         "title": {
          "font": {
           "color": "#4D5663"
          },
          "text": ""
         },
         "zerolinecolor": "#E1E5ED"
        },
        "xaxis2": {
         "anchor": "y2",
         "gridcolor": "#E1E5ED",
         "showgrid": true,
         "showticklabels": false,
         "tickfont": {
          "color": "#4D5663"
         },
         "title": {
          "font": {
           "color": "#4D5663"
          },
          "text": ""
         },
         "zerolinecolor": "#E1E5ED"
        },
        "yaxis": {
         "domain": [
          0.3,
          1
         ],
         "gridcolor": "#E1E5ED",
         "showgrid": true,
         "tickfont": {
          "color": "#4D5663"
         },
         "title": {
          "font": {
           "color": "#4D5663"
          },
          "text": ""
         },
         "zerolinecolor": "#E1E5ED"
        },
        "yaxis2": {
         "domain": [
          0,
          0.25
         ],
         "gridcolor": "#E1E5ED",
         "showgrid": true,
         "tickfont": {
          "color": "#4D5663"
         },
         "title": {
          "font": {
           "color": "#4D5663"
          },
          "text": "Spread"
         },
         "zerolinecolor": "#E1E5ED"
        }
       }
      },
      "text/html": [
       "<div>\n",
       "        \n",
       "        \n",
       "            <div id=\"ef6df4da-c14e-4823-9ce9-de420386680a\" class=\"plotly-graph-div\" style=\"height:525px; width:100%;\"></div>\n",
       "            <script type=\"text/javascript\">\n",
       "                require([\"plotly\"], function(Plotly) {\n",
       "                    window.PLOTLYENV=window.PLOTLYENV || {};\n",
       "                    window.PLOTLYENV.BASE_URL='https://plot.ly';\n",
       "                    \n",
       "                if (document.getElementById(\"ef6df4da-c14e-4823-9ce9-de420386680a\")) {\n",
       "                    Plotly.newPlot(\n",
       "                        'ef6df4da-c14e-4823-9ce9-de420386680a',\n",
       "                        [{\"line\": {\"color\": \"rgba(255, 153, 51, 1.0)\", \"dash\": \"solid\", \"shape\": \"linear\", \"width\": 1.3}, \"mode\": \"lines\", \"name\": \"A\", \"text\": \"\", \"type\": \"scatter\", \"x\": [0, 1, 2, 3, 4, 5, 6, 7, 8, 9, 10, 11, 12, 13, 14, 15, 16, 17, 18, 19, 20, 21, 22, 23, 24, 25, 26, 27, 28, 29, 30, 31, 32, 33, 34, 35, 36, 37, 38, 39, 40, 41, 42, 43, 44, 45, 46, 47, 48, 49, 50, 51, 52, 53, 54, 55, 56, 57, 58, 59, 60, 61, 62, 63, 64, 65, 66, 67, 68, 69, 70, 71, 72, 73, 74, 75, 76, 77, 78, 79, 80, 81, 82, 83, 84, 85, 86, 87, 88, 89, 90, 91, 92, 93, 94, 95, 96, 97, 98, 99], \"y\": [0.3366253685910652, -0.8152962615269359, -2.057094167945235, -1.9541343699683842, 0.6350471693898226, 1.3393854246577892, -0.1664414930804797, 0.895126799501226, 0.3292560346097866, -1.5232703639541971, 0.9186446530754513, -0.10771866432911681, -0.24430106447414054, -0.20619549803399442, -0.07496398303253174, -1.1351977435845633, -0.34138973113653054, -0.6892752596721525, -1.5434768318213519, -0.374012762351043, 0.331761227479903, 0.3694659922847097, 0.15913472597883468, -0.9720134165835317, -0.2171894606425676, 0.6258869651944907, -1.2141991773722172, -0.6888312027759299, -1.196606260086114, 1.9171614028912838, -0.8197494317490756, 0.8442744914994555, -0.5354476373949394, -0.13940235912023516, -0.3440487361566797, 0.5847650737857164, -0.20452714135063474, -0.4734153008931332, 0.1525789505851457, 0.15943923195430232, -1.5712599479287583, 0.7302450600457806, -0.5281471269177707, 0.7841689237674179, 1.6847993459208428, 1.0781584592306386, -0.6148700589748657, 0.1356051706983451, -0.7880479114057856, 0.47949379874479436, -0.02441032028762437, -0.07437076244591963, 0.9467680138425014, -0.014671024676162296, 1.782056184224774, 1.7164705123188548, 0.15299462841133046, 0.5526879640231437, -0.7347081734316098, 0.25652438606881317, -0.7714194110548964, -0.9549644235619681, -0.49660877894194355, 0.3252467140305092, -0.31637216864672113, 0.34308269591780455, 0.5282051548907043, -1.1319743118881591, -0.2893859807681463, -0.6601340495579393, -1.0138335460436667, -1.6563261279034838, 0.7256724241953929, -0.11334824786137546, -0.8002763540209177, 0.7867076095020186, 0.4384288714386092, -0.3947589854358734, 0.9062235669638437, 0.8196800251334179, -1.2539062476924414, -0.20130480834260286, -0.12443864472378685, 0.04688882347637687, 1.5337275539272255, 1.982488741300852, -1.1953722916405798, 0.6410983225048137, 0.805785032541812, 0.3932603773541811, -0.6453067879032107, 1.4760578266825994, -0.3594032836309028, 0.9480512342548622, -0.18928712523705382, -0.8481750065845147, 0.4932182939235028, 0.7869080942142737, -1.2665836193117346, -0.1648699611042843]}, {\"line\": {\"color\": \"rgba(55, 128, 191, 1.0)\", \"dash\": \"solid\", \"shape\": \"linear\", \"width\": 1.3}, \"mode\": \"lines\", \"name\": \"B\", \"text\": \"\", \"type\": \"scatter\", \"x\": [0, 1, 2, 3, 4, 5, 6, 7, 8, 9, 10, 11, 12, 13, 14, 15, 16, 17, 18, 19, 20, 21, 22, 23, 24, 25, 26, 27, 28, 29, 30, 31, 32, 33, 34, 35, 36, 37, 38, 39, 40, 41, 42, 43, 44, 45, 46, 47, 48, 49, 50, 51, 52, 53, 54, 55, 56, 57, 58, 59, 60, 61, 62, 63, 64, 65, 66, 67, 68, 69, 70, 71, 72, 73, 74, 75, 76, 77, 78, 79, 80, 81, 82, 83, 84, 85, 86, 87, 88, 89, 90, 91, 92, 93, 94, 95, 96, 97, 98, 99], \"y\": [0.043697341410055664, -1.581436693250505, -1.1115696532210644, -0.5698372836913742, -0.02175389139025899, 0.20260576800273525, 0.791740809273046, 1.3392918747893074, 1.7094803759461192, -2.1379210460183957, -0.07225248650834998, -0.9680086419210548, -0.7083553580314013, 0.973036553547053, 0.6590668117012048, 1.7945342742941552, -0.37518385884804895, 2.107867503689684, 0.742223919259543, -0.9161352194947348, -0.625680464700169, 0.6149028780151503, 0.20293727221135938, -0.06756211935173426, 0.5599385792540977, -0.018063441547951798, 1.0904145182977474, 0.1634388508574048, -0.4931740987536183, -0.6676426208786932, -0.11668102711351185, 0.43121144208387313, -0.1257312590901729, 0.46198432695848557, -0.6439750877139889, 1.3245655646623755, -0.980281342799237, -0.47560336976440476, 0.5015220699951991, 0.6051219350616727, 2.048607451883618, 1.261448986561181, -0.6979944782298741, -0.6143734098828072, -1.7754911385000327, -2.5384857323716385, 1.6392145910633855, -1.4820642874699732, 0.5844190880860396, -0.9436681757156312, -0.6503532338456608, 1.9604123865081746, -1.2156684870760122, 1.7823659197142776, -1.2201866924836282, -0.8602765774469655, 0.4429230638355957, -1.2834305270149287, -0.25170583685474396, 0.6830253659792884, -1.435437310811144, -0.6010432945513375, -0.759550451675055, 0.5494279717404709, -2.601816346142572, -1.4347716877088044, -1.5063832342771595, 1.030878804194865, -0.05143590109769036, -0.16272027060819982, 0.08748232879602544, 0.6301069551469266, -1.3863205154859544, -1.638235833577776, -0.7425171354610364, 0.5881594362154489, -0.9543717077207359, -0.3174249771099468, 0.7827350703006383, 0.45058167180313485, 0.6632662170891702, 1.561964675359686, 0.15404556879730338, 0.08133174112869458, 0.23151390026575197, 0.5024442630469539, 1.2852188126317763, 1.8971364510299469, -0.7424065437024872, 0.25959933392610635, -0.2612537670966083, -0.17573342825713237, 0.6960917629912512, -0.2709490068825894, -0.22219577815518834, -0.6442948098061319, -0.9700610554833162, -0.2098202139951793, -0.8736514829147257, 0.46721323100953]}, {\"connectgaps\": false, \"fill\": \"tozeroy\", \"line\": {\"color\": \"green\", \"dash\": \"solid\", \"shape\": \"linear\", \"width\": 0.5}, \"mode\": \"lines\", \"name\": \"Spread\", \"showlegend\": false, \"type\": \"scatter\", \"x\": [0, 1, 2, 3, 4, 5, 6, 7, 8, 9, 10, 11, 12, 13, 14, 15, 16, 17, 18, 19, 20, 21, 22, 23, 24, 25, 26, 27, 28, 29, 30, 31, 32, 33, 34, 35, 36, 37, 38, 39, 40, 41, 42, 43, 44, 45, 46, 47, 48, 49, 50, 51, 52, 53, 54, 55, 56, 57, 58, 59, 60, 61, 62, 63, 64, 65, 66, 67, 68, 69, 70, 71, 72, 73, 74, 75, 76, 77, 78, 79, 80, 81, 82, 83, 84, 85, 86, 87, 88, 89, 90, 91, 92, 93, 94, 95, 96, 97, 98, 99], \"xaxis\": \"x2\", \"y\": [0.2929280271810095, 0.7661404317235692, \"\", \"\", 0.6568010607800816, 1.1367796566550539, \"\", \"\", \"\", 0.6146506820641986, 0.9908971395838013, 0.860289977591938, 0.4640542935572607, \"\", \"\", \"\", 0.03379412771151841, \"\", \"\", 0.5421224571436918, 0.957441692180072, \"\", \"\", \"\", \"\", 0.6439504067424425, \"\", \"\", \"\", 2.584804023769977, \"\", 0.4130630494155824, \"\", \"\", 0.29992635155730923, \"\", 0.7757542014486022, 0.0021880688712715424, \"\", \"\", \"\", \"\", 0.1698473513121035, 1.3985423336502252, 3.4602904844208755, 3.616644191602277, \"\", 1.6176694581683182, \"\", 1.4231619744604256, 0.6259429135580364, \"\", 2.1624365009185134, \"\", 3.002242876708402, 2.5767470897658202, \"\", 1.8361184910380723, \"\", \"\", 0.6640178997562476, \"\", 0.2629416727331114, \"\", 2.285444177495851, 1.777854383626609, 2.0345883891678636, \"\", \"\", \"\", \"\", \"\", 2.1119929396813473, 1.5248875857164006, \"\", 0.1985481732865697, 1.3928005791593452, \"\", 0.12348849666320538, 0.369098353330283, \"\", \"\", \"\", \"\", 1.3022136536614735, 1.4800444782538982, \"\", \"\", 1.548191576244299, 0.13366104342807478, \"\", 1.6517912549397318, \"\", 1.2190002411374516, 0.03290865291813452, \"\", 1.463279349406819, 0.9967283082094529, \"\", \"\"], \"yaxis\": \"y2\"}, {\"connectgaps\": false, \"fill\": \"tozeroy\", \"line\": {\"color\": \"red\", \"dash\": \"solid\", \"shape\": \"linear\", \"width\": 0.5}, \"mode\": \"lines\", \"name\": \"Spread\", \"showlegend\": false, \"type\": \"scatter\", \"x\": [0, 1, 2, 3, 4, 5, 6, 7, 8, 9, 10, 11, 12, 13, 14, 15, 16, 17, 18, 19, 20, 21, 22, 23, 24, 25, 26, 27, 28, 29, 30, 31, 32, 33, 34, 35, 36, 37, 38, 39, 40, 41, 42, 43, 44, 45, 46, 47, 48, 49, 50, 51, 52, 53, 54, 55, 56, 57, 58, 59, 60, 61, 62, 63, 64, 65, 66, 67, 68, 69, 70, 71, 72, 73, 74, 75, 76, 77, 78, 79, 80, 81, 82, 83, 84, 85, 86, 87, 88, 89, 90, 91, 92, 93, 94, 95, 96, 97, 98, 99], \"xaxis\": \"x2\", \"y\": [\"\", \"\", -0.9455245147241704, -1.38429708627701, \"\", \"\", -0.9581823023535257, -0.44416507528808147, -1.3802243413363326, \"\", \"\", \"\", \"\", -1.1792320515810475, -0.7340307947337366, -2.9297320178787185, \"\", -2.7971427633618364, -2.2857007510808947, \"\", \"\", -0.2454368857304406, -0.04380254623252469, -0.9044512972317974, -0.7771280398966653, \"\", -2.3046136956699645, -0.8522700536333347, -0.7034321613324958, \"\", -0.7030684046355637, \"\", -0.4097163783047665, -0.6013866860787207, \"\", -0.7398004908766591, \"\", \"\", -0.3489431194100534, -0.44568270310737035, -3.6198673998123763, -0.5312039265154005, \"\", \"\", \"\", \"\", -2.2540846500382514, \"\", -1.372466999491825, \"\", \"\", -2.0347831489540944, \"\", -1.79703694439044, \"\", \"\", -0.2899284354242653, \"\", -0.4830023365768658, -0.42650097991047525, \"\", -0.35392112901063055, \"\", -0.22418125770996167, \"\", \"\", \"\", -2.162853116083024, -0.23795007967045595, -0.4974137789497395, -1.101315874839692, -2.2864330830504103, \"\", \"\", -0.05775921855988131, \"\", \"\", -0.07733400832592657, \"\", \"\", -1.9171724647816117, -1.7632694837022889, -0.2784842135210902, -0.03444291765231771, \"\", \"\", -2.480591104272356, -1.2560381285251332, \"\", \"\", -0.3840530208066024, \"\", -1.055495046622154, \"\", \"\", -0.20388019677838287, \"\", \"\", -0.39293213639700886, -0.6320831921138144], \"yaxis\": \"y2\"}],\n",
       "                        {\"hovermode\": \"x\", \"legend\": {\"bgcolor\": \"#F5F6F9\", \"font\": {\"color\": \"#4D5663\"}}, \"paper_bgcolor\": \"#F5F6F9\", \"plot_bgcolor\": \"#F5F6F9\", \"template\": {\"data\": {\"bar\": [{\"error_x\": {\"color\": \"#2a3f5f\"}, \"error_y\": {\"color\": \"#2a3f5f\"}, \"marker\": {\"line\": {\"color\": \"#E5ECF6\", \"width\": 0.5}}, \"type\": \"bar\"}], \"barpolar\": [{\"marker\": {\"line\": {\"color\": \"#E5ECF6\", \"width\": 0.5}}, \"type\": \"barpolar\"}], \"carpet\": [{\"aaxis\": {\"endlinecolor\": \"#2a3f5f\", \"gridcolor\": \"white\", \"linecolor\": \"white\", \"minorgridcolor\": \"white\", \"startlinecolor\": \"#2a3f5f\"}, \"baxis\": {\"endlinecolor\": \"#2a3f5f\", \"gridcolor\": \"white\", \"linecolor\": \"white\", \"minorgridcolor\": \"white\", \"startlinecolor\": \"#2a3f5f\"}, \"type\": \"carpet\"}], \"choropleth\": [{\"colorbar\": {\"outlinewidth\": 0, \"ticks\": \"\"}, \"type\": \"choropleth\"}], \"contour\": [{\"colorbar\": {\"outlinewidth\": 0, \"ticks\": \"\"}, \"colorscale\": [[0.0, \"#0d0887\"], [0.1111111111111111, \"#46039f\"], [0.2222222222222222, \"#7201a8\"], [0.3333333333333333, \"#9c179e\"], [0.4444444444444444, \"#bd3786\"], [0.5555555555555556, \"#d8576b\"], [0.6666666666666666, \"#ed7953\"], [0.7777777777777778, \"#fb9f3a\"], [0.8888888888888888, \"#fdca26\"], [1.0, \"#f0f921\"]], \"type\": \"contour\"}], \"contourcarpet\": [{\"colorbar\": {\"outlinewidth\": 0, \"ticks\": \"\"}, \"type\": \"contourcarpet\"}], \"heatmap\": [{\"colorbar\": {\"outlinewidth\": 0, \"ticks\": \"\"}, \"colorscale\": [[0.0, \"#0d0887\"], [0.1111111111111111, \"#46039f\"], [0.2222222222222222, \"#7201a8\"], [0.3333333333333333, \"#9c179e\"], [0.4444444444444444, \"#bd3786\"], [0.5555555555555556, \"#d8576b\"], [0.6666666666666666, \"#ed7953\"], [0.7777777777777778, \"#fb9f3a\"], [0.8888888888888888, \"#fdca26\"], [1.0, \"#f0f921\"]], \"type\": \"heatmap\"}], \"heatmapgl\": [{\"colorbar\": {\"outlinewidth\": 0, \"ticks\": \"\"}, \"colorscale\": [[0.0, \"#0d0887\"], [0.1111111111111111, \"#46039f\"], [0.2222222222222222, \"#7201a8\"], [0.3333333333333333, \"#9c179e\"], [0.4444444444444444, \"#bd3786\"], [0.5555555555555556, \"#d8576b\"], [0.6666666666666666, \"#ed7953\"], [0.7777777777777778, \"#fb9f3a\"], [0.8888888888888888, \"#fdca26\"], [1.0, \"#f0f921\"]], \"type\": \"heatmapgl\"}], \"histogram\": [{\"marker\": {\"colorbar\": {\"outlinewidth\": 0, \"ticks\": \"\"}}, \"type\": \"histogram\"}], \"histogram2d\": [{\"colorbar\": {\"outlinewidth\": 0, \"ticks\": \"\"}, \"colorscale\": [[0.0, \"#0d0887\"], [0.1111111111111111, \"#46039f\"], [0.2222222222222222, \"#7201a8\"], [0.3333333333333333, \"#9c179e\"], [0.4444444444444444, \"#bd3786\"], [0.5555555555555556, \"#d8576b\"], [0.6666666666666666, \"#ed7953\"], [0.7777777777777778, \"#fb9f3a\"], [0.8888888888888888, \"#fdca26\"], [1.0, \"#f0f921\"]], \"type\": \"histogram2d\"}], \"histogram2dcontour\": [{\"colorbar\": {\"outlinewidth\": 0, \"ticks\": \"\"}, \"colorscale\": [[0.0, \"#0d0887\"], [0.1111111111111111, \"#46039f\"], [0.2222222222222222, \"#7201a8\"], [0.3333333333333333, \"#9c179e\"], [0.4444444444444444, \"#bd3786\"], [0.5555555555555556, \"#d8576b\"], [0.6666666666666666, \"#ed7953\"], [0.7777777777777778, \"#fb9f3a\"], [0.8888888888888888, \"#fdca26\"], [1.0, \"#f0f921\"]], \"type\": \"histogram2dcontour\"}], \"mesh3d\": [{\"colorbar\": {\"outlinewidth\": 0, \"ticks\": \"\"}, \"type\": \"mesh3d\"}], \"parcoords\": [{\"line\": {\"colorbar\": {\"outlinewidth\": 0, \"ticks\": \"\"}}, \"type\": \"parcoords\"}], \"pie\": [{\"automargin\": true, \"type\": \"pie\"}], \"scatter\": [{\"marker\": {\"colorbar\": {\"outlinewidth\": 0, \"ticks\": \"\"}}, \"type\": \"scatter\"}], \"scatter3d\": [{\"line\": {\"colorbar\": {\"outlinewidth\": 0, \"ticks\": \"\"}}, \"marker\": {\"colorbar\": {\"outlinewidth\": 0, \"ticks\": \"\"}}, \"type\": \"scatter3d\"}], \"scattercarpet\": [{\"marker\": {\"colorbar\": {\"outlinewidth\": 0, \"ticks\": \"\"}}, \"type\": \"scattercarpet\"}], \"scattergeo\": [{\"marker\": {\"colorbar\": {\"outlinewidth\": 0, \"ticks\": \"\"}}, \"type\": \"scattergeo\"}], \"scattergl\": [{\"marker\": {\"colorbar\": {\"outlinewidth\": 0, \"ticks\": \"\"}}, \"type\": \"scattergl\"}], \"scattermapbox\": [{\"marker\": {\"colorbar\": {\"outlinewidth\": 0, \"ticks\": \"\"}}, \"type\": \"scattermapbox\"}], \"scatterpolar\": [{\"marker\": {\"colorbar\": {\"outlinewidth\": 0, \"ticks\": \"\"}}, \"type\": \"scatterpolar\"}], \"scatterpolargl\": [{\"marker\": {\"colorbar\": {\"outlinewidth\": 0, \"ticks\": \"\"}}, \"type\": \"scatterpolargl\"}], \"scatterternary\": [{\"marker\": {\"colorbar\": {\"outlinewidth\": 0, \"ticks\": \"\"}}, \"type\": \"scatterternary\"}], \"surface\": [{\"colorbar\": {\"outlinewidth\": 0, \"ticks\": \"\"}, \"colorscale\": [[0.0, \"#0d0887\"], [0.1111111111111111, \"#46039f\"], [0.2222222222222222, \"#7201a8\"], [0.3333333333333333, \"#9c179e\"], [0.4444444444444444, \"#bd3786\"], [0.5555555555555556, \"#d8576b\"], [0.6666666666666666, \"#ed7953\"], [0.7777777777777778, \"#fb9f3a\"], [0.8888888888888888, \"#fdca26\"], [1.0, \"#f0f921\"]], \"type\": \"surface\"}], \"table\": [{\"cells\": {\"fill\": {\"color\": \"#EBF0F8\"}, \"line\": {\"color\": \"white\"}}, \"header\": {\"fill\": {\"color\": \"#C8D4E3\"}, \"line\": {\"color\": \"white\"}}, \"type\": \"table\"}]}, \"layout\": {\"annotationdefaults\": {\"arrowcolor\": \"#2a3f5f\", \"arrowhead\": 0, \"arrowwidth\": 1}, \"coloraxis\": {\"colorbar\": {\"outlinewidth\": 0, \"ticks\": \"\"}}, \"colorscale\": {\"diverging\": [[0, \"#8e0152\"], [0.1, \"#c51b7d\"], [0.2, \"#de77ae\"], [0.3, \"#f1b6da\"], [0.4, \"#fde0ef\"], [0.5, \"#f7f7f7\"], [0.6, \"#e6f5d0\"], [0.7, \"#b8e186\"], [0.8, \"#7fbc41\"], [0.9, \"#4d9221\"], [1, \"#276419\"]], \"sequential\": [[0.0, \"#0d0887\"], [0.1111111111111111, \"#46039f\"], [0.2222222222222222, \"#7201a8\"], [0.3333333333333333, \"#9c179e\"], [0.4444444444444444, \"#bd3786\"], [0.5555555555555556, \"#d8576b\"], [0.6666666666666666, \"#ed7953\"], [0.7777777777777778, \"#fb9f3a\"], [0.8888888888888888, \"#fdca26\"], [1.0, \"#f0f921\"]], \"sequentialminus\": [[0.0, \"#0d0887\"], [0.1111111111111111, \"#46039f\"], [0.2222222222222222, \"#7201a8\"], [0.3333333333333333, \"#9c179e\"], [0.4444444444444444, \"#bd3786\"], [0.5555555555555556, \"#d8576b\"], [0.6666666666666666, \"#ed7953\"], [0.7777777777777778, \"#fb9f3a\"], [0.8888888888888888, \"#fdca26\"], [1.0, \"#f0f921\"]]}, \"colorway\": [\"#636efa\", \"#EF553B\", \"#00cc96\", \"#ab63fa\", \"#FFA15A\", \"#19d3f3\", \"#FF6692\", \"#B6E880\", \"#FF97FF\", \"#FECB52\"], \"font\": {\"color\": \"#2a3f5f\"}, \"geo\": {\"bgcolor\": \"white\", \"lakecolor\": \"white\", \"landcolor\": \"#E5ECF6\", \"showlakes\": true, \"showland\": true, \"subunitcolor\": \"white\"}, \"hoverlabel\": {\"align\": \"left\"}, \"hovermode\": \"closest\", \"mapbox\": {\"style\": \"light\"}, \"paper_bgcolor\": \"white\", \"plot_bgcolor\": \"#E5ECF6\", \"polar\": {\"angularaxis\": {\"gridcolor\": \"white\", \"linecolor\": \"white\", \"ticks\": \"\"}, \"bgcolor\": \"#E5ECF6\", \"radialaxis\": {\"gridcolor\": \"white\", \"linecolor\": \"white\", \"ticks\": \"\"}}, \"scene\": {\"xaxis\": {\"backgroundcolor\": \"#E5ECF6\", \"gridcolor\": \"white\", \"gridwidth\": 2, \"linecolor\": \"white\", \"showbackground\": true, \"ticks\": \"\", \"zerolinecolor\": \"white\"}, \"yaxis\": {\"backgroundcolor\": \"#E5ECF6\", \"gridcolor\": \"white\", \"gridwidth\": 2, \"linecolor\": \"white\", \"showbackground\": true, \"ticks\": \"\", \"zerolinecolor\": \"white\"}, \"zaxis\": {\"backgroundcolor\": \"#E5ECF6\", \"gridcolor\": \"white\", \"gridwidth\": 2, \"linecolor\": \"white\", \"showbackground\": true, \"ticks\": \"\", \"zerolinecolor\": \"white\"}}, \"shapedefaults\": {\"line\": {\"color\": \"#2a3f5f\"}}, \"ternary\": {\"aaxis\": {\"gridcolor\": \"white\", \"linecolor\": \"white\", \"ticks\": \"\"}, \"baxis\": {\"gridcolor\": \"white\", \"linecolor\": \"white\", \"ticks\": \"\"}, \"bgcolor\": \"#E5ECF6\", \"caxis\": {\"gridcolor\": \"white\", \"linecolor\": \"white\", \"ticks\": \"\"}}, \"title\": {\"x\": 0.05}, \"xaxis\": {\"automargin\": true, \"gridcolor\": \"white\", \"linecolor\": \"white\", \"ticks\": \"\", \"title\": {\"standoff\": 15}, \"zerolinecolor\": \"white\", \"zerolinewidth\": 2}, \"yaxis\": {\"automargin\": true, \"gridcolor\": \"white\", \"linecolor\": \"white\", \"ticks\": \"\", \"title\": {\"standoff\": 15}, \"zerolinecolor\": \"white\", \"zerolinewidth\": 2}}}, \"title\": {\"font\": {\"color\": \"#4D5663\"}}, \"xaxis\": {\"gridcolor\": \"#E1E5ED\", \"showgrid\": true, \"tickfont\": {\"color\": \"#4D5663\"}, \"title\": {\"font\": {\"color\": \"#4D5663\"}, \"text\": \"\"}, \"zerolinecolor\": \"#E1E5ED\"}, \"xaxis2\": {\"anchor\": \"y2\", \"gridcolor\": \"#E1E5ED\", \"showgrid\": true, \"showticklabels\": false, \"tickfont\": {\"color\": \"#4D5663\"}, \"title\": {\"font\": {\"color\": \"#4D5663\"}, \"text\": \"\"}, \"zerolinecolor\": \"#E1E5ED\"}, \"yaxis\": {\"domain\": [0.3, 1], \"gridcolor\": \"#E1E5ED\", \"showgrid\": true, \"tickfont\": {\"color\": \"#4D5663\"}, \"title\": {\"font\": {\"color\": \"#4D5663\"}, \"text\": \"\"}, \"zerolinecolor\": \"#E1E5ED\"}, \"yaxis2\": {\"domain\": [0, 0.25], \"gridcolor\": \"#E1E5ED\", \"showgrid\": true, \"tickfont\": {\"color\": \"#4D5663\"}, \"title\": {\"font\": {\"color\": \"#4D5663\"}, \"text\": \"Spread\"}, \"zerolinecolor\": \"#E1E5ED\"}},\n",
       "                        {\"showLink\": true, \"linkText\": \"Export to plot.ly\", \"plotlyServerURL\": \"https://plot.ly\", \"responsive\": true}\n",
       "                    ).then(function(){\n",
       "                            \n",
       "var gd = document.getElementById('ef6df4da-c14e-4823-9ce9-de420386680a');\n",
       "var x = new MutationObserver(function (mutations, observer) {{\n",
       "        var display = window.getComputedStyle(gd).display;\n",
       "        if (!display || display === 'none') {{\n",
       "            console.log([gd, 'removed!']);\n",
       "            Plotly.purge(gd);\n",
       "            observer.disconnect();\n",
       "        }}\n",
       "}});\n",
       "\n",
       "// Listen for the removal of the full notebook cells\n",
       "var notebookContainer = gd.closest('#notebook-container');\n",
       "if (notebookContainer) {{\n",
       "    x.observe(notebookContainer, {childList: true});\n",
       "}}\n",
       "\n",
       "// Listen for the clearing of the current output cell\n",
       "var outputEl = gd.closest('.output');\n",
       "if (outputEl) {{\n",
       "    x.observe(outputEl, {childList: true});\n",
       "}}\n",
       "\n",
       "                        })\n",
       "                };\n",
       "                });\n",
       "            </script>\n",
       "        </div>"
      ]
     },
     "metadata": {},
     "output_type": "display_data"
    }
   ],
   "source": [
    "df[['A','B']].iplot(kind='spread')"
   ]
  },
  {
   "cell_type": "markdown",
   "metadata": {},
   "source": [
    "## histogram"
   ]
  },
  {
   "cell_type": "code",
   "execution_count": 20,
   "metadata": {},
   "outputs": [
    {
     "data": {
      "application/vnd.plotly.v1+json": {
       "config": {
        "linkText": "Export to plot.ly",
        "plotlyServerURL": "https://plot.ly",
        "showLink": true
       },
       "data": [
        {
         "histfunc": "count",
         "histnorm": "",
         "marker": {
          "color": "rgba(255, 153, 51, 1.0)",
          "line": {
           "color": "#4D5663",
           "width": 1.3
          }
         },
         "name": "A",
         "nbinsx": 50,
         "opacity": 0.8,
         "orientation": "v",
         "type": "histogram",
         "x": [
          0.3366253685910652,
          -0.8152962615269359,
          -2.057094167945235,
          -1.9541343699683842,
          0.6350471693898226,
          1.3393854246577892,
          -0.1664414930804797,
          0.895126799501226,
          0.3292560346097866,
          -1.5232703639541971,
          0.9186446530754513,
          -0.10771866432911681,
          -0.24430106447414054,
          -0.20619549803399442,
          -0.07496398303253174,
          -1.1351977435845633,
          -0.34138973113653054,
          -0.6892752596721525,
          -1.5434768318213519,
          -0.374012762351043,
          0.331761227479903,
          0.3694659922847097,
          0.15913472597883468,
          -0.9720134165835317,
          -0.2171894606425676,
          0.6258869651944907,
          -1.2141991773722172,
          -0.6888312027759299,
          -1.196606260086114,
          1.9171614028912838,
          -0.8197494317490756,
          0.8442744914994555,
          -0.5354476373949394,
          -0.13940235912023516,
          -0.3440487361566797,
          0.5847650737857164,
          -0.20452714135063474,
          -0.4734153008931332,
          0.1525789505851457,
          0.15943923195430232,
          -1.5712599479287583,
          0.7302450600457806,
          -0.5281471269177707,
          0.7841689237674179,
          1.6847993459208428,
          1.0781584592306386,
          -0.6148700589748657,
          0.1356051706983451,
          -0.7880479114057856,
          0.47949379874479436,
          -0.02441032028762437,
          -0.07437076244591963,
          0.9467680138425014,
          -0.014671024676162296,
          1.782056184224774,
          1.7164705123188548,
          0.15299462841133046,
          0.5526879640231437,
          -0.7347081734316098,
          0.25652438606881317,
          -0.7714194110548964,
          -0.9549644235619681,
          -0.49660877894194355,
          0.3252467140305092,
          -0.31637216864672113,
          0.34308269591780455,
          0.5282051548907043,
          -1.1319743118881591,
          -0.2893859807681463,
          -0.6601340495579393,
          -1.0138335460436667,
          -1.6563261279034838,
          0.7256724241953929,
          -0.11334824786137546,
          -0.8002763540209177,
          0.7867076095020186,
          0.4384288714386092,
          -0.3947589854358734,
          0.9062235669638437,
          0.8196800251334179,
          -1.2539062476924414,
          -0.20130480834260286,
          -0.12443864472378685,
          0.04688882347637687,
          1.5337275539272255,
          1.982488741300852,
          -1.1953722916405798,
          0.6410983225048137,
          0.805785032541812,
          0.3932603773541811,
          -0.6453067879032107,
          1.4760578266825994,
          -0.3594032836309028,
          0.9480512342548622,
          -0.18928712523705382,
          -0.8481750065845147,
          0.4932182939235028,
          0.7869080942142737,
          -1.2665836193117346,
          -0.1648699611042843
         ]
        }
       ],
       "layout": {
        "barmode": "overlay",
        "legend": {
         "bgcolor": "#F5F6F9",
         "font": {
          "color": "#4D5663"
         }
        },
        "paper_bgcolor": "#F5F6F9",
        "plot_bgcolor": "#F5F6F9",
        "template": {
         "data": {
          "bar": [
           {
            "error_x": {
             "color": "#2a3f5f"
            },
            "error_y": {
             "color": "#2a3f5f"
            },
            "marker": {
             "line": {
              "color": "#E5ECF6",
              "width": 0.5
             }
            },
            "type": "bar"
           }
          ],
          "barpolar": [
           {
            "marker": {
             "line": {
              "color": "#E5ECF6",
              "width": 0.5
             }
            },
            "type": "barpolar"
           }
          ],
          "carpet": [
           {
            "aaxis": {
             "endlinecolor": "#2a3f5f",
             "gridcolor": "white",
             "linecolor": "white",
             "minorgridcolor": "white",
             "startlinecolor": "#2a3f5f"
            },
            "baxis": {
             "endlinecolor": "#2a3f5f",
             "gridcolor": "white",
             "linecolor": "white",
             "minorgridcolor": "white",
             "startlinecolor": "#2a3f5f"
            },
            "type": "carpet"
           }
          ],
          "choropleth": [
           {
            "colorbar": {
             "outlinewidth": 0,
             "ticks": ""
            },
            "type": "choropleth"
           }
          ],
          "contour": [
           {
            "colorbar": {
             "outlinewidth": 0,
             "ticks": ""
            },
            "colorscale": [
             [
              0,
              "#0d0887"
             ],
             [
              0.1111111111111111,
              "#46039f"
             ],
             [
              0.2222222222222222,
              "#7201a8"
             ],
             [
              0.3333333333333333,
              "#9c179e"
             ],
             [
              0.4444444444444444,
              "#bd3786"
             ],
             [
              0.5555555555555556,
              "#d8576b"
             ],
             [
              0.6666666666666666,
              "#ed7953"
             ],
             [
              0.7777777777777778,
              "#fb9f3a"
             ],
             [
              0.8888888888888888,
              "#fdca26"
             ],
             [
              1,
              "#f0f921"
             ]
            ],
            "type": "contour"
           }
          ],
          "contourcarpet": [
           {
            "colorbar": {
             "outlinewidth": 0,
             "ticks": ""
            },
            "type": "contourcarpet"
           }
          ],
          "heatmap": [
           {
            "colorbar": {
             "outlinewidth": 0,
             "ticks": ""
            },
            "colorscale": [
             [
              0,
              "#0d0887"
             ],
             [
              0.1111111111111111,
              "#46039f"
             ],
             [
              0.2222222222222222,
              "#7201a8"
             ],
             [
              0.3333333333333333,
              "#9c179e"
             ],
             [
              0.4444444444444444,
              "#bd3786"
             ],
             [
              0.5555555555555556,
              "#d8576b"
             ],
             [
              0.6666666666666666,
              "#ed7953"
             ],
             [
              0.7777777777777778,
              "#fb9f3a"
             ],
             [
              0.8888888888888888,
              "#fdca26"
             ],
             [
              1,
              "#f0f921"
             ]
            ],
            "type": "heatmap"
           }
          ],
          "heatmapgl": [
           {
            "colorbar": {
             "outlinewidth": 0,
             "ticks": ""
            },
            "colorscale": [
             [
              0,
              "#0d0887"
             ],
             [
              0.1111111111111111,
              "#46039f"
             ],
             [
              0.2222222222222222,
              "#7201a8"
             ],
             [
              0.3333333333333333,
              "#9c179e"
             ],
             [
              0.4444444444444444,
              "#bd3786"
             ],
             [
              0.5555555555555556,
              "#d8576b"
             ],
             [
              0.6666666666666666,
              "#ed7953"
             ],
             [
              0.7777777777777778,
              "#fb9f3a"
             ],
             [
              0.8888888888888888,
              "#fdca26"
             ],
             [
              1,
              "#f0f921"
             ]
            ],
            "type": "heatmapgl"
           }
          ],
          "histogram": [
           {
            "marker": {
             "colorbar": {
              "outlinewidth": 0,
              "ticks": ""
             }
            },
            "type": "histogram"
           }
          ],
          "histogram2d": [
           {
            "colorbar": {
             "outlinewidth": 0,
             "ticks": ""
            },
            "colorscale": [
             [
              0,
              "#0d0887"
             ],
             [
              0.1111111111111111,
              "#46039f"
             ],
             [
              0.2222222222222222,
              "#7201a8"
             ],
             [
              0.3333333333333333,
              "#9c179e"
             ],
             [
              0.4444444444444444,
              "#bd3786"
             ],
             [
              0.5555555555555556,
              "#d8576b"
             ],
             [
              0.6666666666666666,
              "#ed7953"
             ],
             [
              0.7777777777777778,
              "#fb9f3a"
             ],
             [
              0.8888888888888888,
              "#fdca26"
             ],
             [
              1,
              "#f0f921"
             ]
            ],
            "type": "histogram2d"
           }
          ],
          "histogram2dcontour": [
           {
            "colorbar": {
             "outlinewidth": 0,
             "ticks": ""
            },
            "colorscale": [
             [
              0,
              "#0d0887"
             ],
             [
              0.1111111111111111,
              "#46039f"
             ],
             [
              0.2222222222222222,
              "#7201a8"
             ],
             [
              0.3333333333333333,
              "#9c179e"
             ],
             [
              0.4444444444444444,
              "#bd3786"
             ],
             [
              0.5555555555555556,
              "#d8576b"
             ],
             [
              0.6666666666666666,
              "#ed7953"
             ],
             [
              0.7777777777777778,
              "#fb9f3a"
             ],
             [
              0.8888888888888888,
              "#fdca26"
             ],
             [
              1,
              "#f0f921"
             ]
            ],
            "type": "histogram2dcontour"
           }
          ],
          "mesh3d": [
           {
            "colorbar": {
             "outlinewidth": 0,
             "ticks": ""
            },
            "type": "mesh3d"
           }
          ],
          "parcoords": [
           {
            "line": {
             "colorbar": {
              "outlinewidth": 0,
              "ticks": ""
             }
            },
            "type": "parcoords"
           }
          ],
          "pie": [
           {
            "automargin": true,
            "type": "pie"
           }
          ],
          "scatter": [
           {
            "marker": {
             "colorbar": {
              "outlinewidth": 0,
              "ticks": ""
             }
            },
            "type": "scatter"
           }
          ],
          "scatter3d": [
           {
            "line": {
             "colorbar": {
              "outlinewidth": 0,
              "ticks": ""
             }
            },
            "marker": {
             "colorbar": {
              "outlinewidth": 0,
              "ticks": ""
             }
            },
            "type": "scatter3d"
           }
          ],
          "scattercarpet": [
           {
            "marker": {
             "colorbar": {
              "outlinewidth": 0,
              "ticks": ""
             }
            },
            "type": "scattercarpet"
           }
          ],
          "scattergeo": [
           {
            "marker": {
             "colorbar": {
              "outlinewidth": 0,
              "ticks": ""
             }
            },
            "type": "scattergeo"
           }
          ],
          "scattergl": [
           {
            "marker": {
             "colorbar": {
              "outlinewidth": 0,
              "ticks": ""
             }
            },
            "type": "scattergl"
           }
          ],
          "scattermapbox": [
           {
            "marker": {
             "colorbar": {
              "outlinewidth": 0,
              "ticks": ""
             }
            },
            "type": "scattermapbox"
           }
          ],
          "scatterpolar": [
           {
            "marker": {
             "colorbar": {
              "outlinewidth": 0,
              "ticks": ""
             }
            },
            "type": "scatterpolar"
           }
          ],
          "scatterpolargl": [
           {
            "marker": {
             "colorbar": {
              "outlinewidth": 0,
              "ticks": ""
             }
            },
            "type": "scatterpolargl"
           }
          ],
          "scatterternary": [
           {
            "marker": {
             "colorbar": {
              "outlinewidth": 0,
              "ticks": ""
             }
            },
            "type": "scatterternary"
           }
          ],
          "surface": [
           {
            "colorbar": {
             "outlinewidth": 0,
             "ticks": ""
            },
            "colorscale": [
             [
              0,
              "#0d0887"
             ],
             [
              0.1111111111111111,
              "#46039f"
             ],
             [
              0.2222222222222222,
              "#7201a8"
             ],
             [
              0.3333333333333333,
              "#9c179e"
             ],
             [
              0.4444444444444444,
              "#bd3786"
             ],
             [
              0.5555555555555556,
              "#d8576b"
             ],
             [
              0.6666666666666666,
              "#ed7953"
             ],
             [
              0.7777777777777778,
              "#fb9f3a"
             ],
             [
              0.8888888888888888,
              "#fdca26"
             ],
             [
              1,
              "#f0f921"
             ]
            ],
            "type": "surface"
           }
          ],
          "table": [
           {
            "cells": {
             "fill": {
              "color": "#EBF0F8"
             },
             "line": {
              "color": "white"
             }
            },
            "header": {
             "fill": {
              "color": "#C8D4E3"
             },
             "line": {
              "color": "white"
             }
            },
            "type": "table"
           }
          ]
         },
         "layout": {
          "annotationdefaults": {
           "arrowcolor": "#2a3f5f",
           "arrowhead": 0,
           "arrowwidth": 1
          },
          "coloraxis": {
           "colorbar": {
            "outlinewidth": 0,
            "ticks": ""
           }
          },
          "colorscale": {
           "diverging": [
            [
             0,
             "#8e0152"
            ],
            [
             0.1,
             "#c51b7d"
            ],
            [
             0.2,
             "#de77ae"
            ],
            [
             0.3,
             "#f1b6da"
            ],
            [
             0.4,
             "#fde0ef"
            ],
            [
             0.5,
             "#f7f7f7"
            ],
            [
             0.6,
             "#e6f5d0"
            ],
            [
             0.7,
             "#b8e186"
            ],
            [
             0.8,
             "#7fbc41"
            ],
            [
             0.9,
             "#4d9221"
            ],
            [
             1,
             "#276419"
            ]
           ],
           "sequential": [
            [
             0,
             "#0d0887"
            ],
            [
             0.1111111111111111,
             "#46039f"
            ],
            [
             0.2222222222222222,
             "#7201a8"
            ],
            [
             0.3333333333333333,
             "#9c179e"
            ],
            [
             0.4444444444444444,
             "#bd3786"
            ],
            [
             0.5555555555555556,
             "#d8576b"
            ],
            [
             0.6666666666666666,
             "#ed7953"
            ],
            [
             0.7777777777777778,
             "#fb9f3a"
            ],
            [
             0.8888888888888888,
             "#fdca26"
            ],
            [
             1,
             "#f0f921"
            ]
           ],
           "sequentialminus": [
            [
             0,
             "#0d0887"
            ],
            [
             0.1111111111111111,
             "#46039f"
            ],
            [
             0.2222222222222222,
             "#7201a8"
            ],
            [
             0.3333333333333333,
             "#9c179e"
            ],
            [
             0.4444444444444444,
             "#bd3786"
            ],
            [
             0.5555555555555556,
             "#d8576b"
            ],
            [
             0.6666666666666666,
             "#ed7953"
            ],
            [
             0.7777777777777778,
             "#fb9f3a"
            ],
            [
             0.8888888888888888,
             "#fdca26"
            ],
            [
             1,
             "#f0f921"
            ]
           ]
          },
          "colorway": [
           "#636efa",
           "#EF553B",
           "#00cc96",
           "#ab63fa",
           "#FFA15A",
           "#19d3f3",
           "#FF6692",
           "#B6E880",
           "#FF97FF",
           "#FECB52"
          ],
          "font": {
           "color": "#2a3f5f"
          },
          "geo": {
           "bgcolor": "white",
           "lakecolor": "white",
           "landcolor": "#E5ECF6",
           "showlakes": true,
           "showland": true,
           "subunitcolor": "white"
          },
          "hoverlabel": {
           "align": "left"
          },
          "hovermode": "closest",
          "mapbox": {
           "style": "light"
          },
          "paper_bgcolor": "white",
          "plot_bgcolor": "#E5ECF6",
          "polar": {
           "angularaxis": {
            "gridcolor": "white",
            "linecolor": "white",
            "ticks": ""
           },
           "bgcolor": "#E5ECF6",
           "radialaxis": {
            "gridcolor": "white",
            "linecolor": "white",
            "ticks": ""
           }
          },
          "scene": {
           "xaxis": {
            "backgroundcolor": "#E5ECF6",
            "gridcolor": "white",
            "gridwidth": 2,
            "linecolor": "white",
            "showbackground": true,
            "ticks": "",
            "zerolinecolor": "white"
           },
           "yaxis": {
            "backgroundcolor": "#E5ECF6",
            "gridcolor": "white",
            "gridwidth": 2,
            "linecolor": "white",
            "showbackground": true,
            "ticks": "",
            "zerolinecolor": "white"
           },
           "zaxis": {
            "backgroundcolor": "#E5ECF6",
            "gridcolor": "white",
            "gridwidth": 2,
            "linecolor": "white",
            "showbackground": true,
            "ticks": "",
            "zerolinecolor": "white"
           }
          },
          "shapedefaults": {
           "line": {
            "color": "#2a3f5f"
           }
          },
          "ternary": {
           "aaxis": {
            "gridcolor": "white",
            "linecolor": "white",
            "ticks": ""
           },
           "baxis": {
            "gridcolor": "white",
            "linecolor": "white",
            "ticks": ""
           },
           "bgcolor": "#E5ECF6",
           "caxis": {
            "gridcolor": "white",
            "linecolor": "white",
            "ticks": ""
           }
          },
          "title": {
           "x": 0.05
          },
          "xaxis": {
           "automargin": true,
           "gridcolor": "white",
           "linecolor": "white",
           "ticks": "",
           "title": {
            "standoff": 15
           },
           "zerolinecolor": "white",
           "zerolinewidth": 2
          },
          "yaxis": {
           "automargin": true,
           "gridcolor": "white",
           "linecolor": "white",
           "ticks": "",
           "title": {
            "standoff": 15
           },
           "zerolinecolor": "white",
           "zerolinewidth": 2
          }
         }
        },
        "title": {
         "font": {
          "color": "#4D5663"
         }
        },
        "xaxis": {
         "gridcolor": "#E1E5ED",
         "showgrid": true,
         "tickfont": {
          "color": "#4D5663"
         },
         "title": {
          "font": {
           "color": "#4D5663"
          },
          "text": ""
         },
         "zerolinecolor": "#E1E5ED"
        },
        "yaxis": {
         "gridcolor": "#E1E5ED",
         "showgrid": true,
         "tickfont": {
          "color": "#4D5663"
         },
         "title": {
          "font": {
           "color": "#4D5663"
          },
          "text": ""
         },
         "zerolinecolor": "#E1E5ED"
        }
       }
      },
      "text/html": [
       "<div>\n",
       "        \n",
       "        \n",
       "            <div id=\"ecf9c9e9-7fac-4632-9690-55d54632fef5\" class=\"plotly-graph-div\" style=\"height:525px; width:100%;\"></div>\n",
       "            <script type=\"text/javascript\">\n",
       "                require([\"plotly\"], function(Plotly) {\n",
       "                    window.PLOTLYENV=window.PLOTLYENV || {};\n",
       "                    window.PLOTLYENV.BASE_URL='https://plot.ly';\n",
       "                    \n",
       "                if (document.getElementById(\"ecf9c9e9-7fac-4632-9690-55d54632fef5\")) {\n",
       "                    Plotly.newPlot(\n",
       "                        'ecf9c9e9-7fac-4632-9690-55d54632fef5',\n",
       "                        [{\"histfunc\": \"count\", \"histnorm\": \"\", \"marker\": {\"color\": \"rgba(255, 153, 51, 1.0)\", \"line\": {\"color\": \"#4D5663\", \"width\": 1.3}}, \"name\": \"A\", \"nbinsx\": 50, \"opacity\": 0.8, \"orientation\": \"v\", \"type\": \"histogram\", \"x\": [0.3366253685910652, -0.8152962615269359, -2.057094167945235, -1.9541343699683842, 0.6350471693898226, 1.3393854246577892, -0.1664414930804797, 0.895126799501226, 0.3292560346097866, -1.5232703639541971, 0.9186446530754513, -0.10771866432911681, -0.24430106447414054, -0.20619549803399442, -0.07496398303253174, -1.1351977435845633, -0.34138973113653054, -0.6892752596721525, -1.5434768318213519, -0.374012762351043, 0.331761227479903, 0.3694659922847097, 0.15913472597883468, -0.9720134165835317, -0.2171894606425676, 0.6258869651944907, -1.2141991773722172, -0.6888312027759299, -1.196606260086114, 1.9171614028912838, -0.8197494317490756, 0.8442744914994555, -0.5354476373949394, -0.13940235912023516, -0.3440487361566797, 0.5847650737857164, -0.20452714135063474, -0.4734153008931332, 0.1525789505851457, 0.15943923195430232, -1.5712599479287583, 0.7302450600457806, -0.5281471269177707, 0.7841689237674179, 1.6847993459208428, 1.0781584592306386, -0.6148700589748657, 0.1356051706983451, -0.7880479114057856, 0.47949379874479436, -0.02441032028762437, -0.07437076244591963, 0.9467680138425014, -0.014671024676162296, 1.782056184224774, 1.7164705123188548, 0.15299462841133046, 0.5526879640231437, -0.7347081734316098, 0.25652438606881317, -0.7714194110548964, -0.9549644235619681, -0.49660877894194355, 0.3252467140305092, -0.31637216864672113, 0.34308269591780455, 0.5282051548907043, -1.1319743118881591, -0.2893859807681463, -0.6601340495579393, -1.0138335460436667, -1.6563261279034838, 0.7256724241953929, -0.11334824786137546, -0.8002763540209177, 0.7867076095020186, 0.4384288714386092, -0.3947589854358734, 0.9062235669638437, 0.8196800251334179, -1.2539062476924414, -0.20130480834260286, -0.12443864472378685, 0.04688882347637687, 1.5337275539272255, 1.982488741300852, -1.1953722916405798, 0.6410983225048137, 0.805785032541812, 0.3932603773541811, -0.6453067879032107, 1.4760578266825994, -0.3594032836309028, 0.9480512342548622, -0.18928712523705382, -0.8481750065845147, 0.4932182939235028, 0.7869080942142737, -1.2665836193117346, -0.1648699611042843]}],\n",
       "                        {\"barmode\": \"overlay\", \"legend\": {\"bgcolor\": \"#F5F6F9\", \"font\": {\"color\": \"#4D5663\"}}, \"paper_bgcolor\": \"#F5F6F9\", \"plot_bgcolor\": \"#F5F6F9\", \"template\": {\"data\": {\"bar\": [{\"error_x\": {\"color\": \"#2a3f5f\"}, \"error_y\": {\"color\": \"#2a3f5f\"}, \"marker\": {\"line\": {\"color\": \"#E5ECF6\", \"width\": 0.5}}, \"type\": \"bar\"}], \"barpolar\": [{\"marker\": {\"line\": {\"color\": \"#E5ECF6\", \"width\": 0.5}}, \"type\": \"barpolar\"}], \"carpet\": [{\"aaxis\": {\"endlinecolor\": \"#2a3f5f\", \"gridcolor\": \"white\", \"linecolor\": \"white\", \"minorgridcolor\": \"white\", \"startlinecolor\": \"#2a3f5f\"}, \"baxis\": {\"endlinecolor\": \"#2a3f5f\", \"gridcolor\": \"white\", \"linecolor\": \"white\", \"minorgridcolor\": \"white\", \"startlinecolor\": \"#2a3f5f\"}, \"type\": \"carpet\"}], \"choropleth\": [{\"colorbar\": {\"outlinewidth\": 0, \"ticks\": \"\"}, \"type\": \"choropleth\"}], \"contour\": [{\"colorbar\": {\"outlinewidth\": 0, \"ticks\": \"\"}, \"colorscale\": [[0.0, \"#0d0887\"], [0.1111111111111111, \"#46039f\"], [0.2222222222222222, \"#7201a8\"], [0.3333333333333333, \"#9c179e\"], [0.4444444444444444, \"#bd3786\"], [0.5555555555555556, \"#d8576b\"], [0.6666666666666666, \"#ed7953\"], [0.7777777777777778, \"#fb9f3a\"], [0.8888888888888888, \"#fdca26\"], [1.0, \"#f0f921\"]], \"type\": \"contour\"}], \"contourcarpet\": [{\"colorbar\": {\"outlinewidth\": 0, \"ticks\": \"\"}, \"type\": \"contourcarpet\"}], \"heatmap\": [{\"colorbar\": {\"outlinewidth\": 0, \"ticks\": \"\"}, \"colorscale\": [[0.0, \"#0d0887\"], [0.1111111111111111, \"#46039f\"], [0.2222222222222222, \"#7201a8\"], [0.3333333333333333, \"#9c179e\"], [0.4444444444444444, \"#bd3786\"], [0.5555555555555556, \"#d8576b\"], [0.6666666666666666, \"#ed7953\"], [0.7777777777777778, \"#fb9f3a\"], [0.8888888888888888, \"#fdca26\"], [1.0, \"#f0f921\"]], \"type\": \"heatmap\"}], \"heatmapgl\": [{\"colorbar\": {\"outlinewidth\": 0, \"ticks\": \"\"}, \"colorscale\": [[0.0, \"#0d0887\"], [0.1111111111111111, \"#46039f\"], [0.2222222222222222, \"#7201a8\"], [0.3333333333333333, \"#9c179e\"], [0.4444444444444444, \"#bd3786\"], [0.5555555555555556, \"#d8576b\"], [0.6666666666666666, \"#ed7953\"], [0.7777777777777778, \"#fb9f3a\"], [0.8888888888888888, \"#fdca26\"], [1.0, \"#f0f921\"]], \"type\": \"heatmapgl\"}], \"histogram\": [{\"marker\": {\"colorbar\": {\"outlinewidth\": 0, \"ticks\": \"\"}}, \"type\": \"histogram\"}], \"histogram2d\": [{\"colorbar\": {\"outlinewidth\": 0, \"ticks\": \"\"}, \"colorscale\": [[0.0, \"#0d0887\"], [0.1111111111111111, \"#46039f\"], [0.2222222222222222, \"#7201a8\"], [0.3333333333333333, \"#9c179e\"], [0.4444444444444444, \"#bd3786\"], [0.5555555555555556, \"#d8576b\"], [0.6666666666666666, \"#ed7953\"], [0.7777777777777778, \"#fb9f3a\"], [0.8888888888888888, \"#fdca26\"], [1.0, \"#f0f921\"]], \"type\": \"histogram2d\"}], \"histogram2dcontour\": [{\"colorbar\": {\"outlinewidth\": 0, \"ticks\": \"\"}, \"colorscale\": [[0.0, \"#0d0887\"], [0.1111111111111111, \"#46039f\"], [0.2222222222222222, \"#7201a8\"], [0.3333333333333333, \"#9c179e\"], [0.4444444444444444, \"#bd3786\"], [0.5555555555555556, \"#d8576b\"], [0.6666666666666666, \"#ed7953\"], [0.7777777777777778, \"#fb9f3a\"], [0.8888888888888888, \"#fdca26\"], [1.0, \"#f0f921\"]], \"type\": \"histogram2dcontour\"}], \"mesh3d\": [{\"colorbar\": {\"outlinewidth\": 0, \"ticks\": \"\"}, \"type\": \"mesh3d\"}], \"parcoords\": [{\"line\": {\"colorbar\": {\"outlinewidth\": 0, \"ticks\": \"\"}}, \"type\": \"parcoords\"}], \"pie\": [{\"automargin\": true, \"type\": \"pie\"}], \"scatter\": [{\"marker\": {\"colorbar\": {\"outlinewidth\": 0, \"ticks\": \"\"}}, \"type\": \"scatter\"}], \"scatter3d\": [{\"line\": {\"colorbar\": {\"outlinewidth\": 0, \"ticks\": \"\"}}, \"marker\": {\"colorbar\": {\"outlinewidth\": 0, \"ticks\": \"\"}}, \"type\": \"scatter3d\"}], \"scattercarpet\": [{\"marker\": {\"colorbar\": {\"outlinewidth\": 0, \"ticks\": \"\"}}, \"type\": \"scattercarpet\"}], \"scattergeo\": [{\"marker\": {\"colorbar\": {\"outlinewidth\": 0, \"ticks\": \"\"}}, \"type\": \"scattergeo\"}], \"scattergl\": [{\"marker\": {\"colorbar\": {\"outlinewidth\": 0, \"ticks\": \"\"}}, \"type\": \"scattergl\"}], \"scattermapbox\": [{\"marker\": {\"colorbar\": {\"outlinewidth\": 0, \"ticks\": \"\"}}, \"type\": \"scattermapbox\"}], \"scatterpolar\": [{\"marker\": {\"colorbar\": {\"outlinewidth\": 0, \"ticks\": \"\"}}, \"type\": \"scatterpolar\"}], \"scatterpolargl\": [{\"marker\": {\"colorbar\": {\"outlinewidth\": 0, \"ticks\": \"\"}}, \"type\": \"scatterpolargl\"}], \"scatterternary\": [{\"marker\": {\"colorbar\": {\"outlinewidth\": 0, \"ticks\": \"\"}}, \"type\": \"scatterternary\"}], \"surface\": [{\"colorbar\": {\"outlinewidth\": 0, \"ticks\": \"\"}, \"colorscale\": [[0.0, \"#0d0887\"], [0.1111111111111111, \"#46039f\"], [0.2222222222222222, \"#7201a8\"], [0.3333333333333333, \"#9c179e\"], [0.4444444444444444, \"#bd3786\"], [0.5555555555555556, \"#d8576b\"], [0.6666666666666666, \"#ed7953\"], [0.7777777777777778, \"#fb9f3a\"], [0.8888888888888888, \"#fdca26\"], [1.0, \"#f0f921\"]], \"type\": \"surface\"}], \"table\": [{\"cells\": {\"fill\": {\"color\": \"#EBF0F8\"}, \"line\": {\"color\": \"white\"}}, \"header\": {\"fill\": {\"color\": \"#C8D4E3\"}, \"line\": {\"color\": \"white\"}}, \"type\": \"table\"}]}, \"layout\": {\"annotationdefaults\": {\"arrowcolor\": \"#2a3f5f\", \"arrowhead\": 0, \"arrowwidth\": 1}, \"coloraxis\": {\"colorbar\": {\"outlinewidth\": 0, \"ticks\": \"\"}}, \"colorscale\": {\"diverging\": [[0, \"#8e0152\"], [0.1, \"#c51b7d\"], [0.2, \"#de77ae\"], [0.3, \"#f1b6da\"], [0.4, \"#fde0ef\"], [0.5, \"#f7f7f7\"], [0.6, \"#e6f5d0\"], [0.7, \"#b8e186\"], [0.8, \"#7fbc41\"], [0.9, \"#4d9221\"], [1, \"#276419\"]], \"sequential\": [[0.0, \"#0d0887\"], [0.1111111111111111, \"#46039f\"], [0.2222222222222222, \"#7201a8\"], [0.3333333333333333, \"#9c179e\"], [0.4444444444444444, \"#bd3786\"], [0.5555555555555556, \"#d8576b\"], [0.6666666666666666, \"#ed7953\"], [0.7777777777777778, \"#fb9f3a\"], [0.8888888888888888, \"#fdca26\"], [1.0, \"#f0f921\"]], \"sequentialminus\": [[0.0, \"#0d0887\"], [0.1111111111111111, \"#46039f\"], [0.2222222222222222, \"#7201a8\"], [0.3333333333333333, \"#9c179e\"], [0.4444444444444444, \"#bd3786\"], [0.5555555555555556, \"#d8576b\"], [0.6666666666666666, \"#ed7953\"], [0.7777777777777778, \"#fb9f3a\"], [0.8888888888888888, \"#fdca26\"], [1.0, \"#f0f921\"]]}, \"colorway\": [\"#636efa\", \"#EF553B\", \"#00cc96\", \"#ab63fa\", \"#FFA15A\", \"#19d3f3\", \"#FF6692\", \"#B6E880\", \"#FF97FF\", \"#FECB52\"], \"font\": {\"color\": \"#2a3f5f\"}, \"geo\": {\"bgcolor\": \"white\", \"lakecolor\": \"white\", \"landcolor\": \"#E5ECF6\", \"showlakes\": true, \"showland\": true, \"subunitcolor\": \"white\"}, \"hoverlabel\": {\"align\": \"left\"}, \"hovermode\": \"closest\", \"mapbox\": {\"style\": \"light\"}, \"paper_bgcolor\": \"white\", \"plot_bgcolor\": \"#E5ECF6\", \"polar\": {\"angularaxis\": {\"gridcolor\": \"white\", \"linecolor\": \"white\", \"ticks\": \"\"}, \"bgcolor\": \"#E5ECF6\", \"radialaxis\": {\"gridcolor\": \"white\", \"linecolor\": \"white\", \"ticks\": \"\"}}, \"scene\": {\"xaxis\": {\"backgroundcolor\": \"#E5ECF6\", \"gridcolor\": \"white\", \"gridwidth\": 2, \"linecolor\": \"white\", \"showbackground\": true, \"ticks\": \"\", \"zerolinecolor\": \"white\"}, \"yaxis\": {\"backgroundcolor\": \"#E5ECF6\", \"gridcolor\": \"white\", \"gridwidth\": 2, \"linecolor\": \"white\", \"showbackground\": true, \"ticks\": \"\", \"zerolinecolor\": \"white\"}, \"zaxis\": {\"backgroundcolor\": \"#E5ECF6\", \"gridcolor\": \"white\", \"gridwidth\": 2, \"linecolor\": \"white\", \"showbackground\": true, \"ticks\": \"\", \"zerolinecolor\": \"white\"}}, \"shapedefaults\": {\"line\": {\"color\": \"#2a3f5f\"}}, \"ternary\": {\"aaxis\": {\"gridcolor\": \"white\", \"linecolor\": \"white\", \"ticks\": \"\"}, \"baxis\": {\"gridcolor\": \"white\", \"linecolor\": \"white\", \"ticks\": \"\"}, \"bgcolor\": \"#E5ECF6\", \"caxis\": {\"gridcolor\": \"white\", \"linecolor\": \"white\", \"ticks\": \"\"}}, \"title\": {\"x\": 0.05}, \"xaxis\": {\"automargin\": true, \"gridcolor\": \"white\", \"linecolor\": \"white\", \"ticks\": \"\", \"title\": {\"standoff\": 15}, \"zerolinecolor\": \"white\", \"zerolinewidth\": 2}, \"yaxis\": {\"automargin\": true, \"gridcolor\": \"white\", \"linecolor\": \"white\", \"ticks\": \"\", \"title\": {\"standoff\": 15}, \"zerolinecolor\": \"white\", \"zerolinewidth\": 2}}}, \"title\": {\"font\": {\"color\": \"#4D5663\"}}, \"xaxis\": {\"gridcolor\": \"#E1E5ED\", \"showgrid\": true, \"tickfont\": {\"color\": \"#4D5663\"}, \"title\": {\"font\": {\"color\": \"#4D5663\"}, \"text\": \"\"}, \"zerolinecolor\": \"#E1E5ED\"}, \"yaxis\": {\"gridcolor\": \"#E1E5ED\", \"showgrid\": true, \"tickfont\": {\"color\": \"#4D5663\"}, \"title\": {\"font\": {\"color\": \"#4D5663\"}, \"text\": \"\"}, \"zerolinecolor\": \"#E1E5ED\"}},\n",
       "                        {\"showLink\": true, \"linkText\": \"Export to plot.ly\", \"plotlyServerURL\": \"https://plot.ly\", \"responsive\": true}\n",
       "                    ).then(function(){\n",
       "                            \n",
       "var gd = document.getElementById('ecf9c9e9-7fac-4632-9690-55d54632fef5');\n",
       "var x = new MutationObserver(function (mutations, observer) {{\n",
       "        var display = window.getComputedStyle(gd).display;\n",
       "        if (!display || display === 'none') {{\n",
       "            console.log([gd, 'removed!']);\n",
       "            Plotly.purge(gd);\n",
       "            observer.disconnect();\n",
       "        }}\n",
       "}});\n",
       "\n",
       "// Listen for the removal of the full notebook cells\n",
       "var notebookContainer = gd.closest('#notebook-container');\n",
       "if (notebookContainer) {{\n",
       "    x.observe(notebookContainer, {childList: true});\n",
       "}}\n",
       "\n",
       "// Listen for the clearing of the current output cell\n",
       "var outputEl = gd.closest('.output');\n",
       "if (outputEl) {{\n",
       "    x.observe(outputEl, {childList: true});\n",
       "}}\n",
       "\n",
       "                        })\n",
       "                };\n",
       "                });\n",
       "            </script>\n",
       "        </div>"
      ]
     },
     "metadata": {},
     "output_type": "display_data"
    }
   ],
   "source": [
    "df['A'].iplot(kind='hist',bins=50)"
   ]
  },
  {
   "cell_type": "code",
   "execution_count": 21,
   "metadata": {},
   "outputs": [
    {
     "data": {
      "application/vnd.plotly.v1+json": {
       "config": {
        "linkText": "Export to plot.ly",
        "plotlyServerURL": "https://plot.ly",
        "showLink": true
       },
       "data": [
        {
         "marker": {
          "color": [
           "rgb(255, 153, 51)",
           "rgb(55, 128, 191)",
           "rgb(50, 171, 96)",
           "rgb(128, 0, 128)",
           "rgb(219, 64, 82)",
           "rgb(0, 128, 128)",
           "rgb(255, 255, 51)",
           "rgb(128, 128, 0)",
           "rgb(251, 128, 114)",
           "rgb(128, 177, 211)"
          ],
          "line": {
           "width": 1.3
          },
          "size": [
           71,
           71,
           97,
           107,
           76,
           68,
           82,
           82,
           64,
           82,
           67,
           75,
           12,
           87,
           78,
           87,
           57,
           83,
           77,
           47,
           62,
           69,
           70,
           46,
           56,
           59,
           81,
           71,
           83,
           64,
           91,
           99,
           41,
           48,
           73,
           89,
           85,
           54,
           79,
           56,
           57,
           74,
           93,
           48,
           50,
           80,
           70,
           91,
           56,
           58,
           43,
           43,
           43,
           50,
           52,
           47,
           68,
           51,
           59,
           71,
           57,
           75,
           87,
           57,
           69,
           37,
           65,
           75,
           52,
           72,
           54,
           94,
           39,
           57,
           67,
           91,
           51,
           61,
           81,
           48,
           27,
           57,
           76,
           65,
           112,
           75,
           79,
           60,
           72,
           21,
           63,
           62,
           87,
           71,
           84,
           34,
           62,
           86,
           65,
           36
          ],
          "symbol": "circle"
         },
         "mode": "markers",
         "text": "",
         "type": "scatter",
         "x": [
          0.3366253685910652,
          -0.8152962615269359,
          -2.057094167945235,
          -1.9541343699683842,
          0.6350471693898226,
          1.3393854246577892,
          -0.1664414930804797,
          0.895126799501226,
          0.3292560346097866,
          -1.5232703639541971,
          0.9186446530754513,
          -0.10771866432911681,
          -0.24430106447414054,
          -0.20619549803399442,
          -0.07496398303253174,
          -1.1351977435845633,
          -0.34138973113653054,
          -0.6892752596721525,
          -1.5434768318213519,
          -0.374012762351043,
          0.331761227479903,
          0.3694659922847097,
          0.15913472597883468,
          -0.9720134165835317,
          -0.2171894606425676,
          0.6258869651944907,
          -1.2141991773722172,
          -0.6888312027759299,
          -1.196606260086114,
          1.9171614028912838,
          -0.8197494317490756,
          0.8442744914994555,
          -0.5354476373949394,
          -0.13940235912023516,
          -0.3440487361566797,
          0.5847650737857164,
          -0.20452714135063474,
          -0.4734153008931332,
          0.1525789505851457,
          0.15943923195430232,
          -1.5712599479287583,
          0.7302450600457806,
          -0.5281471269177707,
          0.7841689237674179,
          1.6847993459208428,
          1.0781584592306386,
          -0.6148700589748657,
          0.1356051706983451,
          -0.7880479114057856,
          0.47949379874479436,
          -0.02441032028762437,
          -0.07437076244591963,
          0.9467680138425014,
          -0.014671024676162296,
          1.782056184224774,
          1.7164705123188548,
          0.15299462841133046,
          0.5526879640231437,
          -0.7347081734316098,
          0.25652438606881317,
          -0.7714194110548964,
          -0.9549644235619681,
          -0.49660877894194355,
          0.3252467140305092,
          -0.31637216864672113,
          0.34308269591780455,
          0.5282051548907043,
          -1.1319743118881591,
          -0.2893859807681463,
          -0.6601340495579393,
          -1.0138335460436667,
          -1.6563261279034838,
          0.7256724241953929,
          -0.11334824786137546,
          -0.8002763540209177,
          0.7867076095020186,
          0.4384288714386092,
          -0.3947589854358734,
          0.9062235669638437,
          0.8196800251334179,
          -1.2539062476924414,
          -0.20130480834260286,
          -0.12443864472378685,
          0.04688882347637687,
          1.5337275539272255,
          1.982488741300852,
          -1.1953722916405798,
          0.6410983225048137,
          0.805785032541812,
          0.3932603773541811,
          -0.6453067879032107,
          1.4760578266825994,
          -0.3594032836309028,
          0.9480512342548622,
          -0.18928712523705382,
          -0.8481750065845147,
          0.4932182939235028,
          0.7869080942142737,
          -1.2665836193117346,
          -0.1648699611042843
         ],
         "y": [
          0.043697341410055664,
          -1.581436693250505,
          -1.1115696532210644,
          -0.5698372836913742,
          -0.02175389139025899,
          0.20260576800273525,
          0.791740809273046,
          1.3392918747893074,
          1.7094803759461192,
          -2.1379210460183957,
          -0.07225248650834998,
          -0.9680086419210548,
          -0.7083553580314013,
          0.973036553547053,
          0.6590668117012048,
          1.7945342742941552,
          -0.37518385884804895,
          2.107867503689684,
          0.742223919259543,
          -0.9161352194947348,
          -0.625680464700169,
          0.6149028780151503,
          0.20293727221135938,
          -0.06756211935173426,
          0.5599385792540977,
          -0.018063441547951798,
          1.0904145182977474,
          0.1634388508574048,
          -0.4931740987536183,
          -0.6676426208786932,
          -0.11668102711351185,
          0.43121144208387313,
          -0.1257312590901729,
          0.46198432695848557,
          -0.6439750877139889,
          1.3245655646623755,
          -0.980281342799237,
          -0.47560336976440476,
          0.5015220699951991,
          0.6051219350616727,
          2.048607451883618,
          1.261448986561181,
          -0.6979944782298741,
          -0.6143734098828072,
          -1.7754911385000327,
          -2.5384857323716385,
          1.6392145910633855,
          -1.4820642874699732,
          0.5844190880860396,
          -0.9436681757156312,
          -0.6503532338456608,
          1.9604123865081746,
          -1.2156684870760122,
          1.7823659197142776,
          -1.2201866924836282,
          -0.8602765774469655,
          0.4429230638355957,
          -1.2834305270149287,
          -0.25170583685474396,
          0.6830253659792884,
          -1.435437310811144,
          -0.6010432945513375,
          -0.759550451675055,
          0.5494279717404709,
          -2.601816346142572,
          -1.4347716877088044,
          -1.5063832342771595,
          1.030878804194865,
          -0.05143590109769036,
          -0.16272027060819982,
          0.08748232879602544,
          0.6301069551469266,
          -1.3863205154859544,
          -1.638235833577776,
          -0.7425171354610364,
          0.5881594362154489,
          -0.9543717077207359,
          -0.3174249771099468,
          0.7827350703006383,
          0.45058167180313485,
          0.6632662170891702,
          1.561964675359686,
          0.15404556879730338,
          0.08133174112869458,
          0.23151390026575197,
          0.5024442630469539,
          1.2852188126317763,
          1.8971364510299469,
          -0.7424065437024872,
          0.25959933392610635,
          -0.2612537670966083,
          -0.17573342825713237,
          0.6960917629912512,
          -0.2709490068825894,
          -0.22219577815518834,
          -0.6442948098061319,
          -0.9700610554833162,
          -0.2098202139951793,
          -0.8736514829147257,
          0.46721323100953
         ]
        }
       ],
       "layout": {
        "legend": {
         "bgcolor": "#F5F6F9",
         "font": {
          "color": "#4D5663"
         }
        },
        "paper_bgcolor": "#F5F6F9",
        "plot_bgcolor": "#F5F6F9",
        "template": {
         "data": {
          "bar": [
           {
            "error_x": {
             "color": "#2a3f5f"
            },
            "error_y": {
             "color": "#2a3f5f"
            },
            "marker": {
             "line": {
              "color": "#E5ECF6",
              "width": 0.5
             }
            },
            "type": "bar"
           }
          ],
          "barpolar": [
           {
            "marker": {
             "line": {
              "color": "#E5ECF6",
              "width": 0.5
             }
            },
            "type": "barpolar"
           }
          ],
          "carpet": [
           {
            "aaxis": {
             "endlinecolor": "#2a3f5f",
             "gridcolor": "white",
             "linecolor": "white",
             "minorgridcolor": "white",
             "startlinecolor": "#2a3f5f"
            },
            "baxis": {
             "endlinecolor": "#2a3f5f",
             "gridcolor": "white",
             "linecolor": "white",
             "minorgridcolor": "white",
             "startlinecolor": "#2a3f5f"
            },
            "type": "carpet"
           }
          ],
          "choropleth": [
           {
            "colorbar": {
             "outlinewidth": 0,
             "ticks": ""
            },
            "type": "choropleth"
           }
          ],
          "contour": [
           {
            "colorbar": {
             "outlinewidth": 0,
             "ticks": ""
            },
            "colorscale": [
             [
              0,
              "#0d0887"
             ],
             [
              0.1111111111111111,
              "#46039f"
             ],
             [
              0.2222222222222222,
              "#7201a8"
             ],
             [
              0.3333333333333333,
              "#9c179e"
             ],
             [
              0.4444444444444444,
              "#bd3786"
             ],
             [
              0.5555555555555556,
              "#d8576b"
             ],
             [
              0.6666666666666666,
              "#ed7953"
             ],
             [
              0.7777777777777778,
              "#fb9f3a"
             ],
             [
              0.8888888888888888,
              "#fdca26"
             ],
             [
              1,
              "#f0f921"
             ]
            ],
            "type": "contour"
           }
          ],
          "contourcarpet": [
           {
            "colorbar": {
             "outlinewidth": 0,
             "ticks": ""
            },
            "type": "contourcarpet"
           }
          ],
          "heatmap": [
           {
            "colorbar": {
             "outlinewidth": 0,
             "ticks": ""
            },
            "colorscale": [
             [
              0,
              "#0d0887"
             ],
             [
              0.1111111111111111,
              "#46039f"
             ],
             [
              0.2222222222222222,
              "#7201a8"
             ],
             [
              0.3333333333333333,
              "#9c179e"
             ],
             [
              0.4444444444444444,
              "#bd3786"
             ],
             [
              0.5555555555555556,
              "#d8576b"
             ],
             [
              0.6666666666666666,
              "#ed7953"
             ],
             [
              0.7777777777777778,
              "#fb9f3a"
             ],
             [
              0.8888888888888888,
              "#fdca26"
             ],
             [
              1,
              "#f0f921"
             ]
            ],
            "type": "heatmap"
           }
          ],
          "heatmapgl": [
           {
            "colorbar": {
             "outlinewidth": 0,
             "ticks": ""
            },
            "colorscale": [
             [
              0,
              "#0d0887"
             ],
             [
              0.1111111111111111,
              "#46039f"
             ],
             [
              0.2222222222222222,
              "#7201a8"
             ],
             [
              0.3333333333333333,
              "#9c179e"
             ],
             [
              0.4444444444444444,
              "#bd3786"
             ],
             [
              0.5555555555555556,
              "#d8576b"
             ],
             [
              0.6666666666666666,
              "#ed7953"
             ],
             [
              0.7777777777777778,
              "#fb9f3a"
             ],
             [
              0.8888888888888888,
              "#fdca26"
             ],
             [
              1,
              "#f0f921"
             ]
            ],
            "type": "heatmapgl"
           }
          ],
          "histogram": [
           {
            "marker": {
             "colorbar": {
              "outlinewidth": 0,
              "ticks": ""
             }
            },
            "type": "histogram"
           }
          ],
          "histogram2d": [
           {
            "colorbar": {
             "outlinewidth": 0,
             "ticks": ""
            },
            "colorscale": [
             [
              0,
              "#0d0887"
             ],
             [
              0.1111111111111111,
              "#46039f"
             ],
             [
              0.2222222222222222,
              "#7201a8"
             ],
             [
              0.3333333333333333,
              "#9c179e"
             ],
             [
              0.4444444444444444,
              "#bd3786"
             ],
             [
              0.5555555555555556,
              "#d8576b"
             ],
             [
              0.6666666666666666,
              "#ed7953"
             ],
             [
              0.7777777777777778,
              "#fb9f3a"
             ],
             [
              0.8888888888888888,
              "#fdca26"
             ],
             [
              1,
              "#f0f921"
             ]
            ],
            "type": "histogram2d"
           }
          ],
          "histogram2dcontour": [
           {
            "colorbar": {
             "outlinewidth": 0,
             "ticks": ""
            },
            "colorscale": [
             [
              0,
              "#0d0887"
             ],
             [
              0.1111111111111111,
              "#46039f"
             ],
             [
              0.2222222222222222,
              "#7201a8"
             ],
             [
              0.3333333333333333,
              "#9c179e"
             ],
             [
              0.4444444444444444,
              "#bd3786"
             ],
             [
              0.5555555555555556,
              "#d8576b"
             ],
             [
              0.6666666666666666,
              "#ed7953"
             ],
             [
              0.7777777777777778,
              "#fb9f3a"
             ],
             [
              0.8888888888888888,
              "#fdca26"
             ],
             [
              1,
              "#f0f921"
             ]
            ],
            "type": "histogram2dcontour"
           }
          ],
          "mesh3d": [
           {
            "colorbar": {
             "outlinewidth": 0,
             "ticks": ""
            },
            "type": "mesh3d"
           }
          ],
          "parcoords": [
           {
            "line": {
             "colorbar": {
              "outlinewidth": 0,
              "ticks": ""
             }
            },
            "type": "parcoords"
           }
          ],
          "pie": [
           {
            "automargin": true,
            "type": "pie"
           }
          ],
          "scatter": [
           {
            "marker": {
             "colorbar": {
              "outlinewidth": 0,
              "ticks": ""
             }
            },
            "type": "scatter"
           }
          ],
          "scatter3d": [
           {
            "line": {
             "colorbar": {
              "outlinewidth": 0,
              "ticks": ""
             }
            },
            "marker": {
             "colorbar": {
              "outlinewidth": 0,
              "ticks": ""
             }
            },
            "type": "scatter3d"
           }
          ],
          "scattercarpet": [
           {
            "marker": {
             "colorbar": {
              "outlinewidth": 0,
              "ticks": ""
             }
            },
            "type": "scattercarpet"
           }
          ],
          "scattergeo": [
           {
            "marker": {
             "colorbar": {
              "outlinewidth": 0,
              "ticks": ""
             }
            },
            "type": "scattergeo"
           }
          ],
          "scattergl": [
           {
            "marker": {
             "colorbar": {
              "outlinewidth": 0,
              "ticks": ""
             }
            },
            "type": "scattergl"
           }
          ],
          "scattermapbox": [
           {
            "marker": {
             "colorbar": {
              "outlinewidth": 0,
              "ticks": ""
             }
            },
            "type": "scattermapbox"
           }
          ],
          "scatterpolar": [
           {
            "marker": {
             "colorbar": {
              "outlinewidth": 0,
              "ticks": ""
             }
            },
            "type": "scatterpolar"
           }
          ],
          "scatterpolargl": [
           {
            "marker": {
             "colorbar": {
              "outlinewidth": 0,
              "ticks": ""
             }
            },
            "type": "scatterpolargl"
           }
          ],
          "scatterternary": [
           {
            "marker": {
             "colorbar": {
              "outlinewidth": 0,
              "ticks": ""
             }
            },
            "type": "scatterternary"
           }
          ],
          "surface": [
           {
            "colorbar": {
             "outlinewidth": 0,
             "ticks": ""
            },
            "colorscale": [
             [
              0,
              "#0d0887"
             ],
             [
              0.1111111111111111,
              "#46039f"
             ],
             [
              0.2222222222222222,
              "#7201a8"
             ],
             [
              0.3333333333333333,
              "#9c179e"
             ],
             [
              0.4444444444444444,
              "#bd3786"
             ],
             [
              0.5555555555555556,
              "#d8576b"
             ],
             [
              0.6666666666666666,
              "#ed7953"
             ],
             [
              0.7777777777777778,
              "#fb9f3a"
             ],
             [
              0.8888888888888888,
              "#fdca26"
             ],
             [
              1,
              "#f0f921"
             ]
            ],
            "type": "surface"
           }
          ],
          "table": [
           {
            "cells": {
             "fill": {
              "color": "#EBF0F8"
             },
             "line": {
              "color": "white"
             }
            },
            "header": {
             "fill": {
              "color": "#C8D4E3"
             },
             "line": {
              "color": "white"
             }
            },
            "type": "table"
           }
          ]
         },
         "layout": {
          "annotationdefaults": {
           "arrowcolor": "#2a3f5f",
           "arrowhead": 0,
           "arrowwidth": 1
          },
          "coloraxis": {
           "colorbar": {
            "outlinewidth": 0,
            "ticks": ""
           }
          },
          "colorscale": {
           "diverging": [
            [
             0,
             "#8e0152"
            ],
            [
             0.1,
             "#c51b7d"
            ],
            [
             0.2,
             "#de77ae"
            ],
            [
             0.3,
             "#f1b6da"
            ],
            [
             0.4,
             "#fde0ef"
            ],
            [
             0.5,
             "#f7f7f7"
            ],
            [
             0.6,
             "#e6f5d0"
            ],
            [
             0.7,
             "#b8e186"
            ],
            [
             0.8,
             "#7fbc41"
            ],
            [
             0.9,
             "#4d9221"
            ],
            [
             1,
             "#276419"
            ]
           ],
           "sequential": [
            [
             0,
             "#0d0887"
            ],
            [
             0.1111111111111111,
             "#46039f"
            ],
            [
             0.2222222222222222,
             "#7201a8"
            ],
            [
             0.3333333333333333,
             "#9c179e"
            ],
            [
             0.4444444444444444,
             "#bd3786"
            ],
            [
             0.5555555555555556,
             "#d8576b"
            ],
            [
             0.6666666666666666,
             "#ed7953"
            ],
            [
             0.7777777777777778,
             "#fb9f3a"
            ],
            [
             0.8888888888888888,
             "#fdca26"
            ],
            [
             1,
             "#f0f921"
            ]
           ],
           "sequentialminus": [
            [
             0,
             "#0d0887"
            ],
            [
             0.1111111111111111,
             "#46039f"
            ],
            [
             0.2222222222222222,
             "#7201a8"
            ],
            [
             0.3333333333333333,
             "#9c179e"
            ],
            [
             0.4444444444444444,
             "#bd3786"
            ],
            [
             0.5555555555555556,
             "#d8576b"
            ],
            [
             0.6666666666666666,
             "#ed7953"
            ],
            [
             0.7777777777777778,
             "#fb9f3a"
            ],
            [
             0.8888888888888888,
             "#fdca26"
            ],
            [
             1,
             "#f0f921"
            ]
           ]
          },
          "colorway": [
           "#636efa",
           "#EF553B",
           "#00cc96",
           "#ab63fa",
           "#FFA15A",
           "#19d3f3",
           "#FF6692",
           "#B6E880",
           "#FF97FF",
           "#FECB52"
          ],
          "font": {
           "color": "#2a3f5f"
          },
          "geo": {
           "bgcolor": "white",
           "lakecolor": "white",
           "landcolor": "#E5ECF6",
           "showlakes": true,
           "showland": true,
           "subunitcolor": "white"
          },
          "hoverlabel": {
           "align": "left"
          },
          "hovermode": "closest",
          "mapbox": {
           "style": "light"
          },
          "paper_bgcolor": "white",
          "plot_bgcolor": "#E5ECF6",
          "polar": {
           "angularaxis": {
            "gridcolor": "white",
            "linecolor": "white",
            "ticks": ""
           },
           "bgcolor": "#E5ECF6",
           "radialaxis": {
            "gridcolor": "white",
            "linecolor": "white",
            "ticks": ""
           }
          },
          "scene": {
           "xaxis": {
            "backgroundcolor": "#E5ECF6",
            "gridcolor": "white",
            "gridwidth": 2,
            "linecolor": "white",
            "showbackground": true,
            "ticks": "",
            "zerolinecolor": "white"
           },
           "yaxis": {
            "backgroundcolor": "#E5ECF6",
            "gridcolor": "white",
            "gridwidth": 2,
            "linecolor": "white",
            "showbackground": true,
            "ticks": "",
            "zerolinecolor": "white"
           },
           "zaxis": {
            "backgroundcolor": "#E5ECF6",
            "gridcolor": "white",
            "gridwidth": 2,
            "linecolor": "white",
            "showbackground": true,
            "ticks": "",
            "zerolinecolor": "white"
           }
          },
          "shapedefaults": {
           "line": {
            "color": "#2a3f5f"
           }
          },
          "ternary": {
           "aaxis": {
            "gridcolor": "white",
            "linecolor": "white",
            "ticks": ""
           },
           "baxis": {
            "gridcolor": "white",
            "linecolor": "white",
            "ticks": ""
           },
           "bgcolor": "#E5ECF6",
           "caxis": {
            "gridcolor": "white",
            "linecolor": "white",
            "ticks": ""
           }
          },
          "title": {
           "x": 0.05
          },
          "xaxis": {
           "automargin": true,
           "gridcolor": "white",
           "linecolor": "white",
           "ticks": "",
           "title": {
            "standoff": 15
           },
           "zerolinecolor": "white",
           "zerolinewidth": 2
          },
          "yaxis": {
           "automargin": true,
           "gridcolor": "white",
           "linecolor": "white",
           "ticks": "",
           "title": {
            "standoff": 15
           },
           "zerolinecolor": "white",
           "zerolinewidth": 2
          }
         }
        },
        "title": {
         "font": {
          "color": "#4D5663"
         }
        },
        "xaxis": {
         "gridcolor": "#E1E5ED",
         "showgrid": true,
         "tickfont": {
          "color": "#4D5663"
         },
         "title": {
          "font": {
           "color": "#4D5663"
          },
          "text": ""
         },
         "zerolinecolor": "#E1E5ED"
        },
        "yaxis": {
         "gridcolor": "#E1E5ED",
         "showgrid": true,
         "tickfont": {
          "color": "#4D5663"
         },
         "title": {
          "font": {
           "color": "#4D5663"
          },
          "text": ""
         },
         "zerolinecolor": "#E1E5ED"
        }
       }
      },
      "text/html": [
       "<div>\n",
       "        \n",
       "        \n",
       "            <div id=\"ea674178-267a-46e9-a058-15299c8686f5\" class=\"plotly-graph-div\" style=\"height:525px; width:100%;\"></div>\n",
       "            <script type=\"text/javascript\">\n",
       "                require([\"plotly\"], function(Plotly) {\n",
       "                    window.PLOTLYENV=window.PLOTLYENV || {};\n",
       "                    window.PLOTLYENV.BASE_URL='https://plot.ly';\n",
       "                    \n",
       "                if (document.getElementById(\"ea674178-267a-46e9-a058-15299c8686f5\")) {\n",
       "                    Plotly.newPlot(\n",
       "                        'ea674178-267a-46e9-a058-15299c8686f5',\n",
       "                        [{\"marker\": {\"color\": [\"rgb(255, 153, 51)\", \"rgb(55, 128, 191)\", \"rgb(50, 171, 96)\", \"rgb(128, 0, 128)\", \"rgb(219, 64, 82)\", \"rgb(0, 128, 128)\", \"rgb(255, 255, 51)\", \"rgb(128, 128, 0)\", \"rgb(251, 128, 114)\", \"rgb(128, 177, 211)\"], \"line\": {\"width\": 1.3}, \"size\": [71, 71, 97, 107, 76, 68, 82, 82, 64, 82, 67, 75, 12, 87, 78, 87, 57, 83, 77, 47, 62, 69, 70, 46, 56, 59, 81, 71, 83, 64, 91, 99, 41, 48, 73, 89, 85, 54, 79, 56, 57, 74, 93, 48, 50, 80, 70, 91, 56, 58, 43, 43, 43, 50, 52, 47, 68, 51, 59, 71, 57, 75, 87, 57, 69, 37, 65, 75, 52, 72, 54, 94, 39, 57, 67, 91, 51, 61, 81, 48, 27, 57, 76, 65, 112, 75, 79, 60, 72, 21, 63, 62, 87, 71, 84, 34, 62, 86, 65, 36], \"symbol\": \"circle\"}, \"mode\": \"markers\", \"text\": \"\", \"type\": \"scatter\", \"x\": [0.3366253685910652, -0.8152962615269359, -2.057094167945235, -1.9541343699683842, 0.6350471693898226, 1.3393854246577892, -0.1664414930804797, 0.895126799501226, 0.3292560346097866, -1.5232703639541971, 0.9186446530754513, -0.10771866432911681, -0.24430106447414054, -0.20619549803399442, -0.07496398303253174, -1.1351977435845633, -0.34138973113653054, -0.6892752596721525, -1.5434768318213519, -0.374012762351043, 0.331761227479903, 0.3694659922847097, 0.15913472597883468, -0.9720134165835317, -0.2171894606425676, 0.6258869651944907, -1.2141991773722172, -0.6888312027759299, -1.196606260086114, 1.9171614028912838, -0.8197494317490756, 0.8442744914994555, -0.5354476373949394, -0.13940235912023516, -0.3440487361566797, 0.5847650737857164, -0.20452714135063474, -0.4734153008931332, 0.1525789505851457, 0.15943923195430232, -1.5712599479287583, 0.7302450600457806, -0.5281471269177707, 0.7841689237674179, 1.6847993459208428, 1.0781584592306386, -0.6148700589748657, 0.1356051706983451, -0.7880479114057856, 0.47949379874479436, -0.02441032028762437, -0.07437076244591963, 0.9467680138425014, -0.014671024676162296, 1.782056184224774, 1.7164705123188548, 0.15299462841133046, 0.5526879640231437, -0.7347081734316098, 0.25652438606881317, -0.7714194110548964, -0.9549644235619681, -0.49660877894194355, 0.3252467140305092, -0.31637216864672113, 0.34308269591780455, 0.5282051548907043, -1.1319743118881591, -0.2893859807681463, -0.6601340495579393, -1.0138335460436667, -1.6563261279034838, 0.7256724241953929, -0.11334824786137546, -0.8002763540209177, 0.7867076095020186, 0.4384288714386092, -0.3947589854358734, 0.9062235669638437, 0.8196800251334179, -1.2539062476924414, -0.20130480834260286, -0.12443864472378685, 0.04688882347637687, 1.5337275539272255, 1.982488741300852, -1.1953722916405798, 0.6410983225048137, 0.805785032541812, 0.3932603773541811, -0.6453067879032107, 1.4760578266825994, -0.3594032836309028, 0.9480512342548622, -0.18928712523705382, -0.8481750065845147, 0.4932182939235028, 0.7869080942142737, -1.2665836193117346, -0.1648699611042843], \"y\": [0.043697341410055664, -1.581436693250505, -1.1115696532210644, -0.5698372836913742, -0.02175389139025899, 0.20260576800273525, 0.791740809273046, 1.3392918747893074, 1.7094803759461192, -2.1379210460183957, -0.07225248650834998, -0.9680086419210548, -0.7083553580314013, 0.973036553547053, 0.6590668117012048, 1.7945342742941552, -0.37518385884804895, 2.107867503689684, 0.742223919259543, -0.9161352194947348, -0.625680464700169, 0.6149028780151503, 0.20293727221135938, -0.06756211935173426, 0.5599385792540977, -0.018063441547951798, 1.0904145182977474, 0.1634388508574048, -0.4931740987536183, -0.6676426208786932, -0.11668102711351185, 0.43121144208387313, -0.1257312590901729, 0.46198432695848557, -0.6439750877139889, 1.3245655646623755, -0.980281342799237, -0.47560336976440476, 0.5015220699951991, 0.6051219350616727, 2.048607451883618, 1.261448986561181, -0.6979944782298741, -0.6143734098828072, -1.7754911385000327, -2.5384857323716385, 1.6392145910633855, -1.4820642874699732, 0.5844190880860396, -0.9436681757156312, -0.6503532338456608, 1.9604123865081746, -1.2156684870760122, 1.7823659197142776, -1.2201866924836282, -0.8602765774469655, 0.4429230638355957, -1.2834305270149287, -0.25170583685474396, 0.6830253659792884, -1.435437310811144, -0.6010432945513375, -0.759550451675055, 0.5494279717404709, -2.601816346142572, -1.4347716877088044, -1.5063832342771595, 1.030878804194865, -0.05143590109769036, -0.16272027060819982, 0.08748232879602544, 0.6301069551469266, -1.3863205154859544, -1.638235833577776, -0.7425171354610364, 0.5881594362154489, -0.9543717077207359, -0.3174249771099468, 0.7827350703006383, 0.45058167180313485, 0.6632662170891702, 1.561964675359686, 0.15404556879730338, 0.08133174112869458, 0.23151390026575197, 0.5024442630469539, 1.2852188126317763, 1.8971364510299469, -0.7424065437024872, 0.25959933392610635, -0.2612537670966083, -0.17573342825713237, 0.6960917629912512, -0.2709490068825894, -0.22219577815518834, -0.6442948098061319, -0.9700610554833162, -0.2098202139951793, -0.8736514829147257, 0.46721323100953]}],\n",
       "                        {\"legend\": {\"bgcolor\": \"#F5F6F9\", \"font\": {\"color\": \"#4D5663\"}}, \"paper_bgcolor\": \"#F5F6F9\", \"plot_bgcolor\": \"#F5F6F9\", \"template\": {\"data\": {\"bar\": [{\"error_x\": {\"color\": \"#2a3f5f\"}, \"error_y\": {\"color\": \"#2a3f5f\"}, \"marker\": {\"line\": {\"color\": \"#E5ECF6\", \"width\": 0.5}}, \"type\": \"bar\"}], \"barpolar\": [{\"marker\": {\"line\": {\"color\": \"#E5ECF6\", \"width\": 0.5}}, \"type\": \"barpolar\"}], \"carpet\": [{\"aaxis\": {\"endlinecolor\": \"#2a3f5f\", \"gridcolor\": \"white\", \"linecolor\": \"white\", \"minorgridcolor\": \"white\", \"startlinecolor\": \"#2a3f5f\"}, \"baxis\": {\"endlinecolor\": \"#2a3f5f\", \"gridcolor\": \"white\", \"linecolor\": \"white\", \"minorgridcolor\": \"white\", \"startlinecolor\": \"#2a3f5f\"}, \"type\": \"carpet\"}], \"choropleth\": [{\"colorbar\": {\"outlinewidth\": 0, \"ticks\": \"\"}, \"type\": \"choropleth\"}], \"contour\": [{\"colorbar\": {\"outlinewidth\": 0, \"ticks\": \"\"}, \"colorscale\": [[0.0, \"#0d0887\"], [0.1111111111111111, \"#46039f\"], [0.2222222222222222, \"#7201a8\"], [0.3333333333333333, \"#9c179e\"], [0.4444444444444444, \"#bd3786\"], [0.5555555555555556, \"#d8576b\"], [0.6666666666666666, \"#ed7953\"], [0.7777777777777778, \"#fb9f3a\"], [0.8888888888888888, \"#fdca26\"], [1.0, \"#f0f921\"]], \"type\": \"contour\"}], \"contourcarpet\": [{\"colorbar\": {\"outlinewidth\": 0, \"ticks\": \"\"}, \"type\": \"contourcarpet\"}], \"heatmap\": [{\"colorbar\": {\"outlinewidth\": 0, \"ticks\": \"\"}, \"colorscale\": [[0.0, \"#0d0887\"], [0.1111111111111111, \"#46039f\"], [0.2222222222222222, \"#7201a8\"], [0.3333333333333333, \"#9c179e\"], [0.4444444444444444, \"#bd3786\"], [0.5555555555555556, \"#d8576b\"], [0.6666666666666666, \"#ed7953\"], [0.7777777777777778, \"#fb9f3a\"], [0.8888888888888888, \"#fdca26\"], [1.0, \"#f0f921\"]], \"type\": \"heatmap\"}], \"heatmapgl\": [{\"colorbar\": {\"outlinewidth\": 0, \"ticks\": \"\"}, \"colorscale\": [[0.0, \"#0d0887\"], [0.1111111111111111, \"#46039f\"], [0.2222222222222222, \"#7201a8\"], [0.3333333333333333, \"#9c179e\"], [0.4444444444444444, \"#bd3786\"], [0.5555555555555556, \"#d8576b\"], [0.6666666666666666, \"#ed7953\"], [0.7777777777777778, \"#fb9f3a\"], [0.8888888888888888, \"#fdca26\"], [1.0, \"#f0f921\"]], \"type\": \"heatmapgl\"}], \"histogram\": [{\"marker\": {\"colorbar\": {\"outlinewidth\": 0, \"ticks\": \"\"}}, \"type\": \"histogram\"}], \"histogram2d\": [{\"colorbar\": {\"outlinewidth\": 0, \"ticks\": \"\"}, \"colorscale\": [[0.0, \"#0d0887\"], [0.1111111111111111, \"#46039f\"], [0.2222222222222222, \"#7201a8\"], [0.3333333333333333, \"#9c179e\"], [0.4444444444444444, \"#bd3786\"], [0.5555555555555556, \"#d8576b\"], [0.6666666666666666, \"#ed7953\"], [0.7777777777777778, \"#fb9f3a\"], [0.8888888888888888, \"#fdca26\"], [1.0, \"#f0f921\"]], \"type\": \"histogram2d\"}], \"histogram2dcontour\": [{\"colorbar\": {\"outlinewidth\": 0, \"ticks\": \"\"}, \"colorscale\": [[0.0, \"#0d0887\"], [0.1111111111111111, \"#46039f\"], [0.2222222222222222, \"#7201a8\"], [0.3333333333333333, \"#9c179e\"], [0.4444444444444444, \"#bd3786\"], [0.5555555555555556, \"#d8576b\"], [0.6666666666666666, \"#ed7953\"], [0.7777777777777778, \"#fb9f3a\"], [0.8888888888888888, \"#fdca26\"], [1.0, \"#f0f921\"]], \"type\": \"histogram2dcontour\"}], \"mesh3d\": [{\"colorbar\": {\"outlinewidth\": 0, \"ticks\": \"\"}, \"type\": \"mesh3d\"}], \"parcoords\": [{\"line\": {\"colorbar\": {\"outlinewidth\": 0, \"ticks\": \"\"}}, \"type\": \"parcoords\"}], \"pie\": [{\"automargin\": true, \"type\": \"pie\"}], \"scatter\": [{\"marker\": {\"colorbar\": {\"outlinewidth\": 0, \"ticks\": \"\"}}, \"type\": \"scatter\"}], \"scatter3d\": [{\"line\": {\"colorbar\": {\"outlinewidth\": 0, \"ticks\": \"\"}}, \"marker\": {\"colorbar\": {\"outlinewidth\": 0, \"ticks\": \"\"}}, \"type\": \"scatter3d\"}], \"scattercarpet\": [{\"marker\": {\"colorbar\": {\"outlinewidth\": 0, \"ticks\": \"\"}}, \"type\": \"scattercarpet\"}], \"scattergeo\": [{\"marker\": {\"colorbar\": {\"outlinewidth\": 0, \"ticks\": \"\"}}, \"type\": \"scattergeo\"}], \"scattergl\": [{\"marker\": {\"colorbar\": {\"outlinewidth\": 0, \"ticks\": \"\"}}, \"type\": \"scattergl\"}], \"scattermapbox\": [{\"marker\": {\"colorbar\": {\"outlinewidth\": 0, \"ticks\": \"\"}}, \"type\": \"scattermapbox\"}], \"scatterpolar\": [{\"marker\": {\"colorbar\": {\"outlinewidth\": 0, \"ticks\": \"\"}}, \"type\": \"scatterpolar\"}], \"scatterpolargl\": [{\"marker\": {\"colorbar\": {\"outlinewidth\": 0, \"ticks\": \"\"}}, \"type\": \"scatterpolargl\"}], \"scatterternary\": [{\"marker\": {\"colorbar\": {\"outlinewidth\": 0, \"ticks\": \"\"}}, \"type\": \"scatterternary\"}], \"surface\": [{\"colorbar\": {\"outlinewidth\": 0, \"ticks\": \"\"}, \"colorscale\": [[0.0, \"#0d0887\"], [0.1111111111111111, \"#46039f\"], [0.2222222222222222, \"#7201a8\"], [0.3333333333333333, \"#9c179e\"], [0.4444444444444444, \"#bd3786\"], [0.5555555555555556, \"#d8576b\"], [0.6666666666666666, \"#ed7953\"], [0.7777777777777778, \"#fb9f3a\"], [0.8888888888888888, \"#fdca26\"], [1.0, \"#f0f921\"]], \"type\": \"surface\"}], \"table\": [{\"cells\": {\"fill\": {\"color\": \"#EBF0F8\"}, \"line\": {\"color\": \"white\"}}, \"header\": {\"fill\": {\"color\": \"#C8D4E3\"}, \"line\": {\"color\": \"white\"}}, \"type\": \"table\"}]}, \"layout\": {\"annotationdefaults\": {\"arrowcolor\": \"#2a3f5f\", \"arrowhead\": 0, \"arrowwidth\": 1}, \"coloraxis\": {\"colorbar\": {\"outlinewidth\": 0, \"ticks\": \"\"}}, \"colorscale\": {\"diverging\": [[0, \"#8e0152\"], [0.1, \"#c51b7d\"], [0.2, \"#de77ae\"], [0.3, \"#f1b6da\"], [0.4, \"#fde0ef\"], [0.5, \"#f7f7f7\"], [0.6, \"#e6f5d0\"], [0.7, \"#b8e186\"], [0.8, \"#7fbc41\"], [0.9, \"#4d9221\"], [1, \"#276419\"]], \"sequential\": [[0.0, \"#0d0887\"], [0.1111111111111111, \"#46039f\"], [0.2222222222222222, \"#7201a8\"], [0.3333333333333333, \"#9c179e\"], [0.4444444444444444, \"#bd3786\"], [0.5555555555555556, \"#d8576b\"], [0.6666666666666666, \"#ed7953\"], [0.7777777777777778, \"#fb9f3a\"], [0.8888888888888888, \"#fdca26\"], [1.0, \"#f0f921\"]], \"sequentialminus\": [[0.0, \"#0d0887\"], [0.1111111111111111, \"#46039f\"], [0.2222222222222222, \"#7201a8\"], [0.3333333333333333, \"#9c179e\"], [0.4444444444444444, \"#bd3786\"], [0.5555555555555556, \"#d8576b\"], [0.6666666666666666, \"#ed7953\"], [0.7777777777777778, \"#fb9f3a\"], [0.8888888888888888, \"#fdca26\"], [1.0, \"#f0f921\"]]}, \"colorway\": [\"#636efa\", \"#EF553B\", \"#00cc96\", \"#ab63fa\", \"#FFA15A\", \"#19d3f3\", \"#FF6692\", \"#B6E880\", \"#FF97FF\", \"#FECB52\"], \"font\": {\"color\": \"#2a3f5f\"}, \"geo\": {\"bgcolor\": \"white\", \"lakecolor\": \"white\", \"landcolor\": \"#E5ECF6\", \"showlakes\": true, \"showland\": true, \"subunitcolor\": \"white\"}, \"hoverlabel\": {\"align\": \"left\"}, \"hovermode\": \"closest\", \"mapbox\": {\"style\": \"light\"}, \"paper_bgcolor\": \"white\", \"plot_bgcolor\": \"#E5ECF6\", \"polar\": {\"angularaxis\": {\"gridcolor\": \"white\", \"linecolor\": \"white\", \"ticks\": \"\"}, \"bgcolor\": \"#E5ECF6\", \"radialaxis\": {\"gridcolor\": \"white\", \"linecolor\": \"white\", \"ticks\": \"\"}}, \"scene\": {\"xaxis\": {\"backgroundcolor\": \"#E5ECF6\", \"gridcolor\": \"white\", \"gridwidth\": 2, \"linecolor\": \"white\", \"showbackground\": true, \"ticks\": \"\", \"zerolinecolor\": \"white\"}, \"yaxis\": {\"backgroundcolor\": \"#E5ECF6\", \"gridcolor\": \"white\", \"gridwidth\": 2, \"linecolor\": \"white\", \"showbackground\": true, \"ticks\": \"\", \"zerolinecolor\": \"white\"}, \"zaxis\": {\"backgroundcolor\": \"#E5ECF6\", \"gridcolor\": \"white\", \"gridwidth\": 2, \"linecolor\": \"white\", \"showbackground\": true, \"ticks\": \"\", \"zerolinecolor\": \"white\"}}, \"shapedefaults\": {\"line\": {\"color\": \"#2a3f5f\"}}, \"ternary\": {\"aaxis\": {\"gridcolor\": \"white\", \"linecolor\": \"white\", \"ticks\": \"\"}, \"baxis\": {\"gridcolor\": \"white\", \"linecolor\": \"white\", \"ticks\": \"\"}, \"bgcolor\": \"#E5ECF6\", \"caxis\": {\"gridcolor\": \"white\", \"linecolor\": \"white\", \"ticks\": \"\"}}, \"title\": {\"x\": 0.05}, \"xaxis\": {\"automargin\": true, \"gridcolor\": \"white\", \"linecolor\": \"white\", \"ticks\": \"\", \"title\": {\"standoff\": 15}, \"zerolinecolor\": \"white\", \"zerolinewidth\": 2}, \"yaxis\": {\"automargin\": true, \"gridcolor\": \"white\", \"linecolor\": \"white\", \"ticks\": \"\", \"title\": {\"standoff\": 15}, \"zerolinecolor\": \"white\", \"zerolinewidth\": 2}}}, \"title\": {\"font\": {\"color\": \"#4D5663\"}}, \"xaxis\": {\"gridcolor\": \"#E1E5ED\", \"showgrid\": true, \"tickfont\": {\"color\": \"#4D5663\"}, \"title\": {\"font\": {\"color\": \"#4D5663\"}, \"text\": \"\"}, \"zerolinecolor\": \"#E1E5ED\"}, \"yaxis\": {\"gridcolor\": \"#E1E5ED\", \"showgrid\": true, \"tickfont\": {\"color\": \"#4D5663\"}, \"title\": {\"font\": {\"color\": \"#4D5663\"}, \"text\": \"\"}, \"zerolinecolor\": \"#E1E5ED\"}},\n",
       "                        {\"showLink\": true, \"linkText\": \"Export to plot.ly\", \"plotlyServerURL\": \"https://plot.ly\", \"responsive\": true}\n",
       "                    ).then(function(){\n",
       "                            \n",
       "var gd = document.getElementById('ea674178-267a-46e9-a058-15299c8686f5');\n",
       "var x = new MutationObserver(function (mutations, observer) {{\n",
       "        var display = window.getComputedStyle(gd).display;\n",
       "        if (!display || display === 'none') {{\n",
       "            console.log([gd, 'removed!']);\n",
       "            Plotly.purge(gd);\n",
       "            observer.disconnect();\n",
       "        }}\n",
       "}});\n",
       "\n",
       "// Listen for the removal of the full notebook cells\n",
       "var notebookContainer = gd.closest('#notebook-container');\n",
       "if (notebookContainer) {{\n",
       "    x.observe(notebookContainer, {childList: true});\n",
       "}}\n",
       "\n",
       "// Listen for the clearing of the current output cell\n",
       "var outputEl = gd.closest('.output');\n",
       "if (outputEl) {{\n",
       "    x.observe(outputEl, {childList: true});\n",
       "}}\n",
       "\n",
       "                        })\n",
       "                };\n",
       "                });\n",
       "            </script>\n",
       "        </div>"
      ]
     },
     "metadata": {},
     "output_type": "display_data"
    }
   ],
   "source": [
    "df.iplot(kind='bubble',x='A',y='B',size='C')"
   ]
  },
  {
   "cell_type": "markdown",
   "metadata": {},
   "source": [
    "## scatter_matrix()\n",
    "\n",
    "Similar to sns.pairplot()"
   ]
  },
  {
   "cell_type": "code",
   "execution_count": 22,
   "metadata": {},
   "outputs": [
    {
     "data": {
      "application/vnd.plotly.v1+json": {
       "config": {
        "linkText": "Export to plot.ly",
        "plotlyServerURL": "https://plot.ly",
        "showLink": true
       },
       "data": [
        {
         "histfunc": "count",
         "histnorm": "",
         "marker": {
          "color": "rgba(255, 153, 51, 1.0)",
          "line": {
           "color": "#4D5663",
           "width": 1.3
          }
         },
         "name": "A",
         "nbinsx": 10,
         "opacity": 0.8,
         "orientation": "v",
         "type": "histogram",
         "x": [
          0.3366253685910652,
          -0.8152962615269359,
          -2.057094167945235,
          -1.9541343699683842,
          0.6350471693898226,
          1.3393854246577892,
          -0.1664414930804797,
          0.895126799501226,
          0.3292560346097866,
          -1.5232703639541971,
          0.9186446530754513,
          -0.10771866432911681,
          -0.24430106447414054,
          -0.20619549803399442,
          -0.07496398303253174,
          -1.1351977435845633,
          -0.34138973113653054,
          -0.6892752596721525,
          -1.5434768318213519,
          -0.374012762351043,
          0.331761227479903,
          0.3694659922847097,
          0.15913472597883468,
          -0.9720134165835317,
          -0.2171894606425676,
          0.6258869651944907,
          -1.2141991773722172,
          -0.6888312027759299,
          -1.196606260086114,
          1.9171614028912838,
          -0.8197494317490756,
          0.8442744914994555,
          -0.5354476373949394,
          -0.13940235912023516,
          -0.3440487361566797,
          0.5847650737857164,
          -0.20452714135063474,
          -0.4734153008931332,
          0.1525789505851457,
          0.15943923195430232,
          -1.5712599479287583,
          0.7302450600457806,
          -0.5281471269177707,
          0.7841689237674179,
          1.6847993459208428,
          1.0781584592306386,
          -0.6148700589748657,
          0.1356051706983451,
          -0.7880479114057856,
          0.47949379874479436,
          -0.02441032028762437,
          -0.07437076244591963,
          0.9467680138425014,
          -0.014671024676162296,
          1.782056184224774,
          1.7164705123188548,
          0.15299462841133046,
          0.5526879640231437,
          -0.7347081734316098,
          0.25652438606881317,
          -0.7714194110548964,
          -0.9549644235619681,
          -0.49660877894194355,
          0.3252467140305092,
          -0.31637216864672113,
          0.34308269591780455,
          0.5282051548907043,
          -1.1319743118881591,
          -0.2893859807681463,
          -0.6601340495579393,
          -1.0138335460436667,
          -1.6563261279034838,
          0.7256724241953929,
          -0.11334824786137546,
          -0.8002763540209177,
          0.7867076095020186,
          0.4384288714386092,
          -0.3947589854358734,
          0.9062235669638437,
          0.8196800251334179,
          -1.2539062476924414,
          -0.20130480834260286,
          -0.12443864472378685,
          0.04688882347637687,
          1.5337275539272255,
          1.982488741300852,
          -1.1953722916405798,
          0.6410983225048137,
          0.805785032541812,
          0.3932603773541811,
          -0.6453067879032107,
          1.4760578266825994,
          -0.3594032836309028,
          0.9480512342548622,
          -0.18928712523705382,
          -0.8481750065845147,
          0.4932182939235028,
          0.7869080942142737,
          -1.2665836193117346,
          -0.1648699611042843
         ],
         "xaxis": "x",
         "yaxis": "y"
        },
        {
         "line": {
          "color": "rgba(128, 128, 128, 1.0)",
          "dash": "solid",
          "shape": "linear",
          "width": 1.3
         },
         "marker": {
          "size": 2,
          "symbol": "circle"
         },
         "mode": "markers",
         "name": "A",
         "text": "",
         "type": "scatter",
         "x": [
          0.043697341410055664,
          -1.581436693250505,
          -1.1115696532210644,
          -0.5698372836913742,
          -0.02175389139025899,
          0.20260576800273525,
          0.791740809273046,
          1.3392918747893074,
          1.7094803759461192,
          -2.1379210460183957,
          -0.07225248650834998,
          -0.9680086419210548,
          -0.7083553580314013,
          0.973036553547053,
          0.6590668117012048,
          1.7945342742941552,
          -0.37518385884804895,
          2.107867503689684,
          0.742223919259543,
          -0.9161352194947348,
          -0.625680464700169,
          0.6149028780151503,
          0.20293727221135938,
          -0.06756211935173426,
          0.5599385792540977,
          -0.018063441547951798,
          1.0904145182977474,
          0.1634388508574048,
          -0.4931740987536183,
          -0.6676426208786932,
          -0.11668102711351185,
          0.43121144208387313,
          -0.1257312590901729,
          0.46198432695848557,
          -0.6439750877139889,
          1.3245655646623755,
          -0.980281342799237,
          -0.47560336976440476,
          0.5015220699951991,
          0.6051219350616727,
          2.048607451883618,
          1.261448986561181,
          -0.6979944782298741,
          -0.6143734098828072,
          -1.7754911385000327,
          -2.5384857323716385,
          1.6392145910633855,
          -1.4820642874699732,
          0.5844190880860396,
          -0.9436681757156312,
          -0.6503532338456608,
          1.9604123865081746,
          -1.2156684870760122,
          1.7823659197142776,
          -1.2201866924836282,
          -0.8602765774469655,
          0.4429230638355957,
          -1.2834305270149287,
          -0.25170583685474396,
          0.6830253659792884,
          -1.435437310811144,
          -0.6010432945513375,
          -0.759550451675055,
          0.5494279717404709,
          -2.601816346142572,
          -1.4347716877088044,
          -1.5063832342771595,
          1.030878804194865,
          -0.05143590109769036,
          -0.16272027060819982,
          0.08748232879602544,
          0.6301069551469266,
          -1.3863205154859544,
          -1.638235833577776,
          -0.7425171354610364,
          0.5881594362154489,
          -0.9543717077207359,
          -0.3174249771099468,
          0.7827350703006383,
          0.45058167180313485,
          0.6632662170891702,
          1.561964675359686,
          0.15404556879730338,
          0.08133174112869458,
          0.23151390026575197,
          0.5024442630469539,
          1.2852188126317763,
          1.8971364510299469,
          -0.7424065437024872,
          0.25959933392610635,
          -0.2612537670966083,
          -0.17573342825713237,
          0.6960917629912512,
          -0.2709490068825894,
          -0.22219577815518834,
          -0.6442948098061319,
          -0.9700610554833162,
          -0.2098202139951793,
          -0.8736514829147257,
          0.46721323100953
         ],
         "xaxis": "x2",
         "y": [
          0.3366253685910652,
          -0.8152962615269359,
          -2.057094167945235,
          -1.9541343699683842,
          0.6350471693898226,
          1.3393854246577892,
          -0.1664414930804797,
          0.895126799501226,
          0.3292560346097866,
          -1.5232703639541971,
          0.9186446530754513,
          -0.10771866432911681,
          -0.24430106447414054,
          -0.20619549803399442,
          -0.07496398303253174,
          -1.1351977435845633,
          -0.34138973113653054,
          -0.6892752596721525,
          -1.5434768318213519,
          -0.374012762351043,
          0.331761227479903,
          0.3694659922847097,
          0.15913472597883468,
          -0.9720134165835317,
          -0.2171894606425676,
          0.6258869651944907,
          -1.2141991773722172,
          -0.6888312027759299,
          -1.196606260086114,
          1.9171614028912838,
          -0.8197494317490756,
          0.8442744914994555,
          -0.5354476373949394,
          -0.13940235912023516,
          -0.3440487361566797,
          0.5847650737857164,
          -0.20452714135063474,
          -0.4734153008931332,
          0.1525789505851457,
          0.15943923195430232,
          -1.5712599479287583,
          0.7302450600457806,
          -0.5281471269177707,
          0.7841689237674179,
          1.6847993459208428,
          1.0781584592306386,
          -0.6148700589748657,
          0.1356051706983451,
          -0.7880479114057856,
          0.47949379874479436,
          -0.02441032028762437,
          -0.07437076244591963,
          0.9467680138425014,
          -0.014671024676162296,
          1.782056184224774,
          1.7164705123188548,
          0.15299462841133046,
          0.5526879640231437,
          -0.7347081734316098,
          0.25652438606881317,
          -0.7714194110548964,
          -0.9549644235619681,
          -0.49660877894194355,
          0.3252467140305092,
          -0.31637216864672113,
          0.34308269591780455,
          0.5282051548907043,
          -1.1319743118881591,
          -0.2893859807681463,
          -0.6601340495579393,
          -1.0138335460436667,
          -1.6563261279034838,
          0.7256724241953929,
          -0.11334824786137546,
          -0.8002763540209177,
          0.7867076095020186,
          0.4384288714386092,
          -0.3947589854358734,
          0.9062235669638437,
          0.8196800251334179,
          -1.2539062476924414,
          -0.20130480834260286,
          -0.12443864472378685,
          0.04688882347637687,
          1.5337275539272255,
          1.982488741300852,
          -1.1953722916405798,
          0.6410983225048137,
          0.805785032541812,
          0.3932603773541811,
          -0.6453067879032107,
          1.4760578266825994,
          -0.3594032836309028,
          0.9480512342548622,
          -0.18928712523705382,
          -0.8481750065845147,
          0.4932182939235028,
          0.7869080942142737,
          -1.2665836193117346,
          -0.1648699611042843
         ],
         "yaxis": "y2"
        },
        {
         "line": {
          "color": "rgba(128, 128, 128, 1.0)",
          "dash": "solid",
          "shape": "linear",
          "width": 1.3
         },
         "marker": {
          "size": 2,
          "symbol": "circle"
         },
         "mode": "markers",
         "name": "A",
         "text": "",
         "type": "scatter",
         "x": [
          0.04255381567537707,
          0.046175923091871234,
          1.4945526874734125,
          2.0499505428395746,
          0.35966706199617965,
          -0.0949271207524387,
          0.6715251925041402,
          0.6505611657188639,
          -0.333791417315038,
          0.6802181420716225,
          -0.1871999136371795,
          0.2697796011413888,
          -3.248413972061903,
          0.9463869332128763,
          0.4428394796224026,
          0.9700189283405273,
          -0.690686931614203,
          0.7024769150134029,
          0.4164675466761889,
          -1.3013787977107742,
          -0.4383056029475472,
          -0.04120214401387803,
          0.006749146217790606,
          -1.3130658543473204,
          -0.784226920233521,
          -0.5850973808915845,
          0.5964125586372435,
          0.07325798840521612,
          0.7099964372805259,
          -0.3399487988844456,
          1.1496742564620555,
          1.6041272692387103,
          -1.601718155678675,
          -1.2413029379413267,
          0.1497112736217552,
          1.0853822331144833,
          0.8383176374572543,
          -0.8640249954026039,
          0.5215788938261666,
          -0.7681135353649741,
          -0.7225439926636898,
          0.21198722295013459,
          1.2983818234618332,
          -1.209332311380756,
          -1.0830682811521244,
          0.5795800665901155,
          0.010675912765416082,
          1.153142052228595,
          -0.7844022321525719,
          -0.6615128381366681,
          -1.498884001979212,
          -1.520167780297197,
          -1.4735451999570175,
          -1.0842158068538486,
          -0.986167046762502,
          -1.2754228210260172,
          -0.10746292903972071,
          -1.065675576219357,
          -0.6185221279367109,
          0.08272834582303598,
          -0.7075774211322811,
          0.26278843922419387,
          0.9276966171843064,
          -0.7442440418530465,
          -0.054698231086657535,
          -1.8054104778947602,
          -0.2995097686537457,
          0.30350328394916304,
          -0.9708332249757549,
          0.11067603405991755,
          -0.876759636086438,
          1.3187269643477046,
          -1.7300516743601386,
          -0.7101342872651458,
          -0.13836495264228366,
          1.1619196815883095,
          -1.032567904922605,
          -0.5062474182999148,
          0.6143148176969475,
          -1.202896468711915,
          -2.41232766945248,
          -0.7388021103883274,
          0.3380031501494933,
          -0.287687012437793,
          2.312571964503006,
          0.26062843201780966,
          0.4893737656897665,
          -0.5670704810079203,
          0.09294294448609702,
          -2.745539243741952,
          -0.365154492063901,
          -0.43082513293274993,
          0.924853093376854,
          0.0592808007496384,
          0.7822802790361943,
          -2.0210347926832934,
          -0.4350931190868809,
          0.9033125340616334,
          -0.28063414814338855,
          -1.9096697038970083
         ],
         "xaxis": "x3",
         "y": [
          0.3366253685910652,
          -0.8152962615269359,
          -2.057094167945235,
          -1.9541343699683842,
          0.6350471693898226,
          1.3393854246577892,
          -0.1664414930804797,
          0.895126799501226,
          0.3292560346097866,
          -1.5232703639541971,
          0.9186446530754513,
          -0.10771866432911681,
          -0.24430106447414054,
          -0.20619549803399442,
          -0.07496398303253174,
          -1.1351977435845633,
          -0.34138973113653054,
          -0.6892752596721525,
          -1.5434768318213519,
          -0.374012762351043,
          0.331761227479903,
          0.3694659922847097,
          0.15913472597883468,
          -0.9720134165835317,
          -0.2171894606425676,
          0.6258869651944907,
          -1.2141991773722172,
          -0.6888312027759299,
          -1.196606260086114,
          1.9171614028912838,
          -0.8197494317490756,
          0.8442744914994555,
          -0.5354476373949394,
          -0.13940235912023516,
          -0.3440487361566797,
          0.5847650737857164,
          -0.20452714135063474,
          -0.4734153008931332,
          0.1525789505851457,
          0.15943923195430232,
          -1.5712599479287583,
          0.7302450600457806,
          -0.5281471269177707,
          0.7841689237674179,
          1.6847993459208428,
          1.0781584592306386,
          -0.6148700589748657,
          0.1356051706983451,
          -0.7880479114057856,
          0.47949379874479436,
          -0.02441032028762437,
          -0.07437076244591963,
          0.9467680138425014,
          -0.014671024676162296,
          1.782056184224774,
          1.7164705123188548,
          0.15299462841133046,
          0.5526879640231437,
          -0.7347081734316098,
          0.25652438606881317,
          -0.7714194110548964,
          -0.9549644235619681,
          -0.49660877894194355,
          0.3252467140305092,
          -0.31637216864672113,
          0.34308269591780455,
          0.5282051548907043,
          -1.1319743118881591,
          -0.2893859807681463,
          -0.6601340495579393,
          -1.0138335460436667,
          -1.6563261279034838,
          0.7256724241953929,
          -0.11334824786137546,
          -0.8002763540209177,
          0.7867076095020186,
          0.4384288714386092,
          -0.3947589854358734,
          0.9062235669638437,
          0.8196800251334179,
          -1.2539062476924414,
          -0.20130480834260286,
          -0.12443864472378685,
          0.04688882347637687,
          1.5337275539272255,
          1.982488741300852,
          -1.1953722916405798,
          0.6410983225048137,
          0.805785032541812,
          0.3932603773541811,
          -0.6453067879032107,
          1.4760578266825994,
          -0.3594032836309028,
          0.9480512342548622,
          -0.18928712523705382,
          -0.8481750065845147,
          0.4932182939235028,
          0.7869080942142737,
          -1.2665836193117346,
          -0.1648699611042843
         ],
         "yaxis": "y3"
        },
        {
         "line": {
          "color": "rgba(128, 128, 128, 1.0)",
          "dash": "solid",
          "shape": "linear",
          "width": 1.3
         },
         "marker": {
          "size": 2,
          "symbol": "circle"
         },
         "mode": "markers",
         "name": "A",
         "text": "",
         "type": "scatter",
         "x": [
          -0.638103274970272,
          -0.4516573544754162,
          0.5078205297139559,
          0.4738191424325633,
          -0.42937902895524394,
          -0.7220933525095943,
          1.2769289696614359,
          -0.8056130983796184,
          0.26795308834055565,
          0.7946503656255284,
          1.7508516378797359,
          -1.7808971763545731,
          1.10089601850168,
          0.9863501646697367,
          0.26369484785855074,
          -0.4420793544967146,
          2.3928736846920877,
          -1.2873048580671396,
          1.7650516257789794,
          -0.5124464260123467,
          1.015744317758713,
          -1.1973771315402644,
          0.40564749635003033,
          0.12353401623427175,
          3.4892219766978765,
          0.7400356604684535,
          1.5737948395296713,
          1.2155227497209096,
          -0.7578777685518293,
          0.21838270714850308,
          0.2906017401905688,
          -0.09274318392091023,
          -0.08501365107773047,
          -1.9169242415553993,
          0.6354044556758225,
          -0.9085822695369786,
          -0.8099317241044525,
          1.1006357530970599,
          -1.5023856122214094,
          -0.22154845805343645,
          -1.3408905430243676,
          -0.6999698546878313,
          0.6462981556258707,
          -2.004558345319722,
          1.4165772372655763,
          -1.703319528829284,
          0.008928166879526484,
          -1.342371253815068,
          1.5922173966646591,
          -0.7222781192097324,
          -1.388599809920899,
          -0.04048973483372441,
          0.26498547150741,
          -1.0862955174970992,
          1.794238525111512,
          -0.10798386115262665,
          0.5965408575811325,
          -0.8897361713533402,
          0.07830855366464426,
          -0.44740813006892227,
          0.4347288461875099,
          0.5038059212723521,
          0.5793219642977636,
          0.17524437803870738,
          0.7209257879842977,
          0.053698688851731964,
          -0.48737598538986593,
          1.2987634408369853,
          1.6451312081981426,
          0.39923952372038357,
          -1.7777297943408932,
          -0.6906817131199058,
          0.2526344979303035,
          -1.4043339844543148,
          0.7727439685302119,
          1.36004424424199,
          -0.7878049258801506,
          -1.2352340376726214,
          0.8593006388571304,
          0.6551972093723268,
          -0.8944068398109183,
          0.38982543354751537,
          -0.20833527014003578,
          0.7755650713361901,
          -0.8313071909579461,
          -0.2692403325632571,
          1.6295625223072496,
          0.42604675267042164,
          0.9135562114108622,
          1.9738901055730302,
          1.6080025335225183,
          0.18039384816335158,
          0.1369333208126082,
          0.5535303225602813,
          0.19182761336966878,
          -0.6284149427013865,
          1.6000310506883364,
          0.6638289795262313,
          1.067503794244087,
          1.125376634490109
         ],
         "xaxis": "x4",
         "y": [
          0.3366253685910652,
          -0.8152962615269359,
          -2.057094167945235,
          -1.9541343699683842,
          0.6350471693898226,
          1.3393854246577892,
          -0.1664414930804797,
          0.895126799501226,
          0.3292560346097866,
          -1.5232703639541971,
          0.9186446530754513,
          -0.10771866432911681,
          -0.24430106447414054,
          -0.20619549803399442,
          -0.07496398303253174,
          -1.1351977435845633,
          -0.34138973113653054,
          -0.6892752596721525,
          -1.5434768318213519,
          -0.374012762351043,
          0.331761227479903,
          0.3694659922847097,
          0.15913472597883468,
          -0.9720134165835317,
          -0.2171894606425676,
          0.6258869651944907,
          -1.2141991773722172,
          -0.6888312027759299,
          -1.196606260086114,
          1.9171614028912838,
          -0.8197494317490756,
          0.8442744914994555,
          -0.5354476373949394,
          -0.13940235912023516,
          -0.3440487361566797,
          0.5847650737857164,
          -0.20452714135063474,
          -0.4734153008931332,
          0.1525789505851457,
          0.15943923195430232,
          -1.5712599479287583,
          0.7302450600457806,
          -0.5281471269177707,
          0.7841689237674179,
          1.6847993459208428,
          1.0781584592306386,
          -0.6148700589748657,
          0.1356051706983451,
          -0.7880479114057856,
          0.47949379874479436,
          -0.02441032028762437,
          -0.07437076244591963,
          0.9467680138425014,
          -0.014671024676162296,
          1.782056184224774,
          1.7164705123188548,
          0.15299462841133046,
          0.5526879640231437,
          -0.7347081734316098,
          0.25652438606881317,
          -0.7714194110548964,
          -0.9549644235619681,
          -0.49660877894194355,
          0.3252467140305092,
          -0.31637216864672113,
          0.34308269591780455,
          0.5282051548907043,
          -1.1319743118881591,
          -0.2893859807681463,
          -0.6601340495579393,
          -1.0138335460436667,
          -1.6563261279034838,
          0.7256724241953929,
          -0.11334824786137546,
          -0.8002763540209177,
          0.7867076095020186,
          0.4384288714386092,
          -0.3947589854358734,
          0.9062235669638437,
          0.8196800251334179,
          -1.2539062476924414,
          -0.20130480834260286,
          -0.12443864472378685,
          0.04688882347637687,
          1.5337275539272255,
          1.982488741300852,
          -1.1953722916405798,
          0.6410983225048137,
          0.805785032541812,
          0.3932603773541811,
          -0.6453067879032107,
          1.4760578266825994,
          -0.3594032836309028,
          0.9480512342548622,
          -0.18928712523705382,
          -0.8481750065845147,
          0.4932182939235028,
          0.7869080942142737,
          -1.2665836193117346,
          -0.1648699611042843
         ],
         "yaxis": "y4"
        },
        {
         "line": {
          "color": "rgba(128, 128, 128, 1.0)",
          "dash": "solid",
          "shape": "linear",
          "width": 1.3
         },
         "marker": {
          "size": 2,
          "symbol": "circle"
         },
         "mode": "markers",
         "name": "B",
         "text": "",
         "type": "scatter",
         "x": [
          0.3366253685910652,
          -0.8152962615269359,
          -2.057094167945235,
          -1.9541343699683842,
          0.6350471693898226,
          1.3393854246577892,
          -0.1664414930804797,
          0.895126799501226,
          0.3292560346097866,
          -1.5232703639541971,
          0.9186446530754513,
          -0.10771866432911681,
          -0.24430106447414054,
          -0.20619549803399442,
          -0.07496398303253174,
          -1.1351977435845633,
          -0.34138973113653054,
          -0.6892752596721525,
          -1.5434768318213519,
          -0.374012762351043,
          0.331761227479903,
          0.3694659922847097,
          0.15913472597883468,
          -0.9720134165835317,
          -0.2171894606425676,
          0.6258869651944907,
          -1.2141991773722172,
          -0.6888312027759299,
          -1.196606260086114,
          1.9171614028912838,
          -0.8197494317490756,
          0.8442744914994555,
          -0.5354476373949394,
          -0.13940235912023516,
          -0.3440487361566797,
          0.5847650737857164,
          -0.20452714135063474,
          -0.4734153008931332,
          0.1525789505851457,
          0.15943923195430232,
          -1.5712599479287583,
          0.7302450600457806,
          -0.5281471269177707,
          0.7841689237674179,
          1.6847993459208428,
          1.0781584592306386,
          -0.6148700589748657,
          0.1356051706983451,
          -0.7880479114057856,
          0.47949379874479436,
          -0.02441032028762437,
          -0.07437076244591963,
          0.9467680138425014,
          -0.014671024676162296,
          1.782056184224774,
          1.7164705123188548,
          0.15299462841133046,
          0.5526879640231437,
          -0.7347081734316098,
          0.25652438606881317,
          -0.7714194110548964,
          -0.9549644235619681,
          -0.49660877894194355,
          0.3252467140305092,
          -0.31637216864672113,
          0.34308269591780455,
          0.5282051548907043,
          -1.1319743118881591,
          -0.2893859807681463,
          -0.6601340495579393,
          -1.0138335460436667,
          -1.6563261279034838,
          0.7256724241953929,
          -0.11334824786137546,
          -0.8002763540209177,
          0.7867076095020186,
          0.4384288714386092,
          -0.3947589854358734,
          0.9062235669638437,
          0.8196800251334179,
          -1.2539062476924414,
          -0.20130480834260286,
          -0.12443864472378685,
          0.04688882347637687,
          1.5337275539272255,
          1.982488741300852,
          -1.1953722916405798,
          0.6410983225048137,
          0.805785032541812,
          0.3932603773541811,
          -0.6453067879032107,
          1.4760578266825994,
          -0.3594032836309028,
          0.9480512342548622,
          -0.18928712523705382,
          -0.8481750065845147,
          0.4932182939235028,
          0.7869080942142737,
          -1.2665836193117346,
          -0.1648699611042843
         ],
         "xaxis": "x5",
         "y": [
          0.043697341410055664,
          -1.581436693250505,
          -1.1115696532210644,
          -0.5698372836913742,
          -0.02175389139025899,
          0.20260576800273525,
          0.791740809273046,
          1.3392918747893074,
          1.7094803759461192,
          -2.1379210460183957,
          -0.07225248650834998,
          -0.9680086419210548,
          -0.7083553580314013,
          0.973036553547053,
          0.6590668117012048,
          1.7945342742941552,
          -0.37518385884804895,
          2.107867503689684,
          0.742223919259543,
          -0.9161352194947348,
          -0.625680464700169,
          0.6149028780151503,
          0.20293727221135938,
          -0.06756211935173426,
          0.5599385792540977,
          -0.018063441547951798,
          1.0904145182977474,
          0.1634388508574048,
          -0.4931740987536183,
          -0.6676426208786932,
          -0.11668102711351185,
          0.43121144208387313,
          -0.1257312590901729,
          0.46198432695848557,
          -0.6439750877139889,
          1.3245655646623755,
          -0.980281342799237,
          -0.47560336976440476,
          0.5015220699951991,
          0.6051219350616727,
          2.048607451883618,
          1.261448986561181,
          -0.6979944782298741,
          -0.6143734098828072,
          -1.7754911385000327,
          -2.5384857323716385,
          1.6392145910633855,
          -1.4820642874699732,
          0.5844190880860396,
          -0.9436681757156312,
          -0.6503532338456608,
          1.9604123865081746,
          -1.2156684870760122,
          1.7823659197142776,
          -1.2201866924836282,
          -0.8602765774469655,
          0.4429230638355957,
          -1.2834305270149287,
          -0.25170583685474396,
          0.6830253659792884,
          -1.435437310811144,
          -0.6010432945513375,
          -0.759550451675055,
          0.5494279717404709,
          -2.601816346142572,
          -1.4347716877088044,
          -1.5063832342771595,
          1.030878804194865,
          -0.05143590109769036,
          -0.16272027060819982,
          0.08748232879602544,
          0.6301069551469266,
          -1.3863205154859544,
          -1.638235833577776,
          -0.7425171354610364,
          0.5881594362154489,
          -0.9543717077207359,
          -0.3174249771099468,
          0.7827350703006383,
          0.45058167180313485,
          0.6632662170891702,
          1.561964675359686,
          0.15404556879730338,
          0.08133174112869458,
          0.23151390026575197,
          0.5024442630469539,
          1.2852188126317763,
          1.8971364510299469,
          -0.7424065437024872,
          0.25959933392610635,
          -0.2612537670966083,
          -0.17573342825713237,
          0.6960917629912512,
          -0.2709490068825894,
          -0.22219577815518834,
          -0.6442948098061319,
          -0.9700610554833162,
          -0.2098202139951793,
          -0.8736514829147257,
          0.46721323100953
         ],
         "yaxis": "y5"
        },
        {
         "histfunc": "count",
         "histnorm": "",
         "marker": {
          "color": "rgba(55, 128, 191, 1.0)",
          "line": {
           "color": "#4D5663",
           "width": 1.3
          }
         },
         "name": "B",
         "nbinsx": 10,
         "opacity": 0.8,
         "orientation": "v",
         "type": "histogram",
         "x": [
          0.043697341410055664,
          -1.581436693250505,
          -1.1115696532210644,
          -0.5698372836913742,
          -0.02175389139025899,
          0.20260576800273525,
          0.791740809273046,
          1.3392918747893074,
          1.7094803759461192,
          -2.1379210460183957,
          -0.07225248650834998,
          -0.9680086419210548,
          -0.7083553580314013,
          0.973036553547053,
          0.6590668117012048,
          1.7945342742941552,
          -0.37518385884804895,
          2.107867503689684,
          0.742223919259543,
          -0.9161352194947348,
          -0.625680464700169,
          0.6149028780151503,
          0.20293727221135938,
          -0.06756211935173426,
          0.5599385792540977,
          -0.018063441547951798,
          1.0904145182977474,
          0.1634388508574048,
          -0.4931740987536183,
          -0.6676426208786932,
          -0.11668102711351185,
          0.43121144208387313,
          -0.1257312590901729,
          0.46198432695848557,
          -0.6439750877139889,
          1.3245655646623755,
          -0.980281342799237,
          -0.47560336976440476,
          0.5015220699951991,
          0.6051219350616727,
          2.048607451883618,
          1.261448986561181,
          -0.6979944782298741,
          -0.6143734098828072,
          -1.7754911385000327,
          -2.5384857323716385,
          1.6392145910633855,
          -1.4820642874699732,
          0.5844190880860396,
          -0.9436681757156312,
          -0.6503532338456608,
          1.9604123865081746,
          -1.2156684870760122,
          1.7823659197142776,
          -1.2201866924836282,
          -0.8602765774469655,
          0.4429230638355957,
          -1.2834305270149287,
          -0.25170583685474396,
          0.6830253659792884,
          -1.435437310811144,
          -0.6010432945513375,
          -0.759550451675055,
          0.5494279717404709,
          -2.601816346142572,
          -1.4347716877088044,
          -1.5063832342771595,
          1.030878804194865,
          -0.05143590109769036,
          -0.16272027060819982,
          0.08748232879602544,
          0.6301069551469266,
          -1.3863205154859544,
          -1.638235833577776,
          -0.7425171354610364,
          0.5881594362154489,
          -0.9543717077207359,
          -0.3174249771099468,
          0.7827350703006383,
          0.45058167180313485,
          0.6632662170891702,
          1.561964675359686,
          0.15404556879730338,
          0.08133174112869458,
          0.23151390026575197,
          0.5024442630469539,
          1.2852188126317763,
          1.8971364510299469,
          -0.7424065437024872,
          0.25959933392610635,
          -0.2612537670966083,
          -0.17573342825713237,
          0.6960917629912512,
          -0.2709490068825894,
          -0.22219577815518834,
          -0.6442948098061319,
          -0.9700610554833162,
          -0.2098202139951793,
          -0.8736514829147257,
          0.46721323100953
         ],
         "xaxis": "x6",
         "yaxis": "y6"
        },
        {
         "line": {
          "color": "rgba(128, 128, 128, 1.0)",
          "dash": "solid",
          "shape": "linear",
          "width": 1.3
         },
         "marker": {
          "size": 2,
          "symbol": "circle"
         },
         "mode": "markers",
         "name": "B",
         "text": "",
         "type": "scatter",
         "x": [
          0.04255381567537707,
          0.046175923091871234,
          1.4945526874734125,
          2.0499505428395746,
          0.35966706199617965,
          -0.0949271207524387,
          0.6715251925041402,
          0.6505611657188639,
          -0.333791417315038,
          0.6802181420716225,
          -0.1871999136371795,
          0.2697796011413888,
          -3.248413972061903,
          0.9463869332128763,
          0.4428394796224026,
          0.9700189283405273,
          -0.690686931614203,
          0.7024769150134029,
          0.4164675466761889,
          -1.3013787977107742,
          -0.4383056029475472,
          -0.04120214401387803,
          0.006749146217790606,
          -1.3130658543473204,
          -0.784226920233521,
          -0.5850973808915845,
          0.5964125586372435,
          0.07325798840521612,
          0.7099964372805259,
          -0.3399487988844456,
          1.1496742564620555,
          1.6041272692387103,
          -1.601718155678675,
          -1.2413029379413267,
          0.1497112736217552,
          1.0853822331144833,
          0.8383176374572543,
          -0.8640249954026039,
          0.5215788938261666,
          -0.7681135353649741,
          -0.7225439926636898,
          0.21198722295013459,
          1.2983818234618332,
          -1.209332311380756,
          -1.0830682811521244,
          0.5795800665901155,
          0.010675912765416082,
          1.153142052228595,
          -0.7844022321525719,
          -0.6615128381366681,
          -1.498884001979212,
          -1.520167780297197,
          -1.4735451999570175,
          -1.0842158068538486,
          -0.986167046762502,
          -1.2754228210260172,
          -0.10746292903972071,
          -1.065675576219357,
          -0.6185221279367109,
          0.08272834582303598,
          -0.7075774211322811,
          0.26278843922419387,
          0.9276966171843064,
          -0.7442440418530465,
          -0.054698231086657535,
          -1.8054104778947602,
          -0.2995097686537457,
          0.30350328394916304,
          -0.9708332249757549,
          0.11067603405991755,
          -0.876759636086438,
          1.3187269643477046,
          -1.7300516743601386,
          -0.7101342872651458,
          -0.13836495264228366,
          1.1619196815883095,
          -1.032567904922605,
          -0.5062474182999148,
          0.6143148176969475,
          -1.202896468711915,
          -2.41232766945248,
          -0.7388021103883274,
          0.3380031501494933,
          -0.287687012437793,
          2.312571964503006,
          0.26062843201780966,
          0.4893737656897665,
          -0.5670704810079203,
          0.09294294448609702,
          -2.745539243741952,
          -0.365154492063901,
          -0.43082513293274993,
          0.924853093376854,
          0.0592808007496384,
          0.7822802790361943,
          -2.0210347926832934,
          -0.4350931190868809,
          0.9033125340616334,
          -0.28063414814338855,
          -1.9096697038970083
         ],
         "xaxis": "x7",
         "y": [
          0.043697341410055664,
          -1.581436693250505,
          -1.1115696532210644,
          -0.5698372836913742,
          -0.02175389139025899,
          0.20260576800273525,
          0.791740809273046,
          1.3392918747893074,
          1.7094803759461192,
          -2.1379210460183957,
          -0.07225248650834998,
          -0.9680086419210548,
          -0.7083553580314013,
          0.973036553547053,
          0.6590668117012048,
          1.7945342742941552,
          -0.37518385884804895,
          2.107867503689684,
          0.742223919259543,
          -0.9161352194947348,
          -0.625680464700169,
          0.6149028780151503,
          0.20293727221135938,
          -0.06756211935173426,
          0.5599385792540977,
          -0.018063441547951798,
          1.0904145182977474,
          0.1634388508574048,
          -0.4931740987536183,
          -0.6676426208786932,
          -0.11668102711351185,
          0.43121144208387313,
          -0.1257312590901729,
          0.46198432695848557,
          -0.6439750877139889,
          1.3245655646623755,
          -0.980281342799237,
          -0.47560336976440476,
          0.5015220699951991,
          0.6051219350616727,
          2.048607451883618,
          1.261448986561181,
          -0.6979944782298741,
          -0.6143734098828072,
          -1.7754911385000327,
          -2.5384857323716385,
          1.6392145910633855,
          -1.4820642874699732,
          0.5844190880860396,
          -0.9436681757156312,
          -0.6503532338456608,
          1.9604123865081746,
          -1.2156684870760122,
          1.7823659197142776,
          -1.2201866924836282,
          -0.8602765774469655,
          0.4429230638355957,
          -1.2834305270149287,
          -0.25170583685474396,
          0.6830253659792884,
          -1.435437310811144,
          -0.6010432945513375,
          -0.759550451675055,
          0.5494279717404709,
          -2.601816346142572,
          -1.4347716877088044,
          -1.5063832342771595,
          1.030878804194865,
          -0.05143590109769036,
          -0.16272027060819982,
          0.08748232879602544,
          0.6301069551469266,
          -1.3863205154859544,
          -1.638235833577776,
          -0.7425171354610364,
          0.5881594362154489,
          -0.9543717077207359,
          -0.3174249771099468,
          0.7827350703006383,
          0.45058167180313485,
          0.6632662170891702,
          1.561964675359686,
          0.15404556879730338,
          0.08133174112869458,
          0.23151390026575197,
          0.5024442630469539,
          1.2852188126317763,
          1.8971364510299469,
          -0.7424065437024872,
          0.25959933392610635,
          -0.2612537670966083,
          -0.17573342825713237,
          0.6960917629912512,
          -0.2709490068825894,
          -0.22219577815518834,
          -0.6442948098061319,
          -0.9700610554833162,
          -0.2098202139951793,
          -0.8736514829147257,
          0.46721323100953
         ],
         "yaxis": "y7"
        },
        {
         "line": {
          "color": "rgba(128, 128, 128, 1.0)",
          "dash": "solid",
          "shape": "linear",
          "width": 1.3
         },
         "marker": {
          "size": 2,
          "symbol": "circle"
         },
         "mode": "markers",
         "name": "B",
         "text": "",
         "type": "scatter",
         "x": [
          -0.638103274970272,
          -0.4516573544754162,
          0.5078205297139559,
          0.4738191424325633,
          -0.42937902895524394,
          -0.7220933525095943,
          1.2769289696614359,
          -0.8056130983796184,
          0.26795308834055565,
          0.7946503656255284,
          1.7508516378797359,
          -1.7808971763545731,
          1.10089601850168,
          0.9863501646697367,
          0.26369484785855074,
          -0.4420793544967146,
          2.3928736846920877,
          -1.2873048580671396,
          1.7650516257789794,
          -0.5124464260123467,
          1.015744317758713,
          -1.1973771315402644,
          0.40564749635003033,
          0.12353401623427175,
          3.4892219766978765,
          0.7400356604684535,
          1.5737948395296713,
          1.2155227497209096,
          -0.7578777685518293,
          0.21838270714850308,
          0.2906017401905688,
          -0.09274318392091023,
          -0.08501365107773047,
          -1.9169242415553993,
          0.6354044556758225,
          -0.9085822695369786,
          -0.8099317241044525,
          1.1006357530970599,
          -1.5023856122214094,
          -0.22154845805343645,
          -1.3408905430243676,
          -0.6999698546878313,
          0.6462981556258707,
          -2.004558345319722,
          1.4165772372655763,
          -1.703319528829284,
          0.008928166879526484,
          -1.342371253815068,
          1.5922173966646591,
          -0.7222781192097324,
          -1.388599809920899,
          -0.04048973483372441,
          0.26498547150741,
          -1.0862955174970992,
          1.794238525111512,
          -0.10798386115262665,
          0.5965408575811325,
          -0.8897361713533402,
          0.07830855366464426,
          -0.44740813006892227,
          0.4347288461875099,
          0.5038059212723521,
          0.5793219642977636,
          0.17524437803870738,
          0.7209257879842977,
          0.053698688851731964,
          -0.48737598538986593,
          1.2987634408369853,
          1.6451312081981426,
          0.39923952372038357,
          -1.7777297943408932,
          -0.6906817131199058,
          0.2526344979303035,
          -1.4043339844543148,
          0.7727439685302119,
          1.36004424424199,
          -0.7878049258801506,
          -1.2352340376726214,
          0.8593006388571304,
          0.6551972093723268,
          -0.8944068398109183,
          0.38982543354751537,
          -0.20833527014003578,
          0.7755650713361901,
          -0.8313071909579461,
          -0.2692403325632571,
          1.6295625223072496,
          0.42604675267042164,
          0.9135562114108622,
          1.9738901055730302,
          1.6080025335225183,
          0.18039384816335158,
          0.1369333208126082,
          0.5535303225602813,
          0.19182761336966878,
          -0.6284149427013865,
          1.6000310506883364,
          0.6638289795262313,
          1.067503794244087,
          1.125376634490109
         ],
         "xaxis": "x8",
         "y": [
          0.043697341410055664,
          -1.581436693250505,
          -1.1115696532210644,
          -0.5698372836913742,
          -0.02175389139025899,
          0.20260576800273525,
          0.791740809273046,
          1.3392918747893074,
          1.7094803759461192,
          -2.1379210460183957,
          -0.07225248650834998,
          -0.9680086419210548,
          -0.7083553580314013,
          0.973036553547053,
          0.6590668117012048,
          1.7945342742941552,
          -0.37518385884804895,
          2.107867503689684,
          0.742223919259543,
          -0.9161352194947348,
          -0.625680464700169,
          0.6149028780151503,
          0.20293727221135938,
          -0.06756211935173426,
          0.5599385792540977,
          -0.018063441547951798,
          1.0904145182977474,
          0.1634388508574048,
          -0.4931740987536183,
          -0.6676426208786932,
          -0.11668102711351185,
          0.43121144208387313,
          -0.1257312590901729,
          0.46198432695848557,
          -0.6439750877139889,
          1.3245655646623755,
          -0.980281342799237,
          -0.47560336976440476,
          0.5015220699951991,
          0.6051219350616727,
          2.048607451883618,
          1.261448986561181,
          -0.6979944782298741,
          -0.6143734098828072,
          -1.7754911385000327,
          -2.5384857323716385,
          1.6392145910633855,
          -1.4820642874699732,
          0.5844190880860396,
          -0.9436681757156312,
          -0.6503532338456608,
          1.9604123865081746,
          -1.2156684870760122,
          1.7823659197142776,
          -1.2201866924836282,
          -0.8602765774469655,
          0.4429230638355957,
          -1.2834305270149287,
          -0.25170583685474396,
          0.6830253659792884,
          -1.435437310811144,
          -0.6010432945513375,
          -0.759550451675055,
          0.5494279717404709,
          -2.601816346142572,
          -1.4347716877088044,
          -1.5063832342771595,
          1.030878804194865,
          -0.05143590109769036,
          -0.16272027060819982,
          0.08748232879602544,
          0.6301069551469266,
          -1.3863205154859544,
          -1.638235833577776,
          -0.7425171354610364,
          0.5881594362154489,
          -0.9543717077207359,
          -0.3174249771099468,
          0.7827350703006383,
          0.45058167180313485,
          0.6632662170891702,
          1.561964675359686,
          0.15404556879730338,
          0.08133174112869458,
          0.23151390026575197,
          0.5024442630469539,
          1.2852188126317763,
          1.8971364510299469,
          -0.7424065437024872,
          0.25959933392610635,
          -0.2612537670966083,
          -0.17573342825713237,
          0.6960917629912512,
          -0.2709490068825894,
          -0.22219577815518834,
          -0.6442948098061319,
          -0.9700610554833162,
          -0.2098202139951793,
          -0.8736514829147257,
          0.46721323100953
         ],
         "yaxis": "y8"
        },
        {
         "line": {
          "color": "rgba(128, 128, 128, 1.0)",
          "dash": "solid",
          "shape": "linear",
          "width": 1.3
         },
         "marker": {
          "size": 2,
          "symbol": "circle"
         },
         "mode": "markers",
         "name": "C",
         "text": "",
         "type": "scatter",
         "x": [
          0.3366253685910652,
          -0.8152962615269359,
          -2.057094167945235,
          -1.9541343699683842,
          0.6350471693898226,
          1.3393854246577892,
          -0.1664414930804797,
          0.895126799501226,
          0.3292560346097866,
          -1.5232703639541971,
          0.9186446530754513,
          -0.10771866432911681,
          -0.24430106447414054,
          -0.20619549803399442,
          -0.07496398303253174,
          -1.1351977435845633,
          -0.34138973113653054,
          -0.6892752596721525,
          -1.5434768318213519,
          -0.374012762351043,
          0.331761227479903,
          0.3694659922847097,
          0.15913472597883468,
          -0.9720134165835317,
          -0.2171894606425676,
          0.6258869651944907,
          -1.2141991773722172,
          -0.6888312027759299,
          -1.196606260086114,
          1.9171614028912838,
          -0.8197494317490756,
          0.8442744914994555,
          -0.5354476373949394,
          -0.13940235912023516,
          -0.3440487361566797,
          0.5847650737857164,
          -0.20452714135063474,
          -0.4734153008931332,
          0.1525789505851457,
          0.15943923195430232,
          -1.5712599479287583,
          0.7302450600457806,
          -0.5281471269177707,
          0.7841689237674179,
          1.6847993459208428,
          1.0781584592306386,
          -0.6148700589748657,
          0.1356051706983451,
          -0.7880479114057856,
          0.47949379874479436,
          -0.02441032028762437,
          -0.07437076244591963,
          0.9467680138425014,
          -0.014671024676162296,
          1.782056184224774,
          1.7164705123188548,
          0.15299462841133046,
          0.5526879640231437,
          -0.7347081734316098,
          0.25652438606881317,
          -0.7714194110548964,
          -0.9549644235619681,
          -0.49660877894194355,
          0.3252467140305092,
          -0.31637216864672113,
          0.34308269591780455,
          0.5282051548907043,
          -1.1319743118881591,
          -0.2893859807681463,
          -0.6601340495579393,
          -1.0138335460436667,
          -1.6563261279034838,
          0.7256724241953929,
          -0.11334824786137546,
          -0.8002763540209177,
          0.7867076095020186,
          0.4384288714386092,
          -0.3947589854358734,
          0.9062235669638437,
          0.8196800251334179,
          -1.2539062476924414,
          -0.20130480834260286,
          -0.12443864472378685,
          0.04688882347637687,
          1.5337275539272255,
          1.982488741300852,
          -1.1953722916405798,
          0.6410983225048137,
          0.805785032541812,
          0.3932603773541811,
          -0.6453067879032107,
          1.4760578266825994,
          -0.3594032836309028,
          0.9480512342548622,
          -0.18928712523705382,
          -0.8481750065845147,
          0.4932182939235028,
          0.7869080942142737,
          -1.2665836193117346,
          -0.1648699611042843
         ],
         "xaxis": "x9",
         "y": [
          0.04255381567537707,
          0.046175923091871234,
          1.4945526874734125,
          2.0499505428395746,
          0.35966706199617965,
          -0.0949271207524387,
          0.6715251925041402,
          0.6505611657188639,
          -0.333791417315038,
          0.6802181420716225,
          -0.1871999136371795,
          0.2697796011413888,
          -3.248413972061903,
          0.9463869332128763,
          0.4428394796224026,
          0.9700189283405273,
          -0.690686931614203,
          0.7024769150134029,
          0.4164675466761889,
          -1.3013787977107742,
          -0.4383056029475472,
          -0.04120214401387803,
          0.006749146217790606,
          -1.3130658543473204,
          -0.784226920233521,
          -0.5850973808915845,
          0.5964125586372435,
          0.07325798840521612,
          0.7099964372805259,
          -0.3399487988844456,
          1.1496742564620555,
          1.6041272692387103,
          -1.601718155678675,
          -1.2413029379413267,
          0.1497112736217552,
          1.0853822331144833,
          0.8383176374572543,
          -0.8640249954026039,
          0.5215788938261666,
          -0.7681135353649741,
          -0.7225439926636898,
          0.21198722295013459,
          1.2983818234618332,
          -1.209332311380756,
          -1.0830682811521244,
          0.5795800665901155,
          0.010675912765416082,
          1.153142052228595,
          -0.7844022321525719,
          -0.6615128381366681,
          -1.498884001979212,
          -1.520167780297197,
          -1.4735451999570175,
          -1.0842158068538486,
          -0.986167046762502,
          -1.2754228210260172,
          -0.10746292903972071,
          -1.065675576219357,
          -0.6185221279367109,
          0.08272834582303598,
          -0.7075774211322811,
          0.26278843922419387,
          0.9276966171843064,
          -0.7442440418530465,
          -0.054698231086657535,
          -1.8054104778947602,
          -0.2995097686537457,
          0.30350328394916304,
          -0.9708332249757549,
          0.11067603405991755,
          -0.876759636086438,
          1.3187269643477046,
          -1.7300516743601386,
          -0.7101342872651458,
          -0.13836495264228366,
          1.1619196815883095,
          -1.032567904922605,
          -0.5062474182999148,
          0.6143148176969475,
          -1.202896468711915,
          -2.41232766945248,
          -0.7388021103883274,
          0.3380031501494933,
          -0.287687012437793,
          2.312571964503006,
          0.26062843201780966,
          0.4893737656897665,
          -0.5670704810079203,
          0.09294294448609702,
          -2.745539243741952,
          -0.365154492063901,
          -0.43082513293274993,
          0.924853093376854,
          0.0592808007496384,
          0.7822802790361943,
          -2.0210347926832934,
          -0.4350931190868809,
          0.9033125340616334,
          -0.28063414814338855,
          -1.9096697038970083
         ],
         "yaxis": "y9"
        },
        {
         "line": {
          "color": "rgba(128, 128, 128, 1.0)",
          "dash": "solid",
          "shape": "linear",
          "width": 1.3
         },
         "marker": {
          "size": 2,
          "symbol": "circle"
         },
         "mode": "markers",
         "name": "C",
         "text": "",
         "type": "scatter",
         "x": [
          0.043697341410055664,
          -1.581436693250505,
          -1.1115696532210644,
          -0.5698372836913742,
          -0.02175389139025899,
          0.20260576800273525,
          0.791740809273046,
          1.3392918747893074,
          1.7094803759461192,
          -2.1379210460183957,
          -0.07225248650834998,
          -0.9680086419210548,
          -0.7083553580314013,
          0.973036553547053,
          0.6590668117012048,
          1.7945342742941552,
          -0.37518385884804895,
          2.107867503689684,
          0.742223919259543,
          -0.9161352194947348,
          -0.625680464700169,
          0.6149028780151503,
          0.20293727221135938,
          -0.06756211935173426,
          0.5599385792540977,
          -0.018063441547951798,
          1.0904145182977474,
          0.1634388508574048,
          -0.4931740987536183,
          -0.6676426208786932,
          -0.11668102711351185,
          0.43121144208387313,
          -0.1257312590901729,
          0.46198432695848557,
          -0.6439750877139889,
          1.3245655646623755,
          -0.980281342799237,
          -0.47560336976440476,
          0.5015220699951991,
          0.6051219350616727,
          2.048607451883618,
          1.261448986561181,
          -0.6979944782298741,
          -0.6143734098828072,
          -1.7754911385000327,
          -2.5384857323716385,
          1.6392145910633855,
          -1.4820642874699732,
          0.5844190880860396,
          -0.9436681757156312,
          -0.6503532338456608,
          1.9604123865081746,
          -1.2156684870760122,
          1.7823659197142776,
          -1.2201866924836282,
          -0.8602765774469655,
          0.4429230638355957,
          -1.2834305270149287,
          -0.25170583685474396,
          0.6830253659792884,
          -1.435437310811144,
          -0.6010432945513375,
          -0.759550451675055,
          0.5494279717404709,
          -2.601816346142572,
          -1.4347716877088044,
          -1.5063832342771595,
          1.030878804194865,
          -0.05143590109769036,
          -0.16272027060819982,
          0.08748232879602544,
          0.6301069551469266,
          -1.3863205154859544,
          -1.638235833577776,
          -0.7425171354610364,
          0.5881594362154489,
          -0.9543717077207359,
          -0.3174249771099468,
          0.7827350703006383,
          0.45058167180313485,
          0.6632662170891702,
          1.561964675359686,
          0.15404556879730338,
          0.08133174112869458,
          0.23151390026575197,
          0.5024442630469539,
          1.2852188126317763,
          1.8971364510299469,
          -0.7424065437024872,
          0.25959933392610635,
          -0.2612537670966083,
          -0.17573342825713237,
          0.6960917629912512,
          -0.2709490068825894,
          -0.22219577815518834,
          -0.6442948098061319,
          -0.9700610554833162,
          -0.2098202139951793,
          -0.8736514829147257,
          0.46721323100953
         ],
         "xaxis": "x10",
         "y": [
          0.04255381567537707,
          0.046175923091871234,
          1.4945526874734125,
          2.0499505428395746,
          0.35966706199617965,
          -0.0949271207524387,
          0.6715251925041402,
          0.6505611657188639,
          -0.333791417315038,
          0.6802181420716225,
          -0.1871999136371795,
          0.2697796011413888,
          -3.248413972061903,
          0.9463869332128763,
          0.4428394796224026,
          0.9700189283405273,
          -0.690686931614203,
          0.7024769150134029,
          0.4164675466761889,
          -1.3013787977107742,
          -0.4383056029475472,
          -0.04120214401387803,
          0.006749146217790606,
          -1.3130658543473204,
          -0.784226920233521,
          -0.5850973808915845,
          0.5964125586372435,
          0.07325798840521612,
          0.7099964372805259,
          -0.3399487988844456,
          1.1496742564620555,
          1.6041272692387103,
          -1.601718155678675,
          -1.2413029379413267,
          0.1497112736217552,
          1.0853822331144833,
          0.8383176374572543,
          -0.8640249954026039,
          0.5215788938261666,
          -0.7681135353649741,
          -0.7225439926636898,
          0.21198722295013459,
          1.2983818234618332,
          -1.209332311380756,
          -1.0830682811521244,
          0.5795800665901155,
          0.010675912765416082,
          1.153142052228595,
          -0.7844022321525719,
          -0.6615128381366681,
          -1.498884001979212,
          -1.520167780297197,
          -1.4735451999570175,
          -1.0842158068538486,
          -0.986167046762502,
          -1.2754228210260172,
          -0.10746292903972071,
          -1.065675576219357,
          -0.6185221279367109,
          0.08272834582303598,
          -0.7075774211322811,
          0.26278843922419387,
          0.9276966171843064,
          -0.7442440418530465,
          -0.054698231086657535,
          -1.8054104778947602,
          -0.2995097686537457,
          0.30350328394916304,
          -0.9708332249757549,
          0.11067603405991755,
          -0.876759636086438,
          1.3187269643477046,
          -1.7300516743601386,
          -0.7101342872651458,
          -0.13836495264228366,
          1.1619196815883095,
          -1.032567904922605,
          -0.5062474182999148,
          0.6143148176969475,
          -1.202896468711915,
          -2.41232766945248,
          -0.7388021103883274,
          0.3380031501494933,
          -0.287687012437793,
          2.312571964503006,
          0.26062843201780966,
          0.4893737656897665,
          -0.5670704810079203,
          0.09294294448609702,
          -2.745539243741952,
          -0.365154492063901,
          -0.43082513293274993,
          0.924853093376854,
          0.0592808007496384,
          0.7822802790361943,
          -2.0210347926832934,
          -0.4350931190868809,
          0.9033125340616334,
          -0.28063414814338855,
          -1.9096697038970083
         ],
         "yaxis": "y10"
        },
        {
         "histfunc": "count",
         "histnorm": "",
         "marker": {
          "color": "rgba(50, 171, 96, 1.0)",
          "line": {
           "color": "#4D5663",
           "width": 1.3
          }
         },
         "name": "C",
         "nbinsx": 10,
         "opacity": 0.8,
         "orientation": "v",
         "type": "histogram",
         "x": [
          0.04255381567537707,
          0.046175923091871234,
          1.4945526874734125,
          2.0499505428395746,
          0.35966706199617965,
          -0.0949271207524387,
          0.6715251925041402,
          0.6505611657188639,
          -0.333791417315038,
          0.6802181420716225,
          -0.1871999136371795,
          0.2697796011413888,
          -3.248413972061903,
          0.9463869332128763,
          0.4428394796224026,
          0.9700189283405273,
          -0.690686931614203,
          0.7024769150134029,
          0.4164675466761889,
          -1.3013787977107742,
          -0.4383056029475472,
          -0.04120214401387803,
          0.006749146217790606,
          -1.3130658543473204,
          -0.784226920233521,
          -0.5850973808915845,
          0.5964125586372435,
          0.07325798840521612,
          0.7099964372805259,
          -0.3399487988844456,
          1.1496742564620555,
          1.6041272692387103,
          -1.601718155678675,
          -1.2413029379413267,
          0.1497112736217552,
          1.0853822331144833,
          0.8383176374572543,
          -0.8640249954026039,
          0.5215788938261666,
          -0.7681135353649741,
          -0.7225439926636898,
          0.21198722295013459,
          1.2983818234618332,
          -1.209332311380756,
          -1.0830682811521244,
          0.5795800665901155,
          0.010675912765416082,
          1.153142052228595,
          -0.7844022321525719,
          -0.6615128381366681,
          -1.498884001979212,
          -1.520167780297197,
          -1.4735451999570175,
          -1.0842158068538486,
          -0.986167046762502,
          -1.2754228210260172,
          -0.10746292903972071,
          -1.065675576219357,
          -0.6185221279367109,
          0.08272834582303598,
          -0.7075774211322811,
          0.26278843922419387,
          0.9276966171843064,
          -0.7442440418530465,
          -0.054698231086657535,
          -1.8054104778947602,
          -0.2995097686537457,
          0.30350328394916304,
          -0.9708332249757549,
          0.11067603405991755,
          -0.876759636086438,
          1.3187269643477046,
          -1.7300516743601386,
          -0.7101342872651458,
          -0.13836495264228366,
          1.1619196815883095,
          -1.032567904922605,
          -0.5062474182999148,
          0.6143148176969475,
          -1.202896468711915,
          -2.41232766945248,
          -0.7388021103883274,
          0.3380031501494933,
          -0.287687012437793,
          2.312571964503006,
          0.26062843201780966,
          0.4893737656897665,
          -0.5670704810079203,
          0.09294294448609702,
          -2.745539243741952,
          -0.365154492063901,
          -0.43082513293274993,
          0.924853093376854,
          0.0592808007496384,
          0.7822802790361943,
          -2.0210347926832934,
          -0.4350931190868809,
          0.9033125340616334,
          -0.28063414814338855,
          -1.9096697038970083
         ],
         "xaxis": "x11",
         "yaxis": "y11"
        },
        {
         "line": {
          "color": "rgba(128, 128, 128, 1.0)",
          "dash": "solid",
          "shape": "linear",
          "width": 1.3
         },
         "marker": {
          "size": 2,
          "symbol": "circle"
         },
         "mode": "markers",
         "name": "C",
         "text": "",
         "type": "scatter",
         "x": [
          -0.638103274970272,
          -0.4516573544754162,
          0.5078205297139559,
          0.4738191424325633,
          -0.42937902895524394,
          -0.7220933525095943,
          1.2769289696614359,
          -0.8056130983796184,
          0.26795308834055565,
          0.7946503656255284,
          1.7508516378797359,
          -1.7808971763545731,
          1.10089601850168,
          0.9863501646697367,
          0.26369484785855074,
          -0.4420793544967146,
          2.3928736846920877,
          -1.2873048580671396,
          1.7650516257789794,
          -0.5124464260123467,
          1.015744317758713,
          -1.1973771315402644,
          0.40564749635003033,
          0.12353401623427175,
          3.4892219766978765,
          0.7400356604684535,
          1.5737948395296713,
          1.2155227497209096,
          -0.7578777685518293,
          0.21838270714850308,
          0.2906017401905688,
          -0.09274318392091023,
          -0.08501365107773047,
          -1.9169242415553993,
          0.6354044556758225,
          -0.9085822695369786,
          -0.8099317241044525,
          1.1006357530970599,
          -1.5023856122214094,
          -0.22154845805343645,
          -1.3408905430243676,
          -0.6999698546878313,
          0.6462981556258707,
          -2.004558345319722,
          1.4165772372655763,
          -1.703319528829284,
          0.008928166879526484,
          -1.342371253815068,
          1.5922173966646591,
          -0.7222781192097324,
          -1.388599809920899,
          -0.04048973483372441,
          0.26498547150741,
          -1.0862955174970992,
          1.794238525111512,
          -0.10798386115262665,
          0.5965408575811325,
          -0.8897361713533402,
          0.07830855366464426,
          -0.44740813006892227,
          0.4347288461875099,
          0.5038059212723521,
          0.5793219642977636,
          0.17524437803870738,
          0.7209257879842977,
          0.053698688851731964,
          -0.48737598538986593,
          1.2987634408369853,
          1.6451312081981426,
          0.39923952372038357,
          -1.7777297943408932,
          -0.6906817131199058,
          0.2526344979303035,
          -1.4043339844543148,
          0.7727439685302119,
          1.36004424424199,
          -0.7878049258801506,
          -1.2352340376726214,
          0.8593006388571304,
          0.6551972093723268,
          -0.8944068398109183,
          0.38982543354751537,
          -0.20833527014003578,
          0.7755650713361901,
          -0.8313071909579461,
          -0.2692403325632571,
          1.6295625223072496,
          0.42604675267042164,
          0.9135562114108622,
          1.9738901055730302,
          1.6080025335225183,
          0.18039384816335158,
          0.1369333208126082,
          0.5535303225602813,
          0.19182761336966878,
          -0.6284149427013865,
          1.6000310506883364,
          0.6638289795262313,
          1.067503794244087,
          1.125376634490109
         ],
         "xaxis": "x12",
         "y": [
          0.04255381567537707,
          0.046175923091871234,
          1.4945526874734125,
          2.0499505428395746,
          0.35966706199617965,
          -0.0949271207524387,
          0.6715251925041402,
          0.6505611657188639,
          -0.333791417315038,
          0.6802181420716225,
          -0.1871999136371795,
          0.2697796011413888,
          -3.248413972061903,
          0.9463869332128763,
          0.4428394796224026,
          0.9700189283405273,
          -0.690686931614203,
          0.7024769150134029,
          0.4164675466761889,
          -1.3013787977107742,
          -0.4383056029475472,
          -0.04120214401387803,
          0.006749146217790606,
          -1.3130658543473204,
          -0.784226920233521,
          -0.5850973808915845,
          0.5964125586372435,
          0.07325798840521612,
          0.7099964372805259,
          -0.3399487988844456,
          1.1496742564620555,
          1.6041272692387103,
          -1.601718155678675,
          -1.2413029379413267,
          0.1497112736217552,
          1.0853822331144833,
          0.8383176374572543,
          -0.8640249954026039,
          0.5215788938261666,
          -0.7681135353649741,
          -0.7225439926636898,
          0.21198722295013459,
          1.2983818234618332,
          -1.209332311380756,
          -1.0830682811521244,
          0.5795800665901155,
          0.010675912765416082,
          1.153142052228595,
          -0.7844022321525719,
          -0.6615128381366681,
          -1.498884001979212,
          -1.520167780297197,
          -1.4735451999570175,
          -1.0842158068538486,
          -0.986167046762502,
          -1.2754228210260172,
          -0.10746292903972071,
          -1.065675576219357,
          -0.6185221279367109,
          0.08272834582303598,
          -0.7075774211322811,
          0.26278843922419387,
          0.9276966171843064,
          -0.7442440418530465,
          -0.054698231086657535,
          -1.8054104778947602,
          -0.2995097686537457,
          0.30350328394916304,
          -0.9708332249757549,
          0.11067603405991755,
          -0.876759636086438,
          1.3187269643477046,
          -1.7300516743601386,
          -0.7101342872651458,
          -0.13836495264228366,
          1.1619196815883095,
          -1.032567904922605,
          -0.5062474182999148,
          0.6143148176969475,
          -1.202896468711915,
          -2.41232766945248,
          -0.7388021103883274,
          0.3380031501494933,
          -0.287687012437793,
          2.312571964503006,
          0.26062843201780966,
          0.4893737656897665,
          -0.5670704810079203,
          0.09294294448609702,
          -2.745539243741952,
          -0.365154492063901,
          -0.43082513293274993,
          0.924853093376854,
          0.0592808007496384,
          0.7822802790361943,
          -2.0210347926832934,
          -0.4350931190868809,
          0.9033125340616334,
          -0.28063414814338855,
          -1.9096697038970083
         ],
         "yaxis": "y12"
        },
        {
         "line": {
          "color": "rgba(128, 128, 128, 1.0)",
          "dash": "solid",
          "shape": "linear",
          "width": 1.3
         },
         "marker": {
          "size": 2,
          "symbol": "circle"
         },
         "mode": "markers",
         "name": "D",
         "text": "",
         "type": "scatter",
         "x": [
          0.3366253685910652,
          -0.8152962615269359,
          -2.057094167945235,
          -1.9541343699683842,
          0.6350471693898226,
          1.3393854246577892,
          -0.1664414930804797,
          0.895126799501226,
          0.3292560346097866,
          -1.5232703639541971,
          0.9186446530754513,
          -0.10771866432911681,
          -0.24430106447414054,
          -0.20619549803399442,
          -0.07496398303253174,
          -1.1351977435845633,
          -0.34138973113653054,
          -0.6892752596721525,
          -1.5434768318213519,
          -0.374012762351043,
          0.331761227479903,
          0.3694659922847097,
          0.15913472597883468,
          -0.9720134165835317,
          -0.2171894606425676,
          0.6258869651944907,
          -1.2141991773722172,
          -0.6888312027759299,
          -1.196606260086114,
          1.9171614028912838,
          -0.8197494317490756,
          0.8442744914994555,
          -0.5354476373949394,
          -0.13940235912023516,
          -0.3440487361566797,
          0.5847650737857164,
          -0.20452714135063474,
          -0.4734153008931332,
          0.1525789505851457,
          0.15943923195430232,
          -1.5712599479287583,
          0.7302450600457806,
          -0.5281471269177707,
          0.7841689237674179,
          1.6847993459208428,
          1.0781584592306386,
          -0.6148700589748657,
          0.1356051706983451,
          -0.7880479114057856,
          0.47949379874479436,
          -0.02441032028762437,
          -0.07437076244591963,
          0.9467680138425014,
          -0.014671024676162296,
          1.782056184224774,
          1.7164705123188548,
          0.15299462841133046,
          0.5526879640231437,
          -0.7347081734316098,
          0.25652438606881317,
          -0.7714194110548964,
          -0.9549644235619681,
          -0.49660877894194355,
          0.3252467140305092,
          -0.31637216864672113,
          0.34308269591780455,
          0.5282051548907043,
          -1.1319743118881591,
          -0.2893859807681463,
          -0.6601340495579393,
          -1.0138335460436667,
          -1.6563261279034838,
          0.7256724241953929,
          -0.11334824786137546,
          -0.8002763540209177,
          0.7867076095020186,
          0.4384288714386092,
          -0.3947589854358734,
          0.9062235669638437,
          0.8196800251334179,
          -1.2539062476924414,
          -0.20130480834260286,
          -0.12443864472378685,
          0.04688882347637687,
          1.5337275539272255,
          1.982488741300852,
          -1.1953722916405798,
          0.6410983225048137,
          0.805785032541812,
          0.3932603773541811,
          -0.6453067879032107,
          1.4760578266825994,
          -0.3594032836309028,
          0.9480512342548622,
          -0.18928712523705382,
          -0.8481750065845147,
          0.4932182939235028,
          0.7869080942142737,
          -1.2665836193117346,
          -0.1648699611042843
         ],
         "xaxis": "x13",
         "y": [
          -0.638103274970272,
          -0.4516573544754162,
          0.5078205297139559,
          0.4738191424325633,
          -0.42937902895524394,
          -0.7220933525095943,
          1.2769289696614359,
          -0.8056130983796184,
          0.26795308834055565,
          0.7946503656255284,
          1.7508516378797359,
          -1.7808971763545731,
          1.10089601850168,
          0.9863501646697367,
          0.26369484785855074,
          -0.4420793544967146,
          2.3928736846920877,
          -1.2873048580671396,
          1.7650516257789794,
          -0.5124464260123467,
          1.015744317758713,
          -1.1973771315402644,
          0.40564749635003033,
          0.12353401623427175,
          3.4892219766978765,
          0.7400356604684535,
          1.5737948395296713,
          1.2155227497209096,
          -0.7578777685518293,
          0.21838270714850308,
          0.2906017401905688,
          -0.09274318392091023,
          -0.08501365107773047,
          -1.9169242415553993,
          0.6354044556758225,
          -0.9085822695369786,
          -0.8099317241044525,
          1.1006357530970599,
          -1.5023856122214094,
          -0.22154845805343645,
          -1.3408905430243676,
          -0.6999698546878313,
          0.6462981556258707,
          -2.004558345319722,
          1.4165772372655763,
          -1.703319528829284,
          0.008928166879526484,
          -1.342371253815068,
          1.5922173966646591,
          -0.7222781192097324,
          -1.388599809920899,
          -0.04048973483372441,
          0.26498547150741,
          -1.0862955174970992,
          1.794238525111512,
          -0.10798386115262665,
          0.5965408575811325,
          -0.8897361713533402,
          0.07830855366464426,
          -0.44740813006892227,
          0.4347288461875099,
          0.5038059212723521,
          0.5793219642977636,
          0.17524437803870738,
          0.7209257879842977,
          0.053698688851731964,
          -0.48737598538986593,
          1.2987634408369853,
          1.6451312081981426,
          0.39923952372038357,
          -1.7777297943408932,
          -0.6906817131199058,
          0.2526344979303035,
          -1.4043339844543148,
          0.7727439685302119,
          1.36004424424199,
          -0.7878049258801506,
          -1.2352340376726214,
          0.8593006388571304,
          0.6551972093723268,
          -0.8944068398109183,
          0.38982543354751537,
          -0.20833527014003578,
          0.7755650713361901,
          -0.8313071909579461,
          -0.2692403325632571,
          1.6295625223072496,
          0.42604675267042164,
          0.9135562114108622,
          1.9738901055730302,
          1.6080025335225183,
          0.18039384816335158,
          0.1369333208126082,
          0.5535303225602813,
          0.19182761336966878,
          -0.6284149427013865,
          1.6000310506883364,
          0.6638289795262313,
          1.067503794244087,
          1.125376634490109
         ],
         "yaxis": "y13"
        },
        {
         "line": {
          "color": "rgba(128, 128, 128, 1.0)",
          "dash": "solid",
          "shape": "linear",
          "width": 1.3
         },
         "marker": {
          "size": 2,
          "symbol": "circle"
         },
         "mode": "markers",
         "name": "D",
         "text": "",
         "type": "scatter",
         "x": [
          0.043697341410055664,
          -1.581436693250505,
          -1.1115696532210644,
          -0.5698372836913742,
          -0.02175389139025899,
          0.20260576800273525,
          0.791740809273046,
          1.3392918747893074,
          1.7094803759461192,
          -2.1379210460183957,
          -0.07225248650834998,
          -0.9680086419210548,
          -0.7083553580314013,
          0.973036553547053,
          0.6590668117012048,
          1.7945342742941552,
          -0.37518385884804895,
          2.107867503689684,
          0.742223919259543,
          -0.9161352194947348,
          -0.625680464700169,
          0.6149028780151503,
          0.20293727221135938,
          -0.06756211935173426,
          0.5599385792540977,
          -0.018063441547951798,
          1.0904145182977474,
          0.1634388508574048,
          -0.4931740987536183,
          -0.6676426208786932,
          -0.11668102711351185,
          0.43121144208387313,
          -0.1257312590901729,
          0.46198432695848557,
          -0.6439750877139889,
          1.3245655646623755,
          -0.980281342799237,
          -0.47560336976440476,
          0.5015220699951991,
          0.6051219350616727,
          2.048607451883618,
          1.261448986561181,
          -0.6979944782298741,
          -0.6143734098828072,
          -1.7754911385000327,
          -2.5384857323716385,
          1.6392145910633855,
          -1.4820642874699732,
          0.5844190880860396,
          -0.9436681757156312,
          -0.6503532338456608,
          1.9604123865081746,
          -1.2156684870760122,
          1.7823659197142776,
          -1.2201866924836282,
          -0.8602765774469655,
          0.4429230638355957,
          -1.2834305270149287,
          -0.25170583685474396,
          0.6830253659792884,
          -1.435437310811144,
          -0.6010432945513375,
          -0.759550451675055,
          0.5494279717404709,
          -2.601816346142572,
          -1.4347716877088044,
          -1.5063832342771595,
          1.030878804194865,
          -0.05143590109769036,
          -0.16272027060819982,
          0.08748232879602544,
          0.6301069551469266,
          -1.3863205154859544,
          -1.638235833577776,
          -0.7425171354610364,
          0.5881594362154489,
          -0.9543717077207359,
          -0.3174249771099468,
          0.7827350703006383,
          0.45058167180313485,
          0.6632662170891702,
          1.561964675359686,
          0.15404556879730338,
          0.08133174112869458,
          0.23151390026575197,
          0.5024442630469539,
          1.2852188126317763,
          1.8971364510299469,
          -0.7424065437024872,
          0.25959933392610635,
          -0.2612537670966083,
          -0.17573342825713237,
          0.6960917629912512,
          -0.2709490068825894,
          -0.22219577815518834,
          -0.6442948098061319,
          -0.9700610554833162,
          -0.2098202139951793,
          -0.8736514829147257,
          0.46721323100953
         ],
         "xaxis": "x14",
         "y": [
          -0.638103274970272,
          -0.4516573544754162,
          0.5078205297139559,
          0.4738191424325633,
          -0.42937902895524394,
          -0.7220933525095943,
          1.2769289696614359,
          -0.8056130983796184,
          0.26795308834055565,
          0.7946503656255284,
          1.7508516378797359,
          -1.7808971763545731,
          1.10089601850168,
          0.9863501646697367,
          0.26369484785855074,
          -0.4420793544967146,
          2.3928736846920877,
          -1.2873048580671396,
          1.7650516257789794,
          -0.5124464260123467,
          1.015744317758713,
          -1.1973771315402644,
          0.40564749635003033,
          0.12353401623427175,
          3.4892219766978765,
          0.7400356604684535,
          1.5737948395296713,
          1.2155227497209096,
          -0.7578777685518293,
          0.21838270714850308,
          0.2906017401905688,
          -0.09274318392091023,
          -0.08501365107773047,
          -1.9169242415553993,
          0.6354044556758225,
          -0.9085822695369786,
          -0.8099317241044525,
          1.1006357530970599,
          -1.5023856122214094,
          -0.22154845805343645,
          -1.3408905430243676,
          -0.6999698546878313,
          0.6462981556258707,
          -2.004558345319722,
          1.4165772372655763,
          -1.703319528829284,
          0.008928166879526484,
          -1.342371253815068,
          1.5922173966646591,
          -0.7222781192097324,
          -1.388599809920899,
          -0.04048973483372441,
          0.26498547150741,
          -1.0862955174970992,
          1.794238525111512,
          -0.10798386115262665,
          0.5965408575811325,
          -0.8897361713533402,
          0.07830855366464426,
          -0.44740813006892227,
          0.4347288461875099,
          0.5038059212723521,
          0.5793219642977636,
          0.17524437803870738,
          0.7209257879842977,
          0.053698688851731964,
          -0.48737598538986593,
          1.2987634408369853,
          1.6451312081981426,
          0.39923952372038357,
          -1.7777297943408932,
          -0.6906817131199058,
          0.2526344979303035,
          -1.4043339844543148,
          0.7727439685302119,
          1.36004424424199,
          -0.7878049258801506,
          -1.2352340376726214,
          0.8593006388571304,
          0.6551972093723268,
          -0.8944068398109183,
          0.38982543354751537,
          -0.20833527014003578,
          0.7755650713361901,
          -0.8313071909579461,
          -0.2692403325632571,
          1.6295625223072496,
          0.42604675267042164,
          0.9135562114108622,
          1.9738901055730302,
          1.6080025335225183,
          0.18039384816335158,
          0.1369333208126082,
          0.5535303225602813,
          0.19182761336966878,
          -0.6284149427013865,
          1.6000310506883364,
          0.6638289795262313,
          1.067503794244087,
          1.125376634490109
         ],
         "yaxis": "y14"
        },
        {
         "line": {
          "color": "rgba(128, 128, 128, 1.0)",
          "dash": "solid",
          "shape": "linear",
          "width": 1.3
         },
         "marker": {
          "size": 2,
          "symbol": "circle"
         },
         "mode": "markers",
         "name": "D",
         "text": "",
         "type": "scatter",
         "x": [
          0.04255381567537707,
          0.046175923091871234,
          1.4945526874734125,
          2.0499505428395746,
          0.35966706199617965,
          -0.0949271207524387,
          0.6715251925041402,
          0.6505611657188639,
          -0.333791417315038,
          0.6802181420716225,
          -0.1871999136371795,
          0.2697796011413888,
          -3.248413972061903,
          0.9463869332128763,
          0.4428394796224026,
          0.9700189283405273,
          -0.690686931614203,
          0.7024769150134029,
          0.4164675466761889,
          -1.3013787977107742,
          -0.4383056029475472,
          -0.04120214401387803,
          0.006749146217790606,
          -1.3130658543473204,
          -0.784226920233521,
          -0.5850973808915845,
          0.5964125586372435,
          0.07325798840521612,
          0.7099964372805259,
          -0.3399487988844456,
          1.1496742564620555,
          1.6041272692387103,
          -1.601718155678675,
          -1.2413029379413267,
          0.1497112736217552,
          1.0853822331144833,
          0.8383176374572543,
          -0.8640249954026039,
          0.5215788938261666,
          -0.7681135353649741,
          -0.7225439926636898,
          0.21198722295013459,
          1.2983818234618332,
          -1.209332311380756,
          -1.0830682811521244,
          0.5795800665901155,
          0.010675912765416082,
          1.153142052228595,
          -0.7844022321525719,
          -0.6615128381366681,
          -1.498884001979212,
          -1.520167780297197,
          -1.4735451999570175,
          -1.0842158068538486,
          -0.986167046762502,
          -1.2754228210260172,
          -0.10746292903972071,
          -1.065675576219357,
          -0.6185221279367109,
          0.08272834582303598,
          -0.7075774211322811,
          0.26278843922419387,
          0.9276966171843064,
          -0.7442440418530465,
          -0.054698231086657535,
          -1.8054104778947602,
          -0.2995097686537457,
          0.30350328394916304,
          -0.9708332249757549,
          0.11067603405991755,
          -0.876759636086438,
          1.3187269643477046,
          -1.7300516743601386,
          -0.7101342872651458,
          -0.13836495264228366,
          1.1619196815883095,
          -1.032567904922605,
          -0.5062474182999148,
          0.6143148176969475,
          -1.202896468711915,
          -2.41232766945248,
          -0.7388021103883274,
          0.3380031501494933,
          -0.287687012437793,
          2.312571964503006,
          0.26062843201780966,
          0.4893737656897665,
          -0.5670704810079203,
          0.09294294448609702,
          -2.745539243741952,
          -0.365154492063901,
          -0.43082513293274993,
          0.924853093376854,
          0.0592808007496384,
          0.7822802790361943,
          -2.0210347926832934,
          -0.4350931190868809,
          0.9033125340616334,
          -0.28063414814338855,
          -1.9096697038970083
         ],
         "xaxis": "x15",
         "y": [
          -0.638103274970272,
          -0.4516573544754162,
          0.5078205297139559,
          0.4738191424325633,
          -0.42937902895524394,
          -0.7220933525095943,
          1.2769289696614359,
          -0.8056130983796184,
          0.26795308834055565,
          0.7946503656255284,
          1.7508516378797359,
          -1.7808971763545731,
          1.10089601850168,
          0.9863501646697367,
          0.26369484785855074,
          -0.4420793544967146,
          2.3928736846920877,
          -1.2873048580671396,
          1.7650516257789794,
          -0.5124464260123467,
          1.015744317758713,
          -1.1973771315402644,
          0.40564749635003033,
          0.12353401623427175,
          3.4892219766978765,
          0.7400356604684535,
          1.5737948395296713,
          1.2155227497209096,
          -0.7578777685518293,
          0.21838270714850308,
          0.2906017401905688,
          -0.09274318392091023,
          -0.08501365107773047,
          -1.9169242415553993,
          0.6354044556758225,
          -0.9085822695369786,
          -0.8099317241044525,
          1.1006357530970599,
          -1.5023856122214094,
          -0.22154845805343645,
          -1.3408905430243676,
          -0.6999698546878313,
          0.6462981556258707,
          -2.004558345319722,
          1.4165772372655763,
          -1.703319528829284,
          0.008928166879526484,
          -1.342371253815068,
          1.5922173966646591,
          -0.7222781192097324,
          -1.388599809920899,
          -0.04048973483372441,
          0.26498547150741,
          -1.0862955174970992,
          1.794238525111512,
          -0.10798386115262665,
          0.5965408575811325,
          -0.8897361713533402,
          0.07830855366464426,
          -0.44740813006892227,
          0.4347288461875099,
          0.5038059212723521,
          0.5793219642977636,
          0.17524437803870738,
          0.7209257879842977,
          0.053698688851731964,
          -0.48737598538986593,
          1.2987634408369853,
          1.6451312081981426,
          0.39923952372038357,
          -1.7777297943408932,
          -0.6906817131199058,
          0.2526344979303035,
          -1.4043339844543148,
          0.7727439685302119,
          1.36004424424199,
          -0.7878049258801506,
          -1.2352340376726214,
          0.8593006388571304,
          0.6551972093723268,
          -0.8944068398109183,
          0.38982543354751537,
          -0.20833527014003578,
          0.7755650713361901,
          -0.8313071909579461,
          -0.2692403325632571,
          1.6295625223072496,
          0.42604675267042164,
          0.9135562114108622,
          1.9738901055730302,
          1.6080025335225183,
          0.18039384816335158,
          0.1369333208126082,
          0.5535303225602813,
          0.19182761336966878,
          -0.6284149427013865,
          1.6000310506883364,
          0.6638289795262313,
          1.067503794244087,
          1.125376634490109
         ],
         "yaxis": "y15"
        },
        {
         "histfunc": "count",
         "histnorm": "",
         "marker": {
          "color": "rgba(128, 0, 128, 1.0)",
          "line": {
           "color": "#4D5663",
           "width": 1.3
          }
         },
         "name": "D",
         "nbinsx": 10,
         "opacity": 0.8,
         "orientation": "v",
         "type": "histogram",
         "x": [
          -0.638103274970272,
          -0.4516573544754162,
          0.5078205297139559,
          0.4738191424325633,
          -0.42937902895524394,
          -0.7220933525095943,
          1.2769289696614359,
          -0.8056130983796184,
          0.26795308834055565,
          0.7946503656255284,
          1.7508516378797359,
          -1.7808971763545731,
          1.10089601850168,
          0.9863501646697367,
          0.26369484785855074,
          -0.4420793544967146,
          2.3928736846920877,
          -1.2873048580671396,
          1.7650516257789794,
          -0.5124464260123467,
          1.015744317758713,
          -1.1973771315402644,
          0.40564749635003033,
          0.12353401623427175,
          3.4892219766978765,
          0.7400356604684535,
          1.5737948395296713,
          1.2155227497209096,
          -0.7578777685518293,
          0.21838270714850308,
          0.2906017401905688,
          -0.09274318392091023,
          -0.08501365107773047,
          -1.9169242415553993,
          0.6354044556758225,
          -0.9085822695369786,
          -0.8099317241044525,
          1.1006357530970599,
          -1.5023856122214094,
          -0.22154845805343645,
          -1.3408905430243676,
          -0.6999698546878313,
          0.6462981556258707,
          -2.004558345319722,
          1.4165772372655763,
          -1.703319528829284,
          0.008928166879526484,
          -1.342371253815068,
          1.5922173966646591,
          -0.7222781192097324,
          -1.388599809920899,
          -0.04048973483372441,
          0.26498547150741,
          -1.0862955174970992,
          1.794238525111512,
          -0.10798386115262665,
          0.5965408575811325,
          -0.8897361713533402,
          0.07830855366464426,
          -0.44740813006892227,
          0.4347288461875099,
          0.5038059212723521,
          0.5793219642977636,
          0.17524437803870738,
          0.7209257879842977,
          0.053698688851731964,
          -0.48737598538986593,
          1.2987634408369853,
          1.6451312081981426,
          0.39923952372038357,
          -1.7777297943408932,
          -0.6906817131199058,
          0.2526344979303035,
          -1.4043339844543148,
          0.7727439685302119,
          1.36004424424199,
          -0.7878049258801506,
          -1.2352340376726214,
          0.8593006388571304,
          0.6551972093723268,
          -0.8944068398109183,
          0.38982543354751537,
          -0.20833527014003578,
          0.7755650713361901,
          -0.8313071909579461,
          -0.2692403325632571,
          1.6295625223072496,
          0.42604675267042164,
          0.9135562114108622,
          1.9738901055730302,
          1.6080025335225183,
          0.18039384816335158,
          0.1369333208126082,
          0.5535303225602813,
          0.19182761336966878,
          -0.6284149427013865,
          1.6000310506883364,
          0.6638289795262313,
          1.067503794244087,
          1.125376634490109
         ],
         "xaxis": "x16",
         "yaxis": "y16"
        }
       ],
       "layout": {
        "bargap": 0.02,
        "legend": {
         "bgcolor": "#F5F6F9",
         "font": {
          "color": "#4D5663"
         }
        },
        "paper_bgcolor": "#F5F6F9",
        "plot_bgcolor": "#F5F6F9",
        "showlegend": false,
        "template": {
         "data": {
          "bar": [
           {
            "error_x": {
             "color": "#2a3f5f"
            },
            "error_y": {
             "color": "#2a3f5f"
            },
            "marker": {
             "line": {
              "color": "#E5ECF6",
              "width": 0.5
             }
            },
            "type": "bar"
           }
          ],
          "barpolar": [
           {
            "marker": {
             "line": {
              "color": "#E5ECF6",
              "width": 0.5
             }
            },
            "type": "barpolar"
           }
          ],
          "carpet": [
           {
            "aaxis": {
             "endlinecolor": "#2a3f5f",
             "gridcolor": "white",
             "linecolor": "white",
             "minorgridcolor": "white",
             "startlinecolor": "#2a3f5f"
            },
            "baxis": {
             "endlinecolor": "#2a3f5f",
             "gridcolor": "white",
             "linecolor": "white",
             "minorgridcolor": "white",
             "startlinecolor": "#2a3f5f"
            },
            "type": "carpet"
           }
          ],
          "choropleth": [
           {
            "colorbar": {
             "outlinewidth": 0,
             "ticks": ""
            },
            "type": "choropleth"
           }
          ],
          "contour": [
           {
            "colorbar": {
             "outlinewidth": 0,
             "ticks": ""
            },
            "colorscale": [
             [
              0,
              "#0d0887"
             ],
             [
              0.1111111111111111,
              "#46039f"
             ],
             [
              0.2222222222222222,
              "#7201a8"
             ],
             [
              0.3333333333333333,
              "#9c179e"
             ],
             [
              0.4444444444444444,
              "#bd3786"
             ],
             [
              0.5555555555555556,
              "#d8576b"
             ],
             [
              0.6666666666666666,
              "#ed7953"
             ],
             [
              0.7777777777777778,
              "#fb9f3a"
             ],
             [
              0.8888888888888888,
              "#fdca26"
             ],
             [
              1,
              "#f0f921"
             ]
            ],
            "type": "contour"
           }
          ],
          "contourcarpet": [
           {
            "colorbar": {
             "outlinewidth": 0,
             "ticks": ""
            },
            "type": "contourcarpet"
           }
          ],
          "heatmap": [
           {
            "colorbar": {
             "outlinewidth": 0,
             "ticks": ""
            },
            "colorscale": [
             [
              0,
              "#0d0887"
             ],
             [
              0.1111111111111111,
              "#46039f"
             ],
             [
              0.2222222222222222,
              "#7201a8"
             ],
             [
              0.3333333333333333,
              "#9c179e"
             ],
             [
              0.4444444444444444,
              "#bd3786"
             ],
             [
              0.5555555555555556,
              "#d8576b"
             ],
             [
              0.6666666666666666,
              "#ed7953"
             ],
             [
              0.7777777777777778,
              "#fb9f3a"
             ],
             [
              0.8888888888888888,
              "#fdca26"
             ],
             [
              1,
              "#f0f921"
             ]
            ],
            "type": "heatmap"
           }
          ],
          "heatmapgl": [
           {
            "colorbar": {
             "outlinewidth": 0,
             "ticks": ""
            },
            "colorscale": [
             [
              0,
              "#0d0887"
             ],
             [
              0.1111111111111111,
              "#46039f"
             ],
             [
              0.2222222222222222,
              "#7201a8"
             ],
             [
              0.3333333333333333,
              "#9c179e"
             ],
             [
              0.4444444444444444,
              "#bd3786"
             ],
             [
              0.5555555555555556,
              "#d8576b"
             ],
             [
              0.6666666666666666,
              "#ed7953"
             ],
             [
              0.7777777777777778,
              "#fb9f3a"
             ],
             [
              0.8888888888888888,
              "#fdca26"
             ],
             [
              1,
              "#f0f921"
             ]
            ],
            "type": "heatmapgl"
           }
          ],
          "histogram": [
           {
            "marker": {
             "colorbar": {
              "outlinewidth": 0,
              "ticks": ""
             }
            },
            "type": "histogram"
           }
          ],
          "histogram2d": [
           {
            "colorbar": {
             "outlinewidth": 0,
             "ticks": ""
            },
            "colorscale": [
             [
              0,
              "#0d0887"
             ],
             [
              0.1111111111111111,
              "#46039f"
             ],
             [
              0.2222222222222222,
              "#7201a8"
             ],
             [
              0.3333333333333333,
              "#9c179e"
             ],
             [
              0.4444444444444444,
              "#bd3786"
             ],
             [
              0.5555555555555556,
              "#d8576b"
             ],
             [
              0.6666666666666666,
              "#ed7953"
             ],
             [
              0.7777777777777778,
              "#fb9f3a"
             ],
             [
              0.8888888888888888,
              "#fdca26"
             ],
             [
              1,
              "#f0f921"
             ]
            ],
            "type": "histogram2d"
           }
          ],
          "histogram2dcontour": [
           {
            "colorbar": {
             "outlinewidth": 0,
             "ticks": ""
            },
            "colorscale": [
             [
              0,
              "#0d0887"
             ],
             [
              0.1111111111111111,
              "#46039f"
             ],
             [
              0.2222222222222222,
              "#7201a8"
             ],
             [
              0.3333333333333333,
              "#9c179e"
             ],
             [
              0.4444444444444444,
              "#bd3786"
             ],
             [
              0.5555555555555556,
              "#d8576b"
             ],
             [
              0.6666666666666666,
              "#ed7953"
             ],
             [
              0.7777777777777778,
              "#fb9f3a"
             ],
             [
              0.8888888888888888,
              "#fdca26"
             ],
             [
              1,
              "#f0f921"
             ]
            ],
            "type": "histogram2dcontour"
           }
          ],
          "mesh3d": [
           {
            "colorbar": {
             "outlinewidth": 0,
             "ticks": ""
            },
            "type": "mesh3d"
           }
          ],
          "parcoords": [
           {
            "line": {
             "colorbar": {
              "outlinewidth": 0,
              "ticks": ""
             }
            },
            "type": "parcoords"
           }
          ],
          "pie": [
           {
            "automargin": true,
            "type": "pie"
           }
          ],
          "scatter": [
           {
            "marker": {
             "colorbar": {
              "outlinewidth": 0,
              "ticks": ""
             }
            },
            "type": "scatter"
           }
          ],
          "scatter3d": [
           {
            "line": {
             "colorbar": {
              "outlinewidth": 0,
              "ticks": ""
             }
            },
            "marker": {
             "colorbar": {
              "outlinewidth": 0,
              "ticks": ""
             }
            },
            "type": "scatter3d"
           }
          ],
          "scattercarpet": [
           {
            "marker": {
             "colorbar": {
              "outlinewidth": 0,
              "ticks": ""
             }
            },
            "type": "scattercarpet"
           }
          ],
          "scattergeo": [
           {
            "marker": {
             "colorbar": {
              "outlinewidth": 0,
              "ticks": ""
             }
            },
            "type": "scattergeo"
           }
          ],
          "scattergl": [
           {
            "marker": {
             "colorbar": {
              "outlinewidth": 0,
              "ticks": ""
             }
            },
            "type": "scattergl"
           }
          ],
          "scattermapbox": [
           {
            "marker": {
             "colorbar": {
              "outlinewidth": 0,
              "ticks": ""
             }
            },
            "type": "scattermapbox"
           }
          ],
          "scatterpolar": [
           {
            "marker": {
             "colorbar": {
              "outlinewidth": 0,
              "ticks": ""
             }
            },
            "type": "scatterpolar"
           }
          ],
          "scatterpolargl": [
           {
            "marker": {
             "colorbar": {
              "outlinewidth": 0,
              "ticks": ""
             }
            },
            "type": "scatterpolargl"
           }
          ],
          "scatterternary": [
           {
            "marker": {
             "colorbar": {
              "outlinewidth": 0,
              "ticks": ""
             }
            },
            "type": "scatterternary"
           }
          ],
          "surface": [
           {
            "colorbar": {
             "outlinewidth": 0,
             "ticks": ""
            },
            "colorscale": [
             [
              0,
              "#0d0887"
             ],
             [
              0.1111111111111111,
              "#46039f"
             ],
             [
              0.2222222222222222,
              "#7201a8"
             ],
             [
              0.3333333333333333,
              "#9c179e"
             ],
             [
              0.4444444444444444,
              "#bd3786"
             ],
             [
              0.5555555555555556,
              "#d8576b"
             ],
             [
              0.6666666666666666,
              "#ed7953"
             ],
             [
              0.7777777777777778,
              "#fb9f3a"
             ],
             [
              0.8888888888888888,
              "#fdca26"
             ],
             [
              1,
              "#f0f921"
             ]
            ],
            "type": "surface"
           }
          ],
          "table": [
           {
            "cells": {
             "fill": {
              "color": "#EBF0F8"
             },
             "line": {
              "color": "white"
             }
            },
            "header": {
             "fill": {
              "color": "#C8D4E3"
             },
             "line": {
              "color": "white"
             }
            },
            "type": "table"
           }
          ]
         },
         "layout": {
          "annotationdefaults": {
           "arrowcolor": "#2a3f5f",
           "arrowhead": 0,
           "arrowwidth": 1
          },
          "coloraxis": {
           "colorbar": {
            "outlinewidth": 0,
            "ticks": ""
           }
          },
          "colorscale": {
           "diverging": [
            [
             0,
             "#8e0152"
            ],
            [
             0.1,
             "#c51b7d"
            ],
            [
             0.2,
             "#de77ae"
            ],
            [
             0.3,
             "#f1b6da"
            ],
            [
             0.4,
             "#fde0ef"
            ],
            [
             0.5,
             "#f7f7f7"
            ],
            [
             0.6,
             "#e6f5d0"
            ],
            [
             0.7,
             "#b8e186"
            ],
            [
             0.8,
             "#7fbc41"
            ],
            [
             0.9,
             "#4d9221"
            ],
            [
             1,
             "#276419"
            ]
           ],
           "sequential": [
            [
             0,
             "#0d0887"
            ],
            [
             0.1111111111111111,
             "#46039f"
            ],
            [
             0.2222222222222222,
             "#7201a8"
            ],
            [
             0.3333333333333333,
             "#9c179e"
            ],
            [
             0.4444444444444444,
             "#bd3786"
            ],
            [
             0.5555555555555556,
             "#d8576b"
            ],
            [
             0.6666666666666666,
             "#ed7953"
            ],
            [
             0.7777777777777778,
             "#fb9f3a"
            ],
            [
             0.8888888888888888,
             "#fdca26"
            ],
            [
             1,
             "#f0f921"
            ]
           ],
           "sequentialminus": [
            [
             0,
             "#0d0887"
            ],
            [
             0.1111111111111111,
             "#46039f"
            ],
            [
             0.2222222222222222,
             "#7201a8"
            ],
            [
             0.3333333333333333,
             "#9c179e"
            ],
            [
             0.4444444444444444,
             "#bd3786"
            ],
            [
             0.5555555555555556,
             "#d8576b"
            ],
            [
             0.6666666666666666,
             "#ed7953"
            ],
            [
             0.7777777777777778,
             "#fb9f3a"
            ],
            [
             0.8888888888888888,
             "#fdca26"
            ],
            [
             1,
             "#f0f921"
            ]
           ]
          },
          "colorway": [
           "#636efa",
           "#EF553B",
           "#00cc96",
           "#ab63fa",
           "#FFA15A",
           "#19d3f3",
           "#FF6692",
           "#B6E880",
           "#FF97FF",
           "#FECB52"
          ],
          "font": {
           "color": "#2a3f5f"
          },
          "geo": {
           "bgcolor": "white",
           "lakecolor": "white",
           "landcolor": "#E5ECF6",
           "showlakes": true,
           "showland": true,
           "subunitcolor": "white"
          },
          "hoverlabel": {
           "align": "left"
          },
          "hovermode": "closest",
          "mapbox": {
           "style": "light"
          },
          "paper_bgcolor": "white",
          "plot_bgcolor": "#E5ECF6",
          "polar": {
           "angularaxis": {
            "gridcolor": "white",
            "linecolor": "white",
            "ticks": ""
           },
           "bgcolor": "#E5ECF6",
           "radialaxis": {
            "gridcolor": "white",
            "linecolor": "white",
            "ticks": ""
           }
          },
          "scene": {
           "xaxis": {
            "backgroundcolor": "#E5ECF6",
            "gridcolor": "white",
            "gridwidth": 2,
            "linecolor": "white",
            "showbackground": true,
            "ticks": "",
            "zerolinecolor": "white"
           },
           "yaxis": {
            "backgroundcolor": "#E5ECF6",
            "gridcolor": "white",
            "gridwidth": 2,
            "linecolor": "white",
            "showbackground": true,
            "ticks": "",
            "zerolinecolor": "white"
           },
           "zaxis": {
            "backgroundcolor": "#E5ECF6",
            "gridcolor": "white",
            "gridwidth": 2,
            "linecolor": "white",
            "showbackground": true,
            "ticks": "",
            "zerolinecolor": "white"
           }
          },
          "shapedefaults": {
           "line": {
            "color": "#2a3f5f"
           }
          },
          "ternary": {
           "aaxis": {
            "gridcolor": "white",
            "linecolor": "white",
            "ticks": ""
           },
           "baxis": {
            "gridcolor": "white",
            "linecolor": "white",
            "ticks": ""
           },
           "bgcolor": "#E5ECF6",
           "caxis": {
            "gridcolor": "white",
            "linecolor": "white",
            "ticks": ""
           }
          },
          "title": {
           "x": 0.05
          },
          "xaxis": {
           "automargin": true,
           "gridcolor": "white",
           "linecolor": "white",
           "ticks": "",
           "title": {
            "standoff": 15
           },
           "zerolinecolor": "white",
           "zerolinewidth": 2
          },
          "yaxis": {
           "automargin": true,
           "gridcolor": "white",
           "linecolor": "white",
           "ticks": "",
           "title": {
            "standoff": 15
           },
           "zerolinecolor": "white",
           "zerolinewidth": 2
          }
         }
        },
        "title": {
         "font": {
          "color": "#4D5663"
         }
        },
        "xaxis": {
         "anchor": "y",
         "domain": [
          0,
          0.2125
         ],
         "gridcolor": "#E1E5ED",
         "showgrid": false,
         "tickfont": {
          "color": "#4D5663"
         },
         "title": {
          "font": {
           "color": "#4D5663"
          },
          "text": ""
         },
         "zerolinecolor": "#E1E5ED"
        },
        "xaxis10": {
         "anchor": "y10",
         "domain": [
          0.2625,
          0.475
         ],
         "gridcolor": "#E1E5ED",
         "showgrid": false,
         "tickfont": {
          "color": "#4D5663"
         },
         "title": {
          "font": {
           "color": "#4D5663"
          },
          "text": ""
         },
         "zerolinecolor": "#E1E5ED"
        },
        "xaxis11": {
         "anchor": "y11",
         "domain": [
          0.525,
          0.7375
         ],
         "gridcolor": "#E1E5ED",
         "showgrid": false,
         "tickfont": {
          "color": "#4D5663"
         },
         "title": {
          "font": {
           "color": "#4D5663"
          },
          "text": ""
         },
         "zerolinecolor": "#E1E5ED"
        },
        "xaxis12": {
         "anchor": "y12",
         "domain": [
          0.7875,
          1
         ],
         "gridcolor": "#E1E5ED",
         "showgrid": false,
         "tickfont": {
          "color": "#4D5663"
         },
         "title": {
          "font": {
           "color": "#4D5663"
          },
          "text": ""
         },
         "zerolinecolor": "#E1E5ED"
        },
        "xaxis13": {
         "anchor": "y13",
         "domain": [
          0,
          0.2125
         ],
         "gridcolor": "#E1E5ED",
         "showgrid": false,
         "tickfont": {
          "color": "#4D5663"
         },
         "title": {
          "font": {
           "color": "#4D5663"
          },
          "text": ""
         },
         "zerolinecolor": "#E1E5ED"
        },
        "xaxis14": {
         "anchor": "y14",
         "domain": [
          0.2625,
          0.475
         ],
         "gridcolor": "#E1E5ED",
         "showgrid": false,
         "tickfont": {
          "color": "#4D5663"
         },
         "title": {
          "font": {
           "color": "#4D5663"
          },
          "text": ""
         },
         "zerolinecolor": "#E1E5ED"
        },
        "xaxis15": {
         "anchor": "y15",
         "domain": [
          0.525,
          0.7375
         ],
         "gridcolor": "#E1E5ED",
         "showgrid": false,
         "tickfont": {
          "color": "#4D5663"
         },
         "title": {
          "font": {
           "color": "#4D5663"
          },
          "text": ""
         },
         "zerolinecolor": "#E1E5ED"
        },
        "xaxis16": {
         "anchor": "y16",
         "domain": [
          0.7875,
          1
         ],
         "gridcolor": "#E1E5ED",
         "showgrid": false,
         "tickfont": {
          "color": "#4D5663"
         },
         "title": {
          "font": {
           "color": "#4D5663"
          },
          "text": ""
         },
         "zerolinecolor": "#E1E5ED"
        },
        "xaxis2": {
         "anchor": "y2",
         "domain": [
          0.2625,
          0.475
         ],
         "gridcolor": "#E1E5ED",
         "showgrid": false,
         "tickfont": {
          "color": "#4D5663"
         },
         "title": {
          "font": {
           "color": "#4D5663"
          },
          "text": ""
         },
         "zerolinecolor": "#E1E5ED"
        },
        "xaxis3": {
         "anchor": "y3",
         "domain": [
          0.525,
          0.7375
         ],
         "gridcolor": "#E1E5ED",
         "showgrid": false,
         "tickfont": {
          "color": "#4D5663"
         },
         "title": {
          "font": {
           "color": "#4D5663"
          },
          "text": ""
         },
         "zerolinecolor": "#E1E5ED"
        },
        "xaxis4": {
         "anchor": "y4",
         "domain": [
          0.7875,
          1
         ],
         "gridcolor": "#E1E5ED",
         "showgrid": false,
         "tickfont": {
          "color": "#4D5663"
         },
         "title": {
          "font": {
           "color": "#4D5663"
          },
          "text": ""
         },
         "zerolinecolor": "#E1E5ED"
        },
        "xaxis5": {
         "anchor": "y5",
         "domain": [
          0,
          0.2125
         ],
         "gridcolor": "#E1E5ED",
         "showgrid": false,
         "tickfont": {
          "color": "#4D5663"
         },
         "title": {
          "font": {
           "color": "#4D5663"
          },
          "text": ""
         },
         "zerolinecolor": "#E1E5ED"
        },
        "xaxis6": {
         "anchor": "y6",
         "domain": [
          0.2625,
          0.475
         ],
         "gridcolor": "#E1E5ED",
         "showgrid": false,
         "tickfont": {
          "color": "#4D5663"
         },
         "title": {
          "font": {
           "color": "#4D5663"
          },
          "text": ""
         },
         "zerolinecolor": "#E1E5ED"
        },
        "xaxis7": {
         "anchor": "y7",
         "domain": [
          0.525,
          0.7375
         ],
         "gridcolor": "#E1E5ED",
         "showgrid": false,
         "tickfont": {
          "color": "#4D5663"
         },
         "title": {
          "font": {
           "color": "#4D5663"
          },
          "text": ""
         },
         "zerolinecolor": "#E1E5ED"
        },
        "xaxis8": {
         "anchor": "y8",
         "domain": [
          0.7875,
          1
         ],
         "gridcolor": "#E1E5ED",
         "showgrid": false,
         "tickfont": {
          "color": "#4D5663"
         },
         "title": {
          "font": {
           "color": "#4D5663"
          },
          "text": ""
         },
         "zerolinecolor": "#E1E5ED"
        },
        "xaxis9": {
         "anchor": "y9",
         "domain": [
          0,
          0.2125
         ],
         "gridcolor": "#E1E5ED",
         "showgrid": false,
         "tickfont": {
          "color": "#4D5663"
         },
         "title": {
          "font": {
           "color": "#4D5663"
          },
          "text": ""
         },
         "zerolinecolor": "#E1E5ED"
        },
        "yaxis": {
         "anchor": "x",
         "domain": [
          0.8025,
          1
         ],
         "gridcolor": "#E1E5ED",
         "showgrid": false,
         "tickfont": {
          "color": "#4D5663"
         },
         "title": {
          "font": {
           "color": "#4D5663"
          },
          "text": ""
         },
         "zerolinecolor": "#E1E5ED"
        },
        "yaxis10": {
         "anchor": "x10",
         "domain": [
          0.2675,
          0.465
         ],
         "gridcolor": "#E1E5ED",
         "showgrid": false,
         "tickfont": {
          "color": "#4D5663"
         },
         "title": {
          "font": {
           "color": "#4D5663"
          },
          "text": ""
         },
         "zerolinecolor": "#E1E5ED"
        },
        "yaxis11": {
         "anchor": "x11",
         "domain": [
          0.2675,
          0.465
         ],
         "gridcolor": "#E1E5ED",
         "showgrid": false,
         "tickfont": {
          "color": "#4D5663"
         },
         "title": {
          "font": {
           "color": "#4D5663"
          },
          "text": ""
         },
         "zerolinecolor": "#E1E5ED"
        },
        "yaxis12": {
         "anchor": "x12",
         "domain": [
          0.2675,
          0.465
         ],
         "gridcolor": "#E1E5ED",
         "showgrid": false,
         "tickfont": {
          "color": "#4D5663"
         },
         "title": {
          "font": {
           "color": "#4D5663"
          },
          "text": ""
         },
         "zerolinecolor": "#E1E5ED"
        },
        "yaxis13": {
         "anchor": "x13",
         "domain": [
          0,
          0.1975
         ],
         "gridcolor": "#E1E5ED",
         "showgrid": false,
         "tickfont": {
          "color": "#4D5663"
         },
         "title": {
          "font": {
           "color": "#4D5663"
          },
          "text": ""
         },
         "zerolinecolor": "#E1E5ED"
        },
        "yaxis14": {
         "anchor": "x14",
         "domain": [
          0,
          0.1975
         ],
         "gridcolor": "#E1E5ED",
         "showgrid": false,
         "tickfont": {
          "color": "#4D5663"
         },
         "title": {
          "font": {
           "color": "#4D5663"
          },
          "text": ""
         },
         "zerolinecolor": "#E1E5ED"
        },
        "yaxis15": {
         "anchor": "x15",
         "domain": [
          0,
          0.1975
         ],
         "gridcolor": "#E1E5ED",
         "showgrid": false,
         "tickfont": {
          "color": "#4D5663"
         },
         "title": {
          "font": {
           "color": "#4D5663"
          },
          "text": ""
         },
         "zerolinecolor": "#E1E5ED"
        },
        "yaxis16": {
         "anchor": "x16",
         "domain": [
          0,
          0.1975
         ],
         "gridcolor": "#E1E5ED",
         "showgrid": false,
         "tickfont": {
          "color": "#4D5663"
         },
         "title": {
          "font": {
           "color": "#4D5663"
          },
          "text": ""
         },
         "zerolinecolor": "#E1E5ED"
        },
        "yaxis2": {
         "anchor": "x2",
         "domain": [
          0.8025,
          1
         ],
         "gridcolor": "#E1E5ED",
         "showgrid": false,
         "tickfont": {
          "color": "#4D5663"
         },
         "title": {
          "font": {
           "color": "#4D5663"
          },
          "text": ""
         },
         "zerolinecolor": "#E1E5ED"
        },
        "yaxis3": {
         "anchor": "x3",
         "domain": [
          0.8025,
          1
         ],
         "gridcolor": "#E1E5ED",
         "showgrid": false,
         "tickfont": {
          "color": "#4D5663"
         },
         "title": {
          "font": {
           "color": "#4D5663"
          },
          "text": ""
         },
         "zerolinecolor": "#E1E5ED"
        },
        "yaxis4": {
         "anchor": "x4",
         "domain": [
          0.8025,
          1
         ],
         "gridcolor": "#E1E5ED",
         "showgrid": false,
         "tickfont": {
          "color": "#4D5663"
         },
         "title": {
          "font": {
           "color": "#4D5663"
          },
          "text": ""
         },
         "zerolinecolor": "#E1E5ED"
        },
        "yaxis5": {
         "anchor": "x5",
         "domain": [
          0.535,
          0.7325
         ],
         "gridcolor": "#E1E5ED",
         "showgrid": false,
         "tickfont": {
          "color": "#4D5663"
         },
         "title": {
          "font": {
           "color": "#4D5663"
          },
          "text": ""
         },
         "zerolinecolor": "#E1E5ED"
        },
        "yaxis6": {
         "anchor": "x6",
         "domain": [
          0.535,
          0.7325
         ],
         "gridcolor": "#E1E5ED",
         "showgrid": false,
         "tickfont": {
          "color": "#4D5663"
         },
         "title": {
          "font": {
           "color": "#4D5663"
          },
          "text": ""
         },
         "zerolinecolor": "#E1E5ED"
        },
        "yaxis7": {
         "anchor": "x7",
         "domain": [
          0.535,
          0.7325
         ],
         "gridcolor": "#E1E5ED",
         "showgrid": false,
         "tickfont": {
          "color": "#4D5663"
         },
         "title": {
          "font": {
           "color": "#4D5663"
          },
          "text": ""
         },
         "zerolinecolor": "#E1E5ED"
        },
        "yaxis8": {
         "anchor": "x8",
         "domain": [
          0.535,
          0.7325
         ],
         "gridcolor": "#E1E5ED",
         "showgrid": false,
         "tickfont": {
          "color": "#4D5663"
         },
         "title": {
          "font": {
           "color": "#4D5663"
          },
          "text": ""
         },
         "zerolinecolor": "#E1E5ED"
        },
        "yaxis9": {
         "anchor": "x9",
         "domain": [
          0.2675,
          0.465
         ],
         "gridcolor": "#E1E5ED",
         "showgrid": false,
         "tickfont": {
          "color": "#4D5663"
         },
         "title": {
          "font": {
           "color": "#4D5663"
          },
          "text": ""
         },
         "zerolinecolor": "#E1E5ED"
        }
       }
      },
      "text/html": [
       "<div>\n",
       "        \n",
       "        \n",
       "            <div id=\"c6a75199-c91a-4b89-a781-e4e684df2a6b\" class=\"plotly-graph-div\" style=\"height:525px; width:100%;\"></div>\n",
       "            <script type=\"text/javascript\">\n",
       "                require([\"plotly\"], function(Plotly) {\n",
       "                    window.PLOTLYENV=window.PLOTLYENV || {};\n",
       "                    window.PLOTLYENV.BASE_URL='https://plot.ly';\n",
       "                    \n",
       "                if (document.getElementById(\"c6a75199-c91a-4b89-a781-e4e684df2a6b\")) {\n",
       "                    Plotly.newPlot(\n",
       "                        'c6a75199-c91a-4b89-a781-e4e684df2a6b',\n",
       "                        [{\"histfunc\": \"count\", \"histnorm\": \"\", \"marker\": {\"color\": \"rgba(255, 153, 51, 1.0)\", \"line\": {\"color\": \"#4D5663\", \"width\": 1.3}}, \"name\": \"A\", \"nbinsx\": 10, \"opacity\": 0.8, \"orientation\": \"v\", \"type\": \"histogram\", \"x\": [0.3366253685910652, -0.8152962615269359, -2.057094167945235, -1.9541343699683842, 0.6350471693898226, 1.3393854246577892, -0.1664414930804797, 0.895126799501226, 0.3292560346097866, -1.5232703639541971, 0.9186446530754513, -0.10771866432911681, -0.24430106447414054, -0.20619549803399442, -0.07496398303253174, -1.1351977435845633, -0.34138973113653054, -0.6892752596721525, -1.5434768318213519, -0.374012762351043, 0.331761227479903, 0.3694659922847097, 0.15913472597883468, -0.9720134165835317, -0.2171894606425676, 0.6258869651944907, -1.2141991773722172, -0.6888312027759299, -1.196606260086114, 1.9171614028912838, -0.8197494317490756, 0.8442744914994555, -0.5354476373949394, -0.13940235912023516, -0.3440487361566797, 0.5847650737857164, -0.20452714135063474, -0.4734153008931332, 0.1525789505851457, 0.15943923195430232, -1.5712599479287583, 0.7302450600457806, -0.5281471269177707, 0.7841689237674179, 1.6847993459208428, 1.0781584592306386, -0.6148700589748657, 0.1356051706983451, -0.7880479114057856, 0.47949379874479436, -0.02441032028762437, -0.07437076244591963, 0.9467680138425014, -0.014671024676162296, 1.782056184224774, 1.7164705123188548, 0.15299462841133046, 0.5526879640231437, -0.7347081734316098, 0.25652438606881317, -0.7714194110548964, -0.9549644235619681, -0.49660877894194355, 0.3252467140305092, -0.31637216864672113, 0.34308269591780455, 0.5282051548907043, -1.1319743118881591, -0.2893859807681463, -0.6601340495579393, -1.0138335460436667, -1.6563261279034838, 0.7256724241953929, -0.11334824786137546, -0.8002763540209177, 0.7867076095020186, 0.4384288714386092, -0.3947589854358734, 0.9062235669638437, 0.8196800251334179, -1.2539062476924414, -0.20130480834260286, -0.12443864472378685, 0.04688882347637687, 1.5337275539272255, 1.982488741300852, -1.1953722916405798, 0.6410983225048137, 0.805785032541812, 0.3932603773541811, -0.6453067879032107, 1.4760578266825994, -0.3594032836309028, 0.9480512342548622, -0.18928712523705382, -0.8481750065845147, 0.4932182939235028, 0.7869080942142737, -1.2665836193117346, -0.1648699611042843], \"xaxis\": \"x\", \"yaxis\": \"y\"}, {\"line\": {\"color\": \"rgba(128, 128, 128, 1.0)\", \"dash\": \"solid\", \"shape\": \"linear\", \"width\": 1.3}, \"marker\": {\"size\": 2, \"symbol\": \"circle\"}, \"mode\": \"markers\", \"name\": \"A\", \"text\": \"\", \"type\": \"scatter\", \"x\": [0.043697341410055664, -1.581436693250505, -1.1115696532210644, -0.5698372836913742, -0.02175389139025899, 0.20260576800273525, 0.791740809273046, 1.3392918747893074, 1.7094803759461192, -2.1379210460183957, -0.07225248650834998, -0.9680086419210548, -0.7083553580314013, 0.973036553547053, 0.6590668117012048, 1.7945342742941552, -0.37518385884804895, 2.107867503689684, 0.742223919259543, -0.9161352194947348, -0.625680464700169, 0.6149028780151503, 0.20293727221135938, -0.06756211935173426, 0.5599385792540977, -0.018063441547951798, 1.0904145182977474, 0.1634388508574048, -0.4931740987536183, -0.6676426208786932, -0.11668102711351185, 0.43121144208387313, -0.1257312590901729, 0.46198432695848557, -0.6439750877139889, 1.3245655646623755, -0.980281342799237, -0.47560336976440476, 0.5015220699951991, 0.6051219350616727, 2.048607451883618, 1.261448986561181, -0.6979944782298741, -0.6143734098828072, -1.7754911385000327, -2.5384857323716385, 1.6392145910633855, -1.4820642874699732, 0.5844190880860396, -0.9436681757156312, -0.6503532338456608, 1.9604123865081746, -1.2156684870760122, 1.7823659197142776, -1.2201866924836282, -0.8602765774469655, 0.4429230638355957, -1.2834305270149287, -0.25170583685474396, 0.6830253659792884, -1.435437310811144, -0.6010432945513375, -0.759550451675055, 0.5494279717404709, -2.601816346142572, -1.4347716877088044, -1.5063832342771595, 1.030878804194865, -0.05143590109769036, -0.16272027060819982, 0.08748232879602544, 0.6301069551469266, -1.3863205154859544, -1.638235833577776, -0.7425171354610364, 0.5881594362154489, -0.9543717077207359, -0.3174249771099468, 0.7827350703006383, 0.45058167180313485, 0.6632662170891702, 1.561964675359686, 0.15404556879730338, 0.08133174112869458, 0.23151390026575197, 0.5024442630469539, 1.2852188126317763, 1.8971364510299469, -0.7424065437024872, 0.25959933392610635, -0.2612537670966083, -0.17573342825713237, 0.6960917629912512, -0.2709490068825894, -0.22219577815518834, -0.6442948098061319, -0.9700610554833162, -0.2098202139951793, -0.8736514829147257, 0.46721323100953], \"xaxis\": \"x2\", \"y\": [0.3366253685910652, -0.8152962615269359, -2.057094167945235, -1.9541343699683842, 0.6350471693898226, 1.3393854246577892, -0.1664414930804797, 0.895126799501226, 0.3292560346097866, -1.5232703639541971, 0.9186446530754513, -0.10771866432911681, -0.24430106447414054, -0.20619549803399442, -0.07496398303253174, -1.1351977435845633, -0.34138973113653054, -0.6892752596721525, -1.5434768318213519, -0.374012762351043, 0.331761227479903, 0.3694659922847097, 0.15913472597883468, -0.9720134165835317, -0.2171894606425676, 0.6258869651944907, -1.2141991773722172, -0.6888312027759299, -1.196606260086114, 1.9171614028912838, -0.8197494317490756, 0.8442744914994555, -0.5354476373949394, -0.13940235912023516, -0.3440487361566797, 0.5847650737857164, -0.20452714135063474, -0.4734153008931332, 0.1525789505851457, 0.15943923195430232, -1.5712599479287583, 0.7302450600457806, -0.5281471269177707, 0.7841689237674179, 1.6847993459208428, 1.0781584592306386, -0.6148700589748657, 0.1356051706983451, -0.7880479114057856, 0.47949379874479436, -0.02441032028762437, -0.07437076244591963, 0.9467680138425014, -0.014671024676162296, 1.782056184224774, 1.7164705123188548, 0.15299462841133046, 0.5526879640231437, -0.7347081734316098, 0.25652438606881317, -0.7714194110548964, -0.9549644235619681, -0.49660877894194355, 0.3252467140305092, -0.31637216864672113, 0.34308269591780455, 0.5282051548907043, -1.1319743118881591, -0.2893859807681463, -0.6601340495579393, -1.0138335460436667, -1.6563261279034838, 0.7256724241953929, -0.11334824786137546, -0.8002763540209177, 0.7867076095020186, 0.4384288714386092, -0.3947589854358734, 0.9062235669638437, 0.8196800251334179, -1.2539062476924414, -0.20130480834260286, -0.12443864472378685, 0.04688882347637687, 1.5337275539272255, 1.982488741300852, -1.1953722916405798, 0.6410983225048137, 0.805785032541812, 0.3932603773541811, -0.6453067879032107, 1.4760578266825994, -0.3594032836309028, 0.9480512342548622, -0.18928712523705382, -0.8481750065845147, 0.4932182939235028, 0.7869080942142737, -1.2665836193117346, -0.1648699611042843], \"yaxis\": \"y2\"}, {\"line\": {\"color\": \"rgba(128, 128, 128, 1.0)\", \"dash\": \"solid\", \"shape\": \"linear\", \"width\": 1.3}, \"marker\": {\"size\": 2, \"symbol\": \"circle\"}, \"mode\": \"markers\", \"name\": \"A\", \"text\": \"\", \"type\": \"scatter\", \"x\": [0.04255381567537707, 0.046175923091871234, 1.4945526874734125, 2.0499505428395746, 0.35966706199617965, -0.0949271207524387, 0.6715251925041402, 0.6505611657188639, -0.333791417315038, 0.6802181420716225, -0.1871999136371795, 0.2697796011413888, -3.248413972061903, 0.9463869332128763, 0.4428394796224026, 0.9700189283405273, -0.690686931614203, 0.7024769150134029, 0.4164675466761889, -1.3013787977107742, -0.4383056029475472, -0.04120214401387803, 0.006749146217790606, -1.3130658543473204, -0.784226920233521, -0.5850973808915845, 0.5964125586372435, 0.07325798840521612, 0.7099964372805259, -0.3399487988844456, 1.1496742564620555, 1.6041272692387103, -1.601718155678675, -1.2413029379413267, 0.1497112736217552, 1.0853822331144833, 0.8383176374572543, -0.8640249954026039, 0.5215788938261666, -0.7681135353649741, -0.7225439926636898, 0.21198722295013459, 1.2983818234618332, -1.209332311380756, -1.0830682811521244, 0.5795800665901155, 0.010675912765416082, 1.153142052228595, -0.7844022321525719, -0.6615128381366681, -1.498884001979212, -1.520167780297197, -1.4735451999570175, -1.0842158068538486, -0.986167046762502, -1.2754228210260172, -0.10746292903972071, -1.065675576219357, -0.6185221279367109, 0.08272834582303598, -0.7075774211322811, 0.26278843922419387, 0.9276966171843064, -0.7442440418530465, -0.054698231086657535, -1.8054104778947602, -0.2995097686537457, 0.30350328394916304, -0.9708332249757549, 0.11067603405991755, -0.876759636086438, 1.3187269643477046, -1.7300516743601386, -0.7101342872651458, -0.13836495264228366, 1.1619196815883095, -1.032567904922605, -0.5062474182999148, 0.6143148176969475, -1.202896468711915, -2.41232766945248, -0.7388021103883274, 0.3380031501494933, -0.287687012437793, 2.312571964503006, 0.26062843201780966, 0.4893737656897665, -0.5670704810079203, 0.09294294448609702, -2.745539243741952, -0.365154492063901, -0.43082513293274993, 0.924853093376854, 0.0592808007496384, 0.7822802790361943, -2.0210347926832934, -0.4350931190868809, 0.9033125340616334, -0.28063414814338855, -1.9096697038970083], \"xaxis\": \"x3\", \"y\": [0.3366253685910652, -0.8152962615269359, -2.057094167945235, -1.9541343699683842, 0.6350471693898226, 1.3393854246577892, -0.1664414930804797, 0.895126799501226, 0.3292560346097866, -1.5232703639541971, 0.9186446530754513, -0.10771866432911681, -0.24430106447414054, -0.20619549803399442, -0.07496398303253174, -1.1351977435845633, -0.34138973113653054, -0.6892752596721525, -1.5434768318213519, -0.374012762351043, 0.331761227479903, 0.3694659922847097, 0.15913472597883468, -0.9720134165835317, -0.2171894606425676, 0.6258869651944907, -1.2141991773722172, -0.6888312027759299, -1.196606260086114, 1.9171614028912838, -0.8197494317490756, 0.8442744914994555, -0.5354476373949394, -0.13940235912023516, -0.3440487361566797, 0.5847650737857164, -0.20452714135063474, -0.4734153008931332, 0.1525789505851457, 0.15943923195430232, -1.5712599479287583, 0.7302450600457806, -0.5281471269177707, 0.7841689237674179, 1.6847993459208428, 1.0781584592306386, -0.6148700589748657, 0.1356051706983451, -0.7880479114057856, 0.47949379874479436, -0.02441032028762437, -0.07437076244591963, 0.9467680138425014, -0.014671024676162296, 1.782056184224774, 1.7164705123188548, 0.15299462841133046, 0.5526879640231437, -0.7347081734316098, 0.25652438606881317, -0.7714194110548964, -0.9549644235619681, -0.49660877894194355, 0.3252467140305092, -0.31637216864672113, 0.34308269591780455, 0.5282051548907043, -1.1319743118881591, -0.2893859807681463, -0.6601340495579393, -1.0138335460436667, -1.6563261279034838, 0.7256724241953929, -0.11334824786137546, -0.8002763540209177, 0.7867076095020186, 0.4384288714386092, -0.3947589854358734, 0.9062235669638437, 0.8196800251334179, -1.2539062476924414, -0.20130480834260286, -0.12443864472378685, 0.04688882347637687, 1.5337275539272255, 1.982488741300852, -1.1953722916405798, 0.6410983225048137, 0.805785032541812, 0.3932603773541811, -0.6453067879032107, 1.4760578266825994, -0.3594032836309028, 0.9480512342548622, -0.18928712523705382, -0.8481750065845147, 0.4932182939235028, 0.7869080942142737, -1.2665836193117346, -0.1648699611042843], \"yaxis\": \"y3\"}, {\"line\": {\"color\": \"rgba(128, 128, 128, 1.0)\", \"dash\": \"solid\", \"shape\": \"linear\", \"width\": 1.3}, \"marker\": {\"size\": 2, \"symbol\": \"circle\"}, \"mode\": \"markers\", \"name\": \"A\", \"text\": \"\", \"type\": \"scatter\", \"x\": [-0.638103274970272, -0.4516573544754162, 0.5078205297139559, 0.4738191424325633, -0.42937902895524394, -0.7220933525095943, 1.2769289696614359, -0.8056130983796184, 0.26795308834055565, 0.7946503656255284, 1.7508516378797359, -1.7808971763545731, 1.10089601850168, 0.9863501646697367, 0.26369484785855074, -0.4420793544967146, 2.3928736846920877, -1.2873048580671396, 1.7650516257789794, -0.5124464260123467, 1.015744317758713, -1.1973771315402644, 0.40564749635003033, 0.12353401623427175, 3.4892219766978765, 0.7400356604684535, 1.5737948395296713, 1.2155227497209096, -0.7578777685518293, 0.21838270714850308, 0.2906017401905688, -0.09274318392091023, -0.08501365107773047, -1.9169242415553993, 0.6354044556758225, -0.9085822695369786, -0.8099317241044525, 1.1006357530970599, -1.5023856122214094, -0.22154845805343645, -1.3408905430243676, -0.6999698546878313, 0.6462981556258707, -2.004558345319722, 1.4165772372655763, -1.703319528829284, 0.008928166879526484, -1.342371253815068, 1.5922173966646591, -0.7222781192097324, -1.388599809920899, -0.04048973483372441, 0.26498547150741, -1.0862955174970992, 1.794238525111512, -0.10798386115262665, 0.5965408575811325, -0.8897361713533402, 0.07830855366464426, -0.44740813006892227, 0.4347288461875099, 0.5038059212723521, 0.5793219642977636, 0.17524437803870738, 0.7209257879842977, 0.053698688851731964, -0.48737598538986593, 1.2987634408369853, 1.6451312081981426, 0.39923952372038357, -1.7777297943408932, -0.6906817131199058, 0.2526344979303035, -1.4043339844543148, 0.7727439685302119, 1.36004424424199, -0.7878049258801506, -1.2352340376726214, 0.8593006388571304, 0.6551972093723268, -0.8944068398109183, 0.38982543354751537, -0.20833527014003578, 0.7755650713361901, -0.8313071909579461, -0.2692403325632571, 1.6295625223072496, 0.42604675267042164, 0.9135562114108622, 1.9738901055730302, 1.6080025335225183, 0.18039384816335158, 0.1369333208126082, 0.5535303225602813, 0.19182761336966878, -0.6284149427013865, 1.6000310506883364, 0.6638289795262313, 1.067503794244087, 1.125376634490109], \"xaxis\": \"x4\", \"y\": [0.3366253685910652, -0.8152962615269359, -2.057094167945235, -1.9541343699683842, 0.6350471693898226, 1.3393854246577892, -0.1664414930804797, 0.895126799501226, 0.3292560346097866, -1.5232703639541971, 0.9186446530754513, -0.10771866432911681, -0.24430106447414054, -0.20619549803399442, -0.07496398303253174, -1.1351977435845633, -0.34138973113653054, -0.6892752596721525, -1.5434768318213519, -0.374012762351043, 0.331761227479903, 0.3694659922847097, 0.15913472597883468, -0.9720134165835317, -0.2171894606425676, 0.6258869651944907, -1.2141991773722172, -0.6888312027759299, -1.196606260086114, 1.9171614028912838, -0.8197494317490756, 0.8442744914994555, -0.5354476373949394, -0.13940235912023516, -0.3440487361566797, 0.5847650737857164, -0.20452714135063474, -0.4734153008931332, 0.1525789505851457, 0.15943923195430232, -1.5712599479287583, 0.7302450600457806, -0.5281471269177707, 0.7841689237674179, 1.6847993459208428, 1.0781584592306386, -0.6148700589748657, 0.1356051706983451, -0.7880479114057856, 0.47949379874479436, -0.02441032028762437, -0.07437076244591963, 0.9467680138425014, -0.014671024676162296, 1.782056184224774, 1.7164705123188548, 0.15299462841133046, 0.5526879640231437, -0.7347081734316098, 0.25652438606881317, -0.7714194110548964, -0.9549644235619681, -0.49660877894194355, 0.3252467140305092, -0.31637216864672113, 0.34308269591780455, 0.5282051548907043, -1.1319743118881591, -0.2893859807681463, -0.6601340495579393, -1.0138335460436667, -1.6563261279034838, 0.7256724241953929, -0.11334824786137546, -0.8002763540209177, 0.7867076095020186, 0.4384288714386092, -0.3947589854358734, 0.9062235669638437, 0.8196800251334179, -1.2539062476924414, -0.20130480834260286, -0.12443864472378685, 0.04688882347637687, 1.5337275539272255, 1.982488741300852, -1.1953722916405798, 0.6410983225048137, 0.805785032541812, 0.3932603773541811, -0.6453067879032107, 1.4760578266825994, -0.3594032836309028, 0.9480512342548622, -0.18928712523705382, -0.8481750065845147, 0.4932182939235028, 0.7869080942142737, -1.2665836193117346, -0.1648699611042843], \"yaxis\": \"y4\"}, {\"line\": {\"color\": \"rgba(128, 128, 128, 1.0)\", \"dash\": \"solid\", \"shape\": \"linear\", \"width\": 1.3}, \"marker\": {\"size\": 2, \"symbol\": \"circle\"}, \"mode\": \"markers\", \"name\": \"B\", \"text\": \"\", \"type\": \"scatter\", \"x\": [0.3366253685910652, -0.8152962615269359, -2.057094167945235, -1.9541343699683842, 0.6350471693898226, 1.3393854246577892, -0.1664414930804797, 0.895126799501226, 0.3292560346097866, -1.5232703639541971, 0.9186446530754513, -0.10771866432911681, -0.24430106447414054, -0.20619549803399442, -0.07496398303253174, -1.1351977435845633, -0.34138973113653054, -0.6892752596721525, -1.5434768318213519, -0.374012762351043, 0.331761227479903, 0.3694659922847097, 0.15913472597883468, -0.9720134165835317, -0.2171894606425676, 0.6258869651944907, -1.2141991773722172, -0.6888312027759299, -1.196606260086114, 1.9171614028912838, -0.8197494317490756, 0.8442744914994555, -0.5354476373949394, -0.13940235912023516, -0.3440487361566797, 0.5847650737857164, -0.20452714135063474, -0.4734153008931332, 0.1525789505851457, 0.15943923195430232, -1.5712599479287583, 0.7302450600457806, -0.5281471269177707, 0.7841689237674179, 1.6847993459208428, 1.0781584592306386, -0.6148700589748657, 0.1356051706983451, -0.7880479114057856, 0.47949379874479436, -0.02441032028762437, -0.07437076244591963, 0.9467680138425014, -0.014671024676162296, 1.782056184224774, 1.7164705123188548, 0.15299462841133046, 0.5526879640231437, -0.7347081734316098, 0.25652438606881317, -0.7714194110548964, -0.9549644235619681, -0.49660877894194355, 0.3252467140305092, -0.31637216864672113, 0.34308269591780455, 0.5282051548907043, -1.1319743118881591, -0.2893859807681463, -0.6601340495579393, -1.0138335460436667, -1.6563261279034838, 0.7256724241953929, -0.11334824786137546, -0.8002763540209177, 0.7867076095020186, 0.4384288714386092, -0.3947589854358734, 0.9062235669638437, 0.8196800251334179, -1.2539062476924414, -0.20130480834260286, -0.12443864472378685, 0.04688882347637687, 1.5337275539272255, 1.982488741300852, -1.1953722916405798, 0.6410983225048137, 0.805785032541812, 0.3932603773541811, -0.6453067879032107, 1.4760578266825994, -0.3594032836309028, 0.9480512342548622, -0.18928712523705382, -0.8481750065845147, 0.4932182939235028, 0.7869080942142737, -1.2665836193117346, -0.1648699611042843], \"xaxis\": \"x5\", \"y\": [0.043697341410055664, -1.581436693250505, -1.1115696532210644, -0.5698372836913742, -0.02175389139025899, 0.20260576800273525, 0.791740809273046, 1.3392918747893074, 1.7094803759461192, -2.1379210460183957, -0.07225248650834998, -0.9680086419210548, -0.7083553580314013, 0.973036553547053, 0.6590668117012048, 1.7945342742941552, -0.37518385884804895, 2.107867503689684, 0.742223919259543, -0.9161352194947348, -0.625680464700169, 0.6149028780151503, 0.20293727221135938, -0.06756211935173426, 0.5599385792540977, -0.018063441547951798, 1.0904145182977474, 0.1634388508574048, -0.4931740987536183, -0.6676426208786932, -0.11668102711351185, 0.43121144208387313, -0.1257312590901729, 0.46198432695848557, -0.6439750877139889, 1.3245655646623755, -0.980281342799237, -0.47560336976440476, 0.5015220699951991, 0.6051219350616727, 2.048607451883618, 1.261448986561181, -0.6979944782298741, -0.6143734098828072, -1.7754911385000327, -2.5384857323716385, 1.6392145910633855, -1.4820642874699732, 0.5844190880860396, -0.9436681757156312, -0.6503532338456608, 1.9604123865081746, -1.2156684870760122, 1.7823659197142776, -1.2201866924836282, -0.8602765774469655, 0.4429230638355957, -1.2834305270149287, -0.25170583685474396, 0.6830253659792884, -1.435437310811144, -0.6010432945513375, -0.759550451675055, 0.5494279717404709, -2.601816346142572, -1.4347716877088044, -1.5063832342771595, 1.030878804194865, -0.05143590109769036, -0.16272027060819982, 0.08748232879602544, 0.6301069551469266, -1.3863205154859544, -1.638235833577776, -0.7425171354610364, 0.5881594362154489, -0.9543717077207359, -0.3174249771099468, 0.7827350703006383, 0.45058167180313485, 0.6632662170891702, 1.561964675359686, 0.15404556879730338, 0.08133174112869458, 0.23151390026575197, 0.5024442630469539, 1.2852188126317763, 1.8971364510299469, -0.7424065437024872, 0.25959933392610635, -0.2612537670966083, -0.17573342825713237, 0.6960917629912512, -0.2709490068825894, -0.22219577815518834, -0.6442948098061319, -0.9700610554833162, -0.2098202139951793, -0.8736514829147257, 0.46721323100953], \"yaxis\": \"y5\"}, {\"histfunc\": \"count\", \"histnorm\": \"\", \"marker\": {\"color\": \"rgba(55, 128, 191, 1.0)\", \"line\": {\"color\": \"#4D5663\", \"width\": 1.3}}, \"name\": \"B\", \"nbinsx\": 10, \"opacity\": 0.8, \"orientation\": \"v\", \"type\": \"histogram\", \"x\": [0.043697341410055664, -1.581436693250505, -1.1115696532210644, -0.5698372836913742, -0.02175389139025899, 0.20260576800273525, 0.791740809273046, 1.3392918747893074, 1.7094803759461192, -2.1379210460183957, -0.07225248650834998, -0.9680086419210548, -0.7083553580314013, 0.973036553547053, 0.6590668117012048, 1.7945342742941552, -0.37518385884804895, 2.107867503689684, 0.742223919259543, -0.9161352194947348, -0.625680464700169, 0.6149028780151503, 0.20293727221135938, -0.06756211935173426, 0.5599385792540977, -0.018063441547951798, 1.0904145182977474, 0.1634388508574048, -0.4931740987536183, -0.6676426208786932, -0.11668102711351185, 0.43121144208387313, -0.1257312590901729, 0.46198432695848557, -0.6439750877139889, 1.3245655646623755, -0.980281342799237, -0.47560336976440476, 0.5015220699951991, 0.6051219350616727, 2.048607451883618, 1.261448986561181, -0.6979944782298741, -0.6143734098828072, -1.7754911385000327, -2.5384857323716385, 1.6392145910633855, -1.4820642874699732, 0.5844190880860396, -0.9436681757156312, -0.6503532338456608, 1.9604123865081746, -1.2156684870760122, 1.7823659197142776, -1.2201866924836282, -0.8602765774469655, 0.4429230638355957, -1.2834305270149287, -0.25170583685474396, 0.6830253659792884, -1.435437310811144, -0.6010432945513375, -0.759550451675055, 0.5494279717404709, -2.601816346142572, -1.4347716877088044, -1.5063832342771595, 1.030878804194865, -0.05143590109769036, -0.16272027060819982, 0.08748232879602544, 0.6301069551469266, -1.3863205154859544, -1.638235833577776, -0.7425171354610364, 0.5881594362154489, -0.9543717077207359, -0.3174249771099468, 0.7827350703006383, 0.45058167180313485, 0.6632662170891702, 1.561964675359686, 0.15404556879730338, 0.08133174112869458, 0.23151390026575197, 0.5024442630469539, 1.2852188126317763, 1.8971364510299469, -0.7424065437024872, 0.25959933392610635, -0.2612537670966083, -0.17573342825713237, 0.6960917629912512, -0.2709490068825894, -0.22219577815518834, -0.6442948098061319, -0.9700610554833162, -0.2098202139951793, -0.8736514829147257, 0.46721323100953], \"xaxis\": \"x6\", \"yaxis\": \"y6\"}, {\"line\": {\"color\": \"rgba(128, 128, 128, 1.0)\", \"dash\": \"solid\", \"shape\": \"linear\", \"width\": 1.3}, \"marker\": {\"size\": 2, \"symbol\": \"circle\"}, \"mode\": \"markers\", \"name\": \"B\", \"text\": \"\", \"type\": \"scatter\", \"x\": [0.04255381567537707, 0.046175923091871234, 1.4945526874734125, 2.0499505428395746, 0.35966706199617965, -0.0949271207524387, 0.6715251925041402, 0.6505611657188639, -0.333791417315038, 0.6802181420716225, -0.1871999136371795, 0.2697796011413888, -3.248413972061903, 0.9463869332128763, 0.4428394796224026, 0.9700189283405273, -0.690686931614203, 0.7024769150134029, 0.4164675466761889, -1.3013787977107742, -0.4383056029475472, -0.04120214401387803, 0.006749146217790606, -1.3130658543473204, -0.784226920233521, -0.5850973808915845, 0.5964125586372435, 0.07325798840521612, 0.7099964372805259, -0.3399487988844456, 1.1496742564620555, 1.6041272692387103, -1.601718155678675, -1.2413029379413267, 0.1497112736217552, 1.0853822331144833, 0.8383176374572543, -0.8640249954026039, 0.5215788938261666, -0.7681135353649741, -0.7225439926636898, 0.21198722295013459, 1.2983818234618332, -1.209332311380756, -1.0830682811521244, 0.5795800665901155, 0.010675912765416082, 1.153142052228595, -0.7844022321525719, -0.6615128381366681, -1.498884001979212, -1.520167780297197, -1.4735451999570175, -1.0842158068538486, -0.986167046762502, -1.2754228210260172, -0.10746292903972071, -1.065675576219357, -0.6185221279367109, 0.08272834582303598, -0.7075774211322811, 0.26278843922419387, 0.9276966171843064, -0.7442440418530465, -0.054698231086657535, -1.8054104778947602, -0.2995097686537457, 0.30350328394916304, -0.9708332249757549, 0.11067603405991755, -0.876759636086438, 1.3187269643477046, -1.7300516743601386, -0.7101342872651458, -0.13836495264228366, 1.1619196815883095, -1.032567904922605, -0.5062474182999148, 0.6143148176969475, -1.202896468711915, -2.41232766945248, -0.7388021103883274, 0.3380031501494933, -0.287687012437793, 2.312571964503006, 0.26062843201780966, 0.4893737656897665, -0.5670704810079203, 0.09294294448609702, -2.745539243741952, -0.365154492063901, -0.43082513293274993, 0.924853093376854, 0.0592808007496384, 0.7822802790361943, -2.0210347926832934, -0.4350931190868809, 0.9033125340616334, -0.28063414814338855, -1.9096697038970083], \"xaxis\": \"x7\", \"y\": [0.043697341410055664, -1.581436693250505, -1.1115696532210644, -0.5698372836913742, -0.02175389139025899, 0.20260576800273525, 0.791740809273046, 1.3392918747893074, 1.7094803759461192, -2.1379210460183957, -0.07225248650834998, -0.9680086419210548, -0.7083553580314013, 0.973036553547053, 0.6590668117012048, 1.7945342742941552, -0.37518385884804895, 2.107867503689684, 0.742223919259543, -0.9161352194947348, -0.625680464700169, 0.6149028780151503, 0.20293727221135938, -0.06756211935173426, 0.5599385792540977, -0.018063441547951798, 1.0904145182977474, 0.1634388508574048, -0.4931740987536183, -0.6676426208786932, -0.11668102711351185, 0.43121144208387313, -0.1257312590901729, 0.46198432695848557, -0.6439750877139889, 1.3245655646623755, -0.980281342799237, -0.47560336976440476, 0.5015220699951991, 0.6051219350616727, 2.048607451883618, 1.261448986561181, -0.6979944782298741, -0.6143734098828072, -1.7754911385000327, -2.5384857323716385, 1.6392145910633855, -1.4820642874699732, 0.5844190880860396, -0.9436681757156312, -0.6503532338456608, 1.9604123865081746, -1.2156684870760122, 1.7823659197142776, -1.2201866924836282, -0.8602765774469655, 0.4429230638355957, -1.2834305270149287, -0.25170583685474396, 0.6830253659792884, -1.435437310811144, -0.6010432945513375, -0.759550451675055, 0.5494279717404709, -2.601816346142572, -1.4347716877088044, -1.5063832342771595, 1.030878804194865, -0.05143590109769036, -0.16272027060819982, 0.08748232879602544, 0.6301069551469266, -1.3863205154859544, -1.638235833577776, -0.7425171354610364, 0.5881594362154489, -0.9543717077207359, -0.3174249771099468, 0.7827350703006383, 0.45058167180313485, 0.6632662170891702, 1.561964675359686, 0.15404556879730338, 0.08133174112869458, 0.23151390026575197, 0.5024442630469539, 1.2852188126317763, 1.8971364510299469, -0.7424065437024872, 0.25959933392610635, -0.2612537670966083, -0.17573342825713237, 0.6960917629912512, -0.2709490068825894, -0.22219577815518834, -0.6442948098061319, -0.9700610554833162, -0.2098202139951793, -0.8736514829147257, 0.46721323100953], \"yaxis\": \"y7\"}, {\"line\": {\"color\": \"rgba(128, 128, 128, 1.0)\", \"dash\": \"solid\", \"shape\": \"linear\", \"width\": 1.3}, \"marker\": {\"size\": 2, \"symbol\": \"circle\"}, \"mode\": \"markers\", \"name\": \"B\", \"text\": \"\", \"type\": \"scatter\", \"x\": [-0.638103274970272, -0.4516573544754162, 0.5078205297139559, 0.4738191424325633, -0.42937902895524394, -0.7220933525095943, 1.2769289696614359, -0.8056130983796184, 0.26795308834055565, 0.7946503656255284, 1.7508516378797359, -1.7808971763545731, 1.10089601850168, 0.9863501646697367, 0.26369484785855074, -0.4420793544967146, 2.3928736846920877, -1.2873048580671396, 1.7650516257789794, -0.5124464260123467, 1.015744317758713, -1.1973771315402644, 0.40564749635003033, 0.12353401623427175, 3.4892219766978765, 0.7400356604684535, 1.5737948395296713, 1.2155227497209096, -0.7578777685518293, 0.21838270714850308, 0.2906017401905688, -0.09274318392091023, -0.08501365107773047, -1.9169242415553993, 0.6354044556758225, -0.9085822695369786, -0.8099317241044525, 1.1006357530970599, -1.5023856122214094, -0.22154845805343645, -1.3408905430243676, -0.6999698546878313, 0.6462981556258707, -2.004558345319722, 1.4165772372655763, -1.703319528829284, 0.008928166879526484, -1.342371253815068, 1.5922173966646591, -0.7222781192097324, -1.388599809920899, -0.04048973483372441, 0.26498547150741, -1.0862955174970992, 1.794238525111512, -0.10798386115262665, 0.5965408575811325, -0.8897361713533402, 0.07830855366464426, -0.44740813006892227, 0.4347288461875099, 0.5038059212723521, 0.5793219642977636, 0.17524437803870738, 0.7209257879842977, 0.053698688851731964, -0.48737598538986593, 1.2987634408369853, 1.6451312081981426, 0.39923952372038357, -1.7777297943408932, -0.6906817131199058, 0.2526344979303035, -1.4043339844543148, 0.7727439685302119, 1.36004424424199, -0.7878049258801506, -1.2352340376726214, 0.8593006388571304, 0.6551972093723268, -0.8944068398109183, 0.38982543354751537, -0.20833527014003578, 0.7755650713361901, -0.8313071909579461, -0.2692403325632571, 1.6295625223072496, 0.42604675267042164, 0.9135562114108622, 1.9738901055730302, 1.6080025335225183, 0.18039384816335158, 0.1369333208126082, 0.5535303225602813, 0.19182761336966878, -0.6284149427013865, 1.6000310506883364, 0.6638289795262313, 1.067503794244087, 1.125376634490109], \"xaxis\": \"x8\", \"y\": [0.043697341410055664, -1.581436693250505, -1.1115696532210644, -0.5698372836913742, -0.02175389139025899, 0.20260576800273525, 0.791740809273046, 1.3392918747893074, 1.7094803759461192, -2.1379210460183957, -0.07225248650834998, -0.9680086419210548, -0.7083553580314013, 0.973036553547053, 0.6590668117012048, 1.7945342742941552, -0.37518385884804895, 2.107867503689684, 0.742223919259543, -0.9161352194947348, -0.625680464700169, 0.6149028780151503, 0.20293727221135938, -0.06756211935173426, 0.5599385792540977, -0.018063441547951798, 1.0904145182977474, 0.1634388508574048, -0.4931740987536183, -0.6676426208786932, -0.11668102711351185, 0.43121144208387313, -0.1257312590901729, 0.46198432695848557, -0.6439750877139889, 1.3245655646623755, -0.980281342799237, -0.47560336976440476, 0.5015220699951991, 0.6051219350616727, 2.048607451883618, 1.261448986561181, -0.6979944782298741, -0.6143734098828072, -1.7754911385000327, -2.5384857323716385, 1.6392145910633855, -1.4820642874699732, 0.5844190880860396, -0.9436681757156312, -0.6503532338456608, 1.9604123865081746, -1.2156684870760122, 1.7823659197142776, -1.2201866924836282, -0.8602765774469655, 0.4429230638355957, -1.2834305270149287, -0.25170583685474396, 0.6830253659792884, -1.435437310811144, -0.6010432945513375, -0.759550451675055, 0.5494279717404709, -2.601816346142572, -1.4347716877088044, -1.5063832342771595, 1.030878804194865, -0.05143590109769036, -0.16272027060819982, 0.08748232879602544, 0.6301069551469266, -1.3863205154859544, -1.638235833577776, -0.7425171354610364, 0.5881594362154489, -0.9543717077207359, -0.3174249771099468, 0.7827350703006383, 0.45058167180313485, 0.6632662170891702, 1.561964675359686, 0.15404556879730338, 0.08133174112869458, 0.23151390026575197, 0.5024442630469539, 1.2852188126317763, 1.8971364510299469, -0.7424065437024872, 0.25959933392610635, -0.2612537670966083, -0.17573342825713237, 0.6960917629912512, -0.2709490068825894, -0.22219577815518834, -0.6442948098061319, -0.9700610554833162, -0.2098202139951793, -0.8736514829147257, 0.46721323100953], \"yaxis\": \"y8\"}, {\"line\": {\"color\": \"rgba(128, 128, 128, 1.0)\", \"dash\": \"solid\", \"shape\": \"linear\", \"width\": 1.3}, \"marker\": {\"size\": 2, \"symbol\": \"circle\"}, \"mode\": \"markers\", \"name\": \"C\", \"text\": \"\", \"type\": \"scatter\", \"x\": [0.3366253685910652, -0.8152962615269359, -2.057094167945235, -1.9541343699683842, 0.6350471693898226, 1.3393854246577892, -0.1664414930804797, 0.895126799501226, 0.3292560346097866, -1.5232703639541971, 0.9186446530754513, -0.10771866432911681, -0.24430106447414054, -0.20619549803399442, -0.07496398303253174, -1.1351977435845633, -0.34138973113653054, -0.6892752596721525, -1.5434768318213519, -0.374012762351043, 0.331761227479903, 0.3694659922847097, 0.15913472597883468, -0.9720134165835317, -0.2171894606425676, 0.6258869651944907, -1.2141991773722172, -0.6888312027759299, -1.196606260086114, 1.9171614028912838, -0.8197494317490756, 0.8442744914994555, -0.5354476373949394, -0.13940235912023516, -0.3440487361566797, 0.5847650737857164, -0.20452714135063474, -0.4734153008931332, 0.1525789505851457, 0.15943923195430232, -1.5712599479287583, 0.7302450600457806, -0.5281471269177707, 0.7841689237674179, 1.6847993459208428, 1.0781584592306386, -0.6148700589748657, 0.1356051706983451, -0.7880479114057856, 0.47949379874479436, -0.02441032028762437, -0.07437076244591963, 0.9467680138425014, -0.014671024676162296, 1.782056184224774, 1.7164705123188548, 0.15299462841133046, 0.5526879640231437, -0.7347081734316098, 0.25652438606881317, -0.7714194110548964, -0.9549644235619681, -0.49660877894194355, 0.3252467140305092, -0.31637216864672113, 0.34308269591780455, 0.5282051548907043, -1.1319743118881591, -0.2893859807681463, -0.6601340495579393, -1.0138335460436667, -1.6563261279034838, 0.7256724241953929, -0.11334824786137546, -0.8002763540209177, 0.7867076095020186, 0.4384288714386092, -0.3947589854358734, 0.9062235669638437, 0.8196800251334179, -1.2539062476924414, -0.20130480834260286, -0.12443864472378685, 0.04688882347637687, 1.5337275539272255, 1.982488741300852, -1.1953722916405798, 0.6410983225048137, 0.805785032541812, 0.3932603773541811, -0.6453067879032107, 1.4760578266825994, -0.3594032836309028, 0.9480512342548622, -0.18928712523705382, -0.8481750065845147, 0.4932182939235028, 0.7869080942142737, -1.2665836193117346, -0.1648699611042843], \"xaxis\": \"x9\", \"y\": [0.04255381567537707, 0.046175923091871234, 1.4945526874734125, 2.0499505428395746, 0.35966706199617965, -0.0949271207524387, 0.6715251925041402, 0.6505611657188639, -0.333791417315038, 0.6802181420716225, -0.1871999136371795, 0.2697796011413888, -3.248413972061903, 0.9463869332128763, 0.4428394796224026, 0.9700189283405273, -0.690686931614203, 0.7024769150134029, 0.4164675466761889, -1.3013787977107742, -0.4383056029475472, -0.04120214401387803, 0.006749146217790606, -1.3130658543473204, -0.784226920233521, -0.5850973808915845, 0.5964125586372435, 0.07325798840521612, 0.7099964372805259, -0.3399487988844456, 1.1496742564620555, 1.6041272692387103, -1.601718155678675, -1.2413029379413267, 0.1497112736217552, 1.0853822331144833, 0.8383176374572543, -0.8640249954026039, 0.5215788938261666, -0.7681135353649741, -0.7225439926636898, 0.21198722295013459, 1.2983818234618332, -1.209332311380756, -1.0830682811521244, 0.5795800665901155, 0.010675912765416082, 1.153142052228595, -0.7844022321525719, -0.6615128381366681, -1.498884001979212, -1.520167780297197, -1.4735451999570175, -1.0842158068538486, -0.986167046762502, -1.2754228210260172, -0.10746292903972071, -1.065675576219357, -0.6185221279367109, 0.08272834582303598, -0.7075774211322811, 0.26278843922419387, 0.9276966171843064, -0.7442440418530465, -0.054698231086657535, -1.8054104778947602, -0.2995097686537457, 0.30350328394916304, -0.9708332249757549, 0.11067603405991755, -0.876759636086438, 1.3187269643477046, -1.7300516743601386, -0.7101342872651458, -0.13836495264228366, 1.1619196815883095, -1.032567904922605, -0.5062474182999148, 0.6143148176969475, -1.202896468711915, -2.41232766945248, -0.7388021103883274, 0.3380031501494933, -0.287687012437793, 2.312571964503006, 0.26062843201780966, 0.4893737656897665, -0.5670704810079203, 0.09294294448609702, -2.745539243741952, -0.365154492063901, -0.43082513293274993, 0.924853093376854, 0.0592808007496384, 0.7822802790361943, -2.0210347926832934, -0.4350931190868809, 0.9033125340616334, -0.28063414814338855, -1.9096697038970083], \"yaxis\": \"y9\"}, {\"line\": {\"color\": \"rgba(128, 128, 128, 1.0)\", \"dash\": \"solid\", \"shape\": \"linear\", \"width\": 1.3}, \"marker\": {\"size\": 2, \"symbol\": \"circle\"}, \"mode\": \"markers\", \"name\": \"C\", \"text\": \"\", \"type\": \"scatter\", \"x\": [0.043697341410055664, -1.581436693250505, -1.1115696532210644, -0.5698372836913742, -0.02175389139025899, 0.20260576800273525, 0.791740809273046, 1.3392918747893074, 1.7094803759461192, -2.1379210460183957, -0.07225248650834998, -0.9680086419210548, -0.7083553580314013, 0.973036553547053, 0.6590668117012048, 1.7945342742941552, -0.37518385884804895, 2.107867503689684, 0.742223919259543, -0.9161352194947348, -0.625680464700169, 0.6149028780151503, 0.20293727221135938, -0.06756211935173426, 0.5599385792540977, -0.018063441547951798, 1.0904145182977474, 0.1634388508574048, -0.4931740987536183, -0.6676426208786932, -0.11668102711351185, 0.43121144208387313, -0.1257312590901729, 0.46198432695848557, -0.6439750877139889, 1.3245655646623755, -0.980281342799237, -0.47560336976440476, 0.5015220699951991, 0.6051219350616727, 2.048607451883618, 1.261448986561181, -0.6979944782298741, -0.6143734098828072, -1.7754911385000327, -2.5384857323716385, 1.6392145910633855, -1.4820642874699732, 0.5844190880860396, -0.9436681757156312, -0.6503532338456608, 1.9604123865081746, -1.2156684870760122, 1.7823659197142776, -1.2201866924836282, -0.8602765774469655, 0.4429230638355957, -1.2834305270149287, -0.25170583685474396, 0.6830253659792884, -1.435437310811144, -0.6010432945513375, -0.759550451675055, 0.5494279717404709, -2.601816346142572, -1.4347716877088044, -1.5063832342771595, 1.030878804194865, -0.05143590109769036, -0.16272027060819982, 0.08748232879602544, 0.6301069551469266, -1.3863205154859544, -1.638235833577776, -0.7425171354610364, 0.5881594362154489, -0.9543717077207359, -0.3174249771099468, 0.7827350703006383, 0.45058167180313485, 0.6632662170891702, 1.561964675359686, 0.15404556879730338, 0.08133174112869458, 0.23151390026575197, 0.5024442630469539, 1.2852188126317763, 1.8971364510299469, -0.7424065437024872, 0.25959933392610635, -0.2612537670966083, -0.17573342825713237, 0.6960917629912512, -0.2709490068825894, -0.22219577815518834, -0.6442948098061319, -0.9700610554833162, -0.2098202139951793, -0.8736514829147257, 0.46721323100953], \"xaxis\": \"x10\", \"y\": [0.04255381567537707, 0.046175923091871234, 1.4945526874734125, 2.0499505428395746, 0.35966706199617965, -0.0949271207524387, 0.6715251925041402, 0.6505611657188639, -0.333791417315038, 0.6802181420716225, -0.1871999136371795, 0.2697796011413888, -3.248413972061903, 0.9463869332128763, 0.4428394796224026, 0.9700189283405273, -0.690686931614203, 0.7024769150134029, 0.4164675466761889, -1.3013787977107742, -0.4383056029475472, -0.04120214401387803, 0.006749146217790606, -1.3130658543473204, -0.784226920233521, -0.5850973808915845, 0.5964125586372435, 0.07325798840521612, 0.7099964372805259, -0.3399487988844456, 1.1496742564620555, 1.6041272692387103, -1.601718155678675, -1.2413029379413267, 0.1497112736217552, 1.0853822331144833, 0.8383176374572543, -0.8640249954026039, 0.5215788938261666, -0.7681135353649741, -0.7225439926636898, 0.21198722295013459, 1.2983818234618332, -1.209332311380756, -1.0830682811521244, 0.5795800665901155, 0.010675912765416082, 1.153142052228595, -0.7844022321525719, -0.6615128381366681, -1.498884001979212, -1.520167780297197, -1.4735451999570175, -1.0842158068538486, -0.986167046762502, -1.2754228210260172, -0.10746292903972071, -1.065675576219357, -0.6185221279367109, 0.08272834582303598, -0.7075774211322811, 0.26278843922419387, 0.9276966171843064, -0.7442440418530465, -0.054698231086657535, -1.8054104778947602, -0.2995097686537457, 0.30350328394916304, -0.9708332249757549, 0.11067603405991755, -0.876759636086438, 1.3187269643477046, -1.7300516743601386, -0.7101342872651458, -0.13836495264228366, 1.1619196815883095, -1.032567904922605, -0.5062474182999148, 0.6143148176969475, -1.202896468711915, -2.41232766945248, -0.7388021103883274, 0.3380031501494933, -0.287687012437793, 2.312571964503006, 0.26062843201780966, 0.4893737656897665, -0.5670704810079203, 0.09294294448609702, -2.745539243741952, -0.365154492063901, -0.43082513293274993, 0.924853093376854, 0.0592808007496384, 0.7822802790361943, -2.0210347926832934, -0.4350931190868809, 0.9033125340616334, -0.28063414814338855, -1.9096697038970083], \"yaxis\": \"y10\"}, {\"histfunc\": \"count\", \"histnorm\": \"\", \"marker\": {\"color\": \"rgba(50, 171, 96, 1.0)\", \"line\": {\"color\": \"#4D5663\", \"width\": 1.3}}, \"name\": \"C\", \"nbinsx\": 10, \"opacity\": 0.8, \"orientation\": \"v\", \"type\": \"histogram\", \"x\": [0.04255381567537707, 0.046175923091871234, 1.4945526874734125, 2.0499505428395746, 0.35966706199617965, -0.0949271207524387, 0.6715251925041402, 0.6505611657188639, -0.333791417315038, 0.6802181420716225, -0.1871999136371795, 0.2697796011413888, -3.248413972061903, 0.9463869332128763, 0.4428394796224026, 0.9700189283405273, -0.690686931614203, 0.7024769150134029, 0.4164675466761889, -1.3013787977107742, -0.4383056029475472, -0.04120214401387803, 0.006749146217790606, -1.3130658543473204, -0.784226920233521, -0.5850973808915845, 0.5964125586372435, 0.07325798840521612, 0.7099964372805259, -0.3399487988844456, 1.1496742564620555, 1.6041272692387103, -1.601718155678675, -1.2413029379413267, 0.1497112736217552, 1.0853822331144833, 0.8383176374572543, -0.8640249954026039, 0.5215788938261666, -0.7681135353649741, -0.7225439926636898, 0.21198722295013459, 1.2983818234618332, -1.209332311380756, -1.0830682811521244, 0.5795800665901155, 0.010675912765416082, 1.153142052228595, -0.7844022321525719, -0.6615128381366681, -1.498884001979212, -1.520167780297197, -1.4735451999570175, -1.0842158068538486, -0.986167046762502, -1.2754228210260172, -0.10746292903972071, -1.065675576219357, -0.6185221279367109, 0.08272834582303598, -0.7075774211322811, 0.26278843922419387, 0.9276966171843064, -0.7442440418530465, -0.054698231086657535, -1.8054104778947602, -0.2995097686537457, 0.30350328394916304, -0.9708332249757549, 0.11067603405991755, -0.876759636086438, 1.3187269643477046, -1.7300516743601386, -0.7101342872651458, -0.13836495264228366, 1.1619196815883095, -1.032567904922605, -0.5062474182999148, 0.6143148176969475, -1.202896468711915, -2.41232766945248, -0.7388021103883274, 0.3380031501494933, -0.287687012437793, 2.312571964503006, 0.26062843201780966, 0.4893737656897665, -0.5670704810079203, 0.09294294448609702, -2.745539243741952, -0.365154492063901, -0.43082513293274993, 0.924853093376854, 0.0592808007496384, 0.7822802790361943, -2.0210347926832934, -0.4350931190868809, 0.9033125340616334, -0.28063414814338855, -1.9096697038970083], \"xaxis\": \"x11\", \"yaxis\": \"y11\"}, {\"line\": {\"color\": \"rgba(128, 128, 128, 1.0)\", \"dash\": \"solid\", \"shape\": \"linear\", \"width\": 1.3}, \"marker\": {\"size\": 2, \"symbol\": \"circle\"}, \"mode\": \"markers\", \"name\": \"C\", \"text\": \"\", \"type\": \"scatter\", \"x\": [-0.638103274970272, -0.4516573544754162, 0.5078205297139559, 0.4738191424325633, -0.42937902895524394, -0.7220933525095943, 1.2769289696614359, -0.8056130983796184, 0.26795308834055565, 0.7946503656255284, 1.7508516378797359, -1.7808971763545731, 1.10089601850168, 0.9863501646697367, 0.26369484785855074, -0.4420793544967146, 2.3928736846920877, -1.2873048580671396, 1.7650516257789794, -0.5124464260123467, 1.015744317758713, -1.1973771315402644, 0.40564749635003033, 0.12353401623427175, 3.4892219766978765, 0.7400356604684535, 1.5737948395296713, 1.2155227497209096, -0.7578777685518293, 0.21838270714850308, 0.2906017401905688, -0.09274318392091023, -0.08501365107773047, -1.9169242415553993, 0.6354044556758225, -0.9085822695369786, -0.8099317241044525, 1.1006357530970599, -1.5023856122214094, -0.22154845805343645, -1.3408905430243676, -0.6999698546878313, 0.6462981556258707, -2.004558345319722, 1.4165772372655763, -1.703319528829284, 0.008928166879526484, -1.342371253815068, 1.5922173966646591, -0.7222781192097324, -1.388599809920899, -0.04048973483372441, 0.26498547150741, -1.0862955174970992, 1.794238525111512, -0.10798386115262665, 0.5965408575811325, -0.8897361713533402, 0.07830855366464426, -0.44740813006892227, 0.4347288461875099, 0.5038059212723521, 0.5793219642977636, 0.17524437803870738, 0.7209257879842977, 0.053698688851731964, -0.48737598538986593, 1.2987634408369853, 1.6451312081981426, 0.39923952372038357, -1.7777297943408932, -0.6906817131199058, 0.2526344979303035, -1.4043339844543148, 0.7727439685302119, 1.36004424424199, -0.7878049258801506, -1.2352340376726214, 0.8593006388571304, 0.6551972093723268, -0.8944068398109183, 0.38982543354751537, -0.20833527014003578, 0.7755650713361901, -0.8313071909579461, -0.2692403325632571, 1.6295625223072496, 0.42604675267042164, 0.9135562114108622, 1.9738901055730302, 1.6080025335225183, 0.18039384816335158, 0.1369333208126082, 0.5535303225602813, 0.19182761336966878, -0.6284149427013865, 1.6000310506883364, 0.6638289795262313, 1.067503794244087, 1.125376634490109], \"xaxis\": \"x12\", \"y\": [0.04255381567537707, 0.046175923091871234, 1.4945526874734125, 2.0499505428395746, 0.35966706199617965, -0.0949271207524387, 0.6715251925041402, 0.6505611657188639, -0.333791417315038, 0.6802181420716225, -0.1871999136371795, 0.2697796011413888, -3.248413972061903, 0.9463869332128763, 0.4428394796224026, 0.9700189283405273, -0.690686931614203, 0.7024769150134029, 0.4164675466761889, -1.3013787977107742, -0.4383056029475472, -0.04120214401387803, 0.006749146217790606, -1.3130658543473204, -0.784226920233521, -0.5850973808915845, 0.5964125586372435, 0.07325798840521612, 0.7099964372805259, -0.3399487988844456, 1.1496742564620555, 1.6041272692387103, -1.601718155678675, -1.2413029379413267, 0.1497112736217552, 1.0853822331144833, 0.8383176374572543, -0.8640249954026039, 0.5215788938261666, -0.7681135353649741, -0.7225439926636898, 0.21198722295013459, 1.2983818234618332, -1.209332311380756, -1.0830682811521244, 0.5795800665901155, 0.010675912765416082, 1.153142052228595, -0.7844022321525719, -0.6615128381366681, -1.498884001979212, -1.520167780297197, -1.4735451999570175, -1.0842158068538486, -0.986167046762502, -1.2754228210260172, -0.10746292903972071, -1.065675576219357, -0.6185221279367109, 0.08272834582303598, -0.7075774211322811, 0.26278843922419387, 0.9276966171843064, -0.7442440418530465, -0.054698231086657535, -1.8054104778947602, -0.2995097686537457, 0.30350328394916304, -0.9708332249757549, 0.11067603405991755, -0.876759636086438, 1.3187269643477046, -1.7300516743601386, -0.7101342872651458, -0.13836495264228366, 1.1619196815883095, -1.032567904922605, -0.5062474182999148, 0.6143148176969475, -1.202896468711915, -2.41232766945248, -0.7388021103883274, 0.3380031501494933, -0.287687012437793, 2.312571964503006, 0.26062843201780966, 0.4893737656897665, -0.5670704810079203, 0.09294294448609702, -2.745539243741952, -0.365154492063901, -0.43082513293274993, 0.924853093376854, 0.0592808007496384, 0.7822802790361943, -2.0210347926832934, -0.4350931190868809, 0.9033125340616334, -0.28063414814338855, -1.9096697038970083], \"yaxis\": \"y12\"}, {\"line\": {\"color\": \"rgba(128, 128, 128, 1.0)\", \"dash\": \"solid\", \"shape\": \"linear\", \"width\": 1.3}, \"marker\": {\"size\": 2, \"symbol\": \"circle\"}, \"mode\": \"markers\", \"name\": \"D\", \"text\": \"\", \"type\": \"scatter\", \"x\": [0.3366253685910652, -0.8152962615269359, -2.057094167945235, -1.9541343699683842, 0.6350471693898226, 1.3393854246577892, -0.1664414930804797, 0.895126799501226, 0.3292560346097866, -1.5232703639541971, 0.9186446530754513, -0.10771866432911681, -0.24430106447414054, -0.20619549803399442, -0.07496398303253174, -1.1351977435845633, -0.34138973113653054, -0.6892752596721525, -1.5434768318213519, -0.374012762351043, 0.331761227479903, 0.3694659922847097, 0.15913472597883468, -0.9720134165835317, -0.2171894606425676, 0.6258869651944907, -1.2141991773722172, -0.6888312027759299, -1.196606260086114, 1.9171614028912838, -0.8197494317490756, 0.8442744914994555, -0.5354476373949394, -0.13940235912023516, -0.3440487361566797, 0.5847650737857164, -0.20452714135063474, -0.4734153008931332, 0.1525789505851457, 0.15943923195430232, -1.5712599479287583, 0.7302450600457806, -0.5281471269177707, 0.7841689237674179, 1.6847993459208428, 1.0781584592306386, -0.6148700589748657, 0.1356051706983451, -0.7880479114057856, 0.47949379874479436, -0.02441032028762437, -0.07437076244591963, 0.9467680138425014, -0.014671024676162296, 1.782056184224774, 1.7164705123188548, 0.15299462841133046, 0.5526879640231437, -0.7347081734316098, 0.25652438606881317, -0.7714194110548964, -0.9549644235619681, -0.49660877894194355, 0.3252467140305092, -0.31637216864672113, 0.34308269591780455, 0.5282051548907043, -1.1319743118881591, -0.2893859807681463, -0.6601340495579393, -1.0138335460436667, -1.6563261279034838, 0.7256724241953929, -0.11334824786137546, -0.8002763540209177, 0.7867076095020186, 0.4384288714386092, -0.3947589854358734, 0.9062235669638437, 0.8196800251334179, -1.2539062476924414, -0.20130480834260286, -0.12443864472378685, 0.04688882347637687, 1.5337275539272255, 1.982488741300852, -1.1953722916405798, 0.6410983225048137, 0.805785032541812, 0.3932603773541811, -0.6453067879032107, 1.4760578266825994, -0.3594032836309028, 0.9480512342548622, -0.18928712523705382, -0.8481750065845147, 0.4932182939235028, 0.7869080942142737, -1.2665836193117346, -0.1648699611042843], \"xaxis\": \"x13\", \"y\": [-0.638103274970272, -0.4516573544754162, 0.5078205297139559, 0.4738191424325633, -0.42937902895524394, -0.7220933525095943, 1.2769289696614359, -0.8056130983796184, 0.26795308834055565, 0.7946503656255284, 1.7508516378797359, -1.7808971763545731, 1.10089601850168, 0.9863501646697367, 0.26369484785855074, -0.4420793544967146, 2.3928736846920877, -1.2873048580671396, 1.7650516257789794, -0.5124464260123467, 1.015744317758713, -1.1973771315402644, 0.40564749635003033, 0.12353401623427175, 3.4892219766978765, 0.7400356604684535, 1.5737948395296713, 1.2155227497209096, -0.7578777685518293, 0.21838270714850308, 0.2906017401905688, -0.09274318392091023, -0.08501365107773047, -1.9169242415553993, 0.6354044556758225, -0.9085822695369786, -0.8099317241044525, 1.1006357530970599, -1.5023856122214094, -0.22154845805343645, -1.3408905430243676, -0.6999698546878313, 0.6462981556258707, -2.004558345319722, 1.4165772372655763, -1.703319528829284, 0.008928166879526484, -1.342371253815068, 1.5922173966646591, -0.7222781192097324, -1.388599809920899, -0.04048973483372441, 0.26498547150741, -1.0862955174970992, 1.794238525111512, -0.10798386115262665, 0.5965408575811325, -0.8897361713533402, 0.07830855366464426, -0.44740813006892227, 0.4347288461875099, 0.5038059212723521, 0.5793219642977636, 0.17524437803870738, 0.7209257879842977, 0.053698688851731964, -0.48737598538986593, 1.2987634408369853, 1.6451312081981426, 0.39923952372038357, -1.7777297943408932, -0.6906817131199058, 0.2526344979303035, -1.4043339844543148, 0.7727439685302119, 1.36004424424199, -0.7878049258801506, -1.2352340376726214, 0.8593006388571304, 0.6551972093723268, -0.8944068398109183, 0.38982543354751537, -0.20833527014003578, 0.7755650713361901, -0.8313071909579461, -0.2692403325632571, 1.6295625223072496, 0.42604675267042164, 0.9135562114108622, 1.9738901055730302, 1.6080025335225183, 0.18039384816335158, 0.1369333208126082, 0.5535303225602813, 0.19182761336966878, -0.6284149427013865, 1.6000310506883364, 0.6638289795262313, 1.067503794244087, 1.125376634490109], \"yaxis\": \"y13\"}, {\"line\": {\"color\": \"rgba(128, 128, 128, 1.0)\", \"dash\": \"solid\", \"shape\": \"linear\", \"width\": 1.3}, \"marker\": {\"size\": 2, \"symbol\": \"circle\"}, \"mode\": \"markers\", \"name\": \"D\", \"text\": \"\", \"type\": \"scatter\", \"x\": [0.043697341410055664, -1.581436693250505, -1.1115696532210644, -0.5698372836913742, -0.02175389139025899, 0.20260576800273525, 0.791740809273046, 1.3392918747893074, 1.7094803759461192, -2.1379210460183957, -0.07225248650834998, -0.9680086419210548, -0.7083553580314013, 0.973036553547053, 0.6590668117012048, 1.7945342742941552, -0.37518385884804895, 2.107867503689684, 0.742223919259543, -0.9161352194947348, -0.625680464700169, 0.6149028780151503, 0.20293727221135938, -0.06756211935173426, 0.5599385792540977, -0.018063441547951798, 1.0904145182977474, 0.1634388508574048, -0.4931740987536183, -0.6676426208786932, -0.11668102711351185, 0.43121144208387313, -0.1257312590901729, 0.46198432695848557, -0.6439750877139889, 1.3245655646623755, -0.980281342799237, -0.47560336976440476, 0.5015220699951991, 0.6051219350616727, 2.048607451883618, 1.261448986561181, -0.6979944782298741, -0.6143734098828072, -1.7754911385000327, -2.5384857323716385, 1.6392145910633855, -1.4820642874699732, 0.5844190880860396, -0.9436681757156312, -0.6503532338456608, 1.9604123865081746, -1.2156684870760122, 1.7823659197142776, -1.2201866924836282, -0.8602765774469655, 0.4429230638355957, -1.2834305270149287, -0.25170583685474396, 0.6830253659792884, -1.435437310811144, -0.6010432945513375, -0.759550451675055, 0.5494279717404709, -2.601816346142572, -1.4347716877088044, -1.5063832342771595, 1.030878804194865, -0.05143590109769036, -0.16272027060819982, 0.08748232879602544, 0.6301069551469266, -1.3863205154859544, -1.638235833577776, -0.7425171354610364, 0.5881594362154489, -0.9543717077207359, -0.3174249771099468, 0.7827350703006383, 0.45058167180313485, 0.6632662170891702, 1.561964675359686, 0.15404556879730338, 0.08133174112869458, 0.23151390026575197, 0.5024442630469539, 1.2852188126317763, 1.8971364510299469, -0.7424065437024872, 0.25959933392610635, -0.2612537670966083, -0.17573342825713237, 0.6960917629912512, -0.2709490068825894, -0.22219577815518834, -0.6442948098061319, -0.9700610554833162, -0.2098202139951793, -0.8736514829147257, 0.46721323100953], \"xaxis\": \"x14\", \"y\": [-0.638103274970272, -0.4516573544754162, 0.5078205297139559, 0.4738191424325633, -0.42937902895524394, -0.7220933525095943, 1.2769289696614359, -0.8056130983796184, 0.26795308834055565, 0.7946503656255284, 1.7508516378797359, -1.7808971763545731, 1.10089601850168, 0.9863501646697367, 0.26369484785855074, -0.4420793544967146, 2.3928736846920877, -1.2873048580671396, 1.7650516257789794, -0.5124464260123467, 1.015744317758713, -1.1973771315402644, 0.40564749635003033, 0.12353401623427175, 3.4892219766978765, 0.7400356604684535, 1.5737948395296713, 1.2155227497209096, -0.7578777685518293, 0.21838270714850308, 0.2906017401905688, -0.09274318392091023, -0.08501365107773047, -1.9169242415553993, 0.6354044556758225, -0.9085822695369786, -0.8099317241044525, 1.1006357530970599, -1.5023856122214094, -0.22154845805343645, -1.3408905430243676, -0.6999698546878313, 0.6462981556258707, -2.004558345319722, 1.4165772372655763, -1.703319528829284, 0.008928166879526484, -1.342371253815068, 1.5922173966646591, -0.7222781192097324, -1.388599809920899, -0.04048973483372441, 0.26498547150741, -1.0862955174970992, 1.794238525111512, -0.10798386115262665, 0.5965408575811325, -0.8897361713533402, 0.07830855366464426, -0.44740813006892227, 0.4347288461875099, 0.5038059212723521, 0.5793219642977636, 0.17524437803870738, 0.7209257879842977, 0.053698688851731964, -0.48737598538986593, 1.2987634408369853, 1.6451312081981426, 0.39923952372038357, -1.7777297943408932, -0.6906817131199058, 0.2526344979303035, -1.4043339844543148, 0.7727439685302119, 1.36004424424199, -0.7878049258801506, -1.2352340376726214, 0.8593006388571304, 0.6551972093723268, -0.8944068398109183, 0.38982543354751537, -0.20833527014003578, 0.7755650713361901, -0.8313071909579461, -0.2692403325632571, 1.6295625223072496, 0.42604675267042164, 0.9135562114108622, 1.9738901055730302, 1.6080025335225183, 0.18039384816335158, 0.1369333208126082, 0.5535303225602813, 0.19182761336966878, -0.6284149427013865, 1.6000310506883364, 0.6638289795262313, 1.067503794244087, 1.125376634490109], \"yaxis\": \"y14\"}, {\"line\": {\"color\": \"rgba(128, 128, 128, 1.0)\", \"dash\": \"solid\", \"shape\": \"linear\", \"width\": 1.3}, \"marker\": {\"size\": 2, \"symbol\": \"circle\"}, \"mode\": \"markers\", \"name\": \"D\", \"text\": \"\", \"type\": \"scatter\", \"x\": [0.04255381567537707, 0.046175923091871234, 1.4945526874734125, 2.0499505428395746, 0.35966706199617965, -0.0949271207524387, 0.6715251925041402, 0.6505611657188639, -0.333791417315038, 0.6802181420716225, -0.1871999136371795, 0.2697796011413888, -3.248413972061903, 0.9463869332128763, 0.4428394796224026, 0.9700189283405273, -0.690686931614203, 0.7024769150134029, 0.4164675466761889, -1.3013787977107742, -0.4383056029475472, -0.04120214401387803, 0.006749146217790606, -1.3130658543473204, -0.784226920233521, -0.5850973808915845, 0.5964125586372435, 0.07325798840521612, 0.7099964372805259, -0.3399487988844456, 1.1496742564620555, 1.6041272692387103, -1.601718155678675, -1.2413029379413267, 0.1497112736217552, 1.0853822331144833, 0.8383176374572543, -0.8640249954026039, 0.5215788938261666, -0.7681135353649741, -0.7225439926636898, 0.21198722295013459, 1.2983818234618332, -1.209332311380756, -1.0830682811521244, 0.5795800665901155, 0.010675912765416082, 1.153142052228595, -0.7844022321525719, -0.6615128381366681, -1.498884001979212, -1.520167780297197, -1.4735451999570175, -1.0842158068538486, -0.986167046762502, -1.2754228210260172, -0.10746292903972071, -1.065675576219357, -0.6185221279367109, 0.08272834582303598, -0.7075774211322811, 0.26278843922419387, 0.9276966171843064, -0.7442440418530465, -0.054698231086657535, -1.8054104778947602, -0.2995097686537457, 0.30350328394916304, -0.9708332249757549, 0.11067603405991755, -0.876759636086438, 1.3187269643477046, -1.7300516743601386, -0.7101342872651458, -0.13836495264228366, 1.1619196815883095, -1.032567904922605, -0.5062474182999148, 0.6143148176969475, -1.202896468711915, -2.41232766945248, -0.7388021103883274, 0.3380031501494933, -0.287687012437793, 2.312571964503006, 0.26062843201780966, 0.4893737656897665, -0.5670704810079203, 0.09294294448609702, -2.745539243741952, -0.365154492063901, -0.43082513293274993, 0.924853093376854, 0.0592808007496384, 0.7822802790361943, -2.0210347926832934, -0.4350931190868809, 0.9033125340616334, -0.28063414814338855, -1.9096697038970083], \"xaxis\": \"x15\", \"y\": [-0.638103274970272, -0.4516573544754162, 0.5078205297139559, 0.4738191424325633, -0.42937902895524394, -0.7220933525095943, 1.2769289696614359, -0.8056130983796184, 0.26795308834055565, 0.7946503656255284, 1.7508516378797359, -1.7808971763545731, 1.10089601850168, 0.9863501646697367, 0.26369484785855074, -0.4420793544967146, 2.3928736846920877, -1.2873048580671396, 1.7650516257789794, -0.5124464260123467, 1.015744317758713, -1.1973771315402644, 0.40564749635003033, 0.12353401623427175, 3.4892219766978765, 0.7400356604684535, 1.5737948395296713, 1.2155227497209096, -0.7578777685518293, 0.21838270714850308, 0.2906017401905688, -0.09274318392091023, -0.08501365107773047, -1.9169242415553993, 0.6354044556758225, -0.9085822695369786, -0.8099317241044525, 1.1006357530970599, -1.5023856122214094, -0.22154845805343645, -1.3408905430243676, -0.6999698546878313, 0.6462981556258707, -2.004558345319722, 1.4165772372655763, -1.703319528829284, 0.008928166879526484, -1.342371253815068, 1.5922173966646591, -0.7222781192097324, -1.388599809920899, -0.04048973483372441, 0.26498547150741, -1.0862955174970992, 1.794238525111512, -0.10798386115262665, 0.5965408575811325, -0.8897361713533402, 0.07830855366464426, -0.44740813006892227, 0.4347288461875099, 0.5038059212723521, 0.5793219642977636, 0.17524437803870738, 0.7209257879842977, 0.053698688851731964, -0.48737598538986593, 1.2987634408369853, 1.6451312081981426, 0.39923952372038357, -1.7777297943408932, -0.6906817131199058, 0.2526344979303035, -1.4043339844543148, 0.7727439685302119, 1.36004424424199, -0.7878049258801506, -1.2352340376726214, 0.8593006388571304, 0.6551972093723268, -0.8944068398109183, 0.38982543354751537, -0.20833527014003578, 0.7755650713361901, -0.8313071909579461, -0.2692403325632571, 1.6295625223072496, 0.42604675267042164, 0.9135562114108622, 1.9738901055730302, 1.6080025335225183, 0.18039384816335158, 0.1369333208126082, 0.5535303225602813, 0.19182761336966878, -0.6284149427013865, 1.6000310506883364, 0.6638289795262313, 1.067503794244087, 1.125376634490109], \"yaxis\": \"y15\"}, {\"histfunc\": \"count\", \"histnorm\": \"\", \"marker\": {\"color\": \"rgba(128, 0, 128, 1.0)\", \"line\": {\"color\": \"#4D5663\", \"width\": 1.3}}, \"name\": \"D\", \"nbinsx\": 10, \"opacity\": 0.8, \"orientation\": \"v\", \"type\": \"histogram\", \"x\": [-0.638103274970272, -0.4516573544754162, 0.5078205297139559, 0.4738191424325633, -0.42937902895524394, -0.7220933525095943, 1.2769289696614359, -0.8056130983796184, 0.26795308834055565, 0.7946503656255284, 1.7508516378797359, -1.7808971763545731, 1.10089601850168, 0.9863501646697367, 0.26369484785855074, -0.4420793544967146, 2.3928736846920877, -1.2873048580671396, 1.7650516257789794, -0.5124464260123467, 1.015744317758713, -1.1973771315402644, 0.40564749635003033, 0.12353401623427175, 3.4892219766978765, 0.7400356604684535, 1.5737948395296713, 1.2155227497209096, -0.7578777685518293, 0.21838270714850308, 0.2906017401905688, -0.09274318392091023, -0.08501365107773047, -1.9169242415553993, 0.6354044556758225, -0.9085822695369786, -0.8099317241044525, 1.1006357530970599, -1.5023856122214094, -0.22154845805343645, -1.3408905430243676, -0.6999698546878313, 0.6462981556258707, -2.004558345319722, 1.4165772372655763, -1.703319528829284, 0.008928166879526484, -1.342371253815068, 1.5922173966646591, -0.7222781192097324, -1.388599809920899, -0.04048973483372441, 0.26498547150741, -1.0862955174970992, 1.794238525111512, -0.10798386115262665, 0.5965408575811325, -0.8897361713533402, 0.07830855366464426, -0.44740813006892227, 0.4347288461875099, 0.5038059212723521, 0.5793219642977636, 0.17524437803870738, 0.7209257879842977, 0.053698688851731964, -0.48737598538986593, 1.2987634408369853, 1.6451312081981426, 0.39923952372038357, -1.7777297943408932, -0.6906817131199058, 0.2526344979303035, -1.4043339844543148, 0.7727439685302119, 1.36004424424199, -0.7878049258801506, -1.2352340376726214, 0.8593006388571304, 0.6551972093723268, -0.8944068398109183, 0.38982543354751537, -0.20833527014003578, 0.7755650713361901, -0.8313071909579461, -0.2692403325632571, 1.6295625223072496, 0.42604675267042164, 0.9135562114108622, 1.9738901055730302, 1.6080025335225183, 0.18039384816335158, 0.1369333208126082, 0.5535303225602813, 0.19182761336966878, -0.6284149427013865, 1.6000310506883364, 0.6638289795262313, 1.067503794244087, 1.125376634490109], \"xaxis\": \"x16\", \"yaxis\": \"y16\"}],\n",
       "                        {\"bargap\": 0.02, \"legend\": {\"bgcolor\": \"#F5F6F9\", \"font\": {\"color\": \"#4D5663\"}}, \"paper_bgcolor\": \"#F5F6F9\", \"plot_bgcolor\": \"#F5F6F9\", \"showlegend\": false, \"template\": {\"data\": {\"bar\": [{\"error_x\": {\"color\": \"#2a3f5f\"}, \"error_y\": {\"color\": \"#2a3f5f\"}, \"marker\": {\"line\": {\"color\": \"#E5ECF6\", \"width\": 0.5}}, \"type\": \"bar\"}], \"barpolar\": [{\"marker\": {\"line\": {\"color\": \"#E5ECF6\", \"width\": 0.5}}, \"type\": \"barpolar\"}], \"carpet\": [{\"aaxis\": {\"endlinecolor\": \"#2a3f5f\", \"gridcolor\": \"white\", \"linecolor\": \"white\", \"minorgridcolor\": \"white\", \"startlinecolor\": \"#2a3f5f\"}, \"baxis\": {\"endlinecolor\": \"#2a3f5f\", \"gridcolor\": \"white\", \"linecolor\": \"white\", \"minorgridcolor\": \"white\", \"startlinecolor\": \"#2a3f5f\"}, \"type\": \"carpet\"}], \"choropleth\": [{\"colorbar\": {\"outlinewidth\": 0, \"ticks\": \"\"}, \"type\": \"choropleth\"}], \"contour\": [{\"colorbar\": {\"outlinewidth\": 0, \"ticks\": \"\"}, \"colorscale\": [[0.0, \"#0d0887\"], [0.1111111111111111, \"#46039f\"], [0.2222222222222222, \"#7201a8\"], [0.3333333333333333, \"#9c179e\"], [0.4444444444444444, \"#bd3786\"], [0.5555555555555556, \"#d8576b\"], [0.6666666666666666, \"#ed7953\"], [0.7777777777777778, \"#fb9f3a\"], [0.8888888888888888, \"#fdca26\"], [1.0, \"#f0f921\"]], \"type\": \"contour\"}], \"contourcarpet\": [{\"colorbar\": {\"outlinewidth\": 0, \"ticks\": \"\"}, \"type\": \"contourcarpet\"}], \"heatmap\": [{\"colorbar\": {\"outlinewidth\": 0, \"ticks\": \"\"}, \"colorscale\": [[0.0, \"#0d0887\"], [0.1111111111111111, \"#46039f\"], [0.2222222222222222, \"#7201a8\"], [0.3333333333333333, \"#9c179e\"], [0.4444444444444444, \"#bd3786\"], [0.5555555555555556, \"#d8576b\"], [0.6666666666666666, \"#ed7953\"], [0.7777777777777778, \"#fb9f3a\"], [0.8888888888888888, \"#fdca26\"], [1.0, \"#f0f921\"]], \"type\": \"heatmap\"}], \"heatmapgl\": [{\"colorbar\": {\"outlinewidth\": 0, \"ticks\": \"\"}, \"colorscale\": [[0.0, \"#0d0887\"], [0.1111111111111111, \"#46039f\"], [0.2222222222222222, \"#7201a8\"], [0.3333333333333333, \"#9c179e\"], [0.4444444444444444, \"#bd3786\"], [0.5555555555555556, \"#d8576b\"], [0.6666666666666666, \"#ed7953\"], [0.7777777777777778, \"#fb9f3a\"], [0.8888888888888888, \"#fdca26\"], [1.0, \"#f0f921\"]], \"type\": \"heatmapgl\"}], \"histogram\": [{\"marker\": {\"colorbar\": {\"outlinewidth\": 0, \"ticks\": \"\"}}, \"type\": \"histogram\"}], \"histogram2d\": [{\"colorbar\": {\"outlinewidth\": 0, \"ticks\": \"\"}, \"colorscale\": [[0.0, \"#0d0887\"], [0.1111111111111111, \"#46039f\"], [0.2222222222222222, \"#7201a8\"], [0.3333333333333333, \"#9c179e\"], [0.4444444444444444, \"#bd3786\"], [0.5555555555555556, \"#d8576b\"], [0.6666666666666666, \"#ed7953\"], [0.7777777777777778, \"#fb9f3a\"], [0.8888888888888888, \"#fdca26\"], [1.0, \"#f0f921\"]], \"type\": \"histogram2d\"}], \"histogram2dcontour\": [{\"colorbar\": {\"outlinewidth\": 0, \"ticks\": \"\"}, \"colorscale\": [[0.0, \"#0d0887\"], [0.1111111111111111, \"#46039f\"], [0.2222222222222222, \"#7201a8\"], [0.3333333333333333, \"#9c179e\"], [0.4444444444444444, \"#bd3786\"], [0.5555555555555556, \"#d8576b\"], [0.6666666666666666, \"#ed7953\"], [0.7777777777777778, \"#fb9f3a\"], [0.8888888888888888, \"#fdca26\"], [1.0, \"#f0f921\"]], \"type\": \"histogram2dcontour\"}], \"mesh3d\": [{\"colorbar\": {\"outlinewidth\": 0, \"ticks\": \"\"}, \"type\": \"mesh3d\"}], \"parcoords\": [{\"line\": {\"colorbar\": {\"outlinewidth\": 0, \"ticks\": \"\"}}, \"type\": \"parcoords\"}], \"pie\": [{\"automargin\": true, \"type\": \"pie\"}], \"scatter\": [{\"marker\": {\"colorbar\": {\"outlinewidth\": 0, \"ticks\": \"\"}}, \"type\": \"scatter\"}], \"scatter3d\": [{\"line\": {\"colorbar\": {\"outlinewidth\": 0, \"ticks\": \"\"}}, \"marker\": {\"colorbar\": {\"outlinewidth\": 0, \"ticks\": \"\"}}, \"type\": \"scatter3d\"}], \"scattercarpet\": [{\"marker\": {\"colorbar\": {\"outlinewidth\": 0, \"ticks\": \"\"}}, \"type\": \"scattercarpet\"}], \"scattergeo\": [{\"marker\": {\"colorbar\": {\"outlinewidth\": 0, \"ticks\": \"\"}}, \"type\": \"scattergeo\"}], \"scattergl\": [{\"marker\": {\"colorbar\": {\"outlinewidth\": 0, \"ticks\": \"\"}}, \"type\": \"scattergl\"}], \"scattermapbox\": [{\"marker\": {\"colorbar\": {\"outlinewidth\": 0, \"ticks\": \"\"}}, \"type\": \"scattermapbox\"}], \"scatterpolar\": [{\"marker\": {\"colorbar\": {\"outlinewidth\": 0, \"ticks\": \"\"}}, \"type\": \"scatterpolar\"}], \"scatterpolargl\": [{\"marker\": {\"colorbar\": {\"outlinewidth\": 0, \"ticks\": \"\"}}, \"type\": \"scatterpolargl\"}], \"scatterternary\": [{\"marker\": {\"colorbar\": {\"outlinewidth\": 0, \"ticks\": \"\"}}, \"type\": \"scatterternary\"}], \"surface\": [{\"colorbar\": {\"outlinewidth\": 0, \"ticks\": \"\"}, \"colorscale\": [[0.0, \"#0d0887\"], [0.1111111111111111, \"#46039f\"], [0.2222222222222222, \"#7201a8\"], [0.3333333333333333, \"#9c179e\"], [0.4444444444444444, \"#bd3786\"], [0.5555555555555556, \"#d8576b\"], [0.6666666666666666, \"#ed7953\"], [0.7777777777777778, \"#fb9f3a\"], [0.8888888888888888, \"#fdca26\"], [1.0, \"#f0f921\"]], \"type\": \"surface\"}], \"table\": [{\"cells\": {\"fill\": {\"color\": \"#EBF0F8\"}, \"line\": {\"color\": \"white\"}}, \"header\": {\"fill\": {\"color\": \"#C8D4E3\"}, \"line\": {\"color\": \"white\"}}, \"type\": \"table\"}]}, \"layout\": {\"annotationdefaults\": {\"arrowcolor\": \"#2a3f5f\", \"arrowhead\": 0, \"arrowwidth\": 1}, \"coloraxis\": {\"colorbar\": {\"outlinewidth\": 0, \"ticks\": \"\"}}, \"colorscale\": {\"diverging\": [[0, \"#8e0152\"], [0.1, \"#c51b7d\"], [0.2, \"#de77ae\"], [0.3, \"#f1b6da\"], [0.4, \"#fde0ef\"], [0.5, \"#f7f7f7\"], [0.6, \"#e6f5d0\"], [0.7, \"#b8e186\"], [0.8, \"#7fbc41\"], [0.9, \"#4d9221\"], [1, \"#276419\"]], \"sequential\": [[0.0, \"#0d0887\"], [0.1111111111111111, \"#46039f\"], [0.2222222222222222, \"#7201a8\"], [0.3333333333333333, \"#9c179e\"], [0.4444444444444444, \"#bd3786\"], [0.5555555555555556, \"#d8576b\"], [0.6666666666666666, \"#ed7953\"], [0.7777777777777778, \"#fb9f3a\"], [0.8888888888888888, \"#fdca26\"], [1.0, \"#f0f921\"]], \"sequentialminus\": [[0.0, \"#0d0887\"], [0.1111111111111111, \"#46039f\"], [0.2222222222222222, \"#7201a8\"], [0.3333333333333333, \"#9c179e\"], [0.4444444444444444, \"#bd3786\"], [0.5555555555555556, \"#d8576b\"], [0.6666666666666666, \"#ed7953\"], [0.7777777777777778, \"#fb9f3a\"], [0.8888888888888888, \"#fdca26\"], [1.0, \"#f0f921\"]]}, \"colorway\": [\"#636efa\", \"#EF553B\", \"#00cc96\", \"#ab63fa\", \"#FFA15A\", \"#19d3f3\", \"#FF6692\", \"#B6E880\", \"#FF97FF\", \"#FECB52\"], \"font\": {\"color\": \"#2a3f5f\"}, \"geo\": {\"bgcolor\": \"white\", \"lakecolor\": \"white\", \"landcolor\": \"#E5ECF6\", \"showlakes\": true, \"showland\": true, \"subunitcolor\": \"white\"}, \"hoverlabel\": {\"align\": \"left\"}, \"hovermode\": \"closest\", \"mapbox\": {\"style\": \"light\"}, \"paper_bgcolor\": \"white\", \"plot_bgcolor\": \"#E5ECF6\", \"polar\": {\"angularaxis\": {\"gridcolor\": \"white\", \"linecolor\": \"white\", \"ticks\": \"\"}, \"bgcolor\": \"#E5ECF6\", \"radialaxis\": {\"gridcolor\": \"white\", \"linecolor\": \"white\", \"ticks\": \"\"}}, \"scene\": {\"xaxis\": {\"backgroundcolor\": \"#E5ECF6\", \"gridcolor\": \"white\", \"gridwidth\": 2, \"linecolor\": \"white\", \"showbackground\": true, \"ticks\": \"\", \"zerolinecolor\": \"white\"}, \"yaxis\": {\"backgroundcolor\": \"#E5ECF6\", \"gridcolor\": \"white\", \"gridwidth\": 2, \"linecolor\": \"white\", \"showbackground\": true, \"ticks\": \"\", \"zerolinecolor\": \"white\"}, \"zaxis\": {\"backgroundcolor\": \"#E5ECF6\", \"gridcolor\": \"white\", \"gridwidth\": 2, \"linecolor\": \"white\", \"showbackground\": true, \"ticks\": \"\", \"zerolinecolor\": \"white\"}}, \"shapedefaults\": {\"line\": {\"color\": \"#2a3f5f\"}}, \"ternary\": {\"aaxis\": {\"gridcolor\": \"white\", \"linecolor\": \"white\", \"ticks\": \"\"}, \"baxis\": {\"gridcolor\": \"white\", \"linecolor\": \"white\", \"ticks\": \"\"}, \"bgcolor\": \"#E5ECF6\", \"caxis\": {\"gridcolor\": \"white\", \"linecolor\": \"white\", \"ticks\": \"\"}}, \"title\": {\"x\": 0.05}, \"xaxis\": {\"automargin\": true, \"gridcolor\": \"white\", \"linecolor\": \"white\", \"ticks\": \"\", \"title\": {\"standoff\": 15}, \"zerolinecolor\": \"white\", \"zerolinewidth\": 2}, \"yaxis\": {\"automargin\": true, \"gridcolor\": \"white\", \"linecolor\": \"white\", \"ticks\": \"\", \"title\": {\"standoff\": 15}, \"zerolinecolor\": \"white\", \"zerolinewidth\": 2}}}, \"title\": {\"font\": {\"color\": \"#4D5663\"}}, \"xaxis\": {\"anchor\": \"y\", \"domain\": [0.0, 0.2125], \"gridcolor\": \"#E1E5ED\", \"showgrid\": false, \"tickfont\": {\"color\": \"#4D5663\"}, \"title\": {\"font\": {\"color\": \"#4D5663\"}, \"text\": \"\"}, \"zerolinecolor\": \"#E1E5ED\"}, \"xaxis10\": {\"anchor\": \"y10\", \"domain\": [0.2625, 0.475], \"gridcolor\": \"#E1E5ED\", \"showgrid\": false, \"tickfont\": {\"color\": \"#4D5663\"}, \"title\": {\"font\": {\"color\": \"#4D5663\"}, \"text\": \"\"}, \"zerolinecolor\": \"#E1E5ED\"}, \"xaxis11\": {\"anchor\": \"y11\", \"domain\": [0.525, 0.7375], \"gridcolor\": \"#E1E5ED\", \"showgrid\": false, \"tickfont\": {\"color\": \"#4D5663\"}, \"title\": {\"font\": {\"color\": \"#4D5663\"}, \"text\": \"\"}, \"zerolinecolor\": \"#E1E5ED\"}, \"xaxis12\": {\"anchor\": \"y12\", \"domain\": [0.7875, 1.0], \"gridcolor\": \"#E1E5ED\", \"showgrid\": false, \"tickfont\": {\"color\": \"#4D5663\"}, \"title\": {\"font\": {\"color\": \"#4D5663\"}, \"text\": \"\"}, \"zerolinecolor\": \"#E1E5ED\"}, \"xaxis13\": {\"anchor\": \"y13\", \"domain\": [0.0, 0.2125], \"gridcolor\": \"#E1E5ED\", \"showgrid\": false, \"tickfont\": {\"color\": \"#4D5663\"}, \"title\": {\"font\": {\"color\": \"#4D5663\"}, \"text\": \"\"}, \"zerolinecolor\": \"#E1E5ED\"}, \"xaxis14\": {\"anchor\": \"y14\", \"domain\": [0.2625, 0.475], \"gridcolor\": \"#E1E5ED\", \"showgrid\": false, \"tickfont\": {\"color\": \"#4D5663\"}, \"title\": {\"font\": {\"color\": \"#4D5663\"}, \"text\": \"\"}, \"zerolinecolor\": \"#E1E5ED\"}, \"xaxis15\": {\"anchor\": \"y15\", \"domain\": [0.525, 0.7375], \"gridcolor\": \"#E1E5ED\", \"showgrid\": false, \"tickfont\": {\"color\": \"#4D5663\"}, \"title\": {\"font\": {\"color\": \"#4D5663\"}, \"text\": \"\"}, \"zerolinecolor\": \"#E1E5ED\"}, \"xaxis16\": {\"anchor\": \"y16\", \"domain\": [0.7875, 1.0], \"gridcolor\": \"#E1E5ED\", \"showgrid\": false, \"tickfont\": {\"color\": \"#4D5663\"}, \"title\": {\"font\": {\"color\": \"#4D5663\"}, \"text\": \"\"}, \"zerolinecolor\": \"#E1E5ED\"}, \"xaxis2\": {\"anchor\": \"y2\", \"domain\": [0.2625, 0.475], \"gridcolor\": \"#E1E5ED\", \"showgrid\": false, \"tickfont\": {\"color\": \"#4D5663\"}, \"title\": {\"font\": {\"color\": \"#4D5663\"}, \"text\": \"\"}, \"zerolinecolor\": \"#E1E5ED\"}, \"xaxis3\": {\"anchor\": \"y3\", \"domain\": [0.525, 0.7375], \"gridcolor\": \"#E1E5ED\", \"showgrid\": false, \"tickfont\": {\"color\": \"#4D5663\"}, \"title\": {\"font\": {\"color\": \"#4D5663\"}, \"text\": \"\"}, \"zerolinecolor\": \"#E1E5ED\"}, \"xaxis4\": {\"anchor\": \"y4\", \"domain\": [0.7875, 1.0], \"gridcolor\": \"#E1E5ED\", \"showgrid\": false, \"tickfont\": {\"color\": \"#4D5663\"}, \"title\": {\"font\": {\"color\": \"#4D5663\"}, \"text\": \"\"}, \"zerolinecolor\": \"#E1E5ED\"}, \"xaxis5\": {\"anchor\": \"y5\", \"domain\": [0.0, 0.2125], \"gridcolor\": \"#E1E5ED\", \"showgrid\": false, \"tickfont\": {\"color\": \"#4D5663\"}, \"title\": {\"font\": {\"color\": \"#4D5663\"}, \"text\": \"\"}, \"zerolinecolor\": \"#E1E5ED\"}, \"xaxis6\": {\"anchor\": \"y6\", \"domain\": [0.2625, 0.475], \"gridcolor\": \"#E1E5ED\", \"showgrid\": false, \"tickfont\": {\"color\": \"#4D5663\"}, \"title\": {\"font\": {\"color\": \"#4D5663\"}, \"text\": \"\"}, \"zerolinecolor\": \"#E1E5ED\"}, \"xaxis7\": {\"anchor\": \"y7\", \"domain\": [0.525, 0.7375], \"gridcolor\": \"#E1E5ED\", \"showgrid\": false, \"tickfont\": {\"color\": \"#4D5663\"}, \"title\": {\"font\": {\"color\": \"#4D5663\"}, \"text\": \"\"}, \"zerolinecolor\": \"#E1E5ED\"}, \"xaxis8\": {\"anchor\": \"y8\", \"domain\": [0.7875, 1.0], \"gridcolor\": \"#E1E5ED\", \"showgrid\": false, \"tickfont\": {\"color\": \"#4D5663\"}, \"title\": {\"font\": {\"color\": \"#4D5663\"}, \"text\": \"\"}, \"zerolinecolor\": \"#E1E5ED\"}, \"xaxis9\": {\"anchor\": \"y9\", \"domain\": [0.0, 0.2125], \"gridcolor\": \"#E1E5ED\", \"showgrid\": false, \"tickfont\": {\"color\": \"#4D5663\"}, \"title\": {\"font\": {\"color\": \"#4D5663\"}, \"text\": \"\"}, \"zerolinecolor\": \"#E1E5ED\"}, \"yaxis\": {\"anchor\": \"x\", \"domain\": [0.8025, 1.0], \"gridcolor\": \"#E1E5ED\", \"showgrid\": false, \"tickfont\": {\"color\": \"#4D5663\"}, \"title\": {\"font\": {\"color\": \"#4D5663\"}, \"text\": \"\"}, \"zerolinecolor\": \"#E1E5ED\"}, \"yaxis10\": {\"anchor\": \"x10\", \"domain\": [0.2675, 0.465], \"gridcolor\": \"#E1E5ED\", \"showgrid\": false, \"tickfont\": {\"color\": \"#4D5663\"}, \"title\": {\"font\": {\"color\": \"#4D5663\"}, \"text\": \"\"}, \"zerolinecolor\": \"#E1E5ED\"}, \"yaxis11\": {\"anchor\": \"x11\", \"domain\": [0.2675, 0.465], \"gridcolor\": \"#E1E5ED\", \"showgrid\": false, \"tickfont\": {\"color\": \"#4D5663\"}, \"title\": {\"font\": {\"color\": \"#4D5663\"}, \"text\": \"\"}, \"zerolinecolor\": \"#E1E5ED\"}, \"yaxis12\": {\"anchor\": \"x12\", \"domain\": [0.2675, 0.465], \"gridcolor\": \"#E1E5ED\", \"showgrid\": false, \"tickfont\": {\"color\": \"#4D5663\"}, \"title\": {\"font\": {\"color\": \"#4D5663\"}, \"text\": \"\"}, \"zerolinecolor\": \"#E1E5ED\"}, \"yaxis13\": {\"anchor\": \"x13\", \"domain\": [0.0, 0.1975], \"gridcolor\": \"#E1E5ED\", \"showgrid\": false, \"tickfont\": {\"color\": \"#4D5663\"}, \"title\": {\"font\": {\"color\": \"#4D5663\"}, \"text\": \"\"}, \"zerolinecolor\": \"#E1E5ED\"}, \"yaxis14\": {\"anchor\": \"x14\", \"domain\": [0.0, 0.1975], \"gridcolor\": \"#E1E5ED\", \"showgrid\": false, \"tickfont\": {\"color\": \"#4D5663\"}, \"title\": {\"font\": {\"color\": \"#4D5663\"}, \"text\": \"\"}, \"zerolinecolor\": \"#E1E5ED\"}, \"yaxis15\": {\"anchor\": \"x15\", \"domain\": [0.0, 0.1975], \"gridcolor\": \"#E1E5ED\", \"showgrid\": false, \"tickfont\": {\"color\": \"#4D5663\"}, \"title\": {\"font\": {\"color\": \"#4D5663\"}, \"text\": \"\"}, \"zerolinecolor\": \"#E1E5ED\"}, \"yaxis16\": {\"anchor\": \"x16\", \"domain\": [0.0, 0.1975], \"gridcolor\": \"#E1E5ED\", \"showgrid\": false, \"tickfont\": {\"color\": \"#4D5663\"}, \"title\": {\"font\": {\"color\": \"#4D5663\"}, \"text\": \"\"}, \"zerolinecolor\": \"#E1E5ED\"}, \"yaxis2\": {\"anchor\": \"x2\", \"domain\": [0.8025, 1.0], \"gridcolor\": \"#E1E5ED\", \"showgrid\": false, \"tickfont\": {\"color\": \"#4D5663\"}, \"title\": {\"font\": {\"color\": \"#4D5663\"}, \"text\": \"\"}, \"zerolinecolor\": \"#E1E5ED\"}, \"yaxis3\": {\"anchor\": \"x3\", \"domain\": [0.8025, 1.0], \"gridcolor\": \"#E1E5ED\", \"showgrid\": false, \"tickfont\": {\"color\": \"#4D5663\"}, \"title\": {\"font\": {\"color\": \"#4D5663\"}, \"text\": \"\"}, \"zerolinecolor\": \"#E1E5ED\"}, \"yaxis4\": {\"anchor\": \"x4\", \"domain\": [0.8025, 1.0], \"gridcolor\": \"#E1E5ED\", \"showgrid\": false, \"tickfont\": {\"color\": \"#4D5663\"}, \"title\": {\"font\": {\"color\": \"#4D5663\"}, \"text\": \"\"}, \"zerolinecolor\": \"#E1E5ED\"}, \"yaxis5\": {\"anchor\": \"x5\", \"domain\": [0.535, 0.7325], \"gridcolor\": \"#E1E5ED\", \"showgrid\": false, \"tickfont\": {\"color\": \"#4D5663\"}, \"title\": {\"font\": {\"color\": \"#4D5663\"}, \"text\": \"\"}, \"zerolinecolor\": \"#E1E5ED\"}, \"yaxis6\": {\"anchor\": \"x6\", \"domain\": [0.535, 0.7325], \"gridcolor\": \"#E1E5ED\", \"showgrid\": false, \"tickfont\": {\"color\": \"#4D5663\"}, \"title\": {\"font\": {\"color\": \"#4D5663\"}, \"text\": \"\"}, \"zerolinecolor\": \"#E1E5ED\"}, \"yaxis7\": {\"anchor\": \"x7\", \"domain\": [0.535, 0.7325], \"gridcolor\": \"#E1E5ED\", \"showgrid\": false, \"tickfont\": {\"color\": \"#4D5663\"}, \"title\": {\"font\": {\"color\": \"#4D5663\"}, \"text\": \"\"}, \"zerolinecolor\": \"#E1E5ED\"}, \"yaxis8\": {\"anchor\": \"x8\", \"domain\": [0.535, 0.7325], \"gridcolor\": \"#E1E5ED\", \"showgrid\": false, \"tickfont\": {\"color\": \"#4D5663\"}, \"title\": {\"font\": {\"color\": \"#4D5663\"}, \"text\": \"\"}, \"zerolinecolor\": \"#E1E5ED\"}, \"yaxis9\": {\"anchor\": \"x9\", \"domain\": [0.2675, 0.465], \"gridcolor\": \"#E1E5ED\", \"showgrid\": false, \"tickfont\": {\"color\": \"#4D5663\"}, \"title\": {\"font\": {\"color\": \"#4D5663\"}, \"text\": \"\"}, \"zerolinecolor\": \"#E1E5ED\"}},\n",
       "                        {\"showLink\": true, \"linkText\": \"Export to plot.ly\", \"plotlyServerURL\": \"https://plot.ly\", \"responsive\": true}\n",
       "                    ).then(function(){\n",
       "                            \n",
       "var gd = document.getElementById('c6a75199-c91a-4b89-a781-e4e684df2a6b');\n",
       "var x = new MutationObserver(function (mutations, observer) {{\n",
       "        var display = window.getComputedStyle(gd).display;\n",
       "        if (!display || display === 'none') {{\n",
       "            console.log([gd, 'removed!']);\n",
       "            Plotly.purge(gd);\n",
       "            observer.disconnect();\n",
       "        }}\n",
       "}});\n",
       "\n",
       "// Listen for the removal of the full notebook cells\n",
       "var notebookContainer = gd.closest('#notebook-container');\n",
       "if (notebookContainer) {{\n",
       "    x.observe(notebookContainer, {childList: true});\n",
       "}}\n",
       "\n",
       "// Listen for the clearing of the current output cell\n",
       "var outputEl = gd.closest('.output');\n",
       "if (outputEl) {{\n",
       "    x.observe(outputEl, {childList: true});\n",
       "}}\n",
       "\n",
       "                        })\n",
       "                };\n",
       "                });\n",
       "            </script>\n",
       "        </div>"
      ]
     },
     "metadata": {},
     "output_type": "display_data"
    }
   ],
   "source": [
    "df.scatter_matrix()"
   ]
  },
  {
   "cell_type": "markdown",
   "metadata": {
    "collapsed": true
   },
   "source": [
    "# Great Job!"
   ]
  }
 ],
 "metadata": {
  "kernelspec": {
   "display_name": "Python 3",
   "language": "python",
   "name": "python3"
  },
  "language_info": {
   "codemirror_mode": {
    "name": "ipython",
    "version": 3
   },
   "file_extension": ".py",
   "mimetype": "text/x-python",
   "name": "python",
   "nbconvert_exporter": "python",
   "pygments_lexer": "ipython3",
   "version": "3.7.6"
  }
 },
 "nbformat": 4,
 "nbformat_minor": 1
}
